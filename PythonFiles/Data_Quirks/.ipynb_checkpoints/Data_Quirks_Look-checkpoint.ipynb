{
 "cells": [
  {
   "cell_type": "code",
   "execution_count": null,
   "metadata": {},
   "outputs": [],
   "source": [
    "import os\n",
    "import math\n",
    "import pandas as pd\n",
    "pd.set_option('display.max_columns', 500)\n",
    "pd.set_option('display.max_rows', 2000)\n",
    "import numpy as np\n",
    "import matplotlib.pyplot as plt\n",
    "import matplotlib.transforms\n",
    "plt.style.use('fivethirtyeight')"
   ]
  },
  {
   "cell_type": "code",
   "execution_count": null,
   "metadata": {},
   "outputs": [],
   "source": [
    "main_table = pd.read_csv(r\"C:\\Users\\bob65\\Documents\\Summer2019_Research\\_SourceData\\Brandeis_Main_Table.txt\", sep='\\t')\n",
    "print(len(main_table))\n",
    "faculty_table = pd.read_csv(r\"C:\\Users\\bob65\\Documents\\Summer2019_Research\\_SourceData\\Brandeis_Dummy_Table_2-11-19_commasep.csv\")\n",
    "print(len(faculty_table))\n",
    "skill_table = pd.read_csv(r\"C:\\Users\\bob65\\Documents\\Summer2019_Research\\PythonFiles\\_Data\\Brandeis_Skill_Table.csv\")\n",
    "print(len(skill_table))"
   ]
  },
  {
   "cell_type": "code",
   "execution_count": null,
   "metadata": {},
   "outputs": [],
   "source": [
    "occupations = ['Education Program Manager', 'Project Manager (General)', 'Operations Manager', 'Project Coordinator', 'Program Coordinator', 'General Manager', 'Fundraising/ development specialist']\n",
    "\n",
    "table = main_table.copy()\n",
    "\n",
    "for occ in occupations:\n",
    "    print(occ)\n",
    "    aux_table = table[table['Occupation']==occ]\n",
    "    \n",
    "    display(aux_table.sample(frac=.5)[:25])"
   ]
  },
  {
   "cell_type": "code",
   "execution_count": null,
   "metadata": {},
   "outputs": [],
   "source": [
    "def skill_cluster_breakout(cluster, career_area='', num_occ=50, num_title=25):\n",
    "    other = main_table.copy()\n",
    "    print('Skill Cluster Breakout for ', end='')\n",
    "    if career_area != '':\n",
    "        print(cluster + ' within career area ' + career_area)\n",
    "        other = other[other['Career Area']==career_area]\n",
    "    else:\n",
    "        print(cluster)\n",
    "    table = skill_table[skill_table['Skill Cluster Name']==cluster]\n",
    "    table = table.merge(other.drop(columns=['Year']), on='Job ID', how='inner')\n",
    "    print('\\nOccupation Breakout (top %2d)' % (num_occ))\n",
    "    display(pd.DataFrame(table['Occupation'].value_counts()[:50]))\n",
    "    print('\\nJob Title Breakout (top %2d)' %  (num_title))\n",
    "    display(pd.DataFrame(table['Job Title'].value_counts()[:25]))"
   ]
  },
  {
   "cell_type": "code",
   "execution_count": null,
   "metadata": {
    "scrolled": false
   },
   "outputs": [],
   "source": [
    "skill_cluster_breakout('Business Intelligence', career_area='Business Management and Operations')"
   ]
  },
  {
   "cell_type": "code",
   "execution_count": null,
   "metadata": {},
   "outputs": [],
   "source": [
    "# Divide up the main_table for many intances of strange skills\n",
    "# Rank occupations based on their demand for skill x; breakout Job Titles\n",
    "# See the occupations associated and breakour and approriate amount of job titles"
   ]
  },
  {
   "cell_type": "code",
   "execution_count": null,
   "metadata": {},
   "outputs": [],
   "source": [
    "table = main_table[main_table['Job Title'].str.contains('Social', case=False, na=False)&main_table['Job Title'].str.contains('Policy', case=False, na=False)]"
   ]
  },
  {
   "cell_type": "code",
   "execution_count": null,
   "metadata": {},
   "outputs": [],
   "source": [
    "table = main_table[main_table['Job Title'].str.contains('Social Welfare Policy', case=False, na=False)]"
   ]
  },
  {
   "cell_type": "code",
   "execution_count": null,
   "metadata": {},
   "outputs": [],
   "source": [
    "table = main_table[~(main_table['Occupation']=='College Professor / Instructor')].merge(faculty_table[faculty_table['Faculty']==1][['Job ID', 'Faculty']], how='inner', on='Job ID')"
   ]
  },
  {
   "cell_type": "code",
   "execution_count": null,
   "metadata": {},
   "outputs": [],
   "source": [
    "table['Job Title'].value_counts()"
   ]
  },
  {
   "cell_type": "code",
   "execution_count": null,
   "metadata": {},
   "outputs": [],
   "source": [
    "main_table[(main_table['Occupation']=='Elementary School Teacher')|\n",
    "           (main_table['Occupation']=='Elementary and Seconday School Administrator')|\n",
    "           (main_table['Occupation']=='School Principal')|\n",
    "           (main_table['Occupation']=='Assistant School Principal')|\n",
    "           (main_table['Occupation']=='Middle / High School Teacher')].merge(faculty_table[faculty_table['Faculty']==1], how='inner', on='Job ID')['Job Title'].value_counts()"
   ]
  },
  {
   "cell_type": "code",
   "execution_count": null,
   "metadata": {},
   "outputs": [],
   "source": [
    "main_table[main_table['Occupation']=='College Professor / Instructor'].merge(faculty_table[faculty_table['Faculty']==0], how='inner', on='Job ID')"
   ]
  },
  {
   "cell_type": "code",
   "execution_count": null,
   "metadata": {},
   "outputs": [],
   "source": []
  },
  {
   "cell_type": "code",
   "execution_count": null,
   "metadata": {},
   "outputs": [],
   "source": [
    "CAS = main_table[main_table['Job Title'].str.contains('open rank', case=False, na=False)]\n"
   ]
  },
  {
   "cell_type": "code",
   "execution_count": null,
   "metadata": {},
   "outputs": [],
   "source": [
    "display(CAS[['Job ID']].merge(faculty_table, on='Job ID', how='inner').sum())\n",
    "\n",
    "CAS.merge(faculty_table[['Job ID', 'Faculty']][faculty_table['Faculty']==1])['Job Tit le'].value_counts()"
   ]
  },
  {
   "cell_type": "code",
   "execution_count": null,
   "metadata": {},
   "outputs": [],
   "source": []
  },
  {
   "cell_type": "code",
   "execution_count": null,
   "metadata": {},
   "outputs": [],
   "source": [
    "main_table[['Minimum EDU Requirements', 'Maximum EDU Requirements', 'Job ID']].groupby(['Minimum EDU Requirements', 'Maximum EDU Requirements']).count()"
   ]
  },
  {
   "cell_type": "code",
   "execution_count": null,
   "metadata": {},
   "outputs": [],
   "source": [
    "strange_EDU = main_table[(main_table['Minimum EDU Requirements']<16)&(main_table['Maximum EDU Requirements']==21)]\n",
    "\n",
    "strange_EDU[['Minimum EDU Requirements', 'Maximum EDU Requirements', 'Job ID']].groupby(['Minimum EDU Requirements', 'Maximum EDU Requirements']).count()"
   ]
  },
  {
   "cell_type": "code",
   "execution_count": null,
   "metadata": {},
   "outputs": [],
   "source": [
    "strange_EDU[strange_EDU['Minimum EDU Requirements']==14]"
   ]
  },
  {
   "cell_type": "code",
   "execution_count": null,
   "metadata": {},
   "outputs": [],
   "source": [
    "first_table = main_table[main_table['Occupation']=='College Professor / Instructor']\n",
    "second_table = faculty_table[faculty_table['Faculty']==0]\n",
    "\n",
    "full_table = first_table.merge(second_table.drop(columns=['Year']), on='Job ID', how='inner')\n",
    "full_table"
   ]
  },
  {
   "cell_type": "code",
   "execution_count": null,
   "metadata": {},
   "outputs": [],
   "source": [
    "faculty_table[(faculty_table['Tenured']+faculty_table['Contingent']>=2)|(faculty_table['Tenured_Track']+faculty_table['Contingent']>=2)]"
   ]
  },
  {
   "cell_type": "code",
   "execution_count": null,
   "metadata": {},
   "outputs": [],
   "source": [
    "first_table = main_table[main_table['Job Title'].str.contains('Post', case=False, na=False)& \n",
    "                         main_table['Job Title'].str.contains('Doc', case=False, na=False)]\n",
    "\n",
    "second_table = faculty_table[faculty_table['Faculty']==1]\n",
    "\n",
    "full_table = first_table.merge(second_table.drop(columns=['Year']), on='Job ID', how='inner')\n",
    "full_table.sum()"
   ]
  },
  {
   "cell_type": "code",
   "execution_count": null,
   "metadata": {},
   "outputs": [],
   "source": [
    "full_table = main_table[main_table['Is Research 1 Institution?']==1]\n",
    "# other_table = faculty_table[faculty_table['Faculty']==1]\n",
    "\n",
    "# full_table = full_table.merge(other_table[['Job ID']], on='Job ID', how='inner')\n",
    "\n",
    "len(full_table)"
   ]
  },
  {
   "cell_type": "code",
   "execution_count": null,
   "metadata": {},
   "outputs": [],
   "source": [
    "full_table = main_table[main_table['Job Title'].str.contains('Open Rank', case=False, na=False)]\n",
    "full_table = full_table[full_table['Year']==2017]\n",
    "full_table = full_table.merge(faculty_table[faculty_table['Faculty']==0][['Job ID', 'Faculty', 'Contingent', 'Tenured', 'Tenured_Track']], how='inner', on='Job ID')\n",
    "full_table.sort_values(by='IPEDS Insitution Name')"
   ]
  },
  {
   "cell_type": "code",
   "execution_count": null,
   "metadata": {},
   "outputs": [],
   "source": [
    "full_table = main_table[main_table['Job Title'].str.contains('Post-Doctoral', case=False, na=False)\n",
    "                        & (main_table['Job Title'].str.contains('Researcher', case=False, na=False)\n",
    "                        | main_table['Job Title'].str.contains('Fellow', case=False, na=False) \n",
    "                        | main_table['Job Title'].str.contains('Associate', case=False, na=False))]\n",
    "full_table = full_table.merge(faculty_table[['Job ID', 'Faculty', 'Post-Doctoral']], on='Job ID', how='inner')\n",
    "\n",
    "# full_table = full_table[full_table['Faculty']==0]\n",
    "full_table = full_table[full_table['Year']==2017]\n",
    "print(len(full_table))\n",
    "\n",
    "full_table.sort_values(by='IPEDS Insitution Name')"
   ]
  },
  {
   "cell_type": "code",
   "execution_count": null,
   "metadata": {},
   "outputs": [],
   "source": [
    "full_table = full_table[(full_table['Minimum EDU Requirements']==21)&(full_table['Year']==2017)&(full_table['Career Area']=='na')]\n",
    "print(len(full_table))\n",
    "full_table"
   ]
  },
  {
   "cell_type": "code",
   "execution_count": null,
   "metadata": {},
   "outputs": [],
   "source": [
    "full_table[full_table['Faculty']==1]"
   ]
  },
  {
   "cell_type": "code",
   "execution_count": null,
   "metadata": {},
   "outputs": [],
   "source": [
    "full_table = faculty_table.merge(main_table[['Job ID', 'Career Area', 'Occupation', 'Job Title']], on='Job ID', how='inner')\n",
    "full_table[full_table['Job Title'].str.contains('arts and sciences', case=False, na=False)].sum()"
   ]
  },
  {
   "cell_type": "code",
   "execution_count": null,
   "metadata": {},
   "outputs": [],
   "source": [
    "main_table[['Job ID', 'Minimum EDU Requirements', 'Maximum EDU Requirements']].groupby(['Minimum EDU Requirements', 'Maximum EDU Requirements']).count()"
   ]
  },
  {
   "cell_type": "code",
   "execution_count": null,
   "metadata": {},
   "outputs": [],
   "source": [
    "full_table = main_table.merge(faculty_table[['Job ID', 'Faculty', 'Post-Doctoral']], on='Job ID', how='inner')\n",
    "full_table = full_table[((full_table['Maximum EDU Requirements']==21)|(full_table['Minimum EDU Requirements']==21))&(full_table['Year']==2017)&(full_table['Faculty']==0)&(full_table['Post-Doctoral']==0)]\n",
    "full_table[full_table['Occupation']=='Financial Manager']"
   ]
  },
  {
   "cell_type": "code",
   "execution_count": null,
   "metadata": {},
   "outputs": [],
   "source": [
    "full_table = main_table.merge(faculty_table[['Job ID', 'Faculty', 'Post-Doctoral']], on='Job ID', how='inner')\n",
    "full_table = full_table[(full_table['Minimum EDU Requirements']==21)&(full_table['Year']==2017)&(full_table['Faculty']==0)&(full_table['Post-Doctoral']==0)]\n",
    "full_table[full_table['Job Title']=='Legacy Staff']"
   ]
  },
  {
   "cell_type": "code",
   "execution_count": null,
   "metadata": {},
   "outputs": [],
   "source": [
    "full_table = main_table.merge(faculty_table[['Job ID', 'Faculty', 'Post-Doctoral']], on='Job ID', how='inner')\n",
    "full_table = full_table[(full_table['Minimum EDU Requirements']==21)&(full_table['Year']==2017)&(full_table['Faculty']==0)&(full_table['Post-Doctoral']==0)]\n",
    "full_table[full_table['Job Title'].str.contains('Executive Director', case =False, na=False)]"
   ]
  },
  {
   "cell_type": "code",
   "execution_count": null,
   "metadata": {},
   "outputs": [],
   "source": [
    "full_table = main_table.merge(faculty_table[['Job ID', 'Faculty', 'Post-Doctoral']], on='Job ID', how='inner')\n",
    "full_table = full_table[((full_table['Maximum EDU Requirements']==21)|(full_table['Minimum EDU Requirements']==21))&(full_table['Year']==2017)&(full_table['Faculty']==0)&(full_table['Post-Doctoral']==0)]\n",
    "full_table[full_table['Job Title'].str.contains('Manager', case =False, na=False)]"
   ]
  },
  {
   "cell_type": "code",
   "execution_count": null,
   "metadata": {},
   "outputs": [],
   "source": [
    "main_table[main_table['Job Title']=='Legacy Staff'].describe()"
   ]
  },
  {
   "cell_type": "code",
   "execution_count": null,
   "metadata": {},
   "outputs": [],
   "source": [
    "full_table = faculty_table[(faculty_table['Contingent']==1)&((faculty_table['Tenured']==1)|(faculty_table['Tenured_Track']==1))]\n",
    "full_table = full_table[full_table['Year']==2017]\n",
    "full_table = main_table.merge(full_table[['Job ID', 'Contingent', 'Tenured', 'Tenured_Track']], on='Job ID', how='inner')\n",
    "\n",
    "titles = full_table['Job Title'].value_counts()\n",
    "instructors = full_table[full_table['Job Title'].str.contains('instructor', case=False, na=False)]\n",
    "remainder = full_table[~full_table['Job Title'].str.contains('instructor', case=False, na=False)]\n",
    "instructors['Job Title'].value_counts()"
   ]
  },
  {
   "cell_type": "code",
   "execution_count": null,
   "metadata": {},
   "outputs": [],
   "source": [
    "total = pd.DataFrame(main_table[['Job ID', 'Is Research 1 Institution?']].groupby(['Is Research 1 Institution?']).count())['Job ID'].values\n",
    "print('Overall\\n','\\t', str(total) + ' -> ' + str(round(float(total[1])/float(total[0]+total[1]), 2)))\n",
    "\n",
    "full_table = faculty_table[(faculty_table['Contingent']==1)&((faculty_table['Tenured']==1)|\n",
    "                                                             (faculty_table['Tenured_Track']==1))]\n",
    "\n",
    "full_table = main_table.merge(full_table[['Job ID', 'Contingent', 'Tenured', 'Tenured_Track']], on='Job ID',\n",
    "                               how='inner')\n",
    "result = pd.DataFrame(full_table[['Job ID', 'Is Research 1 Institution?']].groupby(\n",
    "    ['Is Research 1 Institution?']).count())['Job ID'].values\n",
    "print('Double Counts', '\\n', '\\t', str(result) + ' -> ' + str(round(float(result[1])/float(result[0]+result[1]), 2)))"
   ]
  },
  {
   "cell_type": "code",
   "execution_count": null,
   "metadata": {},
   "outputs": [],
   "source": [
    "# Ho: Overall R1/!R1 = Double R1/!R1\n",
    "# Ha: Overall R1/!R1 > Double R1/!R1\n",
    "\n",
    "combined = float(total[1] + result[1])/float(total[0]+total[1]+result[0]+result[1])\n",
    "print(combined)\n",
    "z = (float(total[1])/float(total[0]+total[1]) - float(result[1])/float(result[0]+result[1]))/math.sqrt((combined*(1-combined)/float(total[1]+total[0]))+(combined*(1-combined))/float(result[0]+result[1]))\n",
    "print(z)"
   ]
  },
  {
   "cell_type": "code",
   "execution_count": null,
   "metadata": {},
   "outputs": [],
   "source": [
    "full_table = faculty_table[(faculty_table['Contingent']==1)&((faculty_table['Tenured']==1)|(faculty_table['Tenured_Track']==1))]\n",
    "full_table = full_table[full_table['Year']==2017]\n",
    "full_table = main_table.merge(full_table[['Job ID', 'Contingent', 'Tenured', 'Tenured_Track']], on='Job ID', how='inner')\n",
    "\n",
    "full_table = full_table[full_table['Is Research 1 Institution?']==1]\n",
    "full_table = full_table[full_table['Job Title'].str.contains('non', case=False, na=False)&full_table['Job Title'].str.contains('tenure', case=False, na=False)]\n",
    "full_table = full_table.sort_values(by='IPEDS Insitution Name')\n",
    "\n",
    "# pd.Series(' '.join(full_table['Job Title']).lower().split()).value_counts()[:100]"
   ]
  },
  {
   "cell_type": "code",
   "execution_count": null,
   "metadata": {},
   "outputs": [],
   "source": [
    "full_table.to_excel(r\"C:\\Users\\bob65\\Documents\\Summer2019_Research\\PythonFiles\\Excel_Samples\\non_contingent_tenure.xls\")"
   ]
  },
  {
   "cell_type": "code",
   "execution_count": null,
   "metadata": {},
   "outputs": [],
   "source": [
    "final = pd.DataFrame()\n",
    "i = 0\n",
    "instructor_titles = pd.DataFrame(instructors['Job Title'].value_counts()).reset_index()['index'].values\n",
    "for title in instructor_titles[:20]:\n",
    "    print(title, ' (' + str(i) + '-' + str(i+4) + ')')\n",
    "    i+=5\n",
    "    final = final.append(instructors[(instructors['Job Title']==title)].sample(frac=1)[:5], ignore_index=True)\n",
    "    print('\\n')\n",
    "\n",
    "final.sort_values(by='Job Title',inplace=True)\n",
    "final\n",
    "# final.to_excel(r\"C:\\Users\\bob65\\Documents\\Summer2019_Research\\PythonFiles\\Excel_Samples\\Instructors.xls\")"
   ]
  },
  {
   "cell_type": "code",
   "execution_count": null,
   "metadata": {},
   "outputs": [],
   "source": [
    "chem = full_table[full_table['Job Title'].str.contains('Chemistry', case=False, na=False)&full_table['Job Title'].str.contains('Instructor', case=False, na=False)]\n",
    "chem.sort_values(by='IPEDS Insitution Name')"
   ]
  },
  {
   "cell_type": "code",
   "execution_count": null,
   "metadata": {},
   "outputs": [],
   "source": [
    "full_table = main_table[main_table['Occupation']=='na']\n",
    "print(len(full_table))\n",
    "other_table = faculty_table[faculty_table['Faculty']==0]\n",
    "\n",
    "full_table = other_table[['Job ID', 'Faculty']].merge(main_table, on='Job ID', how='inner')\n",
    "full_table['Job Title'].value_counts()"
   ]
  },
  {
   "cell_type": "code",
   "execution_count": null,
   "metadata": {},
   "outputs": [],
   "source": [
    "full_table = main_table[(main_table['Job Title'].str.contains('Open Rank', case=False, na=False))|(main_table['Job Title'].str.contains('arts and sciences', case=False, na=False))]\n",
    "\n",
    "other_table = faculty_table[faculty_table['Other humanities and arts']==1]\n",
    "\n",
    "full_table = full_table.merge(other_table[['Job ID']], how='right', on='Job ID')\n",
    "\n",
    "full_table"
   ]
  },
  {
   "cell_type": "code",
   "execution_count": null,
   "metadata": {},
   "outputs": [],
   "source": [
    "full_table = faculty_table[faculty_table['Communication']==1]\n",
    "other_table = main_table[main_table['Job Title'].str.contains('Radiology', case=False, na=False)]\n",
    "\n",
    "full_table = full_table.merge(other_table[['Job ID', 'Job Title']], how='right', on='Job ID')\n",
    "full_table"
   ]
  },
  {
   "cell_type": "code",
   "execution_count": null,
   "metadata": {},
   "outputs": [],
   "source": [
    "full_table = main_table[(main_table['Career Area']=='Finance')&(main_table['Occupation']=='Financial Manager (General)')]\n",
    "full_table = full_table[(full_table['Minimum EDU Requirements']==21)|(full_table['Maximum EDU Requirements']==21)]\n",
    "full_table"
   ]
  },
  {
   "cell_type": "code",
   "execution_count": null,
   "metadata": {},
   "outputs": [],
   "source": [
    "# full_table = main_table[main_table['Job Title'].str.contains('(research) ((assistant professor)+|(professor)+)', case=False, regex=True, na=False)]\n",
    "full_table = main_table.copy()\n",
    "full_table = full_table[full_table['Year']==2017]\n",
    "full_table['RP'] = full_table['Job Title'].str.contains('research professor', case=False, na=False) + 0\n",
    "full_table['RAP'] = full_table['Job Title'].str.contains('research assistant professor', case=False, na=False) + 0\n",
    "\n",
    "full_table = full_table[(full_table['RP']==1)|(full_table['RAP']==1)]\n",
    "full_table = full_table.merge(faculty_table[['Job ID', 'Faculty']], on='Job ID', how='inner')\n",
    "\n",
    "final=pd.DataFrame()\n",
    "i=0\n",
    "for fac in range(2):\n",
    "    final = final.append(full_table[(full_table['Faculty']==fac)&(full_table['RP']==1)].sample(frac=1)[:10], ignore_index=True)\n",
    "    final = final.append(full_table[(full_table['Faculty']==fac)&(full_table['RAP']==1)].sample(frac=1)[:10], ignore_index=True)\n",
    "final.to_excel(r\"C:\\Users\\bob65\\Documents\\Summer2019_Research\\PythonFiles\\Excel_Samples\\RP_and_RAP.xls\")\n",
    "# rp = full_table[full_table['RP']==1]\n",
    "# rap = full_table[full_table['RAP']==1]\n",
    "\n",
    "# rp"
   ]
  },
  {
   "cell_type": "code",
   "execution_count": null,
   "metadata": {},
   "outputs": [],
   "source": [
    "for string in main_table.columns:\n",
    "    print(string)"
   ]
  },
  {
   "cell_type": "code",
   "execution_count": null,
   "metadata": {},
   "outputs": [],
   "source": [
    "for string in faculty_table.columns:\n",
    "    print(string)"
   ]
  },
  {
   "cell_type": "code",
   "execution_count": null,
   "metadata": {},
   "outputs": [],
   "source": []
  }
 ],
 "metadata": {
  "kernelspec": {
   "display_name": "Python 3",
   "language": "python",
   "name": "python3"
  },
  "language_info": {
   "codemirror_mode": {
    "name": "ipython",
    "version": 3
   },
   "file_extension": ".py",
   "mimetype": "text/x-python",
   "name": "python",
   "nbconvert_exporter": "python",
   "pygments_lexer": "ipython3",
   "version": "3.7.3"
  }
 },
 "nbformat": 4,
 "nbformat_minor": 2
}
