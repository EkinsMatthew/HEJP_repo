{
 "cells": [
  {
   "cell_type": "code",
   "execution_count": 1,
   "metadata": {},
   "outputs": [],
   "source": [
    "import os\n",
    "import math\n",
    "import pandas as pd\n",
    "pd.set_option('display.max_columns', 500)\n",
    "pd.set_option('display.max_rows', 2000)\n",
    "import numpy as np"
   ]
  },
  {
   "cell_type": "code",
   "execution_count": 2,
   "metadata": {},
   "outputs": [
    {
     "name": "stdout",
     "output_type": "stream",
     "text": [
      "3957167\n"
     ]
    }
   ],
   "source": [
    "jobs = pd.read_parquet(r\"A:\\HEJP_revision_02152020\\Jobs.parquet\").convert_dtypes()\n",
    "print(len(jobs))\n",
    "\n",
    "cert = pd.read_parquet(r\"A:\\HEJP_revision_02152020\\Certifications.parquet\").convert_dtypes()\n",
    "print(len(cert))"
   ]
  },
  {
   "cell_type": "code",
   "execution_count": null,
   "metadata": {},
   "outputs": [],
   "source": [
    "def fix_Sector(string):\n",
    "    if string is pd.NA:\n",
    "        return pd.NA\n",
    "    if string == \"Sector unknown (not active\":\n",
    "        return \"Sector unknown (not active)\"\n",
    "    elif string.find(',') > 0:\n",
    "        return ''.join(string.split(','))\n",
    "    else:\n",
    "        return string"
   ]
  },
  {
   "cell_type": "code",
   "execution_count": null,
   "metadata": {},
   "outputs": [],
   "source": [
    "jobs['IPEDS Sector Name'] = jobs['IPEDS Sector Name'].apply(fix_Sector)"
   ]
  },
  {
   "cell_type": "code",
   "execution_count": null,
   "metadata": {},
   "outputs": [],
   "source": [
    "jobs = jobs.rename(columns={'Job Title':'Job_Title', 'Career Area':'Career_Area', 'Annual Salary':'Annual_Salary', \n",
    "                     'IPEDS Institution Name':'IPEDS_Institution_Name', 'IPEDS Sector Name':'IPEDS_Sector_Name'})"
   ]
  },
  {
   "cell_type": "code",
   "execution_count": null,
   "metadata": {},
   "outputs": [],
   "source": [
    "def BEA_Zone(state):\n",
    "    \n",
    "    dictionary = {'KS': 'Plains',\n",
    "                  'MS': 'Southeast',\n",
    "                  'NM': 'Southwest',\n",
    "                  'MN': 'Plains',\n",
    "                  'GA': 'Southeast',\n",
    "                  'TN': 'Southeast',\n",
    "                  'PA': 'Mideast',\n",
    "                  'OH': 'Great Lakes',\n",
    "                  'WI': 'Great Lakes',\n",
    "                  'NJ': 'Mideast',\n",
    "                  'TX': 'Southwest',\n",
    "                  'AZ': 'Southwest',\n",
    "                  'CA': 'Far West',\n",
    "                  'MA': 'New England',\n",
    "                  'FL': 'Southeast',\n",
    "                  'RI': 'New England',\n",
    "                  'NC': 'Southeast',\n",
    "                  'IL': 'Great Lakes',\n",
    "                  'KY': 'Southeast',\n",
    "                  'NV': 'Far West',\n",
    "                  'CO': 'Rocky Mountains',\n",
    "                  'DC': 'Mideast',\n",
    "                  'VA': 'Southeast',\n",
    "                  'IA': 'Plains',\n",
    "                  'UT': 'Rocky Mountains',\n",
    "                  'IN': 'Great Lakes',\n",
    "                  'NH': 'New England',\n",
    "                  'OR': 'Far West',\n",
    "                  'MO': 'Plains',\n",
    "                  'DE': 'Mideast',\n",
    "                  'CT': 'New England',\n",
    "                  'MI': 'Great Lakes',\n",
    "                  'SC': 'Southeast',\n",
    "                  'MT': 'Rocky Mountains',\n",
    "                  'OK': 'Southwest',\n",
    "                  'NY': 'Mideast',\n",
    "                  'ID': 'Rocky Mountains',\n",
    "                  'WV': 'Southeast',\n",
    "                  'MD': 'Mideast',\n",
    "                  'AK': 'Far West',\n",
    "                  'AR': 'Southeast',\n",
    "                  'NE': 'Plains',\n",
    "                  'AL': 'Southeast',\n",
    "                  'LA': 'Southeast',\n",
    "                  'WA': 'Far West',\n",
    "                  'HI': 'Far West',\n",
    "                  'VT': 'New England',\n",
    "                  'ME': 'New England',\n",
    "                  'SD': 'Plains',\n",
    "                  'WY': 'Rocky Mountains',\n",
    "                  'ND': 'Plains',\n",
    "                  'PR': 'Territories',\n",
    "                  'GU': 'Territories',\n",
    "                  'VI': 'Territories',\n",
    "                  'MP': 'Territories',\n",
    "                  'AS': 'Territories',\n",
    "                  'MH': 'Territories',\n",
    "                  'FM': 'Territories'}\n",
    "    \n",
    "    if type(state) is str and state == 'na':\n",
    "        return None\n",
    "    elif type(state) is str:\n",
    "        return dictionary[state]\n",
    "    elif state is None:\n",
    "        return None\n",
    "    \n",
    "jobs['BEA_Zone'] = jobs['State'].apply(BEA_Zone)"
   ]
  },
  {
   "cell_type": "code",
   "execution_count": null,
   "metadata": {},
   "outputs": [],
   "source": [
    "jobs.columns"
   ]
  },
  {
   "cell_type": "code",
   "execution_count": null,
   "metadata": {},
   "outputs": [],
   "source": [
    "# Create Institution Table\n",
    "\n",
    "inst = jobs[['IPEDS_Institution_Name', 'IPEDS_Sector_Name', 'R1']]\n",
    "\n",
    "inst = inst.drop_duplicates('IPEDS_Institution_Name').sort_values(by='IPEDS_Institution_Name')\n",
    "\n",
    "inst = inst[~inst['IPEDS_Institution_Name'].isnull()]\n",
    "\n",
    "inst"
   ]
  },
  {
   "cell_type": "code",
   "execution_count": null,
   "metadata": {
    "scrolled": false
   },
   "outputs": [],
   "source": [
    "sectors = jobs.groupby(['IPEDS_Institution_Name'])[['IPEDS_Sector_Name']].nunique().sort_values('IPEDS_Sector_Name')\n",
    "\n",
    "uncertain_institutions = set(sectors[(sectors['IPEDS_Sector_Name']==0)|(sectors['IPEDS_Sector_Name']==2)].reset_index()['IPEDS_Institution_Name'].values)\n",
    "\n",
    "# Administrative Unit Community Colleges:\n",
    "# Public 2-year\n",
    "public_two_year ='''\n",
    "Dallas County Community College District\n",
    "Ventura County Community College System Office\n",
    "San Bernardino Community College District\n",
    "Grossmont-Cuyamaca Community College District\n",
    "Kentucky Community and Technical College System\n",
    "State Center Community College District\n",
    "South Orange County Community College District \n",
    "Mississippi Community College Board \n",
    "Contra Costa Community College District Office\n",
    "'''\n",
    "\n",
    "# Public 4-year\n",
    "public_four_year ='''\n",
    "North Orange County Community College District\n",
    "Yosemite Community College District Office\n",
    "Delaware Technical Community College-Central Office \n",
    "'''\n",
    "\n",
    "# Private for profit 2-year\n",
    "private_two_year ='''\n",
    "Carrington College-Administrative Office\n",
    "'''\n",
    "\n",
    "# Private not for profit, 4-year\n",
    "private_four_year ='''\n",
    "CUNY System Office\n",
    "'''"
   ]
  },
  {
   "cell_type": "code",
   "execution_count": null,
   "metadata": {},
   "outputs": [],
   "source": [
    "for s in jobs[jobs['IPEDS_Sector_Name']=='Administrative Unit']['IPEDS_Institution_Name'].values:\n",
    "    uncertain_institutions.add(s)"
   ]
  },
  {
   "cell_type": "code",
   "execution_count": null,
   "metadata": {},
   "outputs": [],
   "source": [
    "uncertain_institutions"
   ]
  },
  {
   "cell_type": "code",
   "execution_count": null,
   "metadata": {},
   "outputs": [],
   "source": []
  },
  {
   "cell_type": "code",
   "execution_count": null,
   "metadata": {},
   "outputs": [],
   "source": []
  },
  {
   "cell_type": "code",
   "execution_count": null,
   "metadata": {},
   "outputs": [],
   "source": []
  },
  {
   "cell_type": "code",
   "execution_count": null,
   "metadata": {},
   "outputs": [],
   "source": [
    "jobs[~jobs['IPEDS_Institution_Name'].isnull()&(jobs['IPEDS_Institution_Name']=='Everest College-Arlington')].groupby(['Year', 'IPEDS_Sector_Name']).count()"
   ]
  },
  {
   "cell_type": "code",
   "execution_count": null,
   "metadata": {},
   "outputs": [],
   "source": []
  },
  {
   "cell_type": "code",
   "execution_count": null,
   "metadata": {},
   "outputs": [],
   "source": [
    "# OLD_HEJP\n",
    "\n",
    "main_table = pd.read_csv(r\"C:\\Users\\Public\\_Data\\_Data\\Latest_Version\\Main_Data\\Main_Table_01072020.csv\")\n",
    "print(len(main_table))\n",
    "# faculty_table = pd.read_csv(r\"C:\\Users\\Public\\_Data\\_Data\\Latest_Version\\Faculty_Data\\Faculty_Table_11222019.csv\")\n",
    "# print(len(faculty_table))\n",
    "# skill_table = pd.read_csv(r\"C:\\Users\\Public\\_Data\\_Data\\Latest_Version\\Skills_Data\\Skill_Table_06072019.csv\")\n",
    "# print(len(skill_table))"
   ]
  },
  {
   "cell_type": "code",
   "execution_count": 5,
   "metadata": {},
   "outputs": [],
   "source": [
    "main_table[main_table['R1']==1][['Job ID']].to_csv(r\"C:\\Users\\Public\\_Data\\R1.csv\", index=False)"
   ]
  },
  {
   "cell_type": "code",
   "execution_count": null,
   "metadata": {},
   "outputs": [],
   "source": [
    "def BEA_zone(state):\n",
    "    \n",
    "    dictionary = {'Kansas': 'Plains',\n",
    "                  'Mississippi': 'Southeast',\n",
    "                  'New Mexico': 'Southwest',\n",
    "                  'Minnesota': 'Plains',\n",
    "                  'Georgia': 'Southeast',\n",
    "                  'Tennessee': 'Southeast',\n",
    "                  'Pennsylvania': 'Mideast',\n",
    "                  'Ohio': 'Great Lakes',\n",
    "                  'Wisconsin': 'Great Lakes',\n",
    "                  'New Jersey': 'Mideast',\n",
    "                  'Texas': 'Southwest',\n",
    "                  'Arizona': 'Southwest',\n",
    "                  'California': 'Far West',\n",
    "                  'Massachusetts': 'New England',\n",
    "                  'Florida': 'Southeast',\n",
    "                  'Rhode Island': 'New England',\n",
    "                  'North Carolina': 'Southeast',\n",
    "                  'Illinois': 'Great Lakes',\n",
    "                  'Kentucky': 'Southeast',\n",
    "                  'Nevada': 'Far West',\n",
    "                  'Colorado': 'Rocky Mountains',\n",
    "                  'District of Columbia': 'Mideast',\n",
    "                  'Virginia': 'Southeast',\n",
    "                  'Iowa': 'Plains',\n",
    "                  'Utah': 'Rocky Mountains',\n",
    "                  'Indiana': 'Great Lakes',\n",
    "                  'New Hampshire': 'New England',\n",
    "                  'Oregon': 'Far West',\n",
    "                  'Missouri': 'Plains',\n",
    "                  'Delaware': 'Mideast',\n",
    "                  'Connecticut': 'New England',\n",
    "                  'Michigan': 'Great Lakes',\n",
    "                  'South Carolina': 'Southeast',\n",
    "                  'Montana': 'Rocky Mountains',\n",
    "                  'Oklahoma': 'Southwest',\n",
    "                  'New York': 'Mideast',\n",
    "                  'Idaho': 'Rocky Mountains',\n",
    "                  'West Virginia': 'Southeast',\n",
    "                  'Maryland': 'Mideast',\n",
    "                  'Alaska': 'Far West',\n",
    "                  'Arkansas': 'Southeast',\n",
    "                  'Nebraska': 'Plains',\n",
    "                  'Alabama': 'Southeast',\n",
    "                  'Louisiana': 'Southeast',\n",
    "                  'Washington': 'Far West',\n",
    "                  'Hawaii': 'Far West',\n",
    "                  'Vermont': 'New England',\n",
    "                  'Maine': 'New England',\n",
    "                  'South Dakota': 'Plains',\n",
    "                  'Wyoming': 'Rocky Mountains',\n",
    "                  'North Dakota': 'Plains',\n",
    "                  'Puerto Rico': 'Territories',\n",
    "                  'Guam': 'Territories',\n",
    "                  'Virgin Islands of the U.S.': 'Territories',\n",
    "                  'Northern Mariana Islands': 'Territories',\n",
    "                  'American Samoa': 'Territories',\n",
    "                  'Marshall Islands': 'Territories',\n",
    "                  'Federated States of Micronesia': 'Territories'}\n",
    "    \n",
    "    if type(state) is str:\n",
    "        return dictionary[state]\n",
    "    elif math.isnan(state):\n",
    "        return state\n",
    "    "
   ]
  },
  {
   "cell_type": "code",
   "execution_count": null,
   "metadata": {},
   "outputs": [],
   "source": [
    "states = ['Alabama', 'Alaska', 'Arizona', 'Arkansas', 'California', 'Colorado', 'Connecticut', 'Delaware', \n",
    "          'District of Columbia', 'Florida', 'Georgia', 'Hawaii', 'Idaho', 'Illinois', 'Indiana', 'Iowa', 'Kansas', 'Kentucky',\n",
    "          'Louisiana', 'Maine', 'Maryland', 'Massachusetts', 'Michigan', 'Minnesota', 'Mississippi', 'Missouri', 'Montana',\n",
    "          'Nebraska', 'Nevada', 'New Hampshire', 'New Jersey', 'New Mexico', 'New York', 'North Carolina', 'North Dakota',\n",
    "          'Ohio', 'Oklahoma', 'Oregon', 'Pennsylvania', 'Puerto Rico', 'Rhode Island', 'South Carolina', 'South Dakota',\n",
    "          'Tennessee', 'Texas', 'Utah', 'Vermont', 'Virginia', 'Virgin Islands of the U.S.', 'Washington', 'West Virginia',\n",
    "          'Wisconsin', 'Wyoming']\n",
    "\n",
    "input_loc = r'C:\\Users\\Public\\_Data\\_Data\\bls_states\\raw_bls\\\\'\n",
    "\n",
    "for state in states:\n",
    "    df = pd.read_excel(f\"{input_loc}Emp_{state}.xlsx\")\n",
    "    df['State'] = state\n",
    "    df = df[['Year', 'Dec', 'State']].rename(columns={'Dec':'Jobs'})\n",
    "    \n",
    "    if state == 'Alabama':\n",
    "        bls = df\n",
    "    else:\n",
    "        bls = pd.concat([bls, df])\n",
    "\n",
    "bls['BEA_zone'] = bls['State'].apply(BEA_zone)\n",
    "\n",
    "bls = bls[~bls['Jobs'].isnull()]\n",
    "\n",
    "bls"
   ]
  },
  {
   "cell_type": "code",
   "execution_count": null,
   "metadata": {},
   "outputs": [],
   "source": [
    "bls.groupby(['Year', 'BEA_zone']).sum()"
   ]
  },
  {
   "cell_type": "code",
   "execution_count": null,
   "metadata": {},
   "outputs": [],
   "source": [
    "bls.to_csv(r\"C:\\Users\\Public\\_Data\\_Data\\bls_states\\bls_state.csv\", index=False)"
   ]
  },
  {
   "cell_type": "code",
   "execution_count": null,
   "metadata": {
    "scrolled": true
   },
   "outputs": [],
   "source": [
    "#############################################################\n",
    "# Generating Institution based State and BEA_zone identifiers\n",
    "#############################################################\n",
    "# 01/19/2020\n",
    "\n",
    "main = main_table.copy()\n",
    "\n",
    "# Get all states that each institution is found in and the number of postings in those states\n",
    "states = pd.DataFrame(main_table.groupby(['IPEDS Institution Name', 'State']).count()['Job ID'])\n",
    "\n",
    "# Get ['IPEDS Institution Name', 'State'] as workable columns\n",
    "states = states.reset_index()\n",
    "\n",
    "# Resort the table lexicographically by institution name, and descending by number of postings within\n",
    "states = states.sort_values(by=['IPEDS Institution Name', 'Job ID'], ascending=[True, False])\n",
    "\n",
    "# Drop duplicates on institution s.t. only the top counted state is kept\n",
    "states = states.drop_duplicates('IPEDS Institution Name')\n",
    "\n",
    "# Dictionary for mapping institution to its most common state\n",
    "mapping = {}\n",
    "\n",
    "def populate_mapping(row, mapping):\n",
    "    '''\n",
    "    Method for mapping each Institution with its primary state. Meant to be caled with the\n",
    "    Pandas.DataFrame.apply() function.\n",
    "    '''\n",
    "    \n",
    "    mapping[row['IPEDS Institution Name']] = row['State']\n",
    "    \n",
    "# Get mapping    \n",
    "states.apply(populate_mapping, axis=1, args=(mapping,))\n",
    "\n",
    "# Function returns the primary state of the institution\n",
    "def primary_state(inst):\n",
    "    if type(inst) is str:\n",
    "        return mapping[inst]\n",
    "    elif math.isnan(inst):\n",
    "        return inst\n",
    "        \n",
    "# Generate new 'Institution State' column for main table and BEA_zone from that\n",
    "main['Institution_State'] = main['IPEDS Institution Name'].apply(primary_state)\n",
    "main['Institution_BEA_zone'] = main['Institution_State'].apply(BEA_zone)\n",
    "\n",
    "# Fix previous BEA_zone column\n",
    "main['BEA_zone'] = main['State'].apply(BEA_zone)\n"
   ]
  },
  {
   "cell_type": "code",
   "execution_count": null,
   "metadata": {},
   "outputs": [],
   "source": [
    "# File to disk\n",
    "main[['Job ID', 'Year', 'Job Title', 'Occupation', 'Career Area', 'Minimum EDU Requirements', 'Maximum EDU Requirements', \n",
    "      'Minimum Experience Requirements', 'Annual Salary', 'Metropolitan Statistical Area', 'State', 'BEA_zone', \n",
    "      'IPEDS Institution Name', 'IPEDS Sector Name', 'Institution_State', 'Institution_BEA_zone', 'R1', '4-year', '2-year',\n",
    "      'Public', 'Private']].to_csv(r\"C:\\Users\\Public\\_Data\\_Data\\Latest_Version\\Main_Data\\Main_Table_01192020.csv\", index=False)"
   ]
  },
  {
   "cell_type": "code",
   "execution_count": null,
   "metadata": {
    "scrolled": true
   },
   "outputs": [],
   "source": [
    "# postdoc mask useful for isolating all ['Post-Doctoral' = 1] postings by Job ID\n",
    "mask = faculty_table[faculty_table['Post-Doctoral']==1][['Job ID']]\n",
    "\n",
    "diff_state = main[(main['State']!=main['Institution_State'])]\n",
    "\n",
    "print('Postings where \"State\" and \"Institution_State\" don\\'t match:\\t', len(diff_state))\n",
    "\n",
    "post_diff_state = diff_state.merge(mask, on='Job ID', how='inner')\n",
    "\n",
    "print('Post-Doc postings with the above:\\t\\t\\t\\t', len(post_diff_state), '\\n')\n",
    "\n",
    "diff_state = diff_state[~diff_state['Institution_State'].isnull()]\n",
    "\n",
    "print('All with null Institution removed:\\t\\t\\t\\t', len(diff_state))\n",
    "\n",
    "post_diff_state = diff_state.merge(mask, on='Job ID', how='inner')\n",
    "\n",
    "print('Post-Docs with null Institutions removed:\\t\\t\\t', len(post_diff_state))"
   ]
  },
  {
   "cell_type": "code",
   "execution_count": null,
   "metadata": {},
   "outputs": [],
   "source": []
  },
  {
   "cell_type": "code",
   "execution_count": null,
   "metadata": {},
   "outputs": [],
   "source": [
    "# Independent Study Data Generation\n",
    "\n",
    "table = main_table.drop(columns=['BEA_Zone']).copy()\n",
    "\n",
    "table['BEA_zone'] = table['State'].apply(BEA_Zone)"
   ]
  },
  {
   "cell_type": "code",
   "execution_count": null,
   "metadata": {},
   "outputs": [],
   "source": [
    "table"
   ]
  },
  {
   "cell_type": "code",
   "execution_count": null,
   "metadata": {},
   "outputs": [],
   "source": [
    "table.to_csv(r\"C:\\Users\\Public\\_Data\\_Data\\Latest_Version\\Main_Data\\Main_Table_01072020.csv\", index=False)"
   ]
  },
  {
   "cell_type": "code",
   "execution_count": null,
   "metadata": {},
   "outputs": [],
   "source": [
    "table.groupby(['BEA_Zone', 'State']).count()"
   ]
  },
  {
   "cell_type": "code",
   "execution_count": null,
   "metadata": {},
   "outputs": [],
   "source": [
    "IS_main = table[['Job ID', 'Year', 'Job Title', 'Minimum EDU Requirements', 'Minimum Experience Requirements', 'Annual Salary', 'BEA_Zone']]\n",
    "IS_main = IS_main[IS_main['Annual Salary']>0]\n",
    "\n",
    "# IS_fac = faculty_table[['Job ID', 'Faculty', 'Post-Doctoral']]\n",
    "# IS_fac = IS_fac.merge(IS_main[['Job ID']], on='Job ID', how='inner')\n",
    "\n",
    "IS_skill = skill_table[['Job ID', 'Skill Name']]\n",
    "IS_skill = IS_skill.merge(IS_main[['Job ID']], on='Job ID', how='inner')\n",
    "\n",
    "IS_df = IS_main.merge(IS_fac, on='Job ID', how='inner')\n",
    "IS_df"
   ]
  },
  {
   "cell_type": "code",
   "execution_count": null,
   "metadata": {},
   "outputs": [],
   "source": [
    "IS_df = IS_df.drop(columns=['Faculty', 'Post-Doctoral'])\n",
    "IS_df\n"
   ]
  },
  {
   "cell_type": "code",
   "execution_count": null,
   "metadata": {},
   "outputs": [],
   "source": [
    "IS_df.to_csv(r\"C:\\Users\\Matt\\Documents\\IS_Data\\IS_Main.csv\")"
   ]
  },
  {
   "cell_type": "code",
   "execution_count": null,
   "metadata": {},
   "outputs": [],
   "source": [
    "IS_skill.to_csv(r\"C:\\Users\\Matt\\Documents\\IS_Data\\IS_Skill.csv\")"
   ]
  },
  {
   "cell_type": "code",
   "execution_count": null,
   "metadata": {},
   "outputs": [],
   "source": [
    "dic = dict()\n",
    "for state in states:\n",
    "    print(state)\n",
    "    print('Enter Region: ')\n",
    "    region = input()\n",
    "    dic[state] = region\n",
    "print(dic)"
   ]
  },
  {
   "cell_type": "code",
   "execution_count": null,
   "metadata": {},
   "outputs": [],
   "source": [
    "num_to_reg = {'1' : 'New England', '2':'Mideast', '3':'Southeast', '4':'Great Lakes', '5':'Plains', '6':'Southwest', '7':'Rocky Mountiains', '8':'Far West'}\n",
    "state_to_num = {'Kansas': '5', 'Mississippi': '3', 'New Mexico': '6', 'Minnesota': '5', 'Georgia': '3', 'Tennessee': '3', 'Pennsylvania': '2', 'Ohio': '4', 'Wisconsin': '4', 'New Jersey': '2', 'Texas': '6', 'Arizona': '6', 'California': '8', 'Massachusetts': '1', 'Florida': '3', 'Rhode Island': '1', 'North Carolina': '3', 'Illinois': '4', 'Kentucky': '3', 'Nevada': '8', 'Colorado': '7', 'District of Columbia': '2', 'Virginia': '3', 'Iowa': '5', 'Utah': '7', 'Indiana': '4', 'New Hampshire': '1', 'Oregon': '8', 'Missouri': '5', 'Delaware': '2', 'Connecticut': '1', 'Michigan': '4', 'South Carolina': '3', 'Montana': '7', 'Oklahoma': '6', 'New York': '2', 'Idaho': '7', 'West Virginia': '3', 'Maryland': '2', 'Alaska': '8', 'Arkansas': '3', 'Nebraska': '5', 'Alabama': '3', 'Louisiana': '3', 'Washington': '8', 'Hawaii': '8', 'Vermont': '1', 'Maine': '1', 'South Dakota': '5', 'Wyoming': '7', 'North Dakota': '5', 'Puerto Rico': '3', 'Guam': '8', 'Virgin Islands of the U.S.': '3', 'Northern Mariana Islands': '8', 'American Samoa': '8', 'Marshall Islands': '8', 'Federated States of Micronesia': '8'}"
   ]
  },
  {
   "cell_type": "code",
   "execution_count": null,
   "metadata": {},
   "outputs": [],
   "source": [
    "dic = dict()\n",
    "for state in states:\n",
    "    dic[state] = num_to_reg[state_to_num[state]]\n",
    "    \n",
    "print(dic)"
   ]
  },
  {
   "cell_type": "code",
   "execution_count": null,
   "metadata": {},
   "outputs": [],
   "source": []
  },
  {
   "cell_type": "code",
   "execution_count": null,
   "metadata": {},
   "outputs": [],
   "source": [
    "table = main_table.merge(faculty_table[['Job ID', 'Faculty', 'Post-Doctoral', 'Contingent']], on='Job ID', how='inner')"
   ]
  },
  {
   "cell_type": "code",
   "execution_count": null,
   "metadata": {},
   "outputs": [],
   "source": [
    "table['Career Area'].value_counts()"
   ]
  },
  {
   "cell_type": "code",
   "execution_count": null,
   "metadata": {},
   "outputs": [],
   "source": [
    "table[table['Post-Doctoral']==1]['Career Area'].value_counts()"
   ]
  },
  {
   "cell_type": "code",
   "execution_count": null,
   "metadata": {},
   "outputs": [],
   "source": [
    "table[(table['Post-Doctoral']==1)]['Career Area'].value_counts()"
   ]
  },
  {
   "cell_type": "code",
   "execution_count": null,
   "metadata": {},
   "outputs": [],
   "source": [
    "table[table['Occupation'].str.contains('administrator', case=False, na=False)]['Occupation'].value_counts()"
   ]
  },
  {
   "cell_type": "code",
   "execution_count": null,
   "metadata": {},
   "outputs": [],
   "source": [
    "main_table[main_table['Occupation']=='Economist']['Career Area'].value_counts()"
   ]
  },
  {
   "cell_type": "code",
   "execution_count": null,
   "metadata": {},
   "outputs": [],
   "source": [
    "len(table)"
   ]
  },
  {
   "cell_type": "code",
   "execution_count": null,
   "metadata": {},
   "outputs": [],
   "source": [
    "table[table['Career Area']=='Science and Research']"
   ]
  },
  {
   "cell_type": "code",
   "execution_count": null,
   "metadata": {},
   "outputs": [],
   "source": [
    "skill_tax = pd.read_excel(r\"C:\\Users\\bob65\\Documents\\Summer2019_Research\\PythonFiles\\_Data\\skillTaxonomy.xlsx\")\n",
    "print(len(skill_tax))"
   ]
  },
  {
   "cell_type": "code",
   "execution_count": null,
   "metadata": {},
   "outputs": [],
   "source": [
    "del(skill_table)"
   ]
  },
  {
   "cell_type": "code",
   "execution_count": null,
   "metadata": {},
   "outputs": [],
   "source": [
    "del(taxonomy)"
   ]
  },
  {
   "cell_type": "code",
   "execution_count": null,
   "metadata": {
    "scrolled": true
   },
   "outputs": [],
   "source": [
    "taxonomy = dict()\n",
    "i = 0\n",
    "for index, row in skill_tax.iterrows():\n",
    "    skill = row['skillName']\n",
    "    family = row['familyName']\n",
    "    print(i, \":\", skill, \"|\", family)\n",
    "    i+=1\n",
    "    if(type(family) is str):\n",
    "        taxonomy[skill] = family\n",
    "    else:\n",
    "        taxonomy[skill] = 'na'"
   ]
  },
  {
   "cell_type": "code",
   "execution_count": null,
   "metadata": {},
   "outputs": [],
   "source": [
    "skill_tax[7072:]"
   ]
  },
  {
   "cell_type": "code",
   "execution_count": null,
   "metadata": {},
   "outputs": [],
   "source": [
    "len(taxonomy)"
   ]
  },
  {
   "cell_type": "code",
   "execution_count": null,
   "metadata": {},
   "outputs": [],
   "source": [
    "for string in taxonomy:\n",
    "    print(string, \"|\", taxonomy[string])"
   ]
  },
  {
   "cell_type": "code",
   "execution_count": null,
   "metadata": {},
   "outputs": [],
   "source": [
    "skill_tax['skillName'] = skill_tax['skillName'].astype('str')"
   ]
  },
  {
   "cell_type": "code",
   "execution_count": null,
   "metadata": {},
   "outputs": [],
   "source": [
    "skill_tax['familyName'].astype('str')"
   ]
  },
  {
   "cell_type": "code",
   "execution_count": null,
   "metadata": {},
   "outputs": [],
   "source": [
    "skill_tax.sort_values(by='skillName')"
   ]
  },
  {
   "cell_type": "code",
   "execution_count": null,
   "metadata": {},
   "outputs": [],
   "source": [
    "skill_table.groupby(['Skill Name', 'Skill Cluster Name']).count()"
   ]
  },
  {
   "cell_type": "code",
   "execution_count": null,
   "metadata": {},
   "outputs": [],
   "source": []
  },
  {
   "cell_type": "code",
   "execution_count": null,
   "metadata": {},
   "outputs": [],
   "source": [
    "main_table.groupby(['Occupation', 'Career Area']).count()"
   ]
  },
  {
   "cell_type": "code",
   "execution_count": null,
   "metadata": {},
   "outputs": [],
   "source": [
    "test = faculty_table.copy()\n",
    "for index, row in other_table.iterrows():\n",
    "    print(index)\n",
    "    test = test[test['Job ID']!=row['Job ID']]\n",
    "    \n",
    "test = test.append(other_table)\n",
    "test['Job ID'].value_counts()"
   ]
  },
  {
   "cell_type": "code",
   "execution_count": null,
   "metadata": {},
   "outputs": [],
   "source": [
    "test.to_csv(r\"C:\\Users\\bob65\\Documents\\Summer2019_Research\\PythonFiles\\_Data\\Faculty_Potential_Fix.csv\")"
   ]
  },
  {
   "cell_type": "code",
   "execution_count": null,
   "metadata": {},
   "outputs": [],
   "source": [
    "test[['Job ID', 'Year', 'Diversity and Inclusion', 'Post-Doctoral', 'Faculty', 'Agricultural sciences and natural resources', 'Biological and biomedical sciences', 'Health sciences', 'Chemistry', 'Geosciences, atmospheric, and ocean sciences', 'Physics and astronomy', 'Computer and information sciences', 'Mathematics and statistics', 'Psychology', 'Anthropology', 'Economics', 'Political science and government', 'Sociology', 'Other social sciences', 'Aerospace, aeronautical, and astronautical engineering', 'Bioengineering and biomedical engineering', 'Chemical engineering', 'Civil engineering', 'Electrical, electronics, and communications engineering', 'Industrial and manufacturing engineering', 'Materials science engineering', 'Mechanical engineering', 'Other engineering', 'Education administration', 'Education research', 'Teacher education', 'Teaching fields', 'Other education', 'Foreign languages and literature', 'History', 'Letters', 'Other humanities and arts', 'Business management and administration', 'Communication', 'Number of Detailed Fields of Study', 'FS_Life_sciences', 'FS_Physical_sciences_and_earth_sciences', 'FS_Mathematics_and_computer_sciences', 'FS_Psychology_and_social_sciences', 'FS_Engineering', 'FS_Education', 'FS_Humanities_and_arts', 'FS_Others', 'Tenured', 'Tenured_Track', 'Contingent', 'Full-time Contingent', 'Part-time Contingent']].sort_values(by=['Year', 'Job ID']).to_csv(r\"C:\\Users\\bob65\\Documents\\Summer2019_Research\\_SourceData\\Brandeis_Dummy_Table_8-9-19.csv\")"
   ]
  },
  {
   "cell_type": "code",
   "execution_count": null,
   "metadata": {},
   "outputs": [],
   "source": []
  },
  {
   "cell_type": "code",
   "execution_count": null,
   "metadata": {},
   "outputs": [],
   "source": [
    "full_table = main_table[['Job ID', 'Job Title']].merge(new_faculty_table.drop(columns=['Year']), on='Job ID', how='inner')\n"
   ]
  },
  {
   "cell_type": "code",
   "execution_count": null,
   "metadata": {},
   "outputs": [],
   "source": [
    "segment = full_table[full_table['Job Title'].str.contains('radiology', case=False, na=False)&(full_table['Communication']==1)]\n",
    "segment['Number of Detailed Fields of Study'] = segment['Number of Detailed Fields of Study'] - 1\n",
    "segment['Communication'] = 0\n",
    "full_table = full_table[~full_table['Job Title'].str.contains('radiology', case=False, na=False)|~(full_table['Communication']==1)]\n",
    "\n",
    "full_table = full_table.append(segment)"
   ]
  },
  {
   "cell_type": "code",
   "execution_count": null,
   "metadata": {},
   "outputs": [],
   "source": [
    "full_table[full_table['Job Title'].str.contains('radiology', case=False, na=False)&(full_table['Faculty']==1)&(full_table['Number of Detailed Fields of Study']>1)]"
   ]
  },
  {
   "cell_type": "code",
   "execution_count": null,
   "metadata": {},
   "outputs": [],
   "source": [
    "full_table = full_table.merge(main_table[['Job ID', 'Year']], on='Job ID', how='inner')\n",
    "full_table"
   ]
  },
  {
   "cell_type": "code",
   "execution_count": null,
   "metadata": {},
   "outputs": [],
   "source": [
    "full_table = full_table[['Job ID', 'Year', 'Diversity and Inclusion', 'Post-Doctoral', 'Faculty', 'Agricultural sciences and natural resources', 'Biological and biomedical sciences', 'Health sciences', 'Chemistry', 'Geosciences, atmospheric, and ocean sciences', 'Physics and astronomy', 'Computer and information sciences', 'Mathematics and statistics', 'Psychology', 'Anthropology', 'Economics', 'Political science and government', 'Sociology', 'Other social sciences', 'Aerospace, aeronautical, and astronautical engineering', 'Bioengineering and biomedical engineering', 'Chemical engineering', 'Civil engineering', 'Electrical, electronics, and communications engineering', 'Industrial and manufacturing engineering', 'Materials science engineering', 'Mechanical engineering', 'Other engineering', 'Education administration', 'Education research', 'Teacher education', 'Teaching fields', 'Other education', 'Foreign languages and literature', 'History', 'Letters', 'Other humanities and arts', 'Business management and administration', 'Communication', 'Number of Detailed Fields of Study', 'FS_Life_sciences', 'FS_Physical_sciences_and_earth_sciences', 'FS_Mathematics_and_computer_sciences', 'FS_Psychology_and_social_sciences', 'FS_Engineering', 'FS_Education', 'FS_Humanities_and_arts', 'FS_Others', 'Tenured', 'Tenured_Track', 'Contingent', 'Full-time Contingent', 'Part-time Contingent']]\n"
   ]
  },
  {
   "cell_type": "code",
   "execution_count": null,
   "metadata": {},
   "outputs": [],
   "source": [
    "full_table.to_csv(r\"C:\\Users\\bob65\\Documents\\Summer2019_Research\\PythonFiles\\_Data\\Brandeis_Dummy_Table_WIP.csv\")"
   ]
  },
  {
   "cell_type": "code",
   "execution_count": null,
   "metadata": {},
   "outputs": [],
   "source": [
    "main_table[main_table['IPEDS Sector Name'] == 'Administrative Unit']['IPEDS Insitution Name'].value_counts()"
   ]
  },
  {
   "cell_type": "code",
   "execution_count": null,
   "metadata": {},
   "outputs": [],
   "source": [
    "main_table[main_table['IPEDS Insitution Name'].str.contains('community college', case=False, na=False)]['IPEDS Sector Name'].value_counts()"
   ]
  },
  {
   "cell_type": "code",
   "execution_count": null,
   "metadata": {},
   "outputs": [],
   "source": [
    "main_table[(main_table['IPEDS Insitution Name']==\"North Orange County Community College District\")&(main_table['4-year']==1)]['Metropolitan Statistical Area'].value_counts()"
   ]
  },
  {
   "cell_type": "code",
   "execution_count": null,
   "metadata": {},
   "outputs": [],
   "source": [
    "full_table[full_table['IPEDS Sector Name']=='Private for-profit']"
   ]
  },
  {
   "cell_type": "code",
   "execution_count": null,
   "metadata": {},
   "outputs": [],
   "source": [
    "############################\n",
    "# Public vs. Private Dummies\n",
    "############################\n",
    "\n",
    "# Almost all sectors can be parsed into public and private since this is in their name,\n",
    "# the one problem area (other than Sector Unknown and Na) is adminsitrative unit. I am \n",
    "# not sure if the Community Colleges that appear in this sample are public or private\n",
    "\n",
    "# Here is a list of those confirmed to be public or private as well as their 4/2 year\n",
    "# classifications:\n",
    "\n",
    "# Administrative Unit Community Colleges:\n",
    "# Public 2-year\n",
    "'''\n",
    "Dallas County Community College District\n",
    "Ventura County Community College System Office\n",
    "San Bernardino Community College District\n",
    "Grossmont-Cuyamaca Community College District\n",
    "Kentucky Community and Technical College System\n",
    "State Center Community College District\n",
    "South Orange County Community College District \n",
    "Mississippi Community College Board \n",
    "Contra Costa Community College District Office\n",
    "'''\n",
    "\n",
    "# Public 4-year\n",
    "'''\n",
    "North Orange County Community College District\n",
    "Yosemite Community College District Office\n",
    "Delaware Technical Community College-Central Office \n",
    "'''\n",
    "\n",
    "# Private for profit 2-year\n",
    "'''\n",
    "Carrington College-Administrative Office\n",
    "'''\n",
    "\n",
    "# Private not for profit, 4-year\n",
    "'''\n",
    "CUNY System Office\n",
    "'''\n",
    "\n",
    "# Generate a stable separate copy of main_table to make the changes on before saving\n",
    "# onto orignal file.\n",
    "full_table = main_table.copy()\n",
    "\n",
    "# NOTE: tilde symbol \"~\" is a not operator in the Pandas library\n",
    "\n",
    "# An institution is Public if:\n",
    "#     (1) The IPEDS Sector Name contains the word Public\n",
    "#     (2) If it is one of the public Institutions within the Administrative Unit \n",
    "#         category (Easier to say not(private) since there are fewer of those in the\n",
    "#         sample)\n",
    "public = full_table['IPEDS Sector Name'].str.contains('public', case=False, na=False)\n",
    "public = public + (full_table['IPEDS Sector Name'].str.contains('admin', case=False, na=False) & \n",
    "                        ~((full_table['IPEDS Insitution Name'] == 'Carrington College-Administrative Office')|\n",
    "                         (full_table['IPEDS Insitution Name'] == 'CUNY System Office')))\n",
    "\n",
    "# If you look carefully above, you will see that I am generating a 1D boolean array \n",
    "# that maps to the full_table instead of a 0-1 dummy vector. The way I convert this \n",
    "# to a dummy is by adding zero to the entire vector. Pandas then performs these \n",
    "# calculations: True + 0 = 1 and False + 0 = 0\n",
    "full_table['Public'] = public + 0\n",
    "\n",
    "# An institution is Private if:\n",
    "#     (1) The IPEDS Sector Name contains the word Private\n",
    "#     (2) If it is one of the Private institutions in Administrative Unit\n",
    "private = full_table['IPEDS Sector Name'].str.contains('private', case=False, na=False)\n",
    "private = private + (full_table['IPEDS Sector Name'].str.contains('admin', case=False, na=False) & \n",
    "                        ((full_table['IPEDS Insitution Name'] == 'Carrington College-Administrative Office')|\n",
    "                         (full_table['IPEDS Insitution Name'] == 'CUNY System Office')))\n",
    "full_table['Private'] = private + 0\n",
    "\n",
    "# An institution is 4-year if:\n",
    "#     (1) The IPEDS Sector Name contains the phrase 4-year\n",
    "#     (2) If it is NOT one of the 2-year institutions in Administrtrative Unit     \n",
    "four_year = full_table['IPEDS Sector Name'].str.contains('4-year', case=False, na=False)\n",
    "four_year = four_year + (full_table['IPEDS Sector Name'].str.contains('admin', case=False, na=False) & \n",
    "                        ~((full_table['IPEDS Insitution Name'] == 'Dallas County Community College District')|\n",
    "                         (full_table['IPEDS Insitution Name'] == 'Ventura County Community College System Office')|\n",
    "                         (full_table['IPEDS Insitution Name'] == 'San Bernardino Community College District')|\n",
    "                         (full_table['IPEDS Insitution Name'] == 'Grossmont-Cuyamaca Community College District')|\n",
    "                         (full_table['IPEDS Insitution Name'] == 'Kentucky Community and Technical College System')|\n",
    "                         (full_table['IPEDS Insitution Name'] == 'State Center Community College District')|\n",
    "                         (full_table['IPEDS Insitution Name'] == 'South Orange County Community College District')|\n",
    "                         (full_table['IPEDS Insitution Name'] == 'Mississippi Community College Board')|\n",
    "                         (full_table['IPEDS Insitution Name'] == 'Contra Costa Community College District Office')|\n",
    "                         (full_table['IPEDS Insitution Name'] == 'Carrington College-Administrative Office')))\n",
    "full_table['4-year'] = four_year + 0\n",
    "\n",
    "# An institution is 2-year if:\n",
    "#     (1) The IPEDS Sector Name contains the phrase 2-year\n",
    "#     (2) If it is one of the 2-year institutions in Administrtrative Unit  \n",
    "two_year = full_table['IPEDS Sector Name'].str.contains('2-year', case=False, na=False)\n",
    "two_year = two_year + (full_table['IPEDS Sector Name'].str.contains('admin', case=False, na=False) & \n",
    "                        ((full_table['IPEDS Insitution Name'] == 'Dallas County Community College District')|\n",
    "                         (full_table['IPEDS Insitution Name'] == 'Ventura County Community College System Office')|\n",
    "                         (full_table['IPEDS Insitution Name'] == 'San Bernardino Community College District')|\n",
    "                         (full_table['IPEDS Insitution Name'] == 'Grossmont-Cuyamaca Community College District')|\n",
    "                         (full_table['IPEDS Insitution Name'] == 'Kentucky Community and Technical College System')|\n",
    "                         (full_table['IPEDS Insitution Name'] == 'State Center Community College District')|\n",
    "                         (full_table['IPEDS Insitution Name'] == 'South Orange County Community College District')|\n",
    "                         (full_table['IPEDS Insitution Name'] == 'Mississippi Community College Board')|\n",
    "                         (full_table['IPEDS Insitution Name'] == 'Contra Costa Community College District Office')|\n",
    "                         (full_table['IPEDS Insitution Name'] == 'Carrington College-Administrative Office')))\n",
    "full_table['2-year'] = two_year + 0\n"
   ]
  },
  {
   "cell_type": "code",
   "execution_count": null,
   "metadata": {},
   "outputs": [],
   "source": [
    "public_private = pd.DataFrame(full_table.groupby(['Public', 'Private', 'IPEDS Sector Name'])['Job ID'].count())\n",
    "public_private.rename(columns={'Job ID':'Count'}, inplace=True)\n",
    "public_private.to_excel(r\"C:\\Users\\bob65\\Documents\\Summer2019_Research\\PythonFiles\\_Data\\Public_Private_Validation.xls\")"
   ]
  },
  {
   "cell_type": "code",
   "execution_count": null,
   "metadata": {},
   "outputs": [],
   "source": [
    "four_two = pd.DataFrame(full_table.groupby(['4-year', '2-year', 'IPEDS Sector Name'])['Job ID'].count())\n",
    "four_two.rename(columns={'Job ID':'Count'}, inplace=True)\n",
    "four_two.to_excel(r\"C:\\Users\\bob65\\Documents\\Summer2019_Research\\PythonFiles\\_Data\\Four_Two_Validation.xls\")"
   ]
  },
  {
   "cell_type": "code",
   "execution_count": null,
   "metadata": {},
   "outputs": [],
   "source": [
    "main_table = main_table.merge(full_table[['Job ID', 'Public', 'Private']], on='Job ID', how='inner')\n",
    "main_table"
   ]
  },
  {
   "cell_type": "code",
   "execution_count": null,
   "metadata": {},
   "outputs": [],
   "source": [
    "main_table[(main_table['4-year']==1)&(main_table['IPEDS Insitution Name'].str.contains('community college', case=False, na=False))]"
   ]
  },
  {
   "cell_type": "code",
   "execution_count": null,
   "metadata": {},
   "outputs": [],
   "source": [
    "faculty_table = pd.read_csv(r\"C:\\Users\\bob65\\Documents\\Summer2019_Research\\PythonFiles\\_Data\\Brandeis_Dummy_Table_Non_Excluded_08112019.csv\")"
   ]
  },
  {
   "cell_type": "code",
   "execution_count": null,
   "metadata": {},
   "outputs": [],
   "source": [
    "######################\n",
    "# Data Generation Code\n",
    "######################\n",
    "\n",
    "full_table = faculty_table.copy()\n",
    "\n",
    "# Tenure_Line / Contingent Manipualtion\n",
    "# Clarify the Tenure Line variable\n",
    "full_table['Tenure_Line'] = full_table['Tenured'] + full_table['Tenured_Track']\n",
    "full_table['Tenure_Line'].where(full_table['Tenure_Line'] < 2, 1, inplace=True)\n",
    "\n",
    "# Mutually exclude Tenure-Line and Contingent\n",
    "'''\n",
    "If Tenure-Line is 1 AND Contingent is 0 OR Tenure-Line is 0 AND Contingent is 1, leave contingent alone;\n",
    "Otherwise it must be replaced with 0\n",
    "'''\n",
    "full_table['Contingent'].where(((full_table['Tenure_Line'] > 0) & (full_table['Contingent'] < 1) |\n",
    "                                (full_table['Tenure_Line'] < 1) & (full_table['Contingent'] > 0)), 0, inplace=True)\n",
    "'''\n",
    "If Tenure-Line is 1, FTC and PTC should be 0\n",
    "'''\n",
    "full_table['Full-time Contingent'].where(full_table['Tenure_Line'] < 1, 0, inplace=True)\n",
    "full_table['Part-time Contingent'].where(full_table['Tenure_Line'] < 1, 0, inplace=True)\n",
    "\n",
    "full_table['Full-time Contingent'].where(full_table['Contingent'] > 0, 0, inplace=True)\n",
    "full_table['Part-time Contingent'].where(full_table['Contingent'] > 0, 0, inplace=True)\n",
    "\n",
    "full_table.groupby(['Tenure_Line','Tenured', 'Tenured_Track', 'Contingent', 'Full-time Contingent',\n",
    "                    'Part-time Contingent']).count()"
   ]
  },
  {
   "cell_type": "code",
   "execution_count": null,
   "metadata": {},
   "outputs": [],
   "source": [
    "# Actually saved as Brandeis_Dummy_Table_Updated_08272019\n",
    "full_table.drop(columns=['Unnamed: 0']).to_csv(r\"C:\\Users\\bob65\\Documents\\Summer2019_Research\\PythonFiles\\_Data\\Brandeis_Dummy_Table_Updated_08112019.csv\")"
   ]
  },
  {
   "cell_type": "code",
   "execution_count": null,
   "metadata": {},
   "outputs": [],
   "source": [
    "#########################\n",
    "\n",
    "# Parse IPEDS Column:\n",
    "# 4-year\n",
    "four_year = full_table['IPEDS Sector Name'].str.contains('4-year')\n",
    "four_year = four_year + full_table['IPEDS Sector Name'].str.contains('Admin')\n",
    "full_table['4-year'] = four_year + 0\n",
    "# 2-Year\n",
    "two_year = full_table['IPEDS Sector Name'].str.contains(', 2-year')\n",
    "full_table['2-year'] = two_year + 0\n",
    "\n",
    "# (4) Drop now useless columns\n",
    "full_table = full_table[['Job ID', 'Year', 'Faculty', 'R1', '4-year', '2-year']]"
   ]
  },
  {
   "cell_type": "code",
   "execution_count": null,
   "metadata": {},
   "outputs": [],
   "source": [
    "full_table[['Job ID', '4-year', '2-year', 'Public', 'Private']].to_csv(r\"C:\\Users\\bob65\\Documents\\Summer2019_Research\\PythonFiles\\_Data\\New_Classification_Dummies_07102019.csv\")"
   ]
  },
  {
   "cell_type": "code",
   "execution_count": null,
   "metadata": {},
   "outputs": [],
   "source": [
    "# main_table.drop(columns=['4-year', '2-year'])\n",
    "end_table = main_table.merge(full_table[['Job ID', '4-year', '2-year', 'Public', 'Private']], on='Job ID', how='inner')\n",
    "end_table.drop(columns=['Unnamed: 0', 'Unnamed: 0.1'], inplace=True)\n"
   ]
  },
  {
   "cell_type": "code",
   "execution_count": null,
   "metadata": {},
   "outputs": [],
   "source": [
    "end_table.to_csv(r\"C:\\Users\\bob65\\Documents\\Summer2019_Research\\PythonFiles\\_Data\\Brandeis_Main_Table_updated_7122019.csv\")"
   ]
  },
  {
   "cell_type": "code",
   "execution_count": null,
   "metadata": {},
   "outputs": [],
   "source": [
    "faculty_table = faculty_table.drop(3957167)"
   ]
  },
  {
   "cell_type": "code",
   "execution_count": null,
   "metadata": {},
   "outputs": [],
   "source": [
    "faculty_table = faculty_table.astype('int64', copy=False)"
   ]
  },
  {
   "cell_type": "code",
   "execution_count": null,
   "metadata": {},
   "outputs": [],
   "source": [
    "new_class"
   ]
  },
  {
   "cell_type": "code",
   "execution_count": null,
   "metadata": {},
   "outputs": [],
   "source": [
    "dict = new_class.set_index('Job ID').to_dict()\n",
    "faculty_table_new = faculty_table['Job ID'].apply(lambda x: dict[x])"
   ]
  },
  {
   "cell_type": "code",
   "execution_count": null,
   "metadata": {},
   "outputs": [],
   "source": [
    "faculty_table_new"
   ]
  },
  {
   "cell_type": "code",
   "execution_count": null,
   "metadata": {},
   "outputs": [],
   "source": [
    "for string in main_table.columns:\n",
    "    print(string)"
   ]
  },
  {
   "cell_type": "code",
   "execution_count": null,
   "metadata": {},
   "outputs": [],
   "source": [
    "for string in faculty_table.columns:\n",
    "    print(string)"
   ]
  },
  {
   "cell_type": "code",
   "execution_count": null,
   "metadata": {},
   "outputs": [],
   "source": [
    "for string in full_table.columns:\n",
    "    print(string)"
   ]
  },
  {
   "cell_type": "code",
   "execution_count": null,
   "metadata": {},
   "outputs": [],
   "source": []
  }
 ],
 "metadata": {
  "kernelspec": {
   "display_name": "Python 3",
   "language": "python",
   "name": "python3"
  },
  "language_info": {
   "codemirror_mode": {
    "name": "ipython",
    "version": 3
   },
   "file_extension": ".py",
   "mimetype": "text/x-python",
   "name": "python",
   "nbconvert_exporter": "python",
   "pygments_lexer": "ipython3",
   "version": "3.8.1"
  }
 },
 "nbformat": 4,
 "nbformat_minor": 2
}
