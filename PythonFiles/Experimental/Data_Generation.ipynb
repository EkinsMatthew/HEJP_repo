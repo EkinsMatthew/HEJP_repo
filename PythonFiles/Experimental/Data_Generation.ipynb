{
 "cells": [
  {
   "cell_type": "code",
   "execution_count": null,
   "metadata": {},
   "outputs": [],
   "source": [
    "import os\n",
    "import math\n",
    "import pandas as pd\n",
    "pd.set_option('display.max_columns', 500)\n",
    "pd.set_option('display.max_rows', 2000)\n",
    "import numpy as np"
   ]
  },
  {
   "cell_type": "code",
   "execution_count": null,
   "metadata": {},
   "outputs": [],
   "source": [
    "main_table = pd.read_csv(r\"C:\\Users\\Matt\\Documents\\Summer2019_Research\\PythonFiles\\_Data\\Latest_Version\\Main_Data\\Main_Table_07122019.csv\")\n",
    "print(len(main_table))\n",
    "faculty_table = pd.read_csv(r\"C:\\Users\\Matt\\Documents\\Summer2019_Research\\PythonFiles\\_Data\\Latest_Version\\Faculty_Data\\Faculty_Table_08272019.csv\")\n",
    "print(len(faculty_table))\n",
    "skill_table = pd.read_csv(r\"C:\\Users\\Matt\\Documents\\Summer2019_Research\\PythonFiles\\_Data\\Latest_Version\\Skills_Data\\Skill_Table_06072019.csv\")\n",
    "print(len(skill_table))"
   ]
  },
  {
   "cell_type": "code",
   "execution_count": null,
   "metadata": {},
   "outputs": [],
   "source": [
    "def BEA_Zone(state):\n",
    "    \n",
    "    dictionary = {'Kansas': 'Plains', 'Mississippi': 'Southeast', 'New Mexico': 'Southwest', 'Minnesota': 'Plains',\n",
    "                  'Georgia': 'Southeast', 'Tennessee': 'Southeast', 'Pennsylvania': 'Mideast', 'Ohio': 'Great Lakes',\n",
    "                  'Wisconsin': 'Great Lakes', 'New Jersey': 'Mideast', 'Texas': 'Southwest', 'Arizona': 'Southwest',\n",
    "                  'California': 'Far West', 'Massachusetts': 'New England', 'Florida': 'Southeast',\n",
    "                  'Rhode Island': 'New England', 'North Carolina': 'Southeast', 'Illinois': 'Great Lakes',\n",
    "                  'Kentucky': 'Southeast', 'Nevada': 'Far West', 'Colorado': 'Rocky Mountiains',\n",
    "                  'District of Columbia': 'Mideast', 'Virginia': 'Southeast', 'Iowa': 'Plains', 'Utah': 'Rocky Mountiains',\n",
    "                  'Indiana': 'Great Lakes', 'New Hampshire': 'New England', 'Oregon': 'Far West', 'Missouri': 'Plains',\n",
    "                  'Delaware': 'Mideast', 'Connecticut': 'New England', 'Michigan': 'Great Lakes',\n",
    "                  'South Carolina': 'Southeast', 'Montana': 'Rocky Mountiains', 'Oklahoma': 'Southwest', 'New York': 'Mideast',\n",
    "                  'Idaho': 'Rocky Mountiains', 'West Virginia': 'Southeast', 'Maryland': 'Mideast', 'Alaska': 'Far West',\n",
    "                  'Arkansas': 'Southeast', 'Nebraska': 'Plains', 'Alabama': 'Southeast', 'Louisiana': 'Southeast',\n",
    "                  'Washington': 'Far West', 'Hawaii': 'Far West', 'Vermont': 'New England', 'Maine': 'New England',\n",
    "                  'South Dakota': 'Plains', 'Wyoming': 'Rocky Mountiains', 'North Dakota': 'Plains',\n",
    "                  'Puerto Rico': 'Southeast', 'Guam': 'Far West', 'Virgin Islands of the U.S.': 'Southeast',\n",
    "                  'Northern Mariana Islands': 'Far West', 'American Samoa': 'Far West', 'Marshall Islands': 'Far West',\n",
    "                  'Federated States of Micronesia': 'Far West'}\n",
    "    \n",
    "    return dictionary[state]\n",
    "    "
   ]
  },
  {
   "cell_type": "code",
   "execution_count": null,
   "metadata": {},
   "outputs": [],
   "source": [
    "# Independent Study Data Generation\n",
    "\n",
    "table = main_table.copy()\n",
    "\n",
    "table['BEA_Zone'] = table['State'].apply(BEA_Zone)\n",
    "\n"
   ]
  },
  {
   "cell_type": "code",
   "execution_count": null,
   "metadata": {},
   "outputs": [],
   "source": [
    "table.to_csv(r\"C:\\Users\\Matt\\Documents\\Summer2019_Research\\PythonFiles\\_Data\\Latest_Version\\Main_Data\\Main_Table_09252019.csv\")"
   ]
  },
  {
   "cell_type": "code",
   "execution_count": null,
   "metadata": {},
   "outputs": [],
   "source": [
    "table.groupby(['BEA_Zone', 'State']).count()"
   ]
  },
  {
   "cell_type": "code",
   "execution_count": null,
   "metadata": {},
   "outputs": [],
   "source": [
    "IS_main = table[['Job ID', 'Year', 'Job Title', 'Minimum EDU Requirements', 'Minimum Experience Requirements', 'Annual Salary', 'BEA_Zone']]\n",
    "IS_main = IS_main[IS_main['Annual Salary']>0]\n",
    "\n",
    "# IS_fac = faculty_table[['Job ID', 'Faculty', 'Post-Doctoral']]\n",
    "# IS_fac = IS_fac.merge(IS_main[['Job ID']], on='Job ID', how='inner')\n",
    "\n",
    "IS_skill = skill_table[['Job ID', 'Skill Name']]\n",
    "IS_skill = IS_skill.merge(IS_main[['Job ID']], on='Job ID', how='inner')\n",
    "\n",
    "IS_df = IS_main.merge(IS_fac, on='Job ID', how='inner')\n",
    "IS_df"
   ]
  },
  {
   "cell_type": "code",
   "execution_count": null,
   "metadata": {},
   "outputs": [],
   "source": [
    "IS_df = IS_df.drop(columns=['Faculty', 'Post-Doctoral'])\n",
    "IS_df\n"
   ]
  },
  {
   "cell_type": "code",
   "execution_count": null,
   "metadata": {},
   "outputs": [],
   "source": [
    "IS_df.to_csv(r\"C:\\Users\\Matt\\Documents\\IS_Data\\IS_Main.csv\")"
   ]
  },
  {
   "cell_type": "code",
   "execution_count": null,
   "metadata": {},
   "outputs": [],
   "source": [
    "IS_skill.to_csv(r\"C:\\Users\\Matt\\Documents\\IS_Data\\IS_Skill.csv\")"
   ]
  },
  {
   "cell_type": "code",
   "execution_count": null,
   "metadata": {},
   "outputs": [],
   "source": [
    "dic = dict()\n",
    "for state in states:\n",
    "    print(state)\n",
    "    print('Enter Region: ')\n",
    "    region = input()\n",
    "    dic[state] = region\n",
    "print(dic)"
   ]
  },
  {
   "cell_type": "code",
   "execution_count": null,
   "metadata": {},
   "outputs": [],
   "source": [
    "num_to_reg = {'1' : 'New England', '2':'Mideast', '3':'Southeast', '4':'Great Lakes', '5':'Plains', '6':'Southwest', '7':'Rocky Mountiains', '8':'Far West'}\n",
    "state_to_num = {'Kansas': '5', 'Mississippi': '3', 'New Mexico': '6', 'Minnesota': '5', 'Georgia': '3', 'Tennessee': '3', 'Pennsylvania': '2', 'Ohio': '4', 'Wisconsin': '4', 'New Jersey': '2', 'Texas': '6', 'Arizona': '6', 'California': '8', 'Massachusetts': '1', 'Florida': '3', 'Rhode Island': '1', 'North Carolina': '3', 'Illinois': '4', 'Kentucky': '3', 'Nevada': '8', 'Colorado': '7', 'District of Columbia': '2', 'Virginia': '3', 'Iowa': '5', 'Utah': '7', 'Indiana': '4', 'New Hampshire': '1', 'Oregon': '8', 'Missouri': '5', 'Delaware': '2', 'Connecticut': '1', 'Michigan': '4', 'South Carolina': '3', 'Montana': '7', 'Oklahoma': '6', 'New York': '2', 'Idaho': '7', 'West Virginia': '3', 'Maryland': '2', 'Alaska': '8', 'Arkansas': '3', 'Nebraska': '5', 'Alabama': '3', 'Louisiana': '3', 'Washington': '8', 'Hawaii': '8', 'Vermont': '1', 'Maine': '1', 'South Dakota': '5', 'Wyoming': '7', 'North Dakota': '5', 'Puerto Rico': '3', 'Guam': '8', 'Virgin Islands of the U.S.': '3', 'Northern Mariana Islands': '8', 'American Samoa': '8', 'Marshall Islands': '8', 'Federated States of Micronesia': '8'}"
   ]
  },
  {
   "cell_type": "code",
   "execution_count": null,
   "metadata": {},
   "outputs": [],
   "source": [
    "dic = dict()\n",
    "for state in states:\n",
    "    dic[state] = num_to_reg[state_to_num[state]]\n",
    "    \n",
    "print(dic)"
   ]
  },
  {
   "cell_type": "code",
   "execution_count": null,
   "metadata": {},
   "outputs": [],
   "source": []
  },
  {
   "cell_type": "code",
   "execution_count": null,
   "metadata": {},
   "outputs": [],
   "source": [
    "table = main_table.merge(faculty_table[['Job ID', 'Faculty', 'Post-Doctoral', 'Contingent']], on='Job ID', how='inner')"
   ]
  },
  {
   "cell_type": "code",
   "execution_count": null,
   "metadata": {},
   "outputs": [],
   "source": [
    "table['Career Area'].value_counts()"
   ]
  },
  {
   "cell_type": "code",
   "execution_count": null,
   "metadata": {},
   "outputs": [],
   "source": [
    "table[table['Post-Doctoral']==1]['Career Area'].value_counts()"
   ]
  },
  {
   "cell_type": "code",
   "execution_count": null,
   "metadata": {},
   "outputs": [],
   "source": [
    "table[(table['Post-Doctoral']==1)]['Career Area'].value_counts()"
   ]
  },
  {
   "cell_type": "code",
   "execution_count": null,
   "metadata": {},
   "outputs": [],
   "source": [
    "table[table['Occupation'].str.contains('administrator', case=False, na=False)]['Occupation'].value_counts()"
   ]
  },
  {
   "cell_type": "code",
   "execution_count": null,
   "metadata": {},
   "outputs": [],
   "source": [
    "main_table[main_table['Occupation']=='Economist']['Career Area'].value_counts()"
   ]
  },
  {
   "cell_type": "code",
   "execution_count": null,
   "metadata": {},
   "outputs": [],
   "source": [
    "len(table)"
   ]
  },
  {
   "cell_type": "code",
   "execution_count": null,
   "metadata": {},
   "outputs": [],
   "source": [
    "table[table['Career Area']=='Science and Research']"
   ]
  },
  {
   "cell_type": "code",
   "execution_count": null,
   "metadata": {},
   "outputs": [],
   "source": [
    "skill_tax = pd.read_excel(r\"C:\\Users\\bob65\\Documents\\Summer2019_Research\\PythonFiles\\_Data\\skillTaxonomy.xlsx\")\n",
    "print(len(skill_tax))"
   ]
  },
  {
   "cell_type": "code",
   "execution_count": null,
   "metadata": {},
   "outputs": [],
   "source": [
    "del(skill_table)"
   ]
  },
  {
   "cell_type": "code",
   "execution_count": null,
   "metadata": {},
   "outputs": [],
   "source": [
    "del(taxonomy)"
   ]
  },
  {
   "cell_type": "code",
   "execution_count": null,
   "metadata": {
    "scrolled": true
   },
   "outputs": [],
   "source": [
    "taxonomy = dict()\n",
    "i = 0\n",
    "for index, row in skill_tax.iterrows():\n",
    "    skill = row['skillName']\n",
    "    family = row['familyName']\n",
    "    print(i, \":\", skill, \"|\", family)\n",
    "    i+=1\n",
    "    if(type(family) is str):\n",
    "        taxonomy[skill] = family\n",
    "    else:\n",
    "        taxonomy[skill] = 'na'"
   ]
  },
  {
   "cell_type": "code",
   "execution_count": null,
   "metadata": {},
   "outputs": [],
   "source": [
    "skill_tax[7072:]"
   ]
  },
  {
   "cell_type": "code",
   "execution_count": null,
   "metadata": {},
   "outputs": [],
   "source": [
    "len(taxonomy)"
   ]
  },
  {
   "cell_type": "code",
   "execution_count": null,
   "metadata": {},
   "outputs": [],
   "source": [
    "for string in taxonomy:\n",
    "    print(string, \"|\", taxonomy[string])"
   ]
  },
  {
   "cell_type": "code",
   "execution_count": null,
   "metadata": {},
   "outputs": [],
   "source": [
    "skill_tax['skillName'] = skill_tax['skillName'].astype('str')"
   ]
  },
  {
   "cell_type": "code",
   "execution_count": null,
   "metadata": {},
   "outputs": [],
   "source": [
    "skill_tax['familyName'].astype('str')"
   ]
  },
  {
   "cell_type": "code",
   "execution_count": null,
   "metadata": {},
   "outputs": [],
   "source": [
    "skill_tax.sort_values(by='skillName')"
   ]
  },
  {
   "cell_type": "code",
   "execution_count": null,
   "metadata": {},
   "outputs": [],
   "source": [
    "skill_table.groupby(['Skill Name', 'Skill Cluster Name']).count()"
   ]
  },
  {
   "cell_type": "code",
   "execution_count": null,
   "metadata": {},
   "outputs": [],
   "source": []
  },
  {
   "cell_type": "code",
   "execution_count": null,
   "metadata": {},
   "outputs": [],
   "source": [
    "main_table.groupby(['Occupation', 'Career Area']).count()"
   ]
  },
  {
   "cell_type": "code",
   "execution_count": null,
   "metadata": {},
   "outputs": [],
   "source": [
    "test = faculty_table.copy()\n",
    "for index, row in other_table.iterrows():\n",
    "    print(index)\n",
    "    test = test[test['Job ID']!=row['Job ID']]\n",
    "    \n",
    "test = test.append(other_table)\n",
    "test['Job ID'].value_counts()"
   ]
  },
  {
   "cell_type": "code",
   "execution_count": null,
   "metadata": {},
   "outputs": [],
   "source": [
    "test.to_csv(r\"C:\\Users\\bob65\\Documents\\Summer2019_Research\\PythonFiles\\_Data\\Faculty_Potential_Fix.csv\")"
   ]
  },
  {
   "cell_type": "code",
   "execution_count": null,
   "metadata": {},
   "outputs": [],
   "source": [
    "test[['Job ID', 'Year', 'Diversity and Inclusion', 'Post-Doctoral', 'Faculty', 'Agricultural sciences and natural resources', 'Biological and biomedical sciences', 'Health sciences', 'Chemistry', 'Geosciences, atmospheric, and ocean sciences', 'Physics and astronomy', 'Computer and information sciences', 'Mathematics and statistics', 'Psychology', 'Anthropology', 'Economics', 'Political science and government', 'Sociology', 'Other social sciences', 'Aerospace, aeronautical, and astronautical engineering', 'Bioengineering and biomedical engineering', 'Chemical engineering', 'Civil engineering', 'Electrical, electronics, and communications engineering', 'Industrial and manufacturing engineering', 'Materials science engineering', 'Mechanical engineering', 'Other engineering', 'Education administration', 'Education research', 'Teacher education', 'Teaching fields', 'Other education', 'Foreign languages and literature', 'History', 'Letters', 'Other humanities and arts', 'Business management and administration', 'Communication', 'Number of Detailed Fields of Study', 'FS_Life_sciences', 'FS_Physical_sciences_and_earth_sciences', 'FS_Mathematics_and_computer_sciences', 'FS_Psychology_and_social_sciences', 'FS_Engineering', 'FS_Education', 'FS_Humanities_and_arts', 'FS_Others', 'Tenured', 'Tenured_Track', 'Contingent', 'Full-time Contingent', 'Part-time Contingent']].sort_values(by=['Year', 'Job ID']).to_csv(r\"C:\\Users\\bob65\\Documents\\Summer2019_Research\\_SourceData\\Brandeis_Dummy_Table_8-9-19.csv\")"
   ]
  },
  {
   "cell_type": "code",
   "execution_count": null,
   "metadata": {},
   "outputs": [],
   "source": []
  },
  {
   "cell_type": "code",
   "execution_count": null,
   "metadata": {},
   "outputs": [],
   "source": [
    "full_table = main_table[['Job ID', 'Job Title']].merge(new_faculty_table.drop(columns=['Year']), on='Job ID', how='inner')\n"
   ]
  },
  {
   "cell_type": "code",
   "execution_count": null,
   "metadata": {},
   "outputs": [],
   "source": [
    "segment = full_table[full_table['Job Title'].str.contains('radiology', case=False, na=False)&(full_table['Communication']==1)]\n",
    "segment['Number of Detailed Fields of Study'] = segment['Number of Detailed Fields of Study'] - 1\n",
    "segment['Communication'] = 0\n",
    "full_table = full_table[~full_table['Job Title'].str.contains('radiology', case=False, na=False)|~(full_table['Communication']==1)]\n",
    "\n",
    "full_table = full_table.append(segment)"
   ]
  },
  {
   "cell_type": "code",
   "execution_count": null,
   "metadata": {},
   "outputs": [],
   "source": [
    "full_table[full_table['Job Title'].str.contains('radiology', case=False, na=False)&(full_table['Faculty']==1)&(full_table['Number of Detailed Fields of Study']>1)]"
   ]
  },
  {
   "cell_type": "code",
   "execution_count": null,
   "metadata": {},
   "outputs": [],
   "source": [
    "full_table = full_table.merge(main_table[['Job ID', 'Year']], on='Job ID', how='inner')\n",
    "full_table"
   ]
  },
  {
   "cell_type": "code",
   "execution_count": null,
   "metadata": {},
   "outputs": [],
   "source": [
    "full_table = full_table[['Job ID', 'Year', 'Diversity and Inclusion', 'Post-Doctoral', 'Faculty', 'Agricultural sciences and natural resources', 'Biological and biomedical sciences', 'Health sciences', 'Chemistry', 'Geosciences, atmospheric, and ocean sciences', 'Physics and astronomy', 'Computer and information sciences', 'Mathematics and statistics', 'Psychology', 'Anthropology', 'Economics', 'Political science and government', 'Sociology', 'Other social sciences', 'Aerospace, aeronautical, and astronautical engineering', 'Bioengineering and biomedical engineering', 'Chemical engineering', 'Civil engineering', 'Electrical, electronics, and communications engineering', 'Industrial and manufacturing engineering', 'Materials science engineering', 'Mechanical engineering', 'Other engineering', 'Education administration', 'Education research', 'Teacher education', 'Teaching fields', 'Other education', 'Foreign languages and literature', 'History', 'Letters', 'Other humanities and arts', 'Business management and administration', 'Communication', 'Number of Detailed Fields of Study', 'FS_Life_sciences', 'FS_Physical_sciences_and_earth_sciences', 'FS_Mathematics_and_computer_sciences', 'FS_Psychology_and_social_sciences', 'FS_Engineering', 'FS_Education', 'FS_Humanities_and_arts', 'FS_Others', 'Tenured', 'Tenured_Track', 'Contingent', 'Full-time Contingent', 'Part-time Contingent']]\n"
   ]
  },
  {
   "cell_type": "code",
   "execution_count": null,
   "metadata": {},
   "outputs": [],
   "source": [
    "full_table.to_csv(r\"C:\\Users\\bob65\\Documents\\Summer2019_Research\\PythonFiles\\_Data\\Brandeis_Dummy_Table_WIP.csv\")"
   ]
  },
  {
   "cell_type": "code",
   "execution_count": null,
   "metadata": {},
   "outputs": [],
   "source": [
    "main_table[main_table['IPEDS Sector Name'] == 'Administrative Unit']['IPEDS Insitution Name'].value_counts()"
   ]
  },
  {
   "cell_type": "code",
   "execution_count": null,
   "metadata": {},
   "outputs": [],
   "source": [
    "main_table[main_table['IPEDS Insitution Name'].str.contains('community college', case=False, na=False)]['IPEDS Sector Name'].value_counts()"
   ]
  },
  {
   "cell_type": "code",
   "execution_count": null,
   "metadata": {},
   "outputs": [],
   "source": [
    "main_table[(main_table['IPEDS Insitution Name']==\"North Orange County Community College District\")&(main_table['4-year']==1)]['Metropolitan Statistical Area'].value_counts()"
   ]
  },
  {
   "cell_type": "code",
   "execution_count": null,
   "metadata": {},
   "outputs": [],
   "source": [
    "full_table[full_table['IPEDS Sector Name']=='Private for-profit']"
   ]
  },
  {
   "cell_type": "code",
   "execution_count": null,
   "metadata": {},
   "outputs": [],
   "source": [
    "############################\n",
    "# Public vs. Private Dummies\n",
    "############################\n",
    "\n",
    "# Almost all sectors can be parsed into public and private since this is in their name,\n",
    "# the one problem area (other than Sector Unknown and Na) is adminsitrative unit. I am \n",
    "# not sure if the Community Colleges that appear in this sample are public or private\n",
    "\n",
    "# Here is a list of those confirmed to be public or private as well as their 4/2 year\n",
    "# classifications:\n",
    "\n",
    "# Administrative Unit Community Colleges:\n",
    "# Public 2-year\n",
    "'''\n",
    "Dallas County Community College District\n",
    "Ventura County Community College System Office\n",
    "San Bernardino Community College District\n",
    "Grossmont-Cuyamaca Community College District\n",
    "Kentucky Community and Technical College System\n",
    "State Center Community College District\n",
    "South Orange County Community College District \n",
    "Mississippi Community College Board \n",
    "Contra Costa Community College District Office\n",
    "'''\n",
    "\n",
    "# Public 4-year\n",
    "'''\n",
    "North Orange County Community College District\n",
    "Yosemite Community College District Office\n",
    "Delaware Technical Community College-Central Office \n",
    "'''\n",
    "\n",
    "# Private for profit 2-year\n",
    "'''\n",
    "Carrington College-Administrative Office\n",
    "'''\n",
    "\n",
    "# Private not for profit, 4-year\n",
    "'''\n",
    "CUNY System Office\n",
    "'''\n",
    "\n",
    "# Generate a stable separate copy of main_table to make the changes on before saving\n",
    "# onto orignal file.\n",
    "full_table = main_table.copy()\n",
    "\n",
    "# NOTE: tilde symbol \"~\" is a not operator in the Pandas library\n",
    "\n",
    "# An institution is Public if:\n",
    "#     (1) The IPEDS Sector Name contains the word Public\n",
    "#     (2) If it is one of the public Institutions within the Administrative Unit \n",
    "#         category (Easier to say not(private) since there are fewer of those in the\n",
    "#         sample)\n",
    "public = full_table['IPEDS Sector Name'].str.contains('public', case=False, na=False)\n",
    "public = public + (full_table['IPEDS Sector Name'].str.contains('admin', case=False, na=False) & \n",
    "                        ~((full_table['IPEDS Insitution Name'] == 'Carrington College-Administrative Office')|\n",
    "                         (full_table['IPEDS Insitution Name'] == 'CUNY System Office')))\n",
    "\n",
    "# If you look carefully above, you will see that I am generating a 1D boolean array \n",
    "# that maps to the full_table instead of a 0-1 dummy vector. The way I convert this \n",
    "# to a dummy is by adding zero to the entire vector. Pandas then performs these \n",
    "# calculations: True + 0 = 1 and False + 0 = 0\n",
    "full_table['Public'] = public + 0\n",
    "\n",
    "# An institution is Private if:\n",
    "#     (1) The IPEDS Sector Name contains the word Private\n",
    "#     (2) If it is one of the Private institutions in Administrative Unit\n",
    "private = full_table['IPEDS Sector Name'].str.contains('private', case=False, na=False)\n",
    "private = private + (full_table['IPEDS Sector Name'].str.contains('admin', case=False, na=False) & \n",
    "                        ((full_table['IPEDS Insitution Name'] == 'Carrington College-Administrative Office')|\n",
    "                         (full_table['IPEDS Insitution Name'] == 'CUNY System Office')))\n",
    "full_table['Private'] = private + 0\n",
    "\n",
    "# An institution is 4-year if:\n",
    "#     (1) The IPEDS Sector Name contains the phrase 4-year\n",
    "#     (2) If it is NOT one of the 2-year institutions in Administrtrative Unit     \n",
    "four_year = full_table['IPEDS Sector Name'].str.contains('4-year', case=False, na=False)\n",
    "four_year = four_year + (full_table['IPEDS Sector Name'].str.contains('admin', case=False, na=False) & \n",
    "                        ~((full_table['IPEDS Insitution Name'] == 'Dallas County Community College District')|\n",
    "                         (full_table['IPEDS Insitution Name'] == 'Ventura County Community College System Office')|\n",
    "                         (full_table['IPEDS Insitution Name'] == 'San Bernardino Community College District')|\n",
    "                         (full_table['IPEDS Insitution Name'] == 'Grossmont-Cuyamaca Community College District')|\n",
    "                         (full_table['IPEDS Insitution Name'] == 'Kentucky Community and Technical College System')|\n",
    "                         (full_table['IPEDS Insitution Name'] == 'State Center Community College District')|\n",
    "                         (full_table['IPEDS Insitution Name'] == 'South Orange County Community College District')|\n",
    "                         (full_table['IPEDS Insitution Name'] == 'Mississippi Community College Board')|\n",
    "                         (full_table['IPEDS Insitution Name'] == 'Contra Costa Community College District Office')|\n",
    "                         (full_table['IPEDS Insitution Name'] == 'Carrington College-Administrative Office')))\n",
    "full_table['4-year'] = four_year + 0\n",
    "\n",
    "# An institution is 2-year if:\n",
    "#     (1) The IPEDS Sector Name contains the phrase 2-year\n",
    "#     (2) If it is one of the 2-year institutions in Administrtrative Unit  \n",
    "two_year = full_table['IPEDS Sector Name'].str.contains('2-year', case=False, na=False)\n",
    "two_year = two_year + (full_table['IPEDS Sector Name'].str.contains('admin', case=False, na=False) & \n",
    "                        ((full_table['IPEDS Insitution Name'] == 'Dallas County Community College District')|\n",
    "                         (full_table['IPEDS Insitution Name'] == 'Ventura County Community College System Office')|\n",
    "                         (full_table['IPEDS Insitution Name'] == 'San Bernardino Community College District')|\n",
    "                         (full_table['IPEDS Insitution Name'] == 'Grossmont-Cuyamaca Community College District')|\n",
    "                         (full_table['IPEDS Insitution Name'] == 'Kentucky Community and Technical College System')|\n",
    "                         (full_table['IPEDS Insitution Name'] == 'State Center Community College District')|\n",
    "                         (full_table['IPEDS Insitution Name'] == 'South Orange County Community College District')|\n",
    "                         (full_table['IPEDS Insitution Name'] == 'Mississippi Community College Board')|\n",
    "                         (full_table['IPEDS Insitution Name'] == 'Contra Costa Community College District Office')|\n",
    "                         (full_table['IPEDS Insitution Name'] == 'Carrington College-Administrative Office')))\n",
    "full_table['2-year'] = two_year + 0\n"
   ]
  },
  {
   "cell_type": "code",
   "execution_count": null,
   "metadata": {},
   "outputs": [],
   "source": [
    "public_private = pd.DataFrame(full_table.groupby(['Public', 'Private', 'IPEDS Sector Name'])['Job ID'].count())\n",
    "public_private.rename(columns={'Job ID':'Count'}, inplace=True)\n",
    "public_private.to_excel(r\"C:\\Users\\bob65\\Documents\\Summer2019_Research\\PythonFiles\\_Data\\Public_Private_Validation.xls\")"
   ]
  },
  {
   "cell_type": "code",
   "execution_count": null,
   "metadata": {},
   "outputs": [],
   "source": [
    "four_two = pd.DataFrame(full_table.groupby(['4-year', '2-year', 'IPEDS Sector Name'])['Job ID'].count())\n",
    "four_two.rename(columns={'Job ID':'Count'}, inplace=True)\n",
    "four_two.to_excel(r\"C:\\Users\\bob65\\Documents\\Summer2019_Research\\PythonFiles\\_Data\\Four_Two_Validation.xls\")"
   ]
  },
  {
   "cell_type": "code",
   "execution_count": null,
   "metadata": {},
   "outputs": [],
   "source": [
    "main_table = main_table.merge(full_table[['Job ID', 'Public', 'Private']], on='Job ID', how='inner')\n",
    "main_table"
   ]
  },
  {
   "cell_type": "code",
   "execution_count": null,
   "metadata": {},
   "outputs": [],
   "source": [
    "main_table[(main_table['4-year']==1)&(main_table['IPEDS Insitution Name'].str.contains('community college', case=False, na=False))]"
   ]
  },
  {
   "cell_type": "code",
   "execution_count": null,
   "metadata": {},
   "outputs": [],
   "source": [
    "faculty_table = pd.read_csv(r\"C:\\Users\\bob65\\Documents\\Summer2019_Research\\PythonFiles\\_Data\\Brandeis_Dummy_Table_Non_Excluded_08112019.csv\")"
   ]
  },
  {
   "cell_type": "code",
   "execution_count": null,
   "metadata": {},
   "outputs": [],
   "source": [
    "######################\n",
    "# Data Generation Code\n",
    "######################\n",
    "\n",
    "full_table = faculty_table.copy()\n",
    "\n",
    "# Tenure_Line / Contingent Manipualtion\n",
    "# Clarify the Tenure Line variable\n",
    "full_table['Tenure_Line'] = full_table['Tenured'] + full_table['Tenured_Track']\n",
    "full_table['Tenure_Line'].where(full_table['Tenure_Line'] < 2, 1, inplace=True)\n",
    "\n",
    "# Mutually exclude Tenure-Line and Contingent\n",
    "'''\n",
    "If Tenure-Line is 1 AND Contingent is 0 OR Tenure-Line is 0 AND Contingent is 1, leave contingent alone;\n",
    "Otherwise it must be replaced with 0\n",
    "'''\n",
    "full_table['Contingent'].where(((full_table['Tenure_Line'] > 0) & (full_table['Contingent'] < 1) |\n",
    "                                (full_table['Tenure_Line'] < 1) & (full_table['Contingent'] > 0)), 0, inplace=True)\n",
    "'''\n",
    "If Tenure-Line is 1, FTC and PTC should be 0\n",
    "'''\n",
    "full_table['Full-time Contingent'].where(full_table['Tenure_Line'] < 1, 0, inplace=True)\n",
    "full_table['Part-time Contingent'].where(full_table['Tenure_Line'] < 1, 0, inplace=True)\n",
    "\n",
    "full_table['Full-time Contingent'].where(full_table['Contingent'] > 0, 0, inplace=True)\n",
    "full_table['Part-time Contingent'].where(full_table['Contingent'] > 0, 0, inplace=True)\n",
    "\n",
    "full_table.groupby(['Tenure_Line','Tenured', 'Tenured_Track', 'Contingent', 'Full-time Contingent',\n",
    "                    'Part-time Contingent']).count()"
   ]
  },
  {
   "cell_type": "code",
   "execution_count": null,
   "metadata": {},
   "outputs": [],
   "source": [
    "# Actually saved as Brandeis_Dummy_Table_Updated_08272019\n",
    "full_table.drop(columns=['Unnamed: 0']).to_csv(r\"C:\\Users\\bob65\\Documents\\Summer2019_Research\\PythonFiles\\_Data\\Brandeis_Dummy_Table_Updated_08112019.csv\")"
   ]
  },
  {
   "cell_type": "code",
   "execution_count": null,
   "metadata": {},
   "outputs": [],
   "source": [
    "#########################\n",
    "\n",
    "# Parse IPEDS Column:\n",
    "# 4-year\n",
    "four_year = full_table['IPEDS Sector Name'].str.contains('4-year')\n",
    "four_year = four_year + full_table['IPEDS Sector Name'].str.contains('Admin')\n",
    "full_table['4-year'] = four_year + 0\n",
    "# 2-Year\n",
    "two_year = full_table['IPEDS Sector Name'].str.contains(', 2-year')\n",
    "full_table['2-year'] = two_year + 0\n",
    "\n",
    "# (4) Drop now useless columns\n",
    "full_table = full_table[['Job ID', 'Year', 'Faculty', 'R1', '4-year', '2-year']]"
   ]
  },
  {
   "cell_type": "code",
   "execution_count": null,
   "metadata": {},
   "outputs": [],
   "source": [
    "full_table[['Job ID', '4-year', '2-year', 'Public', 'Private']].to_csv(r\"C:\\Users\\bob65\\Documents\\Summer2019_Research\\PythonFiles\\_Data\\New_Classification_Dummies_07102019.csv\")"
   ]
  },
  {
   "cell_type": "code",
   "execution_count": null,
   "metadata": {},
   "outputs": [],
   "source": [
    "# main_table.drop(columns=['4-year', '2-year'])\n",
    "end_table = main_table.merge(full_table[['Job ID', '4-year', '2-year', 'Public', 'Private']], on='Job ID', how='inner')\n",
    "end_table.drop(columns=['Unnamed: 0', 'Unnamed: 0.1'], inplace=True)\n"
   ]
  },
  {
   "cell_type": "code",
   "execution_count": null,
   "metadata": {},
   "outputs": [],
   "source": [
    "end_table.to_csv(r\"C:\\Users\\bob65\\Documents\\Summer2019_Research\\PythonFiles\\_Data\\Brandeis_Main_Table_updated_7122019.csv\")"
   ]
  },
  {
   "cell_type": "code",
   "execution_count": null,
   "metadata": {},
   "outputs": [],
   "source": [
    "faculty_table = faculty_table.drop(3957167)"
   ]
  },
  {
   "cell_type": "code",
   "execution_count": null,
   "metadata": {},
   "outputs": [],
   "source": [
    "faculty_table = faculty_table.astype('int64', copy=False)"
   ]
  },
  {
   "cell_type": "code",
   "execution_count": null,
   "metadata": {},
   "outputs": [],
   "source": [
    "new_class"
   ]
  },
  {
   "cell_type": "code",
   "execution_count": null,
   "metadata": {},
   "outputs": [],
   "source": [
    "dict = new_class.set_index('Job ID').to_dict()\n",
    "faculty_table_new = faculty_table['Job ID'].apply(lambda x: dict[x])"
   ]
  },
  {
   "cell_type": "code",
   "execution_count": null,
   "metadata": {},
   "outputs": [],
   "source": [
    "faculty_table_new"
   ]
  },
  {
   "cell_type": "code",
   "execution_count": null,
   "metadata": {},
   "outputs": [],
   "source": [
    "for string in main_table.columns:\n",
    "    print(string)"
   ]
  },
  {
   "cell_type": "code",
   "execution_count": null,
   "metadata": {},
   "outputs": [],
   "source": [
    "for string in faculty_table.columns:\n",
    "    print(string)"
   ]
  },
  {
   "cell_type": "code",
   "execution_count": null,
   "metadata": {},
   "outputs": [],
   "source": [
    "for string in full_table.columns:\n",
    "    print(string)"
   ]
  },
  {
   "cell_type": "code",
   "execution_count": null,
   "metadata": {},
   "outputs": [],
   "source": []
  }
 ],
 "metadata": {
  "kernelspec": {
   "display_name": "Python 3",
   "language": "python",
   "name": "python3"
  },
  "language_info": {
   "codemirror_mode": {
    "name": "ipython",
    "version": 3
   },
   "file_extension": ".py",
   "mimetype": "text/x-python",
   "name": "python",
   "nbconvert_exporter": "python",
   "pygments_lexer": "ipython3",
   "version": "3.7.2"
  }
 },
 "nbformat": 4,
 "nbformat_minor": 2
}
