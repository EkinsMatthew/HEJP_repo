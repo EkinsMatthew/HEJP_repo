{
 "cells": [
  {
   "cell_type": "code",
   "execution_count": null,
   "metadata": {},
   "outputs": [],
   "source": [
    "import os\n",
    "import pandas as pd\n",
    "pd.set_option('display.max_columns', 500)\n",
    "pd.set_option('display.max_rows', 2000)\n",
    "import numpy as np\n",
    "import matplotlib.pyplot as plt"
   ]
  },
  {
   "cell_type": "code",
   "execution_count": null,
   "metadata": {},
   "outputs": [],
   "source": [
    "# Import relevant dataframes:\n",
    "\n",
    "# main_table = pd.read_csv(r\"C:\\Users\\bob65\\Documents\\Summer2019_Research\\_SourceData\\Brandeis_Main_Table.txt\", sep='\\t')\n",
    "# print(len(main_table))\n",
    "# faculty_table = pd.read_csv(r\"C:\\Users\\bob65\\Documents\\Summer2019_Research\\PythonFiles\\_Data\\Brandeis_Dummy_Table_Fully_Updated.csv\")\n",
    "# print(len(faculty_table))\n",
    "skill_table = pd.read_csv(r'C:\\Users\\bob65\\Documents\\Summer2019_Research\\PythonFiles\\_Data\\Brandeis_Skill_Table.csv')\n",
    "print(len(skill_table))"
   ]
  },
  {
   "cell_type": "code",
   "execution_count": null,
   "metadata": {},
   "outputs": [],
   "source": [
    "# Research Assistant Professors\n",
    "full_table = main_table.merge(faculty_table[['Job ID', 'Agricultural sciences and natural resources', \n",
    "                                             'Biological and biomedical sciences', 'Health sciences', 'Chemistry', \n",
    "                                             'Geosciences, atmospheric, and ocean sciences', 'Physics and astronomy', \n",
    "                                             'Computer and information sciences', 'Mathematics and statistics', 'Psychology', \n",
    "                                             'Anthropology', 'Economics', 'Political science and government', 'Sociology', \n",
    "                                             'Other social sciences', 'Aerospace, aeronautical, and astronautical engineering',\n",
    "                                             'Bioengineering and biomedical engineering', 'Chemical engineering', \n",
    "                                             'Civil engineering', 'Electrical, electronics, and communications engineering', \n",
    "                                             'Industrial and manufacturing engineering', 'Materials science engineering', \n",
    "                                             'Mechanical engineering', 'Other engineering', 'Education administration', \n",
    "                                             'Education research', 'Teacher education', 'Teaching fields', 'Other education', \n",
    "                                             'Foreign languages and literature', 'History', 'Letters', \n",
    "                                             'Other humanities and arts', 'Business management and administration', \n",
    "                                             'Communication', 'Number of Detailed Fields of Study', 'Faculty', 'Tenured',\n",
    "                                             'Tenured_Track', 'Full-time Contingent', 'Part-time Contingent']],\n",
    "                              how='inner', on='Job ID')"
   ]
  },
  {
   "cell_type": "code",
   "execution_count": null,
   "metadata": {},
   "outputs": [],
   "source": [
    "full_table['RP'] = full_table['Job Title'].str.contains('research professor', case=False, regex=False, na=False) + 0\n",
    "full_table['RAP'] = full_table['Job Title'].str.contains('research assistant professor', case=False, regex=False, na=False) + 0\n",
    "\n",
    "full_table[['Job ID', 'Faculty', 'RP', 'RAP']].groupby(['Faculty', 'RP', 'RAP']).count()"
   ]
  },
  {
   "cell_type": "code",
   "execution_count": null,
   "metadata": {},
   "outputs": [],
   "source": [
    "full_table[(full_table['Job Title'] == 'Research Professor')&(full_table['Faculty'] == 0)&(full_table['Year']==2017)].sort_values(by=['IPEDS Insitution Name'])"
   ]
  },
  {
   "cell_type": "code",
   "execution_count": null,
   "metadata": {},
   "outputs": [],
   "source": [
    "full_table[['Job Title', 'Job ID', 'Faculty']][full_table['Job Title'].str.contains('(research) ((assistant professor)+|(professor)+)', case=False, regex=True, na=False)].groupby(['Faculty', 'Job Title']).count()"
   ]
  },
  {
   "cell_type": "code",
   "execution_count": null,
   "metadata": {},
   "outputs": [],
   "source": [
    "# Proportions for Tenure vs Non-Tenure on RAP and RP positions\n",
    "\n",
    "full_table[['Job Title', 'Job ID', 'Faculty', 'Tenured', 'Tenured_Track']][full_table['Job Title'].str.contains('(research) ((assistant professor)+|(professor)+)', case=False, regex=True, na=False) & (full_table['Faculty']==1)].groupby(['Tenured']).count()"
   ]
  },
  {
   "cell_type": "code",
   "execution_count": null,
   "metadata": {},
   "outputs": [],
   "source": [
    "full_table[(full_table['Full-time Contingent']==1)&(full_table['Health sciences'] == 0)&full_table['Job Title'].str.contains('Research', na=False)]['Job Title'].value_counts()"
   ]
  },
  {
   "cell_type": "code",
   "execution_count": null,
   "metadata": {},
   "outputs": [],
   "source": []
  },
  {
   "cell_type": "code",
   "execution_count": null,
   "metadata": {},
   "outputs": [],
   "source": [
    "full_table['Radiology'] = full_table['Job Title'].str.contains('Radiology', case=False, na=False) + 0\n",
    "\n",
    "full_table[['Radiology', 'Job ID', 'Communication', 'Health sciences']][full_table['Job Title'].str.contains('radiology', case=False, regex=True, na=False)].groupby(['Communication', 'Health sciences', 'Radiology']).count()"
   ]
  },
  {
   "cell_type": "code",
   "execution_count": null,
   "metadata": {},
   "outputs": [],
   "source": [
    "radio_fac = faculty_table.merge(full_table[['Job ID', 'Radiology']], how='inner', on='Job ID')\n",
    "radio_fac[radio_fac['Radiology']==1].groupby(['Radiology', 'Communication', 'Number of Detailed Fields of Study']).count()"
   ]
  },
  {
   "cell_type": "code",
   "execution_count": null,
   "metadata": {},
   "outputs": [],
   "source": [
    "radio_fac['Number of Detailed Fields of Study'].where(((radio_fac['Radiology']==0)|(radio_fac['Communication']==0)), radio_fac['Number of Detailed Fields of Study']-1, inplace=True)\n",
    "radio_fac['Communication'].where(radio_fac['Radiology']==0, 0, inplace=True)"
   ]
  },
  {
   "cell_type": "code",
   "execution_count": null,
   "metadata": {},
   "outputs": [],
   "source": [
    "radio_fac.drop(columns=['Unnamed: 0', 'Radiology']).to_csv(r\"C:\\Users\\bob65\\Documents\\Summer2019_Research\\PythonFiles\\_Data\\Brandeis_Dummy_Table_Radiology_Fixed.csv\")"
   ]
  },
  {
   "cell_type": "code",
   "execution_count": null,
   "metadata": {},
   "outputs": [],
   "source": [
    "full_table['Job Title'][(full_table['Radiology'] == 1)&(full_table['Faculty'] == 1)&(full_table['Health sciences'] == 0)]"
   ]
  },
  {
   "cell_type": "code",
   "execution_count": null,
   "metadata": {},
   "outputs": [],
   "source": [
    "full_table['Job Title'][(full_table['Radiology']==1) & (full_table['Communication']==1)]"
   ]
  },
  {
   "cell_type": "code",
   "execution_count": null,
   "metadata": {},
   "outputs": [],
   "source": [
    "full_table['Job Title'][(full_table['Faculty']==1) & (full_table['Communication']==1)]"
   ]
  },
  {
   "cell_type": "code",
   "execution_count": null,
   "metadata": {},
   "outputs": [],
   "source": []
  },
  {
   "cell_type": "code",
   "execution_count": null,
   "metadata": {},
   "outputs": [],
   "source": [
    "for string in main_table.columns:\n",
    "    print(string)"
   ]
  },
  {
   "cell_type": "code",
   "execution_count": null,
   "metadata": {},
   "outputs": [],
   "source": [
    "for string in faculty_table.columns:\n",
    "    print(string)"
   ]
  },
  {
   "cell_type": "code",
   "execution_count": null,
   "metadata": {},
   "outputs": [],
   "source": [
    "# Determine the percentiles of the distrubutition of Num of Fields\n",
    "# Number of fields:     1     2     3     4     5     6     7     8     9    10    12    17    19    SUM\n",
    "#            Count: 10734  8983  2978  1018   290   107    52    26     6     3     2     1     1  24162\n",
    "#    Cumulative DF: 0.444 0.816 0.939 0.981 0.993 0.997 0.999 0.999 0.999 0.999 0.999 0.999 0.999  1.000\n",
    "\n",
    "# Including observations with 4 fields represents 98% of the data\n",
    "\n",
    "fixed_faculty[['Year','Agricultural sciences and natural resources', 'Number of Detailed Fields of Study', 'Job ID']].groupby(['Year', 'Agricultural sciences and natural resources', 'Number of Detailed Fields of Study']).count()"
   ]
  },
  {
   "cell_type": "code",
   "execution_count": null,
   "metadata": {},
   "outputs": [],
   "source": [
    "# Determine highest 4 count fields in Agro\n",
    "# Biological and biomedical sciences, Health sciences, Chemistry, Economics\n",
    "\n",
    "\n",
    "faculty_table[faculty_table['Agricultural sciences and natural resources']==1].sum()"
   ]
  },
  {
   "cell_type": "code",
   "execution_count": null,
   "metadata": {},
   "outputs": [],
   "source": [
    "######################################\n",
    "# Verify the bias of agricultural Data\n",
    "# Collect relevant dataframe columns\n",
    "######################################\n",
    "'''\n",
    "agro_table = main_table[['Job ID', 'Job Title', 'Year', 'Occupation', 'Career Area', 'Metropolitan Statistical Area', 'State', \n",
    "                         'IPEDS Insitution Name']].merge(\n",
    "    faculty_table[['Job ID', 'Agricultural sciences and natural resources', ]])\n",
    "agro_grouped = agro_table[['Year', 'State', 'Job ID']].groupby(['Year', 'State'])\n",
    "'''\n",
    "output = pd.DataFrame(agro_grouped.count())\n",
    "\n",
    "output = output[output['Job ID'] > 50]\n",
    "\n",
    "output.to_excel(r'C:\\Users\\bob65\\Documents\\Summer2019_Research\\PythonFiles\\Data_Quirks\\agro_data.xls')"
   ]
  },
  {
   "cell_type": "code",
   "execution_count": null,
   "metadata": {},
   "outputs": [],
   "source": [
    "fixed_faculty.to_csv(r\"C:\\Users\\bob65\\Documents\\Summer2019_Research\\PythonFiles\\_Data\\Brandeis_Dummy_Table_Fully_Updated.csv\")"
   ]
  },
  {
   "cell_type": "code",
   "execution_count": null,
   "metadata": {},
   "outputs": [],
   "source": []
  }
 ],
 "metadata": {
  "kernelspec": {
   "display_name": "Python 3",
   "language": "python",
   "name": "python3"
  },
  "language_info": {
   "codemirror_mode": {
    "name": "ipython",
    "version": 3
   },
   "file_extension": ".py",
   "mimetype": "text/x-python",
   "name": "python",
   "nbconvert_exporter": "python",
   "pygments_lexer": "ipython3",
   "version": "3.7.3"
  }
 },
 "nbformat": 4,
 "nbformat_minor": 2
}
