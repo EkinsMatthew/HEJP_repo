{
 "cells": [
  {
   "cell_type": "code",
   "execution_count": null,
   "metadata": {},
   "outputs": [],
   "source": [
    "import os\n",
    "import math\n",
    "import pandas as pd\n",
    "pd.set_option('display.max_columns', 500)\n",
    "pd.set_option('display.max_rows', 2000)\n",
    "import numpy as np\n",
    "import sys\n",
    "from IPython.display import clear_output"
   ]
  },
  {
   "cell_type": "code",
   "execution_count": null,
   "metadata": {},
   "outputs": [],
   "source": [
    "# Import relevant dataframes:\n",
    "\n",
    "main_table = pd.read_csv(r\"C:\\Users\\bob65\\Documents\\Summer2019_Research\\PythonFiles\\_Data\\Latest_Version\\Main_Data\\Main_Table_07122019.csv\")\n",
    "print(len(main_table))\n",
    "# faculty_table = pd.read_csv(r\"C:\\Users\\bob65\\Documents\\Summer2019_Research\\PythonFiles\\_Data\\Latest_Version\\Faculty_Data\\Faculty_Table_08272019.csv\")\n",
    "# print(len(faculty_table))\n",
    "# skill_table = pd.read_csv(r\"C:\\Users\\bob65\\Documents\\Summer2019_Research\\PythonFiles\\_Data\\Latest_Version\\Skills_Data\\Skill_Table_06072019.csv\")\n",
    "# print(len(skill_table))"
   ]
  },
  {
   "cell_type": "code",
   "execution_count": null,
   "metadata": {},
   "outputs": [],
   "source": [
    "'''\n",
    "This function allows the user to chose from a pre-defined number of possible filters\n",
    "and decide which column they would like to restrict. Potential restrictions are determined\n",
    "by the 'category_names' list above and are passed into this function.\n",
    "'''\n",
    "def assisted_breakdowns(input_categories):\n",
    "    print('Which fields would you like to define?')\n",
    "    running = True\n",
    "    first_run = True\n",
    "    filters = []\n",
    "    possible_avenues = input_categories.copy()\n",
    "    while(running):\n",
    "        if(not(first_run)):\n",
    "            print('You have Chosen:', filters)\n",
    "        print('Type one number at a time and press enter,' + \n",
    "          ' then when done type \"/done\"\\nChoose one of these categories:')\n",
    "        breakdowns = dict()\n",
    "        size = len(possible_avenues)\n",
    "        for i in range(len(possible_avenues)):\n",
    "            print(i + 1, ':', possible_avenues[i])\n",
    "            breakdowns[i + 1] = possible_avenues[i] \n",
    "        has_input = False\n",
    "        print()\n",
    "        while(not(has_input)):\n",
    "            try:\n",
    "                print()\n",
    "                user_in = input('\\tEnter number: ')\n",
    "                user_in = int(user_in)\n",
    "                filters.append(breakdowns[user_in])\n",
    "                possible_avenues.remove(breakdowns[user_in])\n",
    "                has_input = True\n",
    "            except ValueError:\n",
    "                if(user_in == '/done'):\n",
    "                    running = False\n",
    "                    break\n",
    "                elif(user_in == '/stop'):\n",
    "                    sys.exit(\"User Terminated Thread\")\n",
    "                else:\n",
    "                    print('Please enter a number or \"/done\" if done')\n",
    "            except KeyError:\n",
    "                print('Number must be in the range displayed')\n",
    "#         This line had some issues where it would prevent the user from inputing the next filter\n",
    "#         clear_output(wait=True)\n",
    "        first_run = False\n",
    "        print()\n",
    "    return(filters)\n",
    "\n",
    "def restrict_categories(filters):\n",
    "    full_table = main_table.copy()\n",
    "    for column in filters:\n",
    "        choices = pd.DataFrame(full_table[column].value_counts()).reset_index()['index'].values\n",
    "        dictionary = dict()\n",
    "        i = 1\n",
    "        print('Selecting from', column)\n",
    "        has_input = False\n",
    "        while(not(has_input)):\n",
    "            for option in choices:\n",
    "                dictionary[i] = option\n",
    "                print(i, ':', option)\n",
    "                i+=1\n",
    "#             The code below was an attempt to add a paging system for the results of a query. Some career areas have\n",
    "#             hundreds of occupations within them, and therefore are a little much to scroll through at once.\n",
    "\n",
    "#             print('Displaying %d to %d out of %d: (type \"/next\" for next 20, and \"/prev\" for previous 20)' % (1, 20, 20))\n",
    "#             for q in range(20):\n",
    "#                 print(q + 1, ':', dictionary[q+1])\n",
    "            try:\n",
    "                user_in = input('Choose a category and type its corresponding number: ')\n",
    "                if(user_in == \"/stop\"):\n",
    "                    sys.exit(\"User Terminated Thread\")\n",
    "                user_in = int(user_in)\n",
    "                has_input = True\n",
    "            except ValueError:\n",
    "                print('Please enter a number.')\n",
    "        print()\n",
    "        full_table = full_table[full_table[column]==dictionary[user_in]]\n",
    "    return(full_table)\n",
    "\n",
    "def manually_restict():\n",
    "    x = 0"
   ]
  },
  {
   "cell_type": "code",
   "execution_count": null,
   "metadata": {},
   "outputs": [],
   "source": [
    "# current_filters = []\n",
    "category_names =['Career Area', 'Occupation', 'IPEDS Institution Name', 'Year', 'Metropolitan Statistical Area', \n",
    "                   'R1', '2-year', '4-year']\n",
    "print('Welcome to the Exploration Tool!')\n",
    "print('At any time type /stop to exit!\\n')\n",
    "\n",
    "out = assisted_breakdowns(category_names)\n",
    "table = restrict_categories(out)\n",
    "table"
   ]
  },
  {
   "cell_type": "code",
   "execution_count": null,
   "metadata": {},
   "outputs": [],
   "source": [
    "# Commentary:\n",
    "#     First and foremost the exploration tool should be used to fetch and return additional components of information\n",
    "#     relevant to the selections that the existing visualization generates. For example, if a user requests top occupations\n",
    "#     within a Career Area, and one of those occupations seems to need more context, the user can rely on the exploration \n",
    "#     tool to deliver interesting and relevant data on that occupation to help the user understand why the visualization\n",
    "#     looks as it does. An empirical example from our research so far comes from the occupation \"Research Associate\"\n",
    "#     generating a significant amount of jobs that ask for maintenance and repair; by using the exploration tool to search\n",
    "#     job titles or expand skill names, the user comes to understand that that skill request is actually relevant to \n",
    "#     managing sophisticated scientific equipment. As of now this tool can only access the data within the main_table but\n",
    "#     in the future we would expect that all available data columns would be available to the user to explore. In the \n",
    "#     short run, however, we will have to omit the salary and geography based data for confidentiality reasons. \n",
    "#     It is important that the tool is agnostic to what the user might want to retrieve from the visualization. The tool \n",
    "#     will make the user aware of the available options and axes in which they can dig deeper into the available subset.\n",
    "    \n",
    "# Design goals:\n",
    "#     We would like the user to be able to re-run the exploration tool if the bucket they have returned to them ends\n",
    "#     up being too large in size. This of course would mean that the tool would need to somehow store the current \n",
    "#     filters and states. We assume that it would be fastest and easiest to have a tool that can branch from existing \n",
    "#     visualizations, since each of these narrow down and structure the data. However, ideally the long run goal such a \n",
    "#     tool would be to allow the user to begin exploration from scratch with the entire 4 million postings.\n",
    "\n",
    "# User Experience:\n",
    "#     In terms of UX we have developed a command line here for its simplicity and ease of implementation for proof of concept,\n",
    "#     but the end goal would be to not remove the user from their visualization based experience so far. We do not \n",
    "#     envision the command-line style as the end goal of the UX for this tool.    "
   ]
  },
  {
   "cell_type": "code",
   "execution_count": null,
   "metadata": {},
   "outputs": [],
   "source": [
    "for string in main_table.columns:\n",
    "    print(string)"
   ]
  },
  {
   "cell_type": "code",
   "execution_count": null,
   "metadata": {},
   "outputs": [],
   "source": [
    "for string in faculty_table.columns:\n",
    "    print(string)"
   ]
  },
  {
   "cell_type": "code",
   "execution_count": null,
   "metadata": {},
   "outputs": [],
   "source": [
    "for string in skill_table.columns:\n",
    "    print(string)"
   ]
  },
  {
   "cell_type": "code",
   "execution_count": null,
   "metadata": {},
   "outputs": [],
   "source": []
  },
  {
   "cell_type": "code",
   "execution_count": null,
   "metadata": {
    "scrolled": true
   },
   "outputs": [],
   "source": [
    "full_table = main_table[main_table['Year']==2017]\n",
    "other_table = faculty_table[(faculty_table['Faculty']==1)]\n",
    "full_table = full_table[full_table['IPEDS Institution Name'].str.contains('northeastern', case=False, na=False)]\n",
    "full_table = full_table[full_table['Job Title'].str.contains('Professor', case=False, na=False)&\n",
    "                       full_table['Job Title'].str.contains('Director', case=False, na=False)]\n",
    "full_table = full_table.merge(other_table.drop(columns='Year'), how='inner', on='Job ID')\n",
    "print(len(full_table))\n",
    "full_table.sort_values(by='IPEDS Institution Name')['Job Title'].values"
   ]
  }
 ],
 "metadata": {
  "kernelspec": {
   "display_name": "Python 3",
   "language": "python",
   "name": "python3"
  },
  "language_info": {
   "codemirror_mode": {
    "name": "ipython",
    "version": 3
   },
   "file_extension": ".py",
   "mimetype": "text/x-python",
   "name": "python",
   "nbconvert_exporter": "python",
   "pygments_lexer": "ipython3",
   "version": "3.7.3"
  }
 },
 "nbformat": 4,
 "nbformat_minor": 2
}
