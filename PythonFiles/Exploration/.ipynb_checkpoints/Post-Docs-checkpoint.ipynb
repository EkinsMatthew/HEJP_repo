{
 "cells": [
  {
   "cell_type": "code",
   "execution_count": null,
   "metadata": {},
   "outputs": [],
   "source": [
    "import os\n",
    "import pandas as pd\n",
    "pd.set_option('display.max_columns', 500)\n",
    "pd.set_option('display.max_rows', 1000)\n",
    "pd.set_option('display.max_colwidth', -1)\n",
    "import numpy as np\n",
    "import matplotlib.pyplot as plt\n",
    "import probscale\n",
    "import scipy\n",
    "import scipy.stats as stats\n",
    "import math\n",
    "plt.style.use('fivethirtyeight')"
   ]
  },
  {
   "cell_type": "code",
   "execution_count": null,
   "metadata": {},
   "outputs": [],
   "source": [
    "# Import relevant dataframes:\n",
    "\n",
    "main_table = pd.read_csv(r\"C:\\Users\\Public\\_Data\\_Data\\Latest_Version\\Main_Data\\Main_Table_10182019.csv\")\n",
    "print(len(main_table))\n",
    "faculty_table = pd.read_csv(r\"C:\\Users\\Public\\_Data\\_Data\\Latest_Version\\Faculty_Data\\Faculty_Table_11222019.csv\")\n",
    "print(len(faculty_table))\n",
    "skill_table = pd.read_csv(r\"C:\\Users\\Public\\_Data\\_Data\\Latest_Version\\Skills_Data\\Skill_Table_06072019.csv\")\n",
    "print(len(skill_table))"
   ]
  },
  {
   "cell_type": "code",
   "execution_count": null,
   "metadata": {},
   "outputs": [],
   "source": [
    "# postdoc mask useful for isolating all ['Post-Doctoral' = 1] postings by Job ID\n",
    "mask = faculty_table[faculty_table['Post-Doctoral']==1][['Job ID']]"
   ]
  },
  {
   "cell_type": "code",
   "execution_count": null,
   "metadata": {},
   "outputs": [],
   "source": [
    "def title_swap(string):\n",
    "    dictionary = {'Community and Social Services':'Counseling and Religious Life',\n",
    "                  'Customer and Client Support':'Online Support and University Information',\n",
    "                  'Hospitality, Food, and Tourism':'Event Management and Hospitality', \n",
    "                  'Planning and Analysis':'Analysis', \n",
    "                  'Curriculum and Instructional Designer / Developer':'Curriculum and Instructional Designer', \n",
    "                  'Special Education Teacher':'Accessibility and Disability Services', \n",
    "                  'Teaching Assistant':'Faculty Support', \n",
    "                  'Tutor':'Academic Tutor',\n",
    "                  'Clerical and Administrative':'Administrative',\n",
    "                  'na' : 'Uncategorized'}\n",
    "    if(string in dictionary):\n",
    "        return dictionary[string]\n",
    "    else:\n",
    "        return string\n",
    "    \n",
    "def val_year(year1, year2):\n",
    "    if(year1 >= year2):\n",
    "        if(year1>year2):\n",
    "            temp = year1\n",
    "            year1 = year2\n",
    "            year2 = temp\n",
    "        else:\n",
    "            raise ValueError('Years cannot be the same.')\n",
    "            \n",
    "    return (year1, year2)\n",
    "\n",
    "def cat_validate(actual, desired_list):\n",
    "    return actual in desired_list"
   ]
  },
  {
   "cell_type": "code",
   "execution_count": null,
   "metadata": {},
   "outputs": [],
   "source": [
    "post_doc = main_table[main_table['Job Title'].str.contains('postdoc', case=False, na=False) |\n",
    "                      main_table['Job Title'].str.contains('post doc', case=False, na=False)|\n",
    "                      main_table['Job Title'].str.contains('post-doc', case=False, na=False)]\n",
    "print(len(post_doc))"
   ]
  },
  {
   "cell_type": "code",
   "execution_count": null,
   "metadata": {},
   "outputs": [],
   "source": [
    "print(len(mask))"
   ]
  },
  {
   "cell_type": "code",
   "execution_count": null,
   "metadata": {},
   "outputs": [],
   "source": [
    "# boolean_vec = (main_table['Job Title'].str.contains('postdoc', case=False, na=False) |\n",
    "#                       main_table['Job Title'].str.contains('post doc', case=False, na=False)|\n",
    "#                       main_table['Job Title'].str.contains('post-doc', case=False, na=False))\n",
    "\n",
    "# main_table['post_doc'] = boolean_vec + 0\n",
    "\n",
    "# faculty_table = faculty_table.merge(main_table[['Job ID', 'post_doc']], on='Job ID', how='inner')"
   ]
  },
  {
   "cell_type": "code",
   "execution_count": null,
   "metadata": {},
   "outputs": [],
   "source": [
    "# def boolean(x):\n",
    "#     if x > 0:\n",
    "#         return 1\n",
    "#     else:\n",
    "#         return 0\n",
    "\n",
    "# faculty_table['Post-Doctoral'] = faculty_table['post_doc'].apply(boolean)"
   ]
  },
  {
   "cell_type": "code",
   "execution_count": null,
   "metadata": {},
   "outputs": [],
   "source": [
    "# faculty_table['Post-Doctoral'].sum()"
   ]
  },
  {
   "cell_type": "code",
   "execution_count": null,
   "metadata": {},
   "outputs": [],
   "source": [
    "def t_test(mean, null, std, n):\n",
    "    \n",
    "    var = ((arr - mean)**2).sum()/(n-1)\n",
    "    std = math.sqrt(var)\n",
    "    se = std/math.sqrt(n)\n",
    "    t = (mean - 0)/se\n",
    "    \n",
    "    return mean, std, se, t\n",
    "\n",
    "def two_t_test(mean1, mean2, null, var1, var2, n1, n2, sides='two', side='+'):\n",
    "    \n",
    "    comb_er = var1/n1 + var2/n2\n",
    "    comb_t = ((mean1 - mean2) - null)/math.sqrt(comb_er)\n",
    "    df = comb_er**2/(((var1/n1)**2/(n1-1))+((var2/n2)**2/(n2-1)))\n",
    "    \n",
    "    if(sides == 'two'):\n",
    "        return {'val':(mean1-mean2), 'se':math.sqrt(comb_er),'t':comb_t, 'p':2*scipy.stats.t.cdf(-math.fabs(comb_t), df)}\n",
    "        \n",
    "    elif(sides == 'one'):\n",
    "        if(side == '+'):\n",
    "            comb_t = -comb_t\n",
    "        return {'diff':(mean1-mean2), 'se':math.sqrt(comb_er),'t':comb_t, 'p':scipy.stats.t.cdf(comb_t, df)}\n",
    "        \n",
    "    else:\n",
    "        return None\n"
   ]
  },
  {
   "cell_type": "code",
   "execution_count": null,
   "metadata": {
    "scrolled": true
   },
   "outputs": [],
   "source": [
    "def breakout(df, year, category, sig_level=0.01, drop=True):\n",
    "    df = df[df['Year']==year]\n",
    "    num = df['Job ID'].nunique()\n",
    "    arr = np.zeros(num)\n",
    "    p = 1\n",
    "    i = 1\n",
    "    while(i <= num):\n",
    "        arr[:i] = 1\n",
    "        p = stats.ttest_1samp(arr, popmean=0).pvalue\n",
    "        if p/2 <= sig_level:\n",
    "            print(num, '->', i)\n",
    "            break\n",
    "        i+=1\n",
    "    \n",
    "    cat = pd.DataFrame(df[category].value_counts()).reset_index()\n",
    "    cat = cat.rename(columns={category:'count'})\n",
    "    if drop:\n",
    "        cat = cat[cat['count']>=i]\n",
    "    cat['inc'] = np.true_divide(cat['count'], num)\n",
    "    cat['var'] = cat['inc'] * (1 - cat['inc'])\n",
    "    \n",
    "    return cat, num\n",
    "\n",
    "def validate(row, n2, n1):\n",
    "    return two_t_test(row['inc_x'], row['inc_y'], 0, row['var_x'], row['var_y'], n1, n2)['p']\n",
    "\n",
    "def growth(df1, df2, n1, n2):\n",
    "    df = df1.merge(df2, on='index', how='outer', indicator=True)\n",
    "    df = df[df['_merge']=='both']\n",
    "    df['p_change'] = df.apply(validate, axis=1, args=(n1, n2,))\n",
    "#     df = df[df['p_change']<=0.01]\n",
    "    df['growth'] = np.true_divide(df['inc_y'] - df['inc_x'], df['inc_x'])\n",
    "    return df.sort_values('growth', ascending=False).reset_index(drop=True)\n",
    "    \n",
    "mask = faculty_table[faculty_table['Post-Doctoral'] == 1][['Job ID']]\n",
    "post = main_table.merge(mask, on='Job ID', how='inner')\n",
    "\n",
    "year1 = 2007\n",
    "year2 = 2017\n",
    "\n",
    "inst1, num1 = breakout(post, year1, 'IPEDS Institution Name', drop=False)\n",
    "inst2, num2 = breakout(post, year2, 'IPEDS Institution Name')\n",
    "\n",
    "inst_g = growth(inst1, inst2, num1, num2)\n",
    "\n",
    "main_inst1, num1 = breakout(main_table, year1, 'IPEDS Institution Name')\n",
    "main_inst2, num2 = breakout(main_table, year2, 'IPEDS Institution Name')\n",
    "\n",
    "main_inst_g = growth(main_inst1, main_inst2, num1, num2)\n",
    "\n",
    "main_zone1, num1 = breakout(main_table, year1, 'BEA_Zone')\n",
    "main_zone2, num2 = breakout(main_table, year2, 'BEA_Zone')\n",
    "\n",
    "main_zone_g = growth(main_zone1, main_zone2, num1, num2)\n",
    "\n",
    "zone1, num1 = breakout(post, year1, 'BEA_Zone')\n",
    "zone2, num2 = breakout(post, year2, 'BEA_Zone')\n",
    "\n",
    "zone_g = growth(zone1, zone2, num1, num2)"
   ]
  },
  {
   "cell_type": "code",
   "execution_count": null,
   "metadata": {
    "scrolled": true
   },
   "outputs": [],
   "source": [
    "inst_g"
   ]
  },
  {
   "cell_type": "code",
   "execution_count": null,
   "metadata": {},
   "outputs": [],
   "source": [
    "main_inst_g"
   ]
  },
  {
   "cell_type": "code",
   "execution_count": null,
   "metadata": {},
   "outputs": [],
   "source": [
    "zone_g"
   ]
  },
  {
   "cell_type": "code",
   "execution_count": null,
   "metadata": {
    "scrolled": true
   },
   "outputs": [],
   "source": [
    "main_zone_g"
   ]
  },
  {
   "cell_type": "code",
   "execution_count": null,
   "metadata": {},
   "outputs": [],
   "source": [
    "index = pd.DataFrame(main_table['IPEDS Institution Name'].value_counts()[:10]).reset_index()['index'].values"
   ]
  },
  {
   "cell_type": "code",
   "execution_count": null,
   "metadata": {},
   "outputs": [],
   "source": [
    "years = [2007, 2010, 2011, 2012, 2013, 2014, 2015, 2016, 2017]\n",
    "index = inst_g[:25]['index'].values\n",
    "main = main_table.merge(mask, on='Job ID', how='inner')\n",
    "w_df = main[main['IPEDS Institution Name'].apply(cat_validate, args=(index,))]\n",
    "\n",
    "breakdown = pd.DataFrame(w_df[['IPEDS Institution Name', 'Year', 'Job ID']].groupby(['IPEDS Institution Name', 'Year']).count()).reset_index()\n",
    "\n",
    "total = np.zeros((0,9))\n",
    "for name in index:\n",
    "    temp = breakdown[breakdown['IPEDS Institution Name']==name]\n",
    "#     counts = temp['Job ID'].values\n",
    "    counts = np.zeros(9,)\n",
    "    i = 0\n",
    "    for year in years:\n",
    "        docs = temp[temp['Year']==year]['Job ID'].values\n",
    "        if len(docs) == 1:\n",
    "            counts[i] = docs[0]\n",
    "        i+=1\n",
    "    total = np.vstack((total, counts))\n",
    "    \n",
    "ind = np.arange(total.shape[1])\n",
    "\n",
    "fix, ax = plt.subplots(figsize=(20,10))\n",
    "\n",
    "i=0\n",
    "for series in total:\n",
    "    ax.plot(ind, series, label=index[i])\n",
    "    i+=1\n",
    "\n",
    "plt.xticks(ind, years)\n",
    "plt.legend(loc='best')\n",
    "plt.show()"
   ]
  },
  {
   "cell_type": "code",
   "execution_count": null,
   "metadata": {
    "scrolled": true
   },
   "outputs": [],
   "source": [
    "penn = main_table[main_table['IPEDS Institution Name']=='Pennsylvania State University-Main Campus']\n",
    "penn = penn.merge(mask, on='Job ID', how='inner')\n",
    "\n",
    "penn[penn['Year']==2017]"
   ]
  },
  {
   "cell_type": "code",
   "execution_count": null,
   "metadata": {},
   "outputs": [],
   "source": [
    "main"
   ]
  },
  {
   "cell_type": "code",
   "execution_count": null,
   "metadata": {
    "scrolled": false
   },
   "outputs": [],
   "source": [
    "def graph_growth(df, category, title, top=10, color1='royalblue', color2='gold'):\n",
    "    \n",
    "    df= df[:10]\n",
    "    \n",
    "    labels = df['index'].values\n",
    "    N = df['index'].nunique()\n",
    "    \n",
    "    first = df['inc_x'].values\n",
    "    second = df['inc_y'].values\n",
    "    growth = df['growth'].values\n",
    "    \n",
    "    ind = np.arange(N)\n",
    "    width = 0.2\n",
    "    \n",
    "    fig, ax = plt.subplots(figsize=(12,6))\n",
    "    \n",
    "    ax.bar(ind-width/2, first, width, color=color1, label='2007')\n",
    "    ax.bar(ind+width/2, second, width, color=color2, label='2017')\n",
    "    \n",
    "    o_max = max(np.max(first), np.max(second))\n",
    "    \n",
    "    for i in range(len(ind)):\n",
    "        i_max = 0\n",
    "        if i_max < first[i]:\n",
    "            i_max = first[i]\n",
    "        if i_max < second[i]:\n",
    "            i_max = second[i]\n",
    "        plt.text(ind[i]-1.5*width, i_max+o_max/100, str(round(growth[i]*100, 2)) + '% Growth')\n",
    "    \n",
    "    plt.xticks(ind, labels, rotation=45, ha='right')\n",
    "    plt.xlabel(category)\n",
    "    plt.ylabel('Incidence of ' + category)\n",
    "    plt.legend(loc='upper right')\n",
    "    plt.title(title)\n",
    "    \n",
    "    plt.show()\n",
    "    \n",
    "graph_growth(main_zone_g, 'BEA Zone', 'Change in Total Data BEA Zone sizes from 2007 to 2017')\n",
    "graph_growth(zone_g, 'BEA Zone', 'Change in Post-Doc BEA Zone sizes from 2007 to 2017')\n",
    "\n",
    "graph_growth(main_inst_g, 'IPEDS Institution', 'Change in Relative Institution sizes from\\n2007 to 2017 in all Postings',\n",
    "             color1='maroon', color2='seagreen')\n",
    "graph_growth(inst_g, 'IPEDS Institution', 'Change in Relative Institution sizes from\\n2007 to 2017 in Post-Doc Postings',\n",
    "             color1='maroon', color2='seagreen')"
   ]
  },
  {
   "cell_type": "code",
   "execution_count": null,
   "metadata": {},
   "outputs": [],
   "source": [
    "zone_g"
   ]
  },
  {
   "cell_type": "code",
   "execution_count": null,
   "metadata": {},
   "outputs": [],
   "source": [
    "two_t_test(0.155761, 0.234685, 0, 0.131500, 0.234685, 2812, 5697, sides='two', side='+')"
   ]
  },
  {
   "cell_type": "code",
   "execution_count": null,
   "metadata": {},
   "outputs": [],
   "source": [
    "stats.t.cdf(-1.96, 25)"
   ]
  },
  {
   "cell_type": "code",
   "execution_count": null,
   "metadata": {},
   "outputs": [],
   "source": [
    "NSF = ['Agricultural sciences and natural resources', 'Biological and biomedical sciences', 'Health sciences', 'Chemistry', 'Geosciences, atmospheric, and ocean sciences', 'Physics and astronomy', 'Computer and information sciences', 'Mathematics and statistics', 'Psychology', 'Anthropology', 'Economics', 'Political science and government', 'Sociology', 'Other social sciences',   'Foreign languages and literature', 'History', 'Letters', 'Other humanities and arts', 'Business management and administration', 'Communication', 'FS_Life_sciences', 'FS_Physical_sciences_and_earth_sciences', 'FS_Mathematics_and_computer_sciences', 'FS_Psychology_and_social_sciences', 'FS_Engineering', 'FS_Education', 'FS_Humanities_and_arts', 'FS_Others']\n",
    "fac = faculty_table[faculty_table['Post-Doctoral']==1]\n",
    "\n",
    "def fac_cat(df, year, min):\n",
    "    df = df[df['Year']==year]\n",
    "    num = df['Job ID'].nunique()\n",
    "    \n",
    "    df = pd.DataFrame(df[NSF].sum()).reset_index().rename(columns={0:'count'})\n",
    "    df['inc'] = np.true_divide(df['count'], num)\n",
    "    \n",
    "    df = df[df['count']>min]\n",
    "    df['var'] = df['inc'] * (1 - df['inc'])\n",
    "    \n",
    "    return df, num\n",
    "    \n",
    "main_fac07, num07 = fac_cat(faculty_table, 2007, 6)\n",
    "main_fac17, num17 = fac_cat(faculty_table, 2017, 6)\n",
    "\n",
    "main_grow = growth(main_fac07, main_fac17, num07, num17)\n",
    "\n",
    "fac07, num07 = fac_cat(fac, 2007, 6)\n",
    "fac17, num17 = fac_cat(fac, 2017, 6)\n",
    "\n",
    "grow = growth(fac07, fac17, num07, num17)\n",
    "\n",
    "graph_growth(main_grow, 'NSF Field', 'Change in Relative NSF Field sizes from 2007 to 2017')\n",
    "graph_growth(grow, 'NSF Field', 'Change in Post-Doc Relative NSF Representation from 2007 to 2017')"
   ]
  },
  {
   "cell_type": "code",
   "execution_count": null,
   "metadata": {},
   "outputs": [],
   "source": [
    "skill_p = skill_table.drop(columns=['Unnamed: 0', 'Unnamed: 0.1']).merge(mask, on='Job ID', how='inner')\n",
    "skill_f = skill_table.drop(columns=['Unnamed: 0', 'Unnamed: 0.1']).merge(faculty_table[faculty_table['Faculty']==1][['Job ID']], on='Job ID', how='inner')\n",
    "\n",
    "def skill_break(df, year, NSF=None):\n",
    "    df = df[df['Year']==year]\n",
    "    \n",
    "    if NSF is not None:\n",
    "        mask = faculty_table[faculty_table[NSF]==1][['Job ID']]\n",
    "        df = df.merge(mask, on='Job ID', how='inner')\n",
    "    \n",
    "    skills = pd.DataFrame(df['Skill Name'].value_counts()).reset_index()\n",
    "    s_skills = pd.DataFrame(df[df['Is Specialized Skill?']==1]['Skill Name'].value_counts()).reset_index()\n",
    "    \n",
    "    return skills, s_skills\n",
    "\n",
    "NSF = 'Economics'\n",
    "year1 = 2010\n",
    "year2 = 2017\n",
    "\n",
    "skills1, s_skills1 = skill_break(skill_p, year1, NSF=NSF)\n",
    "main_skills1, main_s_skills1 = skill_break(skill_f, year1, NSF=NSF)\n",
    "\n",
    "skills2, s_skills2 = skill_break(skill_p, year2, NSF=NSF)\n",
    "main_skills2, main_s_skills2 = skill_break(skill_f, year2, NSF=NSF)\n",
    "\n",
    "def graph(df, title, top=10):\n",
    "    \n",
    "    df = df[:top]\n",
    "    \n",
    "    fig, ax = plt.subplots(figsize=(12,6))\n",
    "    \n",
    "    labels = df['index'].values\n",
    "    counts = df['Skill Name'].values\n",
    "    \n",
    "    ind = np.arange(len(labels))\n",
    "    \n",
    "    ax.bar(ind, counts)\n",
    "    \n",
    "    plt.xticks(ind, labels, rotation=45, ha='right')\n",
    "    plt.xlabel('Skill Name')\n",
    "    plt.ylabel('Incidence of Skill')\n",
    "#     plt.legend(loc='upper right')\n",
    "    plt.title(title)\n",
    "    \n",
    "    plt.show()\n"
   ]
  },
  {
   "cell_type": "code",
   "execution_count": null,
   "metadata": {},
   "outputs": [],
   "source": [
    "graph(main_s_skills1, 'Top 10 Requested Specialized Skills in ' + NSF + '\\nfor All Postings')"
   ]
  },
  {
   "cell_type": "code",
   "execution_count": null,
   "metadata": {},
   "outputs": [],
   "source": [
    "graph(s_skills1, 'Top 10 Requested Specialized Skills in ' + NSF + '\\nfor Post-Doc Postings')"
   ]
  },
  {
   "cell_type": "code",
   "execution_count": null,
   "metadata": {},
   "outputs": [],
   "source": [
    "skills1"
   ]
  },
  {
   "cell_type": "code",
   "execution_count": null,
   "metadata": {},
   "outputs": [],
   "source": [
    "skills1"
   ]
  },
  {
   "cell_type": "code",
   "execution_count": null,
   "metadata": {},
   "outputs": [],
   "source": [
    "main = main_table.merge(mask, on='Job ID', how='inner')\n",
    "\n",
    "wSal = main_table[main_table['Annual Salary']>0]\n",
    "\n",
    "print(wSal['Job ID'].nunique()/main['Job ID'].nunique())\n",
    "\n",
    "desc = wSal['Annual Salary'].describe()\n",
    "\n",
    "display(desc)\n",
    "print(\"IQR:\", desc['75%']-desc['50%'] )"
   ]
  },
  {
   "cell_type": "code",
   "execution_count": null,
   "metadata": {},
   "outputs": [],
   "source": [
    "main = main_table.merge(mask, on='Job ID', how='inner')\n",
    "\n",
    "wSal = main[main['Annual Salary']>0]\n",
    "\n",
    "print(wSal['Job ID'].nunique()/main['Job ID'].nunique())\n",
    "\n",
    "desc = wSal['Annual Salary'].describe()\n",
    "\n",
    "display(desc)\n",
    "print(\"IQR:\", desc['75%']-desc['50%'] )"
   ]
  },
  {
   "cell_type": "code",
   "execution_count": null,
   "metadata": {},
   "outputs": [],
   "source": []
  },
  {
   "cell_type": "code",
   "execution_count": null,
   "metadata": {},
   "outputs": [],
   "source": [
    "wSal['Annual Salary'].median()"
   ]
  },
  {
   "cell_type": "code",
   "execution_count": null,
   "metadata": {},
   "outputs": [],
   "source": [
    "fig, ax = plt.subplots(figsize=(3,10))\n",
    "result = ax.boxplot(wSal['Annual Salary'].values, whis='range')\n",
    "plt.show()"
   ]
  },
  {
   "cell_type": "code",
   "execution_count": null,
   "metadata": {},
   "outputs": [],
   "source": [
    "plt.hist(wSal['Annual Salary'], bins=75)\n",
    "plt.show()"
   ]
  },
  {
   "cell_type": "code",
   "execution_count": null,
   "metadata": {},
   "outputs": [],
   "source": [
    "position, sal = probscale.plot_pos(wSal['Annual Salary'].values)\n",
    "position *= 100\n",
    "fig, ax = plt.subplots(figsize=(12,6))\n",
    "ax.plot(position, sal, marker='.', linestyle='none', label='Salary')\n",
    "ax.set_xlabel('Percentile')\n",
    "ax.set_ylabel('Annual Salary')\n",
    "plt.show()"
   ]
  },
  {
   "cell_type": "code",
   "execution_count": null,
   "metadata": {},
   "outputs": [],
   "source": [
    "main = main_table.merge(mask, on='Job ID', how='inner')\n",
    "total = mask['Job ID'].nunique()\n",
    "null = main['Occupation'].value_counts()[:1].values[0]\n",
    "\n",
    "print('There are', total, 'number of observations, of which', null, 'have no recorded occupation.\\nThis represents', str(round(null/total * 100, 2)) + '%', 'of the Post-Doc postings.')"
   ]
  },
  {
   "cell_type": "code",
   "execution_count": null,
   "metadata": {},
   "outputs": [],
   "source": [
    "category = \"Career Area\"\n",
    "\n",
    "w_occ = main_table[main_table[category]!='na']\n",
    "post_w = w_occ.merge(mask, on='Job ID', how='inner')\n",
    "occ = pd.DataFrame(post_w[category].value_counts()).reset_index()\n",
    "\n",
    "df = occ[:10]\n",
    "\n",
    "fig, ax = plt.subplots(figsize=(12,6))\n",
    "\n",
    "labels = df['index']\n",
    "values = df[category]\n",
    "\n",
    "ind = np.array([x for x, _ in enumerate(labels)])\n",
    "\n",
    "ax.bar(x = ind, height = values)\n",
    "\n",
    "plt.xticks(ind, labels, rotation = 'vertical')\n",
    "plt.xlabel(category + 's')\n",
    "plt.ylabel('Number of Jobs in\\n' + category)\n",
    "\n",
    "plt.show()"
   ]
  },
  {
   "cell_type": "code",
   "execution_count": null,
   "metadata": {},
   "outputs": [],
   "source": [
    "post_desc = wSal['Annual Salary'].describe()\n",
    "post_w = post_w[post_w['Annual Salary']>0]\n",
    "post_occ_desc = post_w['Annual Salary'].describe()\n",
    "\n",
    "one = post_desc\n",
    "two = post_occ_desc\n",
    "\n",
    "two_t_test(one['mean'], two['mean'], 0, np.var(wSal['Annual Salary']), np.var(post_w['Annual Salary']), one['count'], two['count'], sides='two')"
   ]
  },
  {
   "cell_type": "code",
   "execution_count": null,
   "metadata": {},
   "outputs": [],
   "source": [
    "main_table[main_table['Career Area']=='Planning and Analysis']['Occupation'].value_counts()[:25]"
   ]
  },
  {
   "cell_type": "code",
   "execution_count": null,
   "metadata": {},
   "outputs": [],
   "source": [
    "# Benchmarks"
   ]
  },
  {
   "cell_type": "code",
   "execution_count": null,
   "metadata": {},
   "outputs": [],
   "source": []
  },
  {
   "cell_type": "code",
   "execution_count": null,
   "metadata": {},
   "outputs": [],
   "source": []
  }
 ],
 "metadata": {
  "kernelspec": {
   "display_name": "Python 3",
   "language": "python",
   "name": "python3"
  },
  "language_info": {
   "codemirror_mode": {
    "name": "ipython",
    "version": 3
   },
   "file_extension": ".py",
   "mimetype": "text/x-python",
   "name": "python",
   "nbconvert_exporter": "python",
   "pygments_lexer": "ipython3",
   "version": "3.7.2"
  }
 },
 "nbformat": 4,
 "nbformat_minor": 2
}
