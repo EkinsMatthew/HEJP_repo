{
 "cells": [
  {
   "cell_type": "code",
   "execution_count": null,
   "metadata": {},
   "outputs": [],
   "source": [
    "import os\n",
    "import pandas as pd\n",
    "pd.set_option('display.max_columns', 500)\n",
    "pd.set_option('display.max_rows', 1000)\n",
    "pd.set_option('display.max_colwidth', -1)\n",
    "import numpy as np\n",
    "import matplotlib.pyplot as plt\n",
    "import scipy\n",
    "import math\n",
    "plt.style.use('default')"
   ]
  },
  {
   "cell_type": "code",
   "execution_count": null,
   "metadata": {},
   "outputs": [],
   "source": [
    "# Import relevant dataframes:\n",
    "\n",
    "main_table = pd.read_csv(r\"C:\\Users\\Public\\_Data\\_Data\\Latest_Version\\Main_Data\\Main_Table_10182019.csv\")\n",
    "print(len(main_table))\n",
    "faculty_table = pd.read_csv(r\"C:\\Users\\Public\\_Data\\_Data\\Latest_Version\\Faculty_Data\\Faculty_Table_11222019.csv\")\n",
    "print(len(faculty_table))\n",
    "skill_table = pd.read_csv(r\"C:\\Users\\Public\\_Data\\_Data\\Latest_Version\\Skills_Data\\Skill_Table_06072019.csv\")\n",
    "print(len(skill_table))"
   ]
  },
  {
   "cell_type": "code",
   "execution_count": null,
   "metadata": {},
   "outputs": [],
   "source": [
    "# postdoc mask useful for isolating all ['Post-Doctoral' = 1] postings by Job ID\n",
    "mask = faculty_table[faculty_table['Post-Doctoral']==1][['Job ID']]"
   ]
  },
  {
   "cell_type": "code",
   "execution_count": null,
   "metadata": {},
   "outputs": [],
   "source": [
    "def title_swap(string):\n",
    "    dictionary = {'Community and Social Services':'Counseling and Religious Life',\n",
    "                  'Customer and Client Support':'Online Support and University Information',\n",
    "                  'Hospitality, Food, and Tourism':'Event Management and Hospitality', \n",
    "                  'Planning and Analysis':'Analysis', \n",
    "                  'Curriculum and Instructional Designer / Developer':'Curriculum and Instructional Designer', \n",
    "                  'Special Education Teacher':'Accessibility and Disability Services', \n",
    "                  'Teaching Assistant':'Faculty Support', \n",
    "                  'Tutor':'Academic Tutor',\n",
    "                  'Clerical and Administrative':'Administrative',\n",
    "                  'na' : 'Uncategorized'}\n",
    "    if(string in dictionary):\n",
    "        return dictionary[string]\n",
    "    else:\n",
    "        return string\n",
    "    \n",
    "def val_year(year1, year2):\n",
    "    if(year1 >= year2):\n",
    "        if(year1>year2):\n",
    "            temp = year1\n",
    "            year1 = year2\n",
    "            year2 = temp\n",
    "        else:\n",
    "            raise ValueError('Years cannot be the same.')\n",
    "            \n",
    "    return (year1, year2)\n",
    "\n",
    "def cat_validate(actual, desired_list):\n",
    "    return actual in desired_list"
   ]
  },
  {
   "cell_type": "code",
   "execution_count": null,
   "metadata": {},
   "outputs": [],
   "source": [
    "post_doc = main_table[main_table['Job Title'].str.contains('postdoc', case=False, na=False) |\n",
    "                      main_table['Job Title'].str.contains('post doc', case=False, na=False)|\n",
    "                      main_table['Job Title'].str.contains('post-doc', case=False, na=False)]\n",
    "print(len(post_doc))"
   ]
  },
  {
   "cell_type": "code",
   "execution_count": null,
   "metadata": {},
   "outputs": [],
   "source": [
    "mask = faculty_table[faculty_table['Post-Doctoral'] == 1][['Job ID']]\n",
    "print(len(mask))"
   ]
  },
  {
   "cell_type": "code",
   "execution_count": null,
   "metadata": {},
   "outputs": [],
   "source": [
    "boolean_vec = (main_table['Job Title'].str.contains('postdoc', case=False, na=False) |\n",
    "                      main_table['Job Title'].str.contains('post doc', case=False, na=False)|\n",
    "                      main_table['Job Title'].str.contains('post-doc', case=False, na=False))\n",
    "\n",
    "main_table['post_doc'] = boolean_vec + 0\n",
    "\n",
    "faculty_table = faculty_table.merge(main_table[['Job ID', 'post_doc']], on='Job ID', how='inner')"
   ]
  },
  {
   "cell_type": "code",
   "execution_count": null,
   "metadata": {},
   "outputs": [],
   "source": [
    "def boolean(x):\n",
    "    if x > 0:\n",
    "        return 1\n",
    "    else:\n",
    "        return 0\n",
    "\n",
    "faculty_table['Post-Doctoral'] = faculty_table['post_doc'].apply(boolean)"
   ]
  },
  {
   "cell_type": "code",
   "execution_count": null,
   "metadata": {},
   "outputs": [],
   "source": [
    "faculty_table['Post-Doctoral'].sum()"
   ]
  },
  {
   "cell_type": "code",
   "execution_count": null,
   "metadata": {},
   "outputs": [],
   "source": [
    "def t_test(mean, null, std, n):\n",
    "    \n",
    "    var = ((arr - mean)**2).sum()/(n-1)\n",
    "    std = math.sqrt(var)\n",
    "    se = std/math.sqrt(n)\n",
    "    t = (mean - 0)/se\n",
    "    \n",
    "    return mean, std, se, t\n",
    "\n",
    "def two_t_test(mean1, mean2, null, var1, var2, n1, n2, sides='two', side='+'):\n",
    "    \n",
    "    comb_er = var1/n1 + var2/n2\n",
    "    comb_t = ((mean1 - mean2) - null)/math.sqrt(comb_er)\n",
    "    df = comb_er**2/(((var1/n1)**2/(n1-1))+((var2/n2)**2/(n2-1)))\n",
    "    \n",
    "    if(sides == 'two'):\n",
    "        return {'val':(mean1-mean2), 'se':math.sqrt(comb_er),'t':comb_t, 'p':2*scipy.stats.t.cdf(-math.fabs(comb_t), df)}\n",
    "        \n",
    "    elif(sides == 'one'):\n",
    "        if(side == '+'):\n",
    "            comb_t = -comb_t\n",
    "        return {'val':(mean1-mean2), 'se':math.sqrt(comb_er),'t':comb_t, 'p':scipy.stats.t.cdf(comb_t, df)}\n",
    "        \n",
    "    else:\n",
    "        return None\n"
   ]
  },
  {
   "cell_type": "code",
   "execution_count": null,
   "metadata": {
    "scrolled": true
   },
   "outputs": [],
   "source": [
    "def breakout(df, year, category, sig_level=0.01):\n",
    "    df = df[df['Year']==year]\n",
    "    num = df['Job ID'].nunique()\n",
    "    arr = np.zeros(num)\n",
    "    p = 1\n",
    "    i = 1\n",
    "    while(i <= num):\n",
    "        arr[:i] = 1\n",
    "        p = stats.ttest_1samp(arr, popmean=0).pvalue\n",
    "        if p/2 <= sig_level:\n",
    "            print(num, '->', i)\n",
    "            break\n",
    "        i+=1\n",
    "    \n",
    "    cat = pd.DataFrame(df[category].value_counts()).reset_index()\n",
    "    cat = cat.rename(columns={category:'count'})\n",
    "    cat = cat[cat['count']>=i]\n",
    "    cat['inc'] = np.true_divide(cat['count'], num)\n",
    "    cat['var'] = cat['inc'] * (1 - cat['inc'])\n",
    "    \n",
    "    return cat, num\n",
    "\n",
    "def validate(row, n2, n1):\n",
    "    return two_t_test(row['inc_x'], row['inc_y'], 0, row['var_x'], row['var_y'], n1, n2)['p']\n",
    "\n",
    "def growth(df1, df2, n1, n2):\n",
    "    df = df1.merge(df2, on='index', how='outer', indicator=True)\n",
    "    df = df[df['_merge']=='both']\n",
    "    df['p_change'] = df.apply(validate, axis=1, args=(n1, n2,))\n",
    "    df = df[df['p_change']<=0.01]\n",
    "    df['growth'] = np.true_divide(df['inc_y'] - df['inc_x'], df['inc_x'])\n",
    "    return df.sort_values('growth', ascending=False).reset_index(drop=True)\n",
    "    \n",
    "mask = faculty_table[faculty_table['Post-Doctoral'] == 1][['Job ID']]\n",
    "post = main_table.merge(mask, on='Job ID', how='inner')\n",
    "\n",
    "inst07, num07 = breakout(post, 2007, 'IPEDS Institution Name')\n",
    "inst17, num17 = breakout(post, 2017, 'IPEDS Institution Name')\n",
    "\n",
    "inst_g = growth(inst07, inst17, num07, num17)\n",
    "\n",
    "zone07, num07 = breakout(post, 2007, 'BEA_Zone')\n",
    "zone17, num17 = breakout(post, 2017, 'BEA_Zone')\n",
    "\n",
    "zone_g = growth(zone07, zone17, num07, num17)"
   ]
  },
  {
   "cell_type": "code",
   "execution_count": null,
   "metadata": {
    "scrolled": true
   },
   "outputs": [],
   "source": [
    "inst_g"
   ]
  },
  {
   "cell_type": "code",
   "execution_count": null,
   "metadata": {},
   "outputs": [],
   "source": [
    "zone_g"
   ]
  },
  {
   "cell_type": "code",
   "execution_count": null,
   "metadata": {},
   "outputs": [],
   "source": [
    "two_t_test(0.155761, 0.234685, 0, 0.131500, 0.234685, 2812, 5697, sides='two', side='+')"
   ]
  },
  {
   "cell_type": "code",
   "execution_count": null,
   "metadata": {},
   "outputs": [],
   "source": [
    "stats.t.cdf(-1.96, 25)"
   ]
  },
  {
   "cell_type": "code",
   "execution_count": null,
   "metadata": {},
   "outputs": [],
   "source": [
    "NSF = ['Agricultural sciences and natural resources', 'Biological and biomedical sciences', 'Health sciences', 'Chemistry', 'Geosciences, atmospheric, and ocean sciences', 'Physics and astronomy', 'Computer and information sciences', 'Mathematics and statistics', 'Psychology', 'Anthropology', 'Economics', 'Political science and government', 'Sociology', 'Other social sciences', 'Aerospace, aeronautical, and astronautical engineering', 'Bioengineering and biomedical engineering', 'Chemical engineering', 'Civil engineering', 'Electrical, electronics, and communications engineering', 'Industrial and manufacturing engineering', 'Materials science engineering', 'Mechanical engineering', 'Other engineering', 'Education administration', 'Education research', 'Teacher education', 'Other education', 'Foreign languages and literature', 'History', 'Letters', 'Other humanities and arts', 'Business management and administration', 'Communication', 'FS_Life_sciences', 'FS_Physical_sciences_and_earth_sciences', 'FS_Mathematics_and_computer_sciences', 'FS_Psychology_and_social_sciences', 'FS_Engineering', 'FS_Education', 'FS_Humanities_and_arts', 'FS_Others']\n",
    "fac = faculty_table[faculty_table['Post-Doctoral']==1]\n",
    "\n",
    "def fac_cat(df, year, min):\n",
    "    df = df[df['Year']==year]\n",
    "    num = df['Job ID'].nunique()\n",
    "    \n",
    "    df = pd.DataFrame(df[NSF].sum()).reset_index().rename(columns={0:'count'})\n",
    "    df['inc'] = np.true_divide(df['count'], num)\n",
    "    \n",
    "    df = df[df['count']>min]\n",
    "    df['var'] = df['inc'] * (1 - df['inc'])\n",
    "    \n",
    "    return df, num\n",
    "    \n",
    "fac07, num07 = fac_cat(fac, 2007, 6)\n",
    "fac17, num17 = fac_cat(fac, 2017, 6)\n",
    "    \n",
    "fac = fac07.merge(fac17, on='index', how='inner')\n",
    "\n",
    "growth(fac07, fac17, num07, num17)"
   ]
  },
  {
   "cell_type": "code",
   "execution_count": null,
   "metadata": {},
   "outputs": [],
   "source": [
    "skill = skill_table.drop(columns=['Unnamed: 0', 'Unnamed: 0.1']).merge(mask, on='Job ID', how='inner')\n",
    "\n",
    "def skill_break(df, year, NSF=None):\n",
    "    df = df[df['Year']==year]\n",
    "    \n",
    "    if NSF is not None:\n",
    "        mask = faculty_table[faculty_table[NSF]==1][['Job ID']]\n",
    "        df = df.merge(mask, on='Job ID', how='inner')\n",
    "    \n",
    "    skills = pd.DataFrame(df['Skill Name'].value_counts()).reset_index()\n",
    "    s_skills = pd.DataFrame(df[df['Is Specialized Skill?']==1]['Skill Name'].value_counts()).reset_index()\n",
    "    \n",
    "    return skills, s_skills\n",
    "\n",
    "skills17, s_skills17 = skill_break(skill, 2017, NSF='Economics')"
   ]
  },
  {
   "cell_type": "code",
   "execution_count": null,
   "metadata": {},
   "outputs": [],
   "source": [
    "skills07"
   ]
  },
  {
   "cell_type": "code",
   "execution_count": null,
   "metadata": {},
   "outputs": [],
   "source": [
    "s_skills07"
   ]
  },
  {
   "cell_type": "code",
   "execution_count": null,
   "metadata": {},
   "outputs": [],
   "source": [
    "main = main_table.merge(mask, on='Job ID', how='inner')\n",
    "\n",
    "wSal = main[main['Annual Salary']>0]\n",
    "\n",
    "wSal['Job ID'].nunique()/main['Job ID'].nunique()"
   ]
  },
  {
   "cell_type": "code",
   "execution_count": null,
   "metadata": {},
   "outputs": [],
   "source": [
    "wSal['Annual Salary'].describe()"
   ]
  },
  {
   "cell_type": "code",
   "execution_count": null,
   "metadata": {},
   "outputs": [],
   "source": [
    "wSal['Annual Salary'].median()"
   ]
  },
  {
   "cell_type": "code",
   "execution_count": null,
   "metadata": {},
   "outputs": [],
   "source": [
    "plt.hist(wSal['Annual Salary'], bins=75)\n",
    "plt.show()"
   ]
  },
  {
   "cell_type": "code",
   "execution_count": null,
   "metadata": {},
   "outputs": [],
   "source": [
    "from mlxtend.evaluate import permutation_test"
   ]
  },
  {
   "cell_type": "code",
   "execution_count": null,
   "metadata": {},
   "outputs": [],
   "source": [
    "first = np.zeros(2812)\n",
    "first[:438] = 1\n",
    "second = np.zeros(5697)\n",
    "second[:1337] = 1\n",
    "permutation_test(first, second)"
   ]
  },
  {
   "cell_type": "code",
   "execution_count": null,
   "metadata": {},
   "outputs": [],
   "source": []
  }
 ],
 "metadata": {
  "kernelspec": {
   "display_name": "Python 3",
   "language": "python",
   "name": "python3"
  },
  "language_info": {
   "codemirror_mode": {
    "name": "ipython",
    "version": 3
   },
   "file_extension": ".py",
   "mimetype": "text/x-python",
   "name": "python",
   "nbconvert_exporter": "python",
   "pygments_lexer": "ipython3",
   "version": "3.7.3"
  }
 },
 "nbformat": 4,
 "nbformat_minor": 2
}
