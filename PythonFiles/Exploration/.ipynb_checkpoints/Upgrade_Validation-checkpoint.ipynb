{
 "cells": [
  {
   "cell_type": "code",
   "execution_count": null,
   "metadata": {},
   "outputs": [],
   "source": [
    "import pandas as pd\n",
    "pd.set_option('display.max_columns', 50)\n",
    "pd.set_option('display.max_rows', 200)\n",
    "pd.set_option('display.max_colwidth', -1)\n",
    "import numpy as np\n",
    "import matplotlib.pyplot as plt\n",
    "import scipy\n",
    "import scipy.stats as stats\n",
    "import math\n",
    "plt.style.use('fivethirtyeight')"
   ]
  },
  {
   "cell_type": "code",
   "execution_count": null,
   "metadata": {},
   "outputs": [],
   "source": [
    "# Import relevant dataframes:\n",
    "\n",
    "# main_table = pd.read_csv(r\"C:\\Users\\Public\\_Data\\_Data\\Latest_Version\\Main_Data\\Main_Table_01192020.csv\")\n",
    "# print(len(main_table))\n",
    "# faculty_table = pd.read_csv(r\"C:\\Users\\Public\\_Data\\_Data\\Latest_Version\\Faculty_Data\\Faculty_Table_11222019.csv\")\n",
    "# print(len(faculty_table))\n",
    "# skill_table = pd.read_csv(r\"C:\\Users\\Public\\_Data\\_Data\\Latest_Version\\Skills_Data\\Skill_Table_06072019.csv\")\n",
    "# print(len(skill_table))\n",
    "\n",
    "def format_df(df):\n",
    "    print(len(df))\n",
    "    df = df.rename(columns={'BGTJobId':'Job ID'})\n",
    "    return df\n",
    "\n",
    "# new_main = pd.read_parquet(r\"A:\\All_Higher_Ed_Jobs.parquet\")\n",
    "# new_main = format_df(new_main)\n",
    "\n",
    "# new_cert = pd.read_parquet(r\"A:\\All_Higher_Ed_Certifications.parquet\")\n",
    "# new_cert = format_df(new_cert)\n",
    "\n",
    "# new_fac_det = pd.read_parquet(r\"A:\\Faculty_and_Postdoc_Detailed_Fields.parquet\")\n",
    "# new_fac_det = format_df(new_fac_det)\n",
    "\n",
    "# new_fac_gen = pd.read_parquet(r\"A:\\Faculty_and_Postdoc_General_Fields.parquet\")\n",
    "# new_fac_gen = format_df(new_fac_gen)\n",
    "\n",
    "new_skills = pd.read_parquet(r\"A:\\All_Higher_Ed_Skills.parquet\")\n",
    "new_skills = format_df(new_skills)"
   ]
  },
  {
   "cell_type": "code",
   "execution_count": null,
   "metadata": {},
   "outputs": [],
   "source": [
    "new_skills"
   ]
  },
  {
   "cell_type": "code",
   "execution_count": null,
   "metadata": {},
   "outputs": [],
   "source": [
    "for column in new_fac_det.columns:\n",
    "    print(column)"
   ]
  },
  {
   "cell_type": "code",
   "execution_count": null,
   "metadata": {},
   "outputs": [],
   "source": [
    "new_fac_det[new_fac_det['Other_Humanities_and_Arts']==1]"
   ]
  },
  {
   "cell_type": "code",
   "execution_count": null,
   "metadata": {},
   "outputs": [],
   "source": [
    "new_fac_gen"
   ]
  },
  {
   "cell_type": "code",
   "execution_count": null,
   "metadata": {},
   "outputs": [],
   "source": [
    "def validate_nas(df):\n",
    "    \n",
    "    if 'Faculty' not in df.columns:\n",
    "        df = df.merge(faculty_table[['Job ID', 'Faculty']], on='Job ID', how='inner')\n",
    "    \n",
    "    nas = df[df['Occupation']=='na']\n",
    "    no_nas = df.drop(nas.index)\n",
    "    \n",
    "    n_w = nas.iloc[:,0].nunique()\n",
    "    n_wo = no_nas.iloc[:,0].nunique()\n",
    "    \n",
    "    def percent(s_df):\n",
    "        s_df['%nas'] = s_df['nas'] / (s_df['nas'] + s_df['no_nas'])\n",
    "        return s_df\n",
    "    \n",
    "    total = pd.DataFrame([[n_w, n_wo]], columns=['nas', 'no_nas'])\n",
    "    total = percent(total)\n",
    "    \n",
    "    display(total)\n",
    "    \n",
    "    years_w = pd.DataFrame(nas['Year'].value_counts()).reset_index().rename(columns={'Year':'nas'})\n",
    "    years_wo = pd.DataFrame(no_nas['Year'].value_counts()).reset_index().rename(columns={'Year':'no_nas'})\n",
    "    \n",
    "    years = years_w.merge(years_wo, on='index', how='inner').rename(columns={'index':'Year'})\n",
    "    years = years.sort_values(by='Year').reset_index(drop=True)\n",
    "    years = percent(years)\n",
    "    \n",
    "    display(years)\n",
    "        \n",
    "    fac_w = pd.DataFrame(nas['Faculty'].value_counts()).reset_index().rename(columns={'Faculty':'nas'})\n",
    "    fac_wo = pd.DataFrame(no_nas['Faculty'].value_counts()).reset_index().rename(columns={'Faculty':'no_nas'})\n",
    "    \n",
    "    fac = fac_w.merge(fac_wo, on='index', how='inner').rename(columns={'index':'Faculty'})\n",
    "    fac = percent(fac)\n",
    "    \n",
    "    display(fac)\n",
    "    \n",
    "validate_nas(main_table)\n",
    "validate_nas(new_main)"
   ]
  },
  {
   "cell_type": "code",
   "execution_count": null,
   "metadata": {},
   "outputs": [],
   "source": [
    "new_main = new_main.sort_values(by='BGTJobId')\n",
    "new_main = new_main.rename(columns={'BGTJobId':'Job ID'})"
   ]
  },
  {
   "cell_type": "code",
   "execution_count": null,
   "metadata": {},
   "outputs": [],
   "source": [
    "together = main_table.merge(new_main[['Job ID']], on='Job ID', how='outer', indicator=True)"
   ]
  },
  {
   "cell_type": "code",
   "execution_count": null,
   "metadata": {},
   "outputs": [],
   "source": [
    "pd.DataFrame(together.groupby('_merge')[['Job ID']].count())"
   ]
  },
  {
   "cell_type": "code",
   "execution_count": null,
   "metadata": {},
   "outputs": [],
   "source": [
    "main_indi = together[~together['Occupation'].isnull()]\n",
    "\n",
    "def in_or_not(string):\n",
    "    if string is 'left_only':\n",
    "        return 0\n",
    "    elif string is 'both':\n",
    "        return 1\n",
    "    else:\n",
    "        return None\n",
    "    \n",
    "main_indi['kept'] = main_indi['_merge'].apply(in_or_not)\n",
    "\n",
    "main_indi = main_indi.merge(faculty_table[['Job ID', 'Faculty', 'Tenure_Line']])\n",
    "\n",
    "both = main_indi[main_indi['kept']==1]\n",
    "left = main_indi[main_indi['kept']==0]\n",
    "\n",
    "right = new_main.merge(together[together['_merge']=='right_only'][['Job ID']], on='Job ID', how='inner')"
   ]
  },
  {
   "cell_type": "code",
   "execution_count": null,
   "metadata": {},
   "outputs": [],
   "source": [
    "display(stats.ttest_ind(both['Faculty'], left['Faculty'], equal_var=True))\n",
    "display(both['Faculty'].describe())\n",
    "display(left['Faculty'].describe())"
   ]
  },
  {
   "cell_type": "code",
   "execution_count": null,
   "metadata": {},
   "outputs": [],
   "source": [
    "left"
   ]
  },
  {
   "cell_type": "code",
   "execution_count": null,
   "metadata": {},
   "outputs": [],
   "source": [
    "len(left[~left['IPEDS Institution Name'].isnull()])"
   ]
  },
  {
   "cell_type": "code",
   "execution_count": null,
   "metadata": {},
   "outputs": [],
   "source": [
    "len(left[left['IPEDS Institution Name'].isnull()])/638330"
   ]
  },
  {
   "cell_type": "code",
   "execution_count": null,
   "metadata": {},
   "outputs": [],
   "source": [
    "0.033280591543558974 * 638330"
   ]
  },
  {
   "cell_type": "code",
   "execution_count": null,
   "metadata": {},
   "outputs": [],
   "source": [
    "len(both[both['IPEDS Institution Name'].isnull()&both['IPEDS Sector Name'].isnull()])"
   ]
  },
  {
   "cell_type": "code",
   "execution_count": null,
   "metadata": {},
   "outputs": [],
   "source": [
    "len(right[right['IPEDS Institution Name'].isnull()&right['IPEDS Sector Name'].isnull()])"
   ]
  },
  {
   "cell_type": "code",
   "execution_count": null,
   "metadata": {},
   "outputs": [],
   "source": [
    "0.10744908532717937 * 3318837 + 0.10199166891498689 * 3306172"
   ]
  },
  {
   "cell_type": "code",
   "execution_count": null,
   "metadata": {},
   "outputs": [],
   "source": [
    "75813 + 303998"
   ]
  },
  {
   "cell_type": "code",
   "execution_count": null,
   "metadata": {},
   "outputs": [],
   "source": [
    "693808 - 379811"
   ]
  },
  {
   "cell_type": "code",
   "execution_count": null,
   "metadata": {},
   "outputs": [],
   "source": [
    "display(stats.ttest_ind(both['Faculty'], right['Faculty'], equal_var=True))\n",
    "display(both['Faculty'].describe())\n",
    "display(right['Faculty'].describe())"
   ]
  },
  {
   "cell_type": "code",
   "execution_count": null,
   "metadata": {},
   "outputs": [],
   "source": []
  },
  {
   "cell_type": "code",
   "execution_count": null,
   "metadata": {},
   "outputs": [],
   "source": [
    "new_main"
   ]
  },
  {
   "cell_type": "code",
   "execution_count": null,
   "metadata": {},
   "outputs": [],
   "source": [
    "new_cert.groupby('Certification Name').count().sort_values('Job ID', ascending=False)"
   ]
  },
  {
   "cell_type": "code",
   "execution_count": null,
   "metadata": {},
   "outputs": [],
   "source": [
    "right"
   ]
  },
  {
   "cell_type": "code",
   "execution_count": null,
   "metadata": {},
   "outputs": [],
   "source": []
  }
 ],
 "metadata": {
  "kernelspec": {
   "display_name": "Python 3",
   "language": "python",
   "name": "python3"
  },
  "language_info": {
   "codemirror_mode": {
    "name": "ipython",
    "version": 3
   },
   "file_extension": ".py",
   "mimetype": "text/x-python",
   "name": "python",
   "nbconvert_exporter": "python",
   "pygments_lexer": "ipython3",
   "version": "3.7.3"
  }
 },
 "nbformat": 4,
 "nbformat_minor": 2
}
