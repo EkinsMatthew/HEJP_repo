{
 "cells": [
  {
   "cell_type": "code",
   "execution_count": null,
   "metadata": {},
   "outputs": [],
   "source": [
    "import os\n",
    "import pandas as pd\n",
    "pd.set_option('display.max_columns', 500)\n",
    "pd.set_option('display.max_rows', 1000)\n",
    "pd.set_option('display.max_colwidth', -1)\n",
    "import numpy as np\n",
    "# plt.style.use('fivethirtyeight')"
   ]
  },
  {
   "cell_type": "code",
   "execution_count": null,
   "metadata": {},
   "outputs": [],
   "source": [
    "education = pd.read_csv(r'A:\\_DataBGTRes\\Doctoral_Data\\doc_education_info.csv')\n",
    "print(len(education))\n",
    "print(education['BGTResID'].nunique())"
   ]
  },
  {
   "cell_type": "code",
   "execution_count": null,
   "metadata": {
    "scrolled": true
   },
   "outputs": [],
   "source": [
    "education.info()"
   ]
  },
  {
   "cell_type": "code",
   "execution_count": null,
   "metadata": {},
   "outputs": [],
   "source": [
    "# Doctoral indicator dummy generation code\n",
    "\n",
    "def define_doctoral(df):\n",
    "\n",
    "    _21 = df[df['degreeLevel'].str.contains('21', na=False)]\n",
    "    \n",
    "    print('\\tNumber of \\'21\\'s found:', _21['BGTResID'].nunique())\n",
    "        \n",
    "    doc = df.drop(df.index.difference(_21.index))\n",
    "    wo_21 = df.drop(_21.index)\n",
    "\n",
    "    strings = ['Doctor', 'ph\\.', 'm\\.d\\.', 'j\\.d\\.', 'phd', 'dds', 'dml', 'ed\\. D']\n",
    "\n",
    "    for string in strings:\n",
    "        target = wo_21[wo_21['DegreeType'].str.contains(string, case=False, na=False)]\n",
    "\n",
    "        print('\\tContains \\'' + string + '\\':', target['BGTResID'].nunique())\n",
    "\n",
    "        wo_21 = wo_21.drop(target.index)\n",
    "        doc = pd.concat([doc, target])\n",
    "        \n",
    "    \n",
    "    return doc\n",
    "\n",
    "doc = define_doctoral(education)\n",
    "\n",
    "doc['ind_doc'] = 1\n",
    "education['ind_doc'] = 0\n",
    "\n",
    "doc = pd.concat([doc, education.loc[education.index.difference(doc.index)]], sort=False)\n",
    "\n",
    "doc.to_csv(r'A:\\_DataBGTRes\\Doctoral_Data\\doc_education_info_with_indicator.csv', index=False)"
   ]
  },
  {
   "cell_type": "code",
   "execution_count": null,
   "metadata": {},
   "outputs": [],
   "source": [
    "# Benchmarks of CIP data\n",
    "\n",
    "def print_benchmarks(df):\n",
    "    total = df['BGTResID'].nunique()\n",
    "\n",
    "    full_both = df[~df['MajorCipCode'].isnull()&~df['major'].isnull()]['BGTResID'].nunique()\n",
    "\n",
    "    no_CIP = df[df['MajorCipCode'].isnull()&~df['major'].isnull()]['BGTResID'].nunique()\n",
    "\n",
    "    null_both = df[df['MajorCipCode'].isnull()&df['major'].isnull()]['BGTResID'].nunique()\n",
    "\n",
    "    print(total, '\\n\\t' + str(full_both) + ' -> ' + str(round((float(full_both)/float(total)) * 100, 2)) + '%',\n",
    "         '\\n\\t' + str(no_CIP) + ' -> ' + str(round((float(no_CIP)/float(total)) * 100, 2)) + '%',\n",
    "         '\\n\\t' + str(null_both) + ' -> ' + str(round((float(null_both)/float(total)) * 100, 2)) + '%')\n",
    "    \n",
    "print_benchmarks(education[education['ind_doc']==1])\n",
    "print_benchmarks(education[education['ind_doc']==0])"
   ]
  },
  {
   "cell_type": "code",
   "execution_count": null,
   "metadata": {},
   "outputs": [],
   "source": [
    "df = education[education['ind_doc']==1]\n",
    "len(df)/df['BGTResID'].nunique()"
   ]
  },
  {
   "cell_type": "code",
   "execution_count": null,
   "metadata": {},
   "outputs": [],
   "source": [
    "df = education[education['ind_doc']==0]\n",
    "len(df)/df['BGTResID'].nunique()"
   ]
  },
  {
   "cell_type": "code",
   "execution_count": null,
   "metadata": {},
   "outputs": [],
   "source": [
    "len(doc)/doc['BGTResID'].nunique()"
   ]
  },
  {
   "cell_type": "code",
   "execution_count": null,
   "metadata": {},
   "outputs": [],
   "source": [
    "education[~education['MajorCipCode'].isnull()&~education['major'].isnull()]"
   ]
  },
  {
   "cell_type": "code",
   "execution_count": null,
   "metadata": {},
   "outputs": [],
   "source": [
    "no_cip = pd.DataFrame(education[(education['MajorCipCode'].isnull())]['major'].value_counts())\n",
    "\n",
    "print(len(no_cip))\n",
    "display(no_cip)"
   ]
  },
  {
   "cell_type": "code",
   "execution_count": null,
   "metadata": {},
   "outputs": [],
   "source": [
    "len(education[education['major']=='Biology']['DegreeType'].value_counts())"
   ]
  },
  {
   "cell_type": "code",
   "execution_count": null,
   "metadata": {},
   "outputs": [],
   "source": [
    "cips = pd.read_csv(r'https://nces.ed.gov/ipeds/cipcode/Files/CIPCode2010.csv')"
   ]
  },
  {
   "cell_type": "code",
   "execution_count": null,
   "metadata": {
    "scrolled": false
   },
   "outputs": [],
   "source": [
    "cips[cips['CIPTitle'].str.contains('Biology', case=False)]"
   ]
  },
  {
   "cell_type": "code",
   "execution_count": null,
   "metadata": {},
   "outputs": [],
   "source": []
  }
 ],
 "metadata": {
  "kernelspec": {
   "display_name": "Python 3",
   "language": "python",
   "name": "python3"
  },
  "language_info": {
   "codemirror_mode": {
    "name": "ipython",
    "version": 3
   },
   "file_extension": ".py",
   "mimetype": "text/x-python",
   "name": "python",
   "nbconvert_exporter": "python",
   "pygments_lexer": "ipython3",
   "version": "3.7.3"
  }
 },
 "nbformat": 4,
 "nbformat_minor": 2
}
