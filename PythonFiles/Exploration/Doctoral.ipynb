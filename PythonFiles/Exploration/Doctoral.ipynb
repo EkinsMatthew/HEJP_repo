{
 "cells": [
  {
   "cell_type": "code",
   "execution_count": null,
   "metadata": {},
   "outputs": [],
   "source": [
    "import os\n",
    "import pandas as pd\n",
    "pd.set_option('display.max_columns', 500)\n",
    "pd.set_option('display.max_rows', 1000)\n",
    "pd.set_option('display.max_colwidth', -1)\n",
    "import numpy as np\n",
    "# plt.style.use('fivethirtyeight')"
   ]
  },
  {
   "cell_type": "code",
   "execution_count": null,
   "metadata": {
    "scrolled": true
   },
   "outputs": [],
   "source": [
    "education = pd.read_csv(r'B:\\_DataBGTRes\\Doctoral_Data\\doc_education_info_with_indicator.csv')\n",
    "print(len(education))\n",
    "print(education['BGTResID'].nunique())"
   ]
  },
  {
   "cell_type": "code",
   "execution_count": null,
   "metadata": {
    "scrolled": true
   },
   "outputs": [],
   "source": [
    "education.info()"
   ]
  },
  {
   "cell_type": "code",
   "execution_count": null,
   "metadata": {},
   "outputs": [],
   "source": [
    "education['ind_doc'].sum()"
   ]
  },
  {
   "cell_type": "code",
   "execution_count": null,
   "metadata": {},
   "outputs": [],
   "source": [
    "# Isolate degrees with '#' in any of the fields\n",
    "\n",
    "columns = ['MajorCipCode', 'major', 'degreeLevel', 'CompletionDateRaw']\n",
    "row = 0\n",
    "\n",
    "mask = None\n",
    "\n",
    "for column in columns:\n",
    "    ids = education[education[column].astype(str).str.contains('#', na=False)][['BGTResID']]\n",
    "    if mask is None:\n",
    "        mask = ids\n",
    "    else:\n",
    "        mask = pd.concat([mask, ids])\n",
    "        \n",
    "mask = mask.drop_duplicates()\n",
    "\n",
    "final = education.merge(mask, on='BGTResID', how='inner')\n",
    "\n",
    "final_doc = final[final['ind_doc']==1]"
   ]
  },
  {
   "cell_type": "code",
   "execution_count": null,
   "metadata": {},
   "outputs": [],
   "source": [
    "final_doc['BGTResID'].nunique()"
   ]
  },
  {
   "cell_type": "code",
   "execution_count": null,
   "metadata": {},
   "outputs": [],
   "source": [
    "def pounds(string):\n",
    "    string = str(string)\n",
    "    return len(string.split('#')) - 1\n",
    "        \n",
    "for column in columns:\n",
    "    final_doc[column + '_pound'] = final_doc[column].apply(pounds)\n",
    "        \n",
    "final_doc"
   ]
  },
  {
   "cell_type": "code",
   "execution_count": null,
   "metadata": {},
   "outputs": [],
   "source": [
    "final_doc[final_doc['ind_doc']==1].groupby(['MajorCipCode_pound', 'major_pound', 'degreeLevel_pound', 'CompletionDateRaw_pound']).count().sort_values('BGTResID', ascending=False)"
   ]
  },
  {
   "cell_type": "code",
   "execution_count": null,
   "metadata": {},
   "outputs": [],
   "source": [
    "final_doc[final_doc['CompletionDateRaw_pound']>=30]"
   ]
  },
  {
   "cell_type": "code",
   "execution_count": null,
   "metadata": {},
   "outputs": [],
   "source": []
  },
  {
   "cell_type": "code",
   "execution_count": null,
   "metadata": {},
   "outputs": [],
   "source": [
    "# Doctoral indicator dummy generation code\n",
    "\n",
    "def define_doctoral(df):\n",
    "\n",
    "    _21 = df[df['degreeLevel'].str.contains('21', na=False)]\n",
    "    \n",
    "    print('\\tNumber of \\'21\\'s found:', _21['BGTResID'].nunique())\n",
    "        \n",
    "    doc = df.drop(df.index.difference(_21.index))\n",
    "    wo_21 = df.drop(_21.index)\n",
    "\n",
    "    strings = ['Doctor', 'ph\\.', 'm\\.d\\.', 'j\\.d\\.', 'phd', 'dds', 'dml', 'ed\\. D']\n",
    "\n",
    "    for string in strings:\n",
    "        target = wo_21[wo_21['DegreeType'].str.contains(string, case=False, na=False)]\n",
    "\n",
    "        print('\\tContains \\'' + string + '\\':', target['BGTResID'].nunique())\n",
    "\n",
    "        wo_21 = wo_21.drop(target.index)\n",
    "        doc = pd.concat([doc, target])\n",
    "        \n",
    "    \n",
    "    return doc\n",
    "\n",
    "doc = define_doctoral(education)\n",
    "\n",
    "doc['ind_doc'] = 1\n",
    "education['ind_doc'] = 0\n",
    "\n",
    "doc = pd.concat([doc, education.loc[education.index.difference(doc.index)]], sort=False)\n",
    "\n",
    "doc.to_csv(r'A:\\_DataBGTRes\\Doctoral_Data\\doc_education_info_with_indicator.csv', index=False)"
   ]
  },
  {
   "cell_type": "code",
   "execution_count": null,
   "metadata": {},
   "outputs": [],
   "source": [
    "# Benchmarks of CIP data\n",
    "\n",
    "def print_benchmarks(df):\n",
    "    total = df['BGTResID'].nunique()\n",
    "\n",
    "    full_both = df[~df['MajorCipCode'].isnull()&~df['major'].isnull()]['BGTResID'].nunique()\n",
    "\n",
    "    no_CIP = df[df['MajorCipCode'].isnull()&~df['major'].isnull()]['BGTResID'].nunique()\n",
    "\n",
    "    null_both = df[df['MajorCipCode'].isnull()&df['major'].isnull()]['BGTResID'].nunique()\n",
    "\n",
    "    print(total, '\\n\\t' + str(full_both) + ' -> ' + str(round((float(full_both)/float(total)) * 100, 2)) + '%',\n",
    "         '\\n\\t' + str(no_CIP) + ' -> ' + str(round((float(no_CIP)/float(total)) * 100, 2)) + '%',\n",
    "         '\\n\\t' + str(null_both) + ' -> ' + str(round((float(null_both)/float(total)) * 100, 2)) + '%')\n",
    "    \n",
    "print_benchmarks(education[education['ind_doc']==1])\n",
    "print_benchmarks(education[education['ind_doc']==0])"
   ]
  },
  {
   "cell_type": "code",
   "execution_count": null,
   "metadata": {},
   "outputs": [],
   "source": []
  },
  {
   "cell_type": "code",
   "execution_count": null,
   "metadata": {},
   "outputs": [],
   "source": [
    "df = education[education['ind_doc']==1]\n",
    "len(df)/df['BGTResID'].nunique()"
   ]
  },
  {
   "cell_type": "code",
   "execution_count": null,
   "metadata": {},
   "outputs": [],
   "source": [
    "df = education[education['ind_doc']==0]\n",
    "len(df)/df['BGTResID'].nunique()"
   ]
  },
  {
   "cell_type": "code",
   "execution_count": null,
   "metadata": {},
   "outputs": [],
   "source": [
    "len(doc)/doc['BGTResID'].nunique()"
   ]
  },
  {
   "cell_type": "code",
   "execution_count": null,
   "metadata": {},
   "outputs": [],
   "source": [
    "education[~education['MajorCipCode'].isnull()&~education['major'].isnull()]"
   ]
  },
  {
   "cell_type": "code",
   "execution_count": null,
   "metadata": {},
   "outputs": [],
   "source": [
    "no_cip = pd.DataFrame(education[(education['MajorCipCode'].isnull())]['major'].value_counts())\n",
    "\n",
    "print(len(no_cip))\n",
    "display(no_cip)"
   ]
  },
  {
   "cell_type": "code",
   "execution_count": null,
   "metadata": {},
   "outputs": [],
   "source": [
    "len(education[education['major']=='Biology']['DegreeType'].value_counts())"
   ]
  },
  {
   "cell_type": "code",
   "execution_count": null,
   "metadata": {},
   "outputs": [],
   "source": [
    "cips = pd.read_csv(r'https://nces.ed.gov/ipeds/cipcode/Files/CIPCode2010.csv')"
   ]
  },
  {
   "cell_type": "code",
   "execution_count": null,
   "metadata": {
    "scrolled": false
   },
   "outputs": [],
   "source": [
    "cips[cips['CIPTitle'].str.contains('Biology', case=False)]"
   ]
  },
  {
   "cell_type": "code",
   "execution_count": null,
   "metadata": {},
   "outputs": [],
   "source": []
  },
  {
   "cell_type": "code",
   "execution_count": null,
   "metadata": {},
   "outputs": [],
   "source": [
    "# ELIAS CODE"
   ]
  },
  {
   "cell_type": "code",
   "execution_count": null,
   "metadata": {},
   "outputs": [],
   "source": [
    "import numpy as np\n",
    "import pandas as pd\n",
    "\n",
    "# Set data locations\n",
    "input_loc = '[SET TO INTERMEDIATE DATA LOCATION]'\n",
    "output_loc = '[SET TO DESIRED OUTPUT LOCATION]'\n",
    "onet_url = 'https://www.onetcenter.org/taxonomy/2010/soc2018/2010_to_2018_SOC_Crosswalk.csv?fmt=csv'\n",
    "naics_url = 'https://www.census.gov/eos/www/naics/2017NAICS/2-6%20digit_2017_Codes.xlsx'\n",
    "cip_url = 'https://nces.ed.gov/ipeds/cipcode/Files/CIPCode2010.csv'\n",
    "\n",
    "onet = pd.read_csv(onet_url)\n",
    "onet.rename(columns = {\n",
    "    'O*NET-SOC 2010 Code': 'ONETCode', \n",
    "    'O*NET-SOC 2010 Title': 'ONETName', \n",
    "    '2018 SOC Code': 'SOCCode',\n",
    "    '2018 SOC Title': 'SOCName'\n",
    "    }, inplace = True)\n",
    "naics = pd.read_excel(naics_url)\n",
    "naics.rename(columns = {\n",
    "    '2017 NAICS US   Code': 'NAICS2',\n",
    "    '2017 NAICS US Title': 'NAICSName'\n",
    "    }, inplace = True)\n",
    "naics = naics[['NAICS2', 'NAICSName']]\n",
    "\n",
    "jobs = pd.read_csv(f'{input_loc}04_PhD_Jobs.csv')\n",
    "\n",
    "jobs = jobs.merge(onet, on = 'ONETCode')\n",
    "jobs = jobs.merge(naics, on = 'NAICS2')\n",
    "jobs = jobs[[\n",
    "    'BGTResID', 'StartDate', 'EndDate', \n",
    "    'ONETCode', 'ONETName', 'SOCCode', 'SOCName',\n",
    "    'NAICS2', 'NAICSName'\n",
    "    ]]\n",
    "\n",
    "cip = pd.read_csv(cip_url)\n",
    "cip = cip[['CIPCode', 'CIPTitle']]\n",
    "cip['CIPCode'] = cip['CIPCode'].str.replace('=', '', regex = False)\n",
    "cip['CIPCode'] = cip['CIPCode'].str.replace('\"', '', regex = False)\n",
    "\n",
    "phds = pd.read_csv(f'{input_loc}03_PhD_CIP_codes.csv', index_col = 'BGTResID')\n",
    "phds['PhD_CIPs'] = phds['PhD_CIPs'].str.replace(';', '#', regex = False)\n",
    "phds['PhD_CIPs'] = phds['PhD_CIPs'].str.replace(' ', '#', regex = False)\n",
    "for string in ['38.0001', '38.0101', '38.0199', '38.9999']:\n",
    "    pat = string + '#'\n",
    "    phds['PhD_CIPs'] = phds['PhD_CIPs'].str.replace(pat, '', regex = False)\n",
    "    pat = '#' + string\n",
    "    phds['PhD_CIPs'] = phds['PhD_CIPs'].str.replace(pat, '', regex = False)\n",
    "\n",
    "max_splits = phds['PhD_CIPs'].str.count('#').max()\n",
    "print(f'The most Ph.D. CIPs associated with a resume is {max_splits + 1}')\n",
    "phds_split = phds['PhD_CIPs'].str.split(pat = '#', expand = True\n",
    "    ).fillna(value = '')\n",
    "phds_split = phds_split.reset_index()\n",
    "cip.rename(columns = {\n",
    "    'CIPCode': 'CIPCode0',\n",
    "    'CIPTitle': 'CIPName0',\n",
    "    }, inplace = True)\n",
    "columns = ['BGTResID']\n",
    "for code in range(max_splits.astype(int) + 1):\n",
    "    phds_split.rename(columns = {\n",
    "        code: f'CIPCode{code}',\n",
    "        }, inplace = True)\n",
    "    assert phds_split[f'CIPCode{code}'].str.len().max() <= 7\n",
    "    phds_split = phds_split.merge(cip, how = 'left', on = f'CIPCode{code}')\n",
    "    cip.rename(columns = {\n",
    "        f'CIPCode{code}': f'CIPCode{code + 1}',\n",
    "        f'CIPName{code}': f'CIPName{code + 1}'\n",
    "        }, inplace = True)\n",
    "    columns.append(f'CIPCode{code}')\n",
    "    columns.append(f'CIPName{code}')\n",
    "phds_split = phds_split[columns]\n",
    "\n",
    "# phds_split.to_csv(f'{output_loc}PhD_CIP_codes.csv', index = False)\n",
    "# jobs.to_csv(f'{output_loc}PhD_Jobs.csv', index = False)\n",
    "\n",
    "\n",
    "\n"
   ]
  }
 ],
 "metadata": {
  "kernelspec": {
   "display_name": "Python 3",
   "language": "python",
   "name": "python3"
  },
  "language_info": {
   "codemirror_mode": {
    "name": "ipython",
    "version": 3
   },
   "file_extension": ".py",
   "mimetype": "text/x-python",
   "name": "python",
   "nbconvert_exporter": "python",
   "pygments_lexer": "ipython3",
   "version": "3.7.3"
  }
 },
 "nbformat": 4,
 "nbformat_minor": 2
}
