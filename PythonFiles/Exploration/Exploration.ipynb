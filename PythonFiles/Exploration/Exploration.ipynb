{
 "cells": [
  {
   "cell_type": "code",
   "execution_count": null,
   "metadata": {},
   "outputs": [],
   "source": [
    "import os\n",
    "import pandas as pd\n",
    "# import geopandas as gpd\n",
    "pd.set_option('display.max_columns', 500)\n",
    "pd.set_option('display.max_rows', 2000)\n",
    "import numpy as np\n",
    "import scipy.stats\n",
    "import matplotlib.pyplot as plt\n",
    "import matplotlib.transforms\n",
    "plt.style.use('default')"
   ]
  },
  {
   "cell_type": "code",
   "execution_count": null,
   "metadata": {},
   "outputs": [],
   "source": [
    "# Import relevant dataframes:\n",
    "\n",
    "main_table = pd.read_csv(r\"C:\\Users\\Public\\_Data\\_Data\\Latest_Version\\Main_Data\\Main_Table_10182019.csv\")\n",
    "print(len(main_table))\n",
    "# faculty_table = pd.read_csv(r\"C:\\Users\\Public\\_Data\\_Data\\Latest_Version\\Faculty_Data\\Faculty_Table_11222019.csv\")\n",
    "# print(len(faculty_table))\n",
    "# skill_table = pd.read_csv(r\"C:\\Users\\Public\\_Data\\_Data\\Latest_Version\\Skills_Data\\Skill_Table_06072019.csv\")\n",
    "# print(len(skill_table))\n",
    "\n",
    "unitID = pd.read_csv(r\"C:\\Users\\Public\\_Data\\_Data\\IPEDS_Validation\\IPEDS_Validation\\Mapping_to_HEJP\\IPEDSUnitID.csv\")"
   ]
  },
  {
   "cell_type": "code",
   "execution_count": null,
   "metadata": {},
   "outputs": [],
   "source": [
    "unitID"
   ]
  },
  {
   "cell_type": "code",
   "execution_count": null,
   "metadata": {},
   "outputs": [],
   "source": [
    "val_main = main_table.merge(unitID[['IPEDS Unit ID', 'Organization or School Name']], left_on='IPEDS Institution Name', right_on='Organization or School Name', how='inner')"
   ]
  },
  {
   "cell_type": "code",
   "execution_count": null,
   "metadata": {},
   "outputs": [],
   "source": [
    "IPEDS_mask = val_main[['IPEDS Unit ID']].drop_duplicates()"
   ]
  },
  {
   "cell_type": "code",
   "execution_count": null,
   "metadata": {},
   "outputs": [],
   "source": [
    "IPEDS_mask"
   ]
  },
  {
   "cell_type": "code",
   "execution_count": null,
   "metadata": {},
   "outputs": [],
   "source": [
    "main_table['IPEDS Sector Name'].value_counts()"
   ]
  },
  {
   "cell_type": "code",
   "execution_count": null,
   "metadata": {},
   "outputs": [],
   "source": [
    "mask = skill_table[skill_table['Skill Name']=='Public Health and Safety'][['Job ID']]\n",
    "fac = faculty_table.merge(mask, on='Job ID', how='inner')\n",
    "\n",
    "mask = fac[fac['Computer and information sciences']==1][['Job ID']]\n",
    "\n",
    "main_table.merge(mask, on='Job ID', how='inner')"
   ]
  },
  {
   "cell_type": "code",
   "execution_count": null,
   "metadata": {},
   "outputs": [],
   "source": [
    "states = gpd.read_file(r\"D:\\Downloads\\states_21basic\\states.shp\")\n",
    "print(len(states))"
   ]
  },
  {
   "cell_type": "code",
   "execution_count": null,
   "metadata": {},
   "outputs": [],
   "source": [
    "def title_swap(string):\n",
    "    dictionary = {'Community and Social Services':'Counseling and Religious Life',\n",
    "                  'Customer and Client Support':'Online Support and University Information',\n",
    "                  'Hospitality, Food, and Tourism':'Event Management and Hospitality', \n",
    "                  'Planning and Analysis':'Analysis', \n",
    "                  'Curriculum and Instructional Designer / Developer':'Curriculum and Instructional Designer', \n",
    "                  'Special Education Teacher':'Accessibility and Disability Services', \n",
    "                  'Teaching Assistant':'Faculty Support', \n",
    "                  'Tutor':'Academic Tutor',\n",
    "                  'Clerical and Administrative':'Administrative'}\n",
    "    if(string in dictionary):\n",
    "        return dictionary[string]\n",
    "    else:\n",
    "        return string"
   ]
  },
  {
   "cell_type": "code",
   "execution_count": null,
   "metadata": {},
   "outputs": [],
   "source": [
    "salary = main_table[main_table['Annual Salary']>0]\n",
    "mask = salary[['Job ID']]\n",
    "\n",
    "skill = skill_table.merge(mask, on='Job ID', how='inner')\n",
    "len(skill)/len(mask)"
   ]
  },
  {
   "cell_type": "code",
   "execution_count": null,
   "metadata": {},
   "outputs": [],
   "source": [
    "true = pd.DataFrame(main_table['State'].value_counts()).reset_index()\n",
    "wSal = pd.DataFrame(main_table[main_table['Annual Salary']>0]['State'].value_counts()).reset_index()\n",
    "\n",
    "def dist(df):\n",
    "    temp = df.sort_values('index')\n",
    "    number = temp['State'].sum()\n",
    "    temp['dist'] = np.true_divide(temp['State'], number)\n",
    "    return temp\n",
    "\n",
    "t_dist = dist(true)\n",
    "t_values = t_dist['dist'].values\n",
    "s_dist = dist(wSal)\n",
    "s_values = s_dist['dist'].values\n",
    "\n",
    "scipy.stats.chisquare(f_obs=s_values, f_exp=t_values)"
   ]
  },
  {
   "cell_type": "code",
   "execution_count": null,
   "metadata": {},
   "outputs": [],
   "source": [
    "max = s_values.max()"
   ]
  },
  {
   "cell_type": "code",
   "execution_count": null,
   "metadata": {},
   "outputs": [],
   "source": [
    "def graph(df, title):\n",
    "    temp = states.merge(df, left_on='STATE_NAME', right_on='index', how='inner')\n",
    "    temp = temp.append({'dist' : max}, ignore_index=True)\n",
    "    temp = temp.append({'dist' : 0}, ignore_index=True)\n",
    "    temp = temp[~(temp['STATE_NAME']=='Alaska')&~(temp['STATE_NAME']=='Hawaii')]\n",
    "    temp.plot(column='dist', cmap='cividis', legend=True, legend_kwds={'label': \"Percentage of Postings\",\n",
    "                                                                       'orientation': \"horizontal\"})\n",
    "    plt.title(title)\n",
    "    plt.xlabel('Degrees Longitude')\n",
    "    plt.ylabel('Degrees Latitude')\n",
    "    plt.rcParams.update({'font.size': 20})\n",
    "    fig = plt.gcf()\n",
    "    fig.set_size_inches(20, 20)\n",
    "    plt.tight_layout()\n",
    "    \n",
    "graph(t_dist, 'Original Distribution of Postings')\n",
    "graph(s_dist, 'Postings with Salary Defined')"
   ]
  },
  {
   "cell_type": "code",
   "execution_count": null,
   "metadata": {},
   "outputs": [],
   "source": [
    "temp = states.merge(s_dist, left_on='STATE_NAME', right_on='index', how='inner')\n",
    "temp = temp[~(temp['STATE_NAME']=='Alaska')&~(temp['STATE_NAME']=='Hawaii')]\n",
    "temp.plot(column='dist', cmap='cividis', legend=True, legend_kwds={'label': \"Percentage of Postings\",\n",
    "                                                                   'orientation': \"horizontal\"})\n",
    "plt.title('Postings with Salary Defined')\n",
    "plt.xlabel('Degrees Longitude')\n",
    "plt.ylabel('Degrees Latitude')\n",
    "plt.rcParams.update({'font.size': 20})\n",
    "fig = plt.gcf()\n",
    "fig.set_size_inches(20, 20)\n",
    "plt.show()"
   ]
  },
  {
   "cell_type": "code",
   "execution_count": null,
   "metadata": {},
   "outputs": [],
   "source": [
    "len(main_table[main_table['Annual Salary']>0])"
   ]
  },
  {
   "cell_type": "code",
   "execution_count": null,
   "metadata": {},
   "outputs": [],
   "source": [
    "859065/3957167"
   ]
  },
  {
   "cell_type": "code",
   "execution_count": null,
   "metadata": {},
   "outputs": [],
   "source": [
    "years = [2007, 2010, 2011, 2012, 2013, 2014, 2015, 2016, 2017]\n",
    "\n",
    "df = pd.DataFrame()\n",
    "\n",
    "df['Year'] = years\n",
    "\n",
    "tot = []\n",
    "post = []\n",
    "fac = []\n",
    "non = []\n",
    "\n",
    "for year in years:\n",
    "    mask = main_table[main_table['Year']==year][['Job ID']]\n",
    "    total = len(mask)\n",
    "    temp_fac = faculty_table.merge(mask, on='Job ID', how='inner')\n",
    "    post_d = len(temp_fac[temp_fac['Post-Doctoral']==1])\n",
    "    faculty = len(temp_fac[temp_fac['Faculty']==1])\n",
    "    non_fac = total - (post_d + faculty)\n",
    "    \n",
    "    tot.append(total)\n",
    "    post.append(post_d)\n",
    "    fac.append(faculty)\n",
    "    non.append(non_fac)\n",
    "\n",
    "df['Higher Education'] = tot\n",
    "df['Postdoc'] = post\n",
    "df['Faculty'] = fac\n",
    "df['Non-Faculty'] = non\n",
    "\n",
    "display(df)\n",
    "\n",
    "display(df.sum())"
   ]
  },
  {
   "cell_type": "code",
   "execution_count": null,
   "metadata": {},
   "outputs": [],
   "source": [
    "faculty_table[['Agricultural sciences and natural resources',\n",
    "               'Biological and biomedical sciences',\n",
    "               'Health sciences',\n",
    "               'Chemistry',\n",
    "               'Geosciences, atmospheric, and ocean sciences',\n",
    "               'Physics and astronomy',\n",
    "               'Computer and information sciences',\n",
    "               'Mathematics and statistics',\n",
    "               'Psychology',\n",
    "               'Anthropology',\n",
    "               'Economics',\n",
    "               'Political science and government',\n",
    "               'Sociology',\n",
    "               'Other social sciences',\n",
    "               'Aerospace, aeronautical, and astronautical engineering',\n",
    "               'Bioengineering and biomedical engineering',\n",
    "               'Chemical engineering',\n",
    "               'Civil engineering',\n",
    "               'Electrical, electronics, and communications engineering',\n",
    "               'Industrial and manufacturing engineering',\n",
    "               'Materials science engineering',\n",
    "               'Mechanical engineering',\n",
    "               'Other engineering',\n",
    "               'Education administration',\n",
    "               'Education research',\n",
    "               'Teacher education',\n",
    "               'Teaching fields',\n",
    "               'Other education',\n",
    "               'Foreign languages and literature',\n",
    "               'History',\n",
    "               'Letters',\n",
    "               'Other humanities and arts',\n",
    "               'Business management and administration',\n",
    "               'Communication']]"
   ]
  },
  {
   "cell_type": "code",
   "execution_count": null,
   "metadata": {},
   "outputs": [],
   "source": [
    "# Faculty ratio validation:\n",
    "school = 'Massachusetts Institute of Technology'\n",
    "# table = main_table[main_table['IPEDS Institution Name']==school]\n",
    "table = main_table[main_table['IPEDS Institution Name'].str.contains(school, na=False)]\n",
    "table = table.merge(faculty_table[['Job ID', 'Faculty', 'Post-Doctoral']])\n",
    "\n",
    "for i in range(8):\n",
    "    year = 2010 + i\n",
    "    print(year)\n",
    "    temp = table[table['Year']==year]\n",
    "    groupf = temp[['Job ID', 'Faculty']].groupby('Faculty').count()\n",
    "    fac = groupf.iloc[1]['Job ID']\n",
    "    non = groupf.iloc[0]['Job ID']\n",
    "    groupp = temp[['Job ID', 'Post-Doctoral']].groupby('Post-Doctoral').count()\n",
    "    print('Faculty\\tCount')\n",
    "    print('1\\t' + str(fac))\n",
    "    print('0\\t' + str(non))\n",
    "    print('Faculty Percentage:', str(round(fac/(fac+non)*100, 2)) + '%\\n')\n"
   ]
  },
  {
   "cell_type": "code",
   "execution_count": null,
   "metadata": {},
   "outputs": [],
   "source": [
    "school = 'Harvard University'\n",
    "# table = main_table[main_table['IPEDS Institution Name']==school]\n",
    "table = main_table[main_table['IPEDS Institution Name'].str.contains(school, na=False)]\n",
    "table = table.merge(faculty_table[['Job ID', 'Faculty', 'Post-Doctoral']])\n",
    "\n",
    "temp = table[table['Post-Doctoral']==1]\n",
    "temp = temp[temp['Year']==2015]\n",
    "print(len(temp))\n",
    "display(temp)"
   ]
  },
  {
   "cell_type": "code",
   "execution_count": null,
   "metadata": {},
   "outputs": [],
   "source": [
    "# Total Faculty Ratio\n",
    "faculty_table[['Job ID', 'Faculty']].groupby('Faculty').count()"
   ]
  },
  {
   "cell_type": "code",
   "execution_count": null,
   "metadata": {},
   "outputs": [],
   "source": [
    "main_table[main_table['IPEDS Institution Name'].str.contains('Institute of Technology', na=False)]['IPEDS Institution Name'].value_counts()"
   ]
  },
  {
   "cell_type": "code",
   "execution_count": null,
   "metadata": {},
   "outputs": [],
   "source": [
    "main_table[main_table['IPEDS Institution Name'].str.contains('Tufts', na=False)]['IPEDS Institution Name'].value_counts()"
   ]
  },
  {
   "cell_type": "code",
   "execution_count": null,
   "metadata": {
    "scrolled": false
   },
   "outputs": [],
   "source": [
    "table = main_table[main_table['IPEDS Institution Name'] == 'Tufts University']\n",
    "mask = faculty_table[faculty_table['Faculty']==1][['Job ID']]\n",
    "\n",
    "table = table.merge(mask, on='Job ID', how='inner')\n",
    "# table = table[table['Year']==2017]\n",
    "# table = table[table['Occupation']!='College Professor / Instructor']\n",
    "table = table[table['Occupation']=='Dean of Academic Division']\n",
    "print(len(table))\n",
    "table['Job Title'][70]"
   ]
  },
  {
   "cell_type": "code",
   "execution_count": null,
   "metadata": {},
   "outputs": [],
   "source": [
    "table = main_table[main_table['Occupation']=='College Professor / Instructor']\n",
    "table = table.merge(faculty_table[['Job ID', 'Faculty']], on='Job ID', how='inner')\n",
    "table[table['Faculty']==0]\n"
   ]
  },
  {
   "cell_type": "code",
   "execution_count": null,
   "metadata": {},
   "outputs": [],
   "source": [
    "main_table[main_table['IPEDS Institution Name'].isnull()&~(main_table['IPEDS Sector Name'].isnull())]"
   ]
  },
  {
   "cell_type": "code",
   "execution_count": null,
   "metadata": {},
   "outputs": [],
   "source": []
  },
  {
   "cell_type": "code",
   "execution_count": null,
   "metadata": {},
   "outputs": [],
   "source": []
  },
  {
   "cell_type": "code",
   "execution_count": null,
   "metadata": {},
   "outputs": [],
   "source": [
    "table = main_table[main_table['Occupation'].str.contains('Dean', na=False)]\n",
    "table['Occupation'].value_counts()"
   ]
  },
  {
   "cell_type": "code",
   "execution_count": null,
   "metadata": {},
   "outputs": [],
   "source": [
    "main_table['IPEDS Institution Name'].value_counts()"
   ]
  },
  {
   "cell_type": "code",
   "execution_count": null,
   "metadata": {
    "scrolled": false
   },
   "outputs": [],
   "source": [
    "# Skills to look for:\n",
    "\"\"\"\n",
    "# Requirements\n",
    "Policy analysis                     [yes, cluster]\n",
    "Policy proposal                     [yes, skill]\n",
    "Policy research                     [yes, skill]\n",
    "Policy evaluation                   [yes, skill]\n",
    "Policy development                  [yes, skill]\n",
    "Policy implementation               [yes, skill]\n",
    "Public policy development           [yes, skill]\n",
    "Social work                         [yes, skill & cluster]\n",
    "Social services                     [yes, skill]\n",
    "Social services industry knowledge  [yes, skill & cluster]\n",
    "Behavioral health                   [yes, skill]\n",
    "    \n",
    "# Supplememts\n",
    "Data management                     [yes, cluster]\n",
    "Health data management              [yes, cluster]\n",
    "Research                            [yes, skill]\n",
    "Health research                     [yes, skill]\n",
    "Survey research                     [yes, skill]\n",
    "Research design                     [yes, skill]\n",
    "Qualitative research                [yes, skill]\n",
    "Regression analysis                 [yes, skill]\n",
    "\"\"\"\n",
    "\n",
    "column = 'Skill Cluster Name'\n",
    "item = 'regression analysis'\n",
    "\n",
    "table = skill_table[skill_table[column].str.contains(item, case=False, na=False)]\n",
    "values = pd.DataFrame(table[column].value_counts()).reset_index().sort_values('index')\n",
    "values"
   ]
  },
  {
   "cell_type": "code",
   "execution_count": null,
   "metadata": {},
   "outputs": [],
   "source": [
    "# List of Primary SP Skills\n",
    "\"\"\"\n",
    "Social Work\n",
    "Social Policy\n",
    "Behavioral Health\n",
    "Social Services Industry Knowledge \n",
    "\"\"\"\n",
    "\n",
    "# List of Secondary SP Skills\n"
   ]
  },
  {
   "cell_type": "code",
   "execution_count": null,
   "metadata": {},
   "outputs": [],
   "source": [
    "skill = 'Social Work'\n",
    "\n",
    "category = 'Skill Name'\n",
    "\n",
    "mask = skill_table[skill_table[category]==skill][['Job ID']]\n",
    "\n",
    "table = skill_table.merge(mask, on = 'Job ID', how = 'inner')\n",
    "\n",
    "table['Skill Name'].value_counts()"
   ]
  },
  {
   "cell_type": "code",
   "execution_count": null,
   "metadata": {},
   "outputs": [],
   "source": [
    "mask = skill_table[(skill_table['Skill Name']=='Social Work')|\n",
    "                   (skill_table['Skill Name']=='Social Services')\n",
    "                   ][['Job ID']]\n",
    "# &\n",
    "#                    (skill_table['Skill Name']=='Research')\n",
    "\n",
    "# to add another filter: | (skill_table['Skill Name']=='')\n",
    "mask = mask.drop_duplicates('Job ID')\n",
    "# print(len(mask))\n",
    "\n",
    "table = main_table.merge(mask, on='Job ID', how='inner')\n",
    "print('Number of total Jobs:\\n\\t' + str(len(table)))\n",
    "\n",
    "table['Career Area'] = table['Career Area'].apply(title_swap)\n",
    "table['Occupation'] = table['Occupation'].apply(title_swap)\n",
    "\n",
    "table = table[(table['Minimum EDU Requirements']>=18)]\n",
    "\n",
    "print('Number of Jobs with MA or Above:\\n\\t' + str(len(table)))\n",
    "\n",
    "mask = pd.DataFrame(table['Occupation'].value_counts()).reset_index().rename(columns={'Occupation':'count', 'index':'Occupation'})\n",
    "mask = mask[mask['count']>=10][['Occupation']]\n",
    "table = table.merge(mask, on='Occupation', how='inner')\n",
    "# print('Number of total Jobs:\\n\\t', len(table))\n",
    "\n",
    "mask = faculty_table[(faculty_table['Faculty']==0)&(faculty_table['Post-Doctoral']==0)]['Job ID']\n",
    "table = table.merge(mask, on='Job ID', how='inner')\n",
    "print('Number of non-faculty Jobs:\\n\\t' + str(len(table)))\n",
    "\n"
   ]
  },
  {
   "cell_type": "code",
   "execution_count": null,
   "metadata": {},
   "outputs": [],
   "source": [
    "# Occupational Breakdowns"
   ]
  },
  {
   "cell_type": "code",
   "execution_count": null,
   "metadata": {},
   "outputs": [],
   "source": []
  },
  {
   "cell_type": "code",
   "execution_count": null,
   "metadata": {},
   "outputs": [],
   "source": []
  },
  {
   "cell_type": "code",
   "execution_count": null,
   "metadata": {},
   "outputs": [],
   "source": [
    "pd.DataFrame(table[['Job ID', 'Career Area', 'Occupation']].groupby(['Career Area', 'Occupation']).count()).rename(columns={'Job ID':'Count'})"
   ]
  },
  {
   "cell_type": "code",
   "execution_count": null,
   "metadata": {},
   "outputs": [],
   "source": [
    "s = pd.DataFrame(table[['Job ID']].merge(skill_table, on='Job ID', how='inner')['Skill Name'].value_counts())"
   ]
  },
  {
   "cell_type": "code",
   "execution_count": null,
   "metadata": {
    "scrolled": true
   },
   "outputs": [],
   "source": [
    "s"
   ]
  },
  {
   "cell_type": "code",
   "execution_count": null,
   "metadata": {},
   "outputs": [],
   "source": [
    "table[table['Occupation']=='Chief Executive Officer'][['Job ID']].merge(skill_table)"
   ]
  },
  {
   "cell_type": "code",
   "execution_count": null,
   "metadata": {},
   "outputs": [],
   "source": []
  },
  {
   "cell_type": "code",
   "execution_count": null,
   "metadata": {},
   "outputs": [],
   "source": [
    "skills = table[['Job ID']].merge(skill_table, on='Job ID', how='inner')"
   ]
  },
  {
   "cell_type": "code",
   "execution_count": null,
   "metadata": {},
   "outputs": [],
   "source": [
    "index = faculty_table[faculty_table['Faculty']==1]\n",
    "table = main_table[main_table['Job Title'].str.contains('post-doc', case=False)|main_table['Job Title'].str.contains('post doc', case=False)]"
   ]
  },
  {
   "cell_type": "code",
   "execution_count": null,
   "metadata": {},
   "outputs": [],
   "source": [
    "final = index[['Job ID', 'Post-Doctoral']].merge(table, on='Job ID', how = 'inner')\n",
    "display(len(final))\n",
    "final = final[final['Post-Doctoral']==0]\n",
    "display(len(final))"
   ]
  },
  {
   "cell_type": "code",
   "execution_count": null,
   "metadata": {},
   "outputs": [],
   "source": [
    "final['Job Title'].value_counts()"
   ]
  },
  {
   "cell_type": "code",
   "execution_count": null,
   "metadata": {},
   "outputs": [],
   "source": [
    "table = main_table[main_table['Job Title'].str.contains('post-doc', case=False)|main_table['Job Title'].str.contains('post doc', case=False)]\n",
    "table = table.merge(faculty_table[['Job ID', 'Faculty', 'Post-Doctoral']], on='Job ID', how='inner')"
   ]
  },
  {
   "cell_type": "code",
   "execution_count": null,
   "metadata": {},
   "outputs": [],
   "source": [
    "main_table[main_table['Occupation'].str.contains('fundraising', case=False)]['Occupation'].value_counts()"
   ]
  },
  {
   "cell_type": "code",
   "execution_count": null,
   "metadata": {},
   "outputs": [],
   "source": [
    "table.groupby(['Faculty', 'Post-Doctoral']).count()"
   ]
  },
  {
   "cell_type": "code",
   "execution_count": null,
   "metadata": {},
   "outputs": [],
   "source": []
  },
  {
   "cell_type": "code",
   "execution_count": null,
   "metadata": {},
   "outputs": [],
   "source": []
  },
  {
   "cell_type": "code",
   "execution_count": null,
   "metadata": {},
   "outputs": [],
   "source": [
    "id = faculty_table[(faculty_table['Faculty']==1)&(faculty_table['Post-Doctoral']==1)]\n",
    "\n",
    "main_table.merge(id[['Job ID']], on='Job ID', how='inner')['Job Title'].value_counts()"
   ]
  },
  {
   "cell_type": "code",
   "execution_count": null,
   "metadata": {},
   "outputs": [],
   "source": [
    "len(main_table[main_table['Job Title'].str.contains('open rank', case=False, na=False)])"
   ]
  },
  {
   "cell_type": "code",
   "execution_count": null,
   "metadata": {},
   "outputs": [],
   "source": [
    "len(main_table[main_table['Job Title'].str.contains('open-rank', case=False, na=False)])"
   ]
  },
  {
   "cell_type": "code",
   "execution_count": null,
   "metadata": {},
   "outputs": [],
   "source": [
    "len(main_table[main_table['Job Title'].str.contains('open', case=False, na=False) \n",
    "    & main_table['Job Title'].str.contains('rank', case=False, na=False)])"
   ]
  },
  {
   "cell_type": "code",
   "execution_count": null,
   "metadata": {},
   "outputs": [],
   "source": [
    "faculty_table[faculty_table['Other humanities and arts']==1].merge(main_table['Job ID'])"
   ]
  },
  {
   "cell_type": "code",
   "execution_count": null,
   "metadata": {},
   "outputs": [],
   "source": [
    "IS_main = pd.read_csv(r\"G:\\IS_Data\\IS_Main.csv\")\n",
    "IS_skill = pd.read_csv(r\"G:\\IS_Data\\IS_Skill.csv\")"
   ]
  },
  {
   "cell_type": "code",
   "execution_count": null,
   "metadata": {},
   "outputs": [],
   "source": [
    "IS_main.drop(columns=['Job Title', 'Minimum EDU Requirements', 'Minimum Experience Requirements', 'Unnamed: 0']).to_csv(r\"G:\\IS_Data\\IS_Main.csv\")"
   ]
  },
  {
   "cell_type": "code",
   "execution_count": null,
   "metadata": {},
   "outputs": [],
   "source": [
    "IS_skill"
   ]
  },
  {
   "cell_type": "code",
   "execution_count": null,
   "metadata": {},
   "outputs": [],
   "source": [
    "full_table = main_table.merge(faculty_table[['Job ID', 'Faculty']], on='Job ID', how='inner')\n",
    "\n",
    "full_table = full_table[full_table['Faculty']==0]\n",
    "full_table = full_table[full_table['Year']==2017]\n",
    "full_table = full_table[(full_table['Minimum EDU Requirements']==21)]\n",
    "\n",
    "full_table = full_table[(full_table['Career Area']!='Health Care including Nursing')&(full_table['Career Area']!='na')]\n",
    "\n",
    "# These Job Titles are omitted because they are likely to hold JD or MD rather than PhD\n",
    "\n",
    "full_table = full_table[~(full_table['Career Area'].str.contains('attorney', case=False, na=False)) &\n",
    "                        ~(full_table['Occupation'].str.contains('attorney', case=False, na=False)) &\n",
    "                        ~(full_table['Job Title'].str.contains('attorney', case=False, na=False)) & \n",
    "                        ~(full_table['Job Title'].str.contains('title ix', case=False, na=False)) &\n",
    "                        ~(full_table['Job Title'].str.contains('director of advancement', case=False, na=False)) &\n",
    "                        ~(full_table['Job Title'].str.contains('finance manager', case=False, na=False)) & \n",
    "                        ~(full_table['Job Title'].str.contains('financial manager', case=False, na=False)) &\n",
    "                        ~(full_table['Occupation'].str.contains('financial manager', case=False, na=False)) &\n",
    "                        ~(full_table['Career Area'].str.contains('financial manager', case=False, na=False)) &\n",
    "                        ~(full_table['IPEDS Institution Name'].str.contains('law', case=False, na=False)) & \n",
    "                        ~(full_table['IPEDS Institution Name'].str.contains('medical', case=False, na=False))]\n",
    "\n",
    "# Remove Elementary school teachers for now, financial occupations as well\n"
   ]
  },
  {
   "cell_type": "code",
   "execution_count": null,
   "metadata": {},
   "outputs": [],
   "source": [
    "full_table = full_table[full_table['Career Area']=='Education and Training']\n",
    "\n",
    "full_table = full_table[~full_table['Job Title'].str.contains('professor', case=False, na=False)]\n",
    "full_table = full_table[~(full_table['Occupation']=='College Professor/Instructor')]\n",
    "\n",
    "full_table.sort_values(by=['Occupation', 'IPEDS Institution Name'])"
   ]
  },
  {
   "cell_type": "code",
   "execution_count": null,
   "metadata": {},
   "outputs": [],
   "source": [
    "full_table = full_table[full_table['Career Area'].str.contains('Information Technology', case=False, na=False)]\n",
    "\n",
    "full_table['Occupation'].value_counts()\n",
    "\n",
    "full_table[(full_table['Occupation']=='Computer Scientist / Researcher')]['Job Title'].value_counts()[:10]"
   ]
  },
  {
   "cell_type": "code",
   "execution_count": null,
   "metadata": {},
   "outputs": [],
   "source": [
    "full_table[full_table['Job Title']=='Law Admissions Counselor']"
   ]
  },
  {
   "cell_type": "code",
   "execution_count": null,
   "metadata": {},
   "outputs": [],
   "source": [
    "pd.Series(' '.join(full_table['Job Title']).lower().split()).value_counts()[:100]"
   ]
  },
  {
   "cell_type": "code",
   "execution_count": null,
   "metadata": {},
   "outputs": [],
   "source": [
    "#############################################################\n",
    "# Growth of Non-Faculty Job Postings by Career area 2007-2017\n",
    "#############################################################\n",
    "\n",
    "# Separate out all columns relevant to this evaluation:\n",
    "full_table = main_table[['Job ID', 'Year', 'R1', 'Career Area', '4-year', '2-year']].merge(\n",
    "    faculty_table[['Job ID', 'Faculty', 'Post-Doctoral']], how=\"inner\", on=\"Job ID\")\n",
    "\n",
    "\n",
    "# Drop non-Faculty\n",
    "full_table = full_table[(full_table['Faculty'] == 0) & (full_table['Post-Doctoral'] != 1)]\n",
    "\n",
    "# Drop Career Areas with fewer than 1000 observation in 2017\n",
    "full_table = full_table[(full_table['Career Area']!='na')]\n",
    "\n",
    "# Restrict years of window\n",
    "full_table = full_table[(full_table['Year']==2007)|(full_table['Year'] == 2017)]\n",
    "# Restrict to R1 Institutions\n",
    "# full_table = full_table[full_table['R1'] == 1]\n",
    "\n",
    "table_07 = pd.DataFrame(full_table[full_table['Year']==2007]['Career Area'].value_counts()).reset_index().rename(\n",
    "    columns={'Career Area':'count_07', 'index':'Career Area'})\n",
    "\n",
    "table_17 = pd.DataFrame(full_table[full_table['Year']==2017]['Career Area'].value_counts()).reset_index().rename(\n",
    "    columns={'Career Area':'count_17', 'index':'Career Area'})\n",
    "\n",
    "final_table = table_07.merge(table_17, on='Career Area', how='inner')\n",
    "\n",
    "final_table = final_table[final_table['count_17']>999]\n",
    "\n",
    "final_table['growth'] = round(np.true_divide(final_table['count_17']-final_table['count_07'], final_table['count_07'])*100, 2)\n",
    "\n",
    "final_table.sort_values(by='growth', ascending=False)"
   ]
  },
  {
   "cell_type": "code",
   "execution_count": null,
   "metadata": {},
   "outputs": [],
   "source": [
    "source_skill_table"
   ]
  },
  {
   "cell_type": "code",
   "execution_count": null,
   "metadata": {},
   "outputs": [],
   "source": [
    "salary = main_table[main_table['Annual Salary']>0]\n",
    "\n",
    "# pd.DataFrame(salary['IPEDS Institution Name'].value_counts()).reset_index().sort_values(by='index')\n",
    "\n",
    "# salary[salary['IPEDS Institution Name']=='Brandeis University']\n",
    "\n",
    "salary.merge(faculty_table[['Job ID', 'Faculty']], on='Job ID', how='inner')['Faculty'].value_counts()"
   ]
  },
  {
   "cell_type": "code",
   "execution_count": null,
   "metadata": {},
   "outputs": [],
   "source": [
    "main_table[main_table['Annual Salary']>100000]"
   ]
  },
  {
   "cell_type": "code",
   "execution_count": null,
   "metadata": {},
   "outputs": [],
   "source": [
    "faculty_table.columns"
   ]
  },
  {
   "cell_type": "code",
   "execution_count": null,
   "metadata": {},
   "outputs": [],
   "source": [
    "pd.Series(' '.join(table['Job Title']).lower().split()).value_counts()"
   ]
  },
  {
   "cell_type": "code",
   "execution_count": null,
   "metadata": {},
   "outputs": [],
   "source": [
    "table = faculty_table[(faculty_table['Other humanities and arts']==1)]\n",
    "table['Number of Detailed Fields of Study'].value_counts()"
   ]
  },
  {
   "cell_type": "code",
   "execution_count": null,
   "metadata": {
    "scrolled": false
   },
   "outputs": [],
   "source": [
    "table.sum()"
   ]
  },
  {
   "cell_type": "code",
   "execution_count": null,
   "metadata": {},
   "outputs": [],
   "source": [
    "table = main_table[main_table['Job Title'].str.contains('kinesiology', case=False, na=False)]\n",
    "table[['Job ID']].merge(faculty_table, on='Job ID', how='inner').sum()"
   ]
  },
  {
   "cell_type": "code",
   "execution_count": null,
   "metadata": {},
   "outputs": [],
   "source": [
    "main_table[main_table['Annual Salary']==200000]['Job ']"
   ]
  },
  {
   "cell_type": "code",
   "execution_count": null,
   "metadata": {},
   "outputs": [],
   "source": []
  }
 ],
 "metadata": {
  "kernelspec": {
   "display_name": "Python 3",
   "language": "python",
   "name": "python3"
  },
  "language_info": {
   "codemirror_mode": {
    "name": "ipython",
    "version": 3
   },
   "file_extension": ".py",
   "mimetype": "text/x-python",
   "name": "python",
   "nbconvert_exporter": "python",
   "pygments_lexer": "ipython3",
   "version": "3.7.2"
  }
 },
 "nbformat": 4,
 "nbformat_minor": 2
}
