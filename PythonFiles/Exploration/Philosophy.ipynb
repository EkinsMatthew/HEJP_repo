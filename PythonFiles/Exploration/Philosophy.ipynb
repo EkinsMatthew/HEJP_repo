{
 "cells": [
  {
   "cell_type": "code",
   "execution_count": null,
   "metadata": {},
   "outputs": [],
   "source": [
    "import pandas as pd\n",
    "pd.set_option('display.max_colwidth', None)\n",
    "import numpy as np\n",
    "import os\n",
    "import math\n",
    "import matplotlib.pyplot as plt"
   ]
  },
  {
   "cell_type": "code",
   "execution_count": null,
   "metadata": {},
   "outputs": [],
   "source": [
    "main_table = pd.read_parquet(r\"A:\\HEJP_revision_02152020\\Jobs.parquet\").convert_dtypes()\n",
    "print(len(main_table))\n",
    "print(main_table['BGTJobId'].nunique())\n",
    "\n",
    "faculty_table = pd.read_parquet(r\"A:\\HEJP_revision_02152020\\Faculty_and_Postdoc_Fields.parquet\").convert_dtypes()\n",
    "print(len(faculty_table))\n",
    "print(faculty_table['BGTJobId'].nunique())\n",
    "\n",
    "app_table = pd.read_parquet(r\"A:\\HEJP_revision_02152020\\Faculty_Appointments.parquet\").convert_dtypes()\n",
    "print(len(app_table))\n",
    "print(app_table['BGTJobId'].nunique())\n",
    "\n",
    "skill_table = pd.read_parquet(r\"A:\\HEJP_revision_02152020\\Skills.parquet\").convert_dtypes()\n",
    "print(len(skill_table))\n",
    "print(skill_table['BGTJobId'].nunique())"
   ]
  },
  {
   "cell_type": "code",
   "execution_count": null,
   "metadata": {},
   "outputs": [],
   "source": [
    "faculty_table"
   ]
  },
  {
   "cell_type": "code",
   "execution_count": null,
   "metadata": {},
   "outputs": [],
   "source": [
    "def tenure(value):\n",
    "    if value is pd.NA:\n",
    "        return pd.NA\n",
    "    elif value >= 2 or value == 1:\n",
    "        return 1\n",
    "    else:\n",
    "        return 0\n",
    "\n",
    "app_table['Tenure_Line'] = app_table['Tenured'] + app_table['Tenure_Track']\n",
    "\n",
    "app_table['Tenure_Line'] = app_table['Tenure_Line'].apply(tenure)"
   ]
  },
  {
   "cell_type": "code",
   "execution_count": null,
   "metadata": {},
   "outputs": [],
   "source": [
    "phil = main_table[main_table['Job Title'].str.contains('Philosophy', case=False, na=False)]\n",
    "app = app_table.merge(phil[['BGTJobId']], how='inner')\n",
    "\n",
    "display(phil['Occupation'].value_counts())\n",
    "\n",
    "year1 = 2007\n",
    "year2 = 2019\n",
    "\n",
    "def get_cats(year):\n",
    "    \n",
    "    total = main_table[main_table['Year']==year]['BGTJobId'].nunique()\n",
    "    \n",
    "    mask = phil[phil['Year']==year][['BGTJobId']]\n",
    "    \n",
    "    jobs = mask['BGTJobId'].nunique()\n",
    "    df = app.merge(mask, how='inner')\n",
    "    cont = df['Contingent'].sum()\n",
    "    ten = df['Tenure_Line'].sum()\n",
    "    \n",
    "    df = pd.DataFrame(pd.Series([jobs, cont, ten], index=['Jobs', 'Contingent', 'Tenure_Line']))\n",
    "    \n",
    "    df = df.rename(columns={0:'Philosophy'})\n",
    "    \n",
    "    df['inc'] = df['Philosophy']/total\n",
    "    \n",
    "    return df\n",
    "\n",
    "result1 = get_cats(year1).reset_index()\n",
    "result2 = get_cats(year2).reset_index()\n",
    "\n",
    "result = result1.merge(result2, on='index')\n",
    "\n",
    "result['growth_r'] = (result['Philosophy_y'] - result['Philosophy_x']) / result['Philosophy_x']\n",
    "\n",
    "result['growth_p'] = (result['inc_y'] - result['inc_x']) / result['inc_x']\n",
    "\n",
    "result\n",
    "\n",
    "# jobs2 = phil[phil['Year']==year2]['BGTJobId'].nunique()\n",
    "\n",
    "# print(f'There were {jobs1} Philosophy jobs in {year1} and {jobs2} in {year2}\\n')\n",
    "\n",
    "# print(f'Raw growth from {year1} to {year2} is {round(float(jobs2-jobs1)/float(jobs1) * 100, 2)}%')"
   ]
  },
  {
   "cell_type": "code",
   "execution_count": null,
   "metadata": {},
   "outputs": [],
   "source": [
    "phil[phil['Occupation']!='College Professor / Instructor']"
   ]
  },
  {
   "cell_type": "code",
   "execution_count": null,
   "metadata": {},
   "outputs": [],
   "source": [
    "faculty_table.drop(columns='JobInsertDate').astype(int).merge(phil[['BGTJobId']], how='inner').sum()"
   ]
  },
  {
   "cell_type": "code",
   "execution_count": null,
   "metadata": {},
   "outputs": [],
   "source": [
    "main_table[main_table['Occupation'].str.contains('philosophy', case=False, na=False)]"
   ]
  },
  {
   "cell_type": "code",
   "execution_count": null,
   "metadata": {},
   "outputs": [],
   "source": [
    "app_table['Tenure_Line'].value_counts()"
   ]
  },
  {
   "cell_type": "code",
   "execution_count": null,
   "metadata": {},
   "outputs": [],
   "source": [
    "app_table"
   ]
  },
  {
   "cell_type": "code",
   "execution_count": null,
   "metadata": {},
   "outputs": [],
   "source": []
  },
  {
   "cell_type": "code",
   "execution_count": null,
   "metadata": {},
   "outputs": [],
   "source": []
  },
  {
   "cell_type": "code",
   "execution_count": null,
   "metadata": {
    "scrolled": false
   },
   "outputs": [],
   "source": [
    "year1 = 2010\n",
    "year2 = 2019\n",
    "\n",
    "# Obtain isolated post-doctoral skill dataframe\n",
    "skill_small = skill_table[(skill_table['Year']==year1)|(skill_table['Year']==year2)]\n",
    "\n",
    "# skill_p = skill_small.merge(mask, on='BGTJobId', how='inner')\n",
    "# skill_f = skill_table.drop(columns=['Unnamed: 0', 'Unnamed: 0.1']).merge(faculty_table[faculty_table['Faculty']==1][['BGTJobId']], \n",
    "#                                                                          on='BGTJobId', how='inner')\n",
    "\n",
    "# Method for isolating the skills in a year\n",
    "def skill_break(df, year, NSF=None):\n",
    "    df = df[df['Year']==year]\n",
    "    s_df = df[df['Specialized']==1]\n",
    "    \n",
    "    if NSF is not None:\n",
    "        mask = faculty_table[faculty_table[NSF]==1][['BGTJobId']]\n",
    "        df = df.merge(mask, on='BGTJobId', how='inner')\n",
    "        s_df = s_df.merge(mask, on='BGTJobId', how='inner')\n",
    "    \n",
    "    skills = pd.DataFrame(df['Skill Name'].value_counts()).reset_index()\n",
    "    skills = skills.rename(columns={'Skill Name':'count'})\n",
    "    skills['inc'] = np.true_divide(skills['count'], df['BGTJobId'].nunique())\n",
    "    \n",
    "    s_skills = pd.DataFrame(s_df['Skill Name'].value_counts()).reset_index()\n",
    "    s_skills = s_skills.rename(columns={'Skill Name':'count'})\n",
    "    s_skills['inc'] = np.true_divide(s_skills['count'], s_df['BGTJobId'].nunique())\n",
    "    \n",
    "    return skills, s_skills\n",
    "\n",
    "# Method for graphing the raw ranks of the skills\n",
    "def s_graph_rank(df, title, color='blue', top=10):\n",
    "    \n",
    "    df = df[:top]\n",
    "    \n",
    "    fig, ax = plt.subplots(figsize=(12,6))\n",
    "    \n",
    "    labels = df['index'].values\n",
    "    counts = df['count'].values\n",
    "    \n",
    "    ind = np.arange(len(labels))\n",
    "    \n",
    "    ax.bar(ind, counts, color=color)\n",
    "    \n",
    "    plt.xticks(ind, labels, rotation=45, ha='right')\n",
    "    plt.xlabel('Skill Name')\n",
    "    plt.ylabel('Number with Skill')\n",
    "#     plt.legend(loc='upper right')\n",
    "    plt.title(title)\n",
    "    \n",
    "    plt.show()\n",
    "\n",
    "# Define NSF fields of intrest\n",
    "nsfs = ['Economics', 'Economics']\n",
    "colors = [('royalblue', 'cornflowerblue'),('maroon', 'firebrick'),('goldenrod', 'gold'),('darkgreen', 'forestgreen'),\n",
    "          ('indigo', 'rebeccapurple')]\n",
    "\n",
    "def s_graph_growth(df, title, color='blue', top=10):\n",
    "    \n",
    "    df = df[:top]\n",
    "    \n",
    "    fig, ax = plt.subplots(figsize=(6,12))\n",
    "    \n",
    "    labels = df['index'].values\n",
    "    counts = df['change'].values\n",
    "    \n",
    "    ind = np.arange(len(labels))\n",
    "    \n",
    "    ax.barh(ind, counts, color=color)\n",
    "    \n",
    "    plt.yticks(ind, labels, rotation=45, ha='right')\n",
    "    plt.ylabel('change')\n",
    "    plt.xlabel('Change in Demand')\n",
    "#     plt.legend(loc='upper right')\n",
    "    plt.title(title)\n",
    "    \n",
    "    plt.show()\n",
    "\n",
    "def get_diffs(df):\n",
    "    df['change'] = df['inc_y'] - df['inc_x']\n",
    "    df['growth'] = np.true_divide(df['inc_y'] - df['inc_x'], df['inc_x'])\n",
    "    return df.sort_values(by='change', ascending=False)\n",
    "\n",
    "mask_ftc = app_table[(app_table['FT_Contingent']==1)&~(app_table['FT_Contingent'].isnull())][['BGTJobId']]\n",
    "mask_tenure = app_table[(app_table['Tenure_Line']==1)&~(app_table['Tenure_Line'].isnull())][['BGTJobId']]\n",
    "\n",
    "for i in range(len(nsfs)):\n",
    "    nsf = nsfs[i]\n",
    "    color = colors[i]\n",
    "    \n",
    "    print(nsf)\n",
    "    \n",
    "    if(i == 0):\n",
    "        df = skill_small.merge(mask_ftc, how='inner')\n",
    "    if(i == 1):\n",
    "        df = skill_small.merge(mask_tenure, how='inner')\n",
    "    \n",
    "    # Faculty dataframes are commneted out\n",
    "    \n",
    "    skills1, s_skills1 = skill_break(df, year1, NSF=nsf)\n",
    "#     main_skills1, main_s_skills1 = skill_break(skill_f, year1, NSF=nsf)\n",
    "\n",
    "    skills2, s_skills2 = skill_break(df, year2, NSF=nsf)\n",
    "#     main_skills2, main_s_skills2 = skill_break(skill_f, year2, NSF=nsf)\n",
    "\n",
    "#     fac_s = main_s_skills1.merge(main_s_skills2[:10], on='index', how='right')\n",
    "#     fac_s = get_diffs(fac_s)\n",
    "    \n",
    "    post_s = s_skills1.merge(s_skills2[:10], on='index', how='right')\n",
    "    post_s = get_diffs(post_s)\n",
    "    \n",
    "    display(post_s)\n",
    "    \n",
    "    s_graph_rank(s_skills2, 'Top Ranked Skills for ' + nsf + f'\\n in {year2}', color=color[1])\n",
    "    s_graph_growth(post_s, 'Change in Demanding Percentage for Top\\n' + nsf + f' Skills in {year2}', color=color[1])\n",
    "    "
   ]
  },
  {
   "cell_type": "code",
   "execution_count": null,
   "metadata": {},
   "outputs": [],
   "source": []
  },
  {
   "cell_type": "code",
   "execution_count": null,
   "metadata": {},
   "outputs": [],
   "source": [
    "app_table.columns"
   ]
  },
  {
   "cell_type": "code",
   "execution_count": null,
   "metadata": {},
   "outputs": [],
   "source": []
  }
 ],
 "metadata": {
  "kernelspec": {
   "display_name": "Python 3",
   "language": "python",
   "name": "python3"
  },
  "language_info": {
   "codemirror_mode": {
    "name": "ipython",
    "version": 3
   },
   "file_extension": ".py",
   "mimetype": "text/x-python",
   "name": "python",
   "nbconvert_exporter": "python",
   "pygments_lexer": "ipython3",
   "version": "3.8.1"
  }
 },
 "nbformat": 4,
 "nbformat_minor": 4
}
