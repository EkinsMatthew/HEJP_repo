{
 "cells": [
  {
   "cell_type": "code",
   "execution_count": null,
   "metadata": {},
   "outputs": [],
   "source": [
    "import os\n",
    "import pandas as pd\n",
    "pd.set_option('display.max_columns', 500)\n",
    "pd.set_option('display.max_rows', 2000)\n",
    "pd.set_option('display.max_colwidth', -1)\n",
    "import numpy as np\n",
    "import matplotlib.pyplot as plt\n",
    "import probscale\n",
    "import scipy\n",
    "import scipy.stats as stats\n",
    "import math\n",
    "plt.style.use('fivethirtyeight')"
   ]
  },
  {
   "cell_type": "code",
   "execution_count": null,
   "metadata": {},
   "outputs": [],
   "source": [
    "# Import relevant dataframes:\n",
    "\n",
    "main_table = pd.read_csv(r\"C:\\Users\\Public\\_Data\\_Data\\Latest_Version\\Main_Data\\Main_Table_01192020.csv\")\n",
    "print(len(main_table))\n",
    "faculty_table = pd.read_csv(r\"C:\\Users\\Public\\_Data\\_Data\\Latest_Version\\Faculty_Data\\Faculty_Table_11222019.csv\")\n",
    "print(len(faculty_table))\n",
    "skill_table = pd.read_csv(r\"C:\\Users\\Public\\_Data\\_Data\\Latest_Version\\Skills_Data\\Skill_Table_06072019.csv\")\n",
    "print(len(skill_table))\n"
   ]
  },
  {
   "cell_type": "code",
   "execution_count": null,
   "metadata": {},
   "outputs": [],
   "source": [
    "# postdoc mask useful for isolating all ['Post-Doctoral' = 1] postings by Job ID\n",
    "mask = faculty_table[faculty_table['Post-Doctoral']==1][['Job ID']]\n",
    "print(len(mask))"
   ]
  },
  {
   "cell_type": "code",
   "execution_count": null,
   "metadata": {},
   "outputs": [],
   "source": [
    "bls = pd.read_csv(r\"C:\\Users\\Public\\_Data\\_Data\\bls_states\\bls_state_employment_thousands.csv\")\n",
    "print(len(bls))\n",
    "\n",
    "bls['Jobs'] = bls['Jobs']*1000"
   ]
  },
  {
   "cell_type": "code",
   "execution_count": null,
   "metadata": {},
   "outputs": [],
   "source": [
    "bls"
   ]
  },
  {
   "cell_type": "code",
   "execution_count": null,
   "metadata": {},
   "outputs": [],
   "source": [
    "def title_swap(string):\n",
    "    dictionary = {'Community and Social Services':'Counseling and Religious Life',\n",
    "                  'Customer and Client Support':'Online Support and University Information',\n",
    "                  'Hospitality, Food, and Tourism':'Event Management and Hospitality', \n",
    "                  'Planning and Analysis':'Analysis', \n",
    "                  'Curriculum and Instructional Designer / Developer':'Curriculum and Instructional Designer', \n",
    "                  'Special Education Teacher':'Accessibility and Disability Services', \n",
    "                  'Teaching Assistant':'Faculty Support', \n",
    "                  'Tutor':'Academic Tutor',\n",
    "                  'Clerical and Administrative':'Administrative',\n",
    "                  'na' : 'Uncategorized'}\n",
    "    if(string in dictionary):\n",
    "        return dictionary[string]\n",
    "    else:\n",
    "        return string\n",
    "    \n",
    "def val_year(year1, year2):\n",
    "    if(year1 >= year2):\n",
    "        if(year1>year2):\n",
    "            temp = year1\n",
    "            year1 = year2\n",
    "            year2 = temp\n",
    "        else:\n",
    "            raise ValueError('Years cannot be the same.')\n",
    "            \n",
    "    return (year1, year2)\n",
    "\n",
    "def cat_validate(actual, desired_list):\n",
    "    return actual in desired_list"
   ]
  },
  {
   "cell_type": "code",
   "execution_count": null,
   "metadata": {},
   "outputs": [],
   "source": [
    "# boolean_vec = (main_table['Job Title'].str.contains('postdoc', case=False, na=False) |\n",
    "#                       main_table['Job Title'].str.contains('post doc', case=False, na=False)|\n",
    "#                       main_table['Job Title'].str.contains('post-doc', case=False, na=False))\n",
    "\n",
    "# main_table['post_doc'] = boolean_vec + 0\n",
    "\n",
    "# faculty_table = faculty_table.merge(main_table[['Job ID', 'post_doc']], on='Job ID', how='inner')"
   ]
  },
  {
   "cell_type": "code",
   "execution_count": null,
   "metadata": {},
   "outputs": [],
   "source": [
    "# def boolean(x):\n",
    "#     if x > 0:\n",
    "#         return 1\n",
    "#     else:\n",
    "#         return 0\n",
    "\n",
    "# faculty_table['Post-Doctoral'] = faculty_table['post_doc'].apply(boolean)"
   ]
  },
  {
   "cell_type": "code",
   "execution_count": null,
   "metadata": {},
   "outputs": [],
   "source": [
    "# faculty_table['Post-Doctoral'].sum()"
   ]
  },
  {
   "cell_type": "code",
   "execution_count": null,
   "metadata": {},
   "outputs": [],
   "source": [
    "def t_test(mean, null, std, n):\n",
    "    \n",
    "    var = ((arr - mean)**2).sum()/(n-1)\n",
    "    std = math.sqrt(var)\n",
    "    se = std/math.sqrt(n)\n",
    "    t = (mean - 0)/se\n",
    "    \n",
    "    return mean, std, se, t\n",
    "\n",
    "def two_t_test(mean1, mean2, null, var1, var2, n1, n2, sides='two', side='+'):\n",
    "    \n",
    "    comb_er = var1/n1 + var2/n2\n",
    "    if comb_er > 0:\n",
    "        comb_t = ((mean1 - mean2) - null)/math.sqrt(comb_er)\n",
    "    else:\n",
    "        return {'diff':(mean1-mean2), 'se':0,'t':float('+inf'), 'p':0}\n",
    "    df = comb_er**2/(((var1/n1)**2/(n1-1))+((var2/n2)**2/(n2-1)))\n",
    "    \n",
    "    if(sides == 'two'):\n",
    "        return {'diff':(mean1-mean2), 'se':math.sqrt(comb_er),'t':comb_t, 'p':2*scipy.stats.t.cdf(-math.fabs(comb_t), df)}\n",
    "        \n",
    "    elif(sides == 'one'):\n",
    "        if(side == '+'):\n",
    "            comb_t = -comb_t\n",
    "        return {'diff':(mean1-mean2), 'se':math.sqrt(comb_er),'t':comb_t, 'p':scipy.stats.t.cdf(comb_t, df)}\n",
    "        \n",
    "    else:\n",
    "        return None\n"
   ]
  },
  {
   "cell_type": "code",
   "execution_count": null,
   "metadata": {
    "scrolled": true
   },
   "outputs": [],
   "source": [
    "def breakout(df, year, category, sig_level=0.01, drop=True, Job_ID=True):\n",
    "    df = df[df['Year']==year]\n",
    "    if Job_ID:\n",
    "        num = df['Job ID'].nunique()\n",
    "    else:\n",
    "        num = int(df['Jobs'].sum())\n",
    "    arr = np.zeros(num)\n",
    "    p = 1\n",
    "    i = 1\n",
    "    while(i <= num):\n",
    "        arr[:i] = 1\n",
    "        p = stats.ttest_1samp(arr, popmean=0).pvalue\n",
    "        if p/2 <= sig_level:\n",
    "            print(num, '->', i)\n",
    "            break\n",
    "        i+=1\n",
    "    \n",
    "    if Job_ID:\n",
    "        cat = pd.DataFrame(df[category].value_counts()).reset_index()\n",
    "        cat = cat.rename(columns={category:'count'})\n",
    "        cat['inc'] = np.true_divide(cat['count'], num)\n",
    "    else:\n",
    "        cat = pd.DataFrame(df[[category, 'Jobs']].groupby([category]).sum()).reset_index()\n",
    "        cat = cat.rename(columns={'BEA_zone':'index', 'Jobs':'count'})\n",
    "        cat['inc'] = np.true_divide(cat['count'], num)\n",
    "    if drop:\n",
    "        cat = cat[cat['count']>=i]\n",
    "    \n",
    "    cat['var'] = cat['inc'] * (1 - cat['inc'])\n",
    "    \n",
    "    return cat, num\n",
    "\n",
    "def validate(row, n2, n1):\n",
    "    return two_t_test(row['inc_x'], row['inc_y'], 0, row['var_x'], row['var_y'], n1, n2)['p']\n",
    "\n",
    "def growth(df1, df2, n1, n2):\n",
    "    df = df1.merge(df2, on='index', how='outer', indicator=True)\n",
    "    df = df[df['_merge']=='both']\n",
    "    df['p_change'] = df.apply(validate, axis=1, args=(n1, n2,))\n",
    "#     df = df[df['p_change']<=0.01]\n",
    "#     df['growth'] = np.true_divide(df['inc_y'] - df['inc_x'], df['inc_x'])\n",
    "    df['growth'] = np.true_divide(df['count_y'] - df['count_x'], df['count_x'])\n",
    "    return df.sort_values('growth', ascending=False).reset_index(drop=True)\n",
    "    \n",
    "mask = faculty_table[faculty_table['Post-Doctoral'] == 1][['Job ID']]\n",
    "post = main_table.merge(mask, on='Job ID', how='inner')\n",
    "\n",
    "main = main_table.drop(post.index)\n",
    "main = main[main['BEA_zone']!='Territories']\n",
    "\n",
    "year1 = 2007\n",
    "year2 = 2017\n",
    "\n",
    "inst1, num1 = breakout(post, year1, 'IPEDS Institution Name', drop=False)\n",
    "inst2, num2 = breakout(post, year2, 'IPEDS Institution Name')\n",
    "\n",
    "inst_g = growth(inst1, inst2, num1, num2)\n",
    "\n",
    "main_inst1, num1 = breakout(main, year1, 'IPEDS Institution Name')\n",
    "main_inst2, num2 = breakout(main, year2, 'IPEDS Institution Name')\n",
    "\n",
    "main_inst_g = growth(main_inst1, main_inst2, num1, num2)\n",
    "\n",
    "main_zone1, num1 = breakout(main, year1, 'Institution_BEA_zone')\n",
    "main_zone2, num2 = breakout(main, year2, 'Institution_BEA_zone')\n",
    "\n",
    "main_zone_g = growth(main_zone1, main_zone2, num1, num2)\n",
    "\n",
    "zone1, num1 = breakout(post, year1, 'Institution_BEA_zone')\n",
    "zone2, num2 = breakout(post, year2, 'Institution_BEA_zone')\n",
    "\n",
    "zone_g = growth(zone1, zone2, num1, num2)\n",
    "\n",
    "baseline_zone1, num1 = breakout(bls, year1, 'BEA_zone', Job_ID=False)\n",
    "baseline_zone2, num2 = breakout(bls, year2, 'BEA_zone', Job_ID=False)\n",
    "\n",
    "baseline_zone_g = growth(baseline_zone1, baseline_zone2, num1, num2)"
   ]
  },
  {
   "cell_type": "code",
   "execution_count": null,
   "metadata": {
    "scrolled": true
   },
   "outputs": [],
   "source": [
    "inst_g"
   ]
  },
  {
   "cell_type": "code",
   "execution_count": null,
   "metadata": {},
   "outputs": [],
   "source": [
    "main_inst_g"
   ]
  },
  {
   "cell_type": "code",
   "execution_count": null,
   "metadata": {},
   "outputs": [],
   "source": [
    "zone_g"
   ]
  },
  {
   "cell_type": "code",
   "execution_count": null,
   "metadata": {
    "scrolled": true
   },
   "outputs": [],
   "source": [
    "main_zone_g"
   ]
  },
  {
   "cell_type": "code",
   "execution_count": null,
   "metadata": {},
   "outputs": [],
   "source": [
    "baseline_zone_g"
   ]
  },
  {
   "cell_type": "code",
   "execution_count": null,
   "metadata": {},
   "outputs": [],
   "source": [
    "cat = pd.DataFrame(bls[['BEA_zone', 'Jobs']].groupby(['BEA_zone']).sum()).reset_index()\n",
    "cat = cat.rename(columns={'Jobs':'count'})\n",
    "cat"
   ]
  },
  {
   "cell_type": "code",
   "execution_count": null,
   "metadata": {},
   "outputs": [],
   "source": [
    "index = pd.DataFrame(main_table['IPEDS Institution Name'].value_counts()[:10]).reset_index()['index'].values"
   ]
  },
  {
   "cell_type": "code",
   "execution_count": null,
   "metadata": {},
   "outputs": [],
   "source": [
    "years = [2007, 2010, 2011, 2012, 2013, 2014, 2015, 2016, 2017]\n",
    "index = inst_g[:25]['index'].values\n",
    "main = main_table.merge(mask, on='Job ID', how='inner')\n",
    "w_df = main[main['IPEDS Institution Name'].apply(cat_validate, args=(index,))]\n",
    "\n",
    "breakdown = pd.DataFrame(w_df[['IPEDS Institution Name', 'Year', 'Job ID']].groupby(['IPEDS Institution Name', 'Year']).count()).reset_index()\n",
    "\n",
    "total = np.zeros((0,9))\n",
    "for name in index:\n",
    "    temp = breakdown[breakdown['IPEDS Institution Name']==name]\n",
    "#     counts = temp['Job ID'].values\n",
    "    counts = np.zeros(9,)\n",
    "    i = 0\n",
    "    for year in years:\n",
    "        docs = temp[temp['Year']==year]['Job ID'].values\n",
    "        if len(docs) == 1:\n",
    "            counts[i] = docs[0]\n",
    "        i+=1\n",
    "    total = np.vstack((total, counts))\n",
    "    \n",
    "ind = np.arange(total.shape[1])\n",
    "\n",
    "fix, ax = plt.subplots(figsize=(20,10))\n",
    "\n",
    "i=0\n",
    "for series in total:\n",
    "    ax.plot(ind, series, label=index[i])\n",
    "    i+=1\n",
    "\n",
    "plt.xticks(ind, years)\n",
    "plt.legend(loc='best')\n",
    "plt.show()"
   ]
  },
  {
   "cell_type": "code",
   "execution_count": null,
   "metadata": {
    "scrolled": true
   },
   "outputs": [],
   "source": [
    "penn = main_table[main_table['IPEDS Institution Name']=='Pennsylvania State University-Main Campus']\n",
    "penn = penn.merge(mask, on='Job ID', how='inner')\n",
    "\n",
    "penn[penn['Year']==2017]"
   ]
  },
  {
   "cell_type": "code",
   "execution_count": null,
   "metadata": {},
   "outputs": [],
   "source": [
    "main"
   ]
  },
  {
   "cell_type": "code",
   "execution_count": null,
   "metadata": {
    "scrolled": false
   },
   "outputs": [],
   "source": [
    "def graph_growth(df, category, title, top=10, color1='royalblue', color2='gold'):\n",
    "    \n",
    "    df= df[:10]\n",
    "    \n",
    "    labels = df['index'].values\n",
    "    N = len(labels)\n",
    "    \n",
    "#     first = df['inc_x'].values\n",
    "#     second = df['inc_y'].values\n",
    "    first = df['count_x'].values\n",
    "    second = df['count_y'].values\n",
    "    \n",
    "    growth = df['growth'].values\n",
    "    \n",
    "    ind = np.arange(N)\n",
    "    width = 0.2\n",
    "    \n",
    "    fig, ax = plt.subplots(figsize=(12,6))\n",
    "    \n",
    "    ax.bar(ind-width/2, first, width, color=color1, label='2007')\n",
    "    ax.bar(ind+width/2, second, width, color=color2, label='2017')\n",
    "    \n",
    "    o_max = max(np.max(first), np.max(second))\n",
    "    \n",
    "    for i in range(len(ind)):\n",
    "        i_max = 0\n",
    "        if i_max < first[i]:\n",
    "            i_max = first[i]\n",
    "        if i_max < second[i]:\n",
    "            i_max = second[i]\n",
    "        plt.text(ind[i]-1.5*width, i_max+o_max/100, str(round(growth[i]*100, 2)) + '% Growth')\n",
    "    \n",
    "    plt.xticks(ind, labels, rotation=45, ha='right')\n",
    "    plt.xlabel(category)\n",
    "    plt.ylabel('Number of Postings in ' + category)\n",
    "    plt.legend(loc='upper right')\n",
    "    plt.title(title)\n",
    "    \n",
    "    plt.show()\n",
    "    \n"
   ]
  },
  {
   "cell_type": "code",
   "execution_count": null,
   "metadata": {},
   "outputs": [],
   "source": [
    "graph_growth(main_zone_g, 'BEA Zone', 'Change in Total Data BEA Zone sizes from 2007 to 2017')\n",
    "graph_growth(zone_g, 'BEA Zone', 'Change in Post-Doc BEA Zone sizes from 2007 to 2017')\n",
    "\n",
    "graph_growth(baseline_zone_g, 'BEA Zone', 'Change in Baseline BLS Employment in BEA Zone from 2007 to 2017')\n",
    "\n",
    "# graph_growth(main_inst_g, 'IPEDS Institution', 'Change in Relative Institution sizes from\\n2007 to 2017 in all Postings',\n",
    "#              color1='maroon', color2='seagreen')\n",
    "# graph_growth(inst_g, 'IPEDS Institution', 'Change in Relative Institution sizes from\\n2007 to 2017 in Post-Doc Postings',\n",
    "#              color1='maroon', color2='seagreen')"
   ]
  },
  {
   "cell_type": "code",
   "execution_count": null,
   "metadata": {},
   "outputs": [],
   "source": [
    "# Superimposed Categorical growth:\n",
    "#     Two dataframes are used to graph categorical changes across two datasets and\n",
    "#     two time periods. An example of this is postings within the post-doc bucket being\n",
    "#     comapared to postings in HEJP as a whole in 2007 and 2017.\n",
    "\n",
    "def super_graph_growth(df1, df2, category, years, title, type1, type2, colors1, colors2, scale1=1, scale2=1, top=10):\n",
    "    \n",
    "    comb = df1.merge(df2, on='index', how='inner')\n",
    "    comb = comb.sort_values(by='growth_y', ascending=False)\n",
    "    comb = comb[:top]\n",
    "    \n",
    "#     display(comb)\n",
    "    \n",
    "    labels = comb['index'].values\n",
    "    ind = np.arange(len(labels))\n",
    "    width = 0.4\n",
    "    \n",
    "    first1 = comb['count_x_x'].values/scale1\n",
    "    first2 = comb['count_y_x'].values/scale1\n",
    "    \n",
    "    second1 = comb['count_x_y'].values/scale2\n",
    "    second2 = comb['count_y_y'].values/scale2\n",
    "    \n",
    "    top_y = max(max(np.amax(first1), np.amax(first2)), max(np.amax(second1), np.amax(second2))) * 1.1\n",
    "    \n",
    "    fig, ax2 = plt.subplots(figsize=(12, 6))\n",
    "    \n",
    "    bar3 = ax2.bar(ind-width/2, second1, width, color=colors2[0], label=str(years[0]) + ' ' + type2)\n",
    "    bar4 = ax2.bar(ind+width/2, second2, width, color=colors2[1], label=str(years[1]) + ' ' + type2)\n",
    "    \n",
    "    ax2.set_ylim(top=top_y)\n",
    "    ax2.set_ylabel('Number of ' + type2 + ' Jobs in ' + category + '\\nScale Factor: ' + str(scale2))\n",
    "    \n",
    "    ax1 = ax2.twinx()\n",
    "    ax1.grid(False)\n",
    "    \n",
    "    bar1 = ax1.bar(ind-width/2, first1, width/2, color=colors1[0], label=str(years[0]) + ' ' + type1)\n",
    "    bar2 = ax1.bar(ind+width/2, first2, width/2, color=colors1[1], label=str(years[1]) + ' ' + type1)\n",
    "    \n",
    "    ax1.set_ylim(top=top_y)\n",
    "    ax1.set_ylabel('Number of ' + type1 + ' Jobs in ' + category + '\\nScale Factor: ' + str(scale1))\n",
    "    \n",
    "    plt.xticks(ind, labels, rotation=45, ha='right')\n",
    "    plt.xlabel(category)\n",
    "    \n",
    "    bars = [bar1, bar3, bar2, bar4]\n",
    "    labs = [b.get_label() for b in bars]\n",
    "    plt.legend(bars, labs, loc='best')\n",
    "    \n",
    "    plt.title(title)\n",
    "    \n",
    "    plt.show()\n",
    "\n",
    "super_graph_growth(zone_g, main_zone_g, 'BEA Zone', (2007, 2017), 'Post-Doc BEA Zone Growth vs HEJP Baseline\\n2007 to 2017', \n",
    "                   'Post-Docs', 'HEJP', ('royalblue', 'goldenrod'), ('cornflowerblue', 'gold'), scale2=100)\n",
    "\n",
    "super_graph_growth(main_zone_g, baseline_zone_g, 'BEA Zone', (2007, 2017), 'HEJP BEA Zone Growth vs BLS Baseline\\n2007 to 2017',\n",
    "                   'HEJP', 'BLS', ('cornflowerblue', 'gold'), ('lightskyblue', 'bisque'), scale1=100, scale2=10000)"
   ]
  },
  {
   "cell_type": "code",
   "execution_count": null,
   "metadata": {},
   "outputs": [],
   "source": [
    "# Per Capita Post-Doc investigations\n",
    "def percap_breakout(df, category, year):\n",
    "    df = df[df['Year']==year]\n",
    "\n",
    "    group1 = df.groupby([category, 'IPEDS Institution Name']).count()\n",
    "    group1 = pd.DataFrame(group1).reset_index()[[category, 'IPEDS Institution Name', 'Job ID']]\n",
    "    \n",
    "#     group1 = group1[group1['Job ID']>=6]\n",
    "\n",
    "    group2 = group1[[category, 'IPEDS Institution Name']].groupby(category).count()\n",
    "    group2 = pd.DataFrame(group2).reset_index()\n",
    "    group2 = group2.rename(columns={'IPEDS Institution Name':'heads'})\n",
    "\n",
    "    total = df[category].value_counts()\n",
    "    total = pd.DataFrame(total).reset_index()\n",
    "    total = total.rename(columns={category:'counts', 'index':category})\n",
    "\n",
    "    final = total.merge(group2, on=category, how='inner')\n",
    "\n",
    "    final['percap'] = np.true_divide(final['counts'], final['heads'])\n",
    "\n",
    "    final = final.sort_values(by='percap', ascending=False).reset_index(drop=True)\n",
    "\n",
    "    return final\n",
    "\n",
    "category = 'Institution_BEA_zone'\n",
    "year1 = 2007\n",
    "year2 = 2017\n",
    "title = 'Posting Counts and Per Institution Averages for\\nPost docs from '+ str(year1) +' to '+ str(year2)\n",
    "\n",
    "colors1 = ('olivedrab', 'darkgreen', 'tab:green')\n",
    "colors2 = ('rebeccapurple', 'indigo', 'tab:purple')\n",
    "\n",
    "percap1 = percap_breakout(post, category, year1)\n",
    "percap2 = percap_breakout(post, category, year2)\n",
    "\n",
    "final = percap1.merge(percap2, on=category, how='inner')\n",
    "final = final.sort_values(by='counts_y', ascending=False)\n",
    "\n",
    "display(final)\n",
    "\n",
    "fig, ax1 = plt.subplots(figsize=(12,6))\n",
    "\n",
    "labels = final['Institution_BEA_zone'].values\n",
    "ind = np.arange(len(labels))\n",
    "width = 0.2\n",
    "\n",
    "counts1 = final['counts_x'].values\n",
    "counts2 = final['counts_y'].values\n",
    "\n",
    "percap1 = final['percap_x'].values\n",
    "percap2 = final['percap_y'].values\n",
    "\n",
    "bar1 = ax1.bar(ind-1.5*width, counts1, width, color=colors1[0], label='Count ' + str(year1))\n",
    "bar2 = ax1.bar(ind-0.5*width, counts2, width, color=colors1[1], label='Count ' + str(year2))\n",
    "\n",
    "ax1.set_ylabel('Number of Post-Doc Postings by BEA Zone', color=colors1[2])\n",
    "ax1.tick_params(axis='y', labelcolor=colors1[2])\n",
    "\n",
    "ax2 = ax1.twinx()\n",
    "ax2.grid(False)\n",
    "\n",
    "bar3  = ax2.bar(ind+0.5*width, percap1, width, color=colors2[0], label='Per Institution ' + str(year1))\n",
    "bar4  = ax2.bar(ind+1.5*width, percap2, width, color=colors2[1], label='Per Institution ' + str(year2))\n",
    "\n",
    "ax2.set_ylabel('Average Post-Doc Postings Per Institution\\nby BEA Zone', color='tab:purple')\n",
    "ax2.tick_params(axis='y', labelcolor=colors2[2])\n",
    "\n",
    "bars = [bar1, bar2, bar3, bar4]\n",
    "labs = [b.get_label() for b in bars]\n",
    "plt.legend(bars, labs, loc='upper center')\n",
    "\n",
    "plt.xticks(ind, labels, rotation=45, ha='right')\n",
    "plt.title(title)\n",
    "\n",
    "plt.show()"
   ]
  },
  {
   "cell_type": "code",
   "execution_count": null,
   "metadata": {},
   "outputs": [],
   "source": [
    "# Specialized Skill Shift\n",
    "\n"
   ]
  },
  {
   "cell_type": "code",
   "execution_count": null,
   "metadata": {},
   "outputs": [],
   "source": []
  },
  {
   "cell_type": "code",
   "execution_count": null,
   "metadata": {},
   "outputs": [],
   "source": [
    "zone_g"
   ]
  },
  {
   "cell_type": "code",
   "execution_count": null,
   "metadata": {},
   "outputs": [],
   "source": [
    "two_t_test(0.155761, 0.234685, 0, 0.131500, 0.234685, 2812, 5697, sides='two', side='+')"
   ]
  },
  {
   "cell_type": "code",
   "execution_count": null,
   "metadata": {},
   "outputs": [],
   "source": [
    "stats.t.cdf(-1.96, 25)"
   ]
  },
  {
   "cell_type": "code",
   "execution_count": null,
   "metadata": {},
   "outputs": [],
   "source": []
  },
  {
   "cell_type": "code",
   "execution_count": null,
   "metadata": {},
   "outputs": [],
   "source": []
  },
  {
   "cell_type": "code",
   "execution_count": null,
   "metadata": {},
   "outputs": [],
   "source": [
    "main = main_table.merge(mask, on='Job ID', how='inner')\n",
    "\n",
    "wSal = main_table[main_table['Annual Salary']>0]\n",
    "\n",
    "print(wSal['Job ID'].nunique()/main['Job ID'].nunique())\n",
    "\n",
    "desc = wSal['Annual Salary'].describe()\n",
    "\n",
    "display(desc)\n",
    "print(\"IQR:\", desc['75%']-desc['50%'] )"
   ]
  },
  {
   "cell_type": "code",
   "execution_count": null,
   "metadata": {},
   "outputs": [],
   "source": [
    "main = main_table.merge(mask, on='Job ID', how='inner')\n",
    "\n",
    "wSal = main[main['Annual Salary']>0]\n",
    "\n",
    "print(wSal['Job ID'].nunique()/main['Job ID'].nunique())\n",
    "\n",
    "desc = wSal['Annual Salary'].describe()\n",
    "\n",
    "display(desc)\n",
    "print(\"IQR:\", desc['75%']-desc['50%'] )"
   ]
  },
  {
   "cell_type": "code",
   "execution_count": null,
   "metadata": {},
   "outputs": [],
   "source": []
  },
  {
   "cell_type": "code",
   "execution_count": null,
   "metadata": {},
   "outputs": [],
   "source": [
    "wSal['Annual Salary'].median()"
   ]
  },
  {
   "cell_type": "code",
   "execution_count": null,
   "metadata": {},
   "outputs": [],
   "source": [
    "fig, ax = plt.subplots(figsize=(3,10))\n",
    "result = ax.boxplot(wSal['Annual Salary'].values, whis='range')\n",
    "plt.show()"
   ]
  },
  {
   "cell_type": "code",
   "execution_count": null,
   "metadata": {},
   "outputs": [],
   "source": [
    "plt.hist(wSal['Annual Salary'], bins=75)\n",
    "plt.show()"
   ]
  },
  {
   "cell_type": "code",
   "execution_count": null,
   "metadata": {},
   "outputs": [],
   "source": [
    "position, sal = probscale.plot_pos(wSal['Annual Salary'].values)\n",
    "position *= 100\n",
    "fig, ax = plt.subplots(figsize=(12,6))\n",
    "ax.plot(position, sal, marker='.', linestyle='none', label='Salary')\n",
    "ax.set_xlabel('Percentile')\n",
    "ax.set_ylabel('Annual Salary')\n",
    "plt.show()"
   ]
  },
  {
   "cell_type": "code",
   "execution_count": null,
   "metadata": {},
   "outputs": [],
   "source": [
    "main = main_table.merge(mask, on='Job ID', how='inner')\n",
    "total = mask['Job ID'].nunique()\n",
    "null = main['Occupation'].value_counts()[:1].values[0]\n",
    "\n",
    "print('There are', total, 'number of observations, of which', null, 'have no recorded occupation.\\nThis represents', str(round(null/total * 100, 2)) + '%', 'of the Post-Doc postings.')"
   ]
  },
  {
   "cell_type": "code",
   "execution_count": null,
   "metadata": {},
   "outputs": [],
   "source": [
    "category = \"Career Area\"\n",
    "\n",
    "w_occ = main_table[main_table[category]!='na']\n",
    "post_w = w_occ.merge(mask, on='Job ID', how='inner')\n",
    "occ = pd.DataFrame(post_w[category].value_counts()).reset_index()\n",
    "\n",
    "df = occ[:10]\n",
    "\n",
    "fig, ax = plt.subplots(figsize=(12,6))\n",
    "\n",
    "labels = df['index']\n",
    "values = df[category]\n",
    "\n",
    "ind = np.array([x for x, _ in enumerate(labels)])\n",
    "\n",
    "ax.bar(x = ind, height = values)\n",
    "\n",
    "plt.xticks(ind, labels, rotation = 'vertical')\n",
    "plt.xlabel(category + 's')\n",
    "plt.ylabel('Number of Jobs in\\n' + category)\n",
    "\n",
    "plt.show()"
   ]
  },
  {
   "cell_type": "code",
   "execution_count": null,
   "metadata": {},
   "outputs": [],
   "source": [
    "post_desc = wSal['Annual Salary'].describe()\n",
    "post_w = post_w[post_w['Annual Salary']>0]\n",
    "post_occ_desc = post_w['Annual Salary'].describe()\n",
    "\n",
    "one = post_desc\n",
    "two = post_occ_desc\n",
    "\n",
    "two_t_test(one['mean'], two['mean'], 0, np.var(wSal['Annual Salary']), np.var(post_w['Annual Salary']), one['count'], two['count'], sides='two')"
   ]
  },
  {
   "cell_type": "code",
   "execution_count": null,
   "metadata": {},
   "outputs": [],
   "source": [
    "main_table[main_table['Career Area']=='Planning and Analysis']['Occupation'].value_counts()[:25]"
   ]
  },
  {
   "cell_type": "code",
   "execution_count": null,
   "metadata": {},
   "outputs": [],
   "source": [
    "# Benchmarks\n"
   ]
  },
  {
   "cell_type": "code",
   "execution_count": null,
   "metadata": {},
   "outputs": [],
   "source": [
    "post = main_table.merge(mask, on='Job ID', how='inner')\n",
    "post = post[~post['IPEDS Institution Name'].isnull()]\n",
    "years = [2007, 2010, 2011, 2012, 2013, 2014, 2015, 2016, 2017]\n",
    "# zones = list(post['Institution_BEA_zone'].unique())[:8]\n",
    "zones = ['Plains', 'Mideast', 'New England']\n",
    "tensor = np.zeros((len(years), 3, 0))\n",
    "\n",
    "post = pd.DataFrame(post.groupby(['Institution_BEA_zone', 'Year', 'IPEDS Institution Name']).count()['Job ID']).reset_index()\n",
    "\n",
    "for zone in zones:\n",
    "    DF = post[post['Institution_BEA_zone']==zone]\n",
    "    tuples = np.zeros((0, 3))\n",
    "    for year in years:\n",
    "        df = DF[DF['Year']==year]\n",
    "        \n",
    "        df = df[df['Job ID']>=6]\n",
    "    \n",
    "        jobs = df['Job ID'].sum()\n",
    "        inst = df['IPEDS Institution Name'].nunique()\n",
    "\n",
    "#         print(zone, year, jobs, inst)\n",
    "        per = jobs/inst\n",
    "\n",
    "        tuples = np.vstack((tuples, np.array((jobs, inst, per))))\n",
    "    \n",
    "    tensor = np.dstack((tensor, tuples))\n",
    "\n",
    "print(tensor.shape)"
   ]
  },
  {
   "cell_type": "code",
   "execution_count": null,
   "metadata": {},
   "outputs": [],
   "source": [
    "ind = np.arange(len(years))\n",
    "colors = ['royalblue', 'limegreen', 'firebrick', 'c', 'indigo', 'gold', 'deeppink', 'grey']\n",
    "titles = ['Post-Doc Counts', 'Number of Institutions', 'Post per Institution']\n",
    "\n",
    "for i in range(3):\n",
    "    fig, ax = plt.subplots(figsize=(12,9))\n",
    "    for j in range(len(zones)):\n",
    "        ax.plot(tensor[:,i,j], color=colors[j], label=zones[j])\n",
    "    plt.title(titles[i])\n",
    "    plt.xticks(ind, years)\n",
    "    plt.legend(loc='best')\n",
    "    plt.show()"
   ]
  },
  {
   "cell_type": "code",
   "execution_count": null,
   "metadata": {},
   "outputs": [],
   "source": [
    "post = main_table.merge(mask, on='Job ID', how='inner')\n",
    "group_w = pd.DataFrame(post[['Year', 'BEA_zone', 'IPEDS Institution Name', 'Job ID']].groupby(['BEA_zone', 'Year']).nunique())\n",
    "group_w = group_w.drop(columns=['Year', 'BEA_zone'])\n",
    "\n",
    "group_w['per'] = np.true_divide(group_w['Job ID'], group_w['IPEDS Institution Name'])\n",
    "display(group_w)\n",
    "\n",
    "group_w = group_w.reset_index()"
   ]
  },
  {
   "cell_type": "code",
   "execution_count": null,
   "metadata": {},
   "outputs": [],
   "source": [
    "post = main_table.merge(mask, on='Job ID', how='inner')\n",
    "post = post[~post['IPEDS Institution Name'].isnull()]\n",
    "group = pd.DataFrame(post[['Year', 'BEA_zone', 'IPEDS Institution Name', 'Job ID']].groupby(['BEA_zone', 'Year']).nunique())\n",
    "group = group.drop(columns=['Year', 'BEA_zone'])\n",
    "\n",
    "group['per'] = np.true_divide(group['Job ID'], group['IPEDS Institution Name'])\n",
    "display(group)\n",
    "\n",
    "group = group.reset_index()"
   ]
  },
  {
   "cell_type": "code",
   "execution_count": null,
   "metadata": {
    "scrolled": false
   },
   "outputs": [],
   "source": [
    "total = group.merge(group_w[['BEA_zone', 'Year', 'Job ID']].rename(columns={'Job ID':'other'}),\n",
    "                    on=['BEA_zone', 'Year'], how='inner')\n",
    "\n",
    "total['no_inst'] = total['other'] - total['Job ID']\n",
    "\n",
    "total = total.rename(columns={'IPEDS Institution Name':'inst_count', 'Job ID':'count'})\n",
    "total = total.drop(columns='other')\n",
    "\n",
    "total = total.set_index(keys=['BEA_zone', 'Year'])\n",
    "total"
   ]
  },
  {
   "cell_type": "code",
   "execution_count": null,
   "metadata": {
    "scrolled": true
   },
   "outputs": [],
   "source": [
    "temp = pd.DataFrame(post[post['BEA_zone'] == 'Plains'].groupby(['BEA_zone', 'Year', 'IPEDS Institution Name']).count()['Job ID'])\n",
    "\n",
    "display(temp)\n",
    "\n",
    "temp['Job ID'].value_counts()"
   ]
  },
  {
   "cell_type": "code",
   "execution_count": null,
   "metadata": {},
   "outputs": [],
   "source": [
    "main = main_table.merge(mask, on='Job ID', how='inner')\n",
    "main = main[(main['IPEDS Institution Name']=='Princeton University')&(main['BEA_zone']=='Rocky Mountiains')]\n",
    "main"
   ]
  },
  {
   "cell_type": "code",
   "execution_count": null,
   "metadata": {},
   "outputs": [],
   "source": []
  },
  {
   "cell_type": "code",
   "execution_count": null,
   "metadata": {
    "scrolled": false
   },
   "outputs": [],
   "source": [
    "fac = faculty_table.merge(mask, on='Job ID', how='inner')\n",
    "\n",
    "def get_fields(df, year):\n",
    "\n",
    "    df = df[df['Year']==year]\n",
    "    \n",
    "    fields = pd.DataFrame(df[NSF].sum()).reset_index()\n",
    "\n",
    "    fields = fields.rename(columns={0:'count'})\n",
    "\n",
    "    fields = fields.sort_values(by='count', ascending=False)\n",
    "\n",
    "    return fields\n",
    "\n",
    "fields_10 = get_fields(fac, 2010)\n",
    "fields_17 = get_fields(fac, 2017)\n",
    "\n",
    "fields = fields_10.merge(fields_17, on='index', how='outer')\n",
    "\n",
    "fields"
   ]
  },
  {
   "cell_type": "code",
   "execution_count": null,
   "metadata": {},
   "outputs": [],
   "source": []
  },
  {
   "cell_type": "code",
   "execution_count": null,
   "metadata": {},
   "outputs": [],
   "source": [
    "NSF = ['Agricultural sciences and natural resources', 'Biological and biomedical sciences', 'Health sciences', 'Chemistry', 'Geosciences, atmospheric, and ocean sciences', 'Physics and astronomy', 'Computer and information sciences', 'Mathematics and statistics', 'Psychology', 'Anthropology', 'Economics', 'Political science and government', 'Sociology', 'Other social sciences',   'Foreign languages and literature', 'History', 'Letters', 'Other humanities and arts', 'Business management and administration', 'Communication', 'FS_Life_sciences', 'FS_Physical_sciences_and_earth_sciences', 'FS_Mathematics_and_computer_sciences', 'FS_Psychology_and_social_sciences', 'FS_Engineering', 'FS_Education', 'FS_Humanities_and_arts', 'FS_Others']\n",
    "fac = faculty_table[faculty_table['Post-Doctoral']==1]\n",
    "\n",
    "def fac_cat(df, year, min):\n",
    "    df = df[df['Year']==year]\n",
    "    num = df['Job ID'].nunique()\n",
    "    \n",
    "    df = pd.DataFrame(df[NSF].sum()).reset_index().rename(columns={0:'count'})\n",
    "    df['inc'] = np.true_divide(df['count'], num)\n",
    "    \n",
    "    df = df[df['count']>min]\n",
    "    df['var'] = df['inc'] * (1 - df['inc'])\n",
    "    \n",
    "    return df, num\n",
    "    \n",
    "main_fac07, num07 = fac_cat(faculty_table, 2007, 6)\n",
    "main_fac17, num17 = fac_cat(faculty_table, 2017, 6)\n",
    "\n",
    "main_grow = growth(main_fac07, main_fac17, num07, num17)\n",
    "\n",
    "fac07, num07 = fac_cat(fac, 2007, 6)\n",
    "fac17, num17 = fac_cat(fac, 2017, 6)\n",
    "\n",
    "grow = growth(fac07, fac17, num07, num17)\n",
    "\n",
    "graph_growth(main_grow, 'NSF Field', 'Change in Relative NSF Field sizes from 2007 to 2017')\n",
    "graph_growth(grow, 'NSF Field', 'Change in Post-Doc Relative NSF Representation from 2007 to 2017')"
   ]
  },
  {
   "cell_type": "code",
   "execution_count": null,
   "metadata": {},
   "outputs": [],
   "source": [
    "skill_p = skill_table.drop(columns=['Unnamed: 0', 'Unnamed: 0.1']).merge(mask, on='Job ID', how='inner')\n",
    "skill_f = skill_table.drop(columns=['Unnamed: 0', 'Unnamed: 0.1']).merge(faculty_table[faculty_table['Faculty']==1][['Job ID']], on='Job ID', how='inner')"
   ]
  },
  {
   "cell_type": "code",
   "execution_count": null,
   "metadata": {},
   "outputs": [],
   "source": [
    "def skill_break(df, year, NSF=None):\n",
    "    df = df[df['Year']==year]\n",
    "    s_df = df[df['Is Specialized Skill?']==1]\n",
    "    \n",
    "    if NSF is not None:\n",
    "        mask = faculty_table[faculty_table[NSF]==1][['Job ID']]\n",
    "        df = df.merge(mask, on='Job ID', how='inner')\n",
    "        s_df = s_df.merge(mask, on='Job ID', how='inner')\n",
    "    \n",
    "    skills = pd.DataFrame(df['Skill Name'].value_counts()).reset_index()\n",
    "    skills = skills.rename(columns={'Skill Name':'count'})\n",
    "    skills['inc'] = np.true_divide(skills['count'], df['Job ID'].nunique())\n",
    "    \n",
    "    s_skills = pd.DataFrame(s_df['Skill Name'].value_counts()).reset_index()\n",
    "    s_skills = s_skills.rename(columns={'Skill Name':'count'})\n",
    "    s_skills['inc'] = np.true_divide(s_skills['count'], s_df['Job ID'].nunique())\n",
    "    \n",
    "    return skills, s_skills\n",
    "\n",
    "def s_graph_rank(df, title, color='blue', top=10):\n",
    "    \n",
    "    df = df[:top]\n",
    "    \n",
    "    fig, ax = plt.subplots(figsize=(12,6))\n",
    "    \n",
    "    labels = df['index'].values\n",
    "    counts = df['count'].values\n",
    "    \n",
    "    ind = np.arange(len(labels))\n",
    "    \n",
    "    ax.bar(ind, counts, color=color)\n",
    "    \n",
    "    plt.xticks(ind, labels, rotation=45, ha='right')\n",
    "    plt.xlabel('Skill Name')\n",
    "    plt.ylabel('Number with Skill')\n",
    "#     plt.legend(loc='upper right')\n",
    "    plt.title(title)\n",
    "    \n",
    "    plt.show()\n"
   ]
  },
  {
   "cell_type": "code",
   "execution_count": null,
   "metadata": {
    "scrolled": false
   },
   "outputs": [],
   "source": [
    "nsfs = ['Biological and biomedical sciences', 'Chemistry', 'Computer and information sciences', 'Economics', 'Psychology']\n",
    "colors = [('royalblue', 'cornflowerblue'),('maroon', 'firebrick'),('goldenrod', 'gold'),('darkgreen', 'forestgreen'),('indigo', 'rebeccapurple')]\n",
    "year1 = 2010\n",
    "year2 = 2017\n",
    "\n",
    "def s_graph_growth(df, title, color='blue', top=10):\n",
    "    \n",
    "    df = df[:top]\n",
    "    \n",
    "    fig, ax = plt.subplots(figsize=(12,6))\n",
    "    \n",
    "    labels = df['index'].values\n",
    "    counts = df['change'].values\n",
    "    \n",
    "    ind = np.arange(len(labels))\n",
    "    \n",
    "    ax.bar(ind, counts, color=color)\n",
    "    \n",
    "    plt.xticks(ind, labels, rotation=45, ha='right')\n",
    "    plt.xlabel('change')\n",
    "    plt.ylabel('Change in Skill')\n",
    "#     plt.legend(loc='upper right')\n",
    "    plt.title(title)\n",
    "    \n",
    "    plt.show()\n",
    "\n",
    "def get_diffs(df):\n",
    "    df['change'] = df['inc_y'] - df['inc_x']\n",
    "    df['growth'] = np.true_divide(df['inc_y'] - df['inc_x'], df['inc_x'])\n",
    "    return df.sort_values(by='growth', ascending=False)\n",
    "\n",
    "for i in range(len(nsfs)):\n",
    "    nsf = nsfs[i]\n",
    "    color = colors[i]\n",
    "    \n",
    "    print(nsf)\n",
    "    \n",
    "    skills1, s_skills1 = skill_break(skill_p, year1, NSF=nsf)\n",
    "    main_skills1, main_s_skills1 = skill_break(skill_f, year1, NSF=nsf)\n",
    "\n",
    "    skills2, s_skills2 = skill_break(skill_p, year2, NSF=nsf)\n",
    "    main_skills2, main_s_skills2 = skill_break(skill_f, year2, NSF=nsf)\n",
    "    \n",
    "#     main_s_skills1 = main_s_skills1.rename(columns={'index':'skill', 'Skill Name':'count'}).reset_index()\n",
    "#     main_s_skills2 = main_s_skills2.rename(columns={'index':'skill', 'Skill Name':'count'}).reset_index()\n",
    "#     display(main_s_skills1.merge(main_s_skills2, on='index', how='inner').drop(columns='index')[:10])\n",
    "    \n",
    "#     s_skills1 = s_skills1.rename(columns={'index':'skill', 'Skill Name':'count'}).reset_index()\n",
    "#     s_skills2 = s_skills2.rename(columns={'index':'skill', 'Skill Name':'count'}).reset_index()\n",
    "#     display(s_skills1.merge(s_skills2, on='index', how='inner').drop(columns='index')[:10])\n",
    "\n",
    "    fac_s = main_s_skills1.merge(main_s_skills2[:10], on='index', how='right')\n",
    "    fac_s = get_diffs(fac_s)\n",
    "    \n",
    "    post_s = s_skills1.merge(s_skills2[:10], on='index', how='right')\n",
    "    post_s = get_diffs(post_s)\n",
    "    \n",
    "    display(post_s)\n",
    "    \n",
    "#     s_graph_rank(main_s_skills2, 'Top Ranked Skills for ' + nsf + '\\nFaculty in 2017', color=color[0])\n",
    "#     s_graph_growth(fac_s, 'Growth of Top 2017 Skills for ' + nsf + '\\nFaculty in 2017', color=color[0])\n",
    "    \n",
    "    s_graph_rank(s_skills2, 'Top Ranked Skills for ' + nsf + '\\nPost-Docs in 2017', color=color[1])\n",
    "    s_graph_growth(post_s, 'Growth of Top 2017 Skills for ' + nsf + '\\nPost-Docs in 2017', color=color[1])\n",
    "    \n",
    "    \n",
    "    \n",
    "#     graph(main_s_skills1, 'Top 10 Requested ' + nsf + ' Specialized\\nSkills in ' + str(year1) \n",
    "#           + ' for Faculty Postings', color=color)\n",
    "#     graph(main_skills2, 'Top 10 Requested ' + nsf + ' Specialized\\nSkills in ' + str(year2) \n",
    "#           + ' for Faculty Postings', color=color)\n",
    "\n",
    "#     graph(s_skills1, 'Top 10 Requested ' + nsf + ' Specialized\\nSkills in ' + str(year1) \n",
    "#           + ' for Post-Doc Postings', color=color)\n",
    "#     graph(s_skills2, 'Top 10 Requested ' + nsf + ' Specialized\\nSkills in ' + str(year2) \n",
    "#           + ' for Post-Doc Postings', color=color)"
   ]
  },
  {
   "cell_type": "code",
   "execution_count": null,
   "metadata": {},
   "outputs": [],
   "source": [
    "skills1, s_skills1 = skill_break(skill_p, 2007, NSF='Letters')"
   ]
  },
  {
   "cell_type": "code",
   "execution_count": null,
   "metadata": {},
   "outputs": [],
   "source": [
    "s_skills1"
   ]
  },
  {
   "cell_type": "code",
   "execution_count": null,
   "metadata": {},
   "outputs": [],
   "source": [
    "skill = skill_table.merge(faculty_table[faculty_table['Letters']==1][['Job ID']], on='Job ID', how='inner')\n",
    "\n",
    "skill = skill[skill['Year']==2010]\n",
    "\n",
    "skill.merge(mask, on='Job ID', how='inner')['Skill Name'].value_counts()"
   ]
  },
  {
   "cell_type": "code",
   "execution_count": null,
   "metadata": {},
   "outputs": [],
   "source": [
    "# Total Categorical Size Changes\n",
    "\n",
    "year1 = 2007\n",
    "year2 = 2017\n",
    "\n",
    "post = main_table.merge(mask, on='Job ID', how='inner')\n",
    "main = main_table.drop(post.index)\n",
    "\n",
    "post1 = post[post['Year']==year1]['Job ID'].nunique()\n",
    "main1 = main[main['Year']==year1]['Job ID'].nunique()\n",
    "\n",
    "post2 = post[post['Year']==year2]['Job ID'].nunique()\n",
    "main2 = main[main['Year']==year2]['Job ID'].nunique()\n",
    "\n",
    "# bls1 = bls[bls['Year']==year1]['Jobs'].sum()\n",
    "# bls2 = bls[bls['Year']==year2]['Jobs'].sum()\n",
    "\n",
    "table = pd.DataFrame([['Post-Doc', post1, post2], ['HEJP', main1, main2]], columns=['Type', year1, year2])\n",
    "# table.append(['BLS', bls1, bls2])\n",
    "\n",
    "table['growth'] = np.true_divide(table[year2]-table[year1], table[year1])"
   ]
  },
  {
   "cell_type": "code",
   "execution_count": null,
   "metadata": {},
   "outputs": [],
   "source": [
    "labels = table['Type'].values\n",
    "ind = np.arange(len(labels))\n",
    "\n",
    "fig, ax = plt.subplots(figsize=(12,6))\n",
    "\n",
    "width=0.5\n",
    "\n",
    "x1 = table['growth'].values * 100\n",
    "# x1 = table[year1].values\n",
    "# x2 = table[year2].values\n",
    "\n",
    "ax.bar(ind, x1, width, color='forestgreen')\n",
    "# ax.bar(ind-width/2, x1, width, color='orange')\n",
    "# ax.bar(ind+width/2, x2, width, color='blue')\n",
    "\n",
    "plt.xticks(ind, labels)\n",
    "plt.ylabel('Percent Growth of Category')\n",
    "plt.xlabel('Posting Type')\n",
    "plt.show()"
   ]
  },
  {
   "cell_type": "code",
   "execution_count": null,
   "metadata": {},
   "outputs": [],
   "source": [
    "cat1 = 'Institution_State'\n",
    "cat2 = 'State'\n",
    "\n",
    "diff = pd.DataFrame(post.groupby(['Year', cat1, cat2]).count()[['Job ID']]).reset_index()\n",
    "diff = diff[diff[cat1]!=diff[cat2]]\n",
    "\n",
    "diff.groupby(['Year', cat1]).sum()"
   ]
  },
  {
   "cell_type": "code",
   "execution_count": null,
   "metadata": {},
   "outputs": [],
   "source": [
    "post"
   ]
  },
  {
   "cell_type": "code",
   "execution_count": null,
   "metadata": {},
   "outputs": [],
   "source": []
  }
 ],
 "metadata": {
  "kernelspec": {
   "display_name": "Python 3",
   "language": "python",
   "name": "python3"
  },
  "language_info": {
   "codemirror_mode": {
    "name": "ipython",
    "version": 3
   },
   "file_extension": ".py",
   "mimetype": "text/x-python",
   "name": "python",
   "nbconvert_exporter": "python",
   "pygments_lexer": "ipython3",
   "version": "3.7.2"
  }
 },
 "nbformat": 4,
 "nbformat_minor": 2
}
