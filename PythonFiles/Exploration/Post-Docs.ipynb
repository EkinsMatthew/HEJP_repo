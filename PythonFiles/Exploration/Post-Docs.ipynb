{
 "cells": [
  {
   "cell_type": "code",
   "execution_count": null,
   "metadata": {},
   "outputs": [],
   "source": [
    "import os\n",
    "import pandas as pd\n",
    "pd.set_option('display.max_columns', 500)\n",
    "pd.set_option('display.max_rows', 1000)\n",
    "pd.set_option('display.max_colwidth', -1)\n",
    "import numpy as np\n",
    "import matplotlib.pyplot as plt\n",
    "from scipy import stats\n",
    "import math\n",
    "plt.style.use('fivethirtyeight')"
   ]
  },
  {
   "cell_type": "code",
   "execution_count": null,
   "metadata": {},
   "outputs": [],
   "source": [
    "# Import relevant dataframes:\n",
    "\n",
    "main_table = pd.read_csv(r\"C:\\Users\\Public\\_Data\\_Data\\Latest_Version\\Main_Data\\Main_Table_10182019.csv\")\n",
    "print(len(main_table))\n",
    "faculty_table = pd.read_csv(r\"C:\\Users\\Public\\_Data\\_Data\\Latest_Version\\Faculty_Data\\Faculty_Table_08272019.csv\")\n",
    "print(len(faculty_table))\n",
    "# skill_table = pd.read_csv(r\"C:\\Users\\Public\\_Data\\_Data\\Latest_Version\\Skills_Data\\Skill_Table_06072019.csv\")\n",
    "# print(len(skill_table))"
   ]
  },
  {
   "cell_type": "code",
   "execution_count": null,
   "metadata": {},
   "outputs": [],
   "source": [
    "def title_swap(string):\n",
    "    dictionary = {'Community and Social Services':'Counseling and Religious Life',\n",
    "                  'Customer and Client Support':'Online Support and University Information',\n",
    "                  'Hospitality, Food, and Tourism':'Event Management and Hospitality', \n",
    "                  'Planning and Analysis':'Analysis', \n",
    "                  'Curriculum and Instructional Designer / Developer':'Curriculum and Instructional Designer', \n",
    "                  'Special Education Teacher':'Accessibility and Disability Services', \n",
    "                  'Teaching Assistant':'Faculty Support', \n",
    "                  'Tutor':'Academic Tutor',\n",
    "                  'Clerical and Administrative':'Administrative',\n",
    "                  'na' : 'Uncategorized'}\n",
    "    if(string in dictionary):\n",
    "        return dictionary[string]\n",
    "    else:\n",
    "        return string\n",
    "    \n",
    "def val_year(year1, year2):\n",
    "    if(year1 >= year2):\n",
    "        if(year1>year2):\n",
    "            temp = year1\n",
    "            year1 = year2\n",
    "            year2 = temp\n",
    "        else:\n",
    "            raise ValueError('Years cannot be the same.')\n",
    "            \n",
    "    return (year1, year2)\n",
    "\n",
    "def cat_validate(actual, desired_list):\n",
    "    return actual in desired_list"
   ]
  },
  {
   "cell_type": "code",
   "execution_count": null,
   "metadata": {},
   "outputs": [],
   "source": [
    "post_doc = main_table[main_table['Job Title'].str.contains('postdoc', case=False, na=False) |\n",
    "                      main_table['Job Title'].str.contains('post doc', case=False, na=False)|\n",
    "                      main_table['Job Title'].str.contains('post-doc', case=False, na=False)]\n",
    "print(len(post_doc))"
   ]
  },
  {
   "cell_type": "code",
   "execution_count": null,
   "metadata": {},
   "outputs": [],
   "source": [
    "mask = faculty_table[faculty_table['Post-Doctoral'] == 1][['Job ID']]\n",
    "print(len(mask))"
   ]
  },
  {
   "cell_type": "code",
   "execution_count": null,
   "metadata": {},
   "outputs": [],
   "source": [
    "boolean_vec = (main_table['Job Title'].str.contains('postdoc', case=False, na=False) |\n",
    "                      main_table['Job Title'].str.contains('post doc', case=False, na=False)|\n",
    "                      main_table['Job Title'].str.contains('post-doc', case=False, na=False))\n",
    "\n",
    "main_table['post_doc'] = boolean_vec + 0\n",
    "\n",
    "faculty_table = faculty_table.merge(main_table[['Job ID', 'post_doc']], on='Job ID', how='inner')"
   ]
  },
  {
   "cell_type": "code",
   "execution_count": null,
   "metadata": {},
   "outputs": [],
   "source": [
    "def boolean(x):\n",
    "    if x > 0:\n",
    "        return 1\n",
    "    else:\n",
    "        return 0\n",
    "\n",
    "faculty_table['Post-Doctoral'] = faculty_table['post_doc'].apply(boolean)"
   ]
  },
  {
   "cell_type": "code",
   "execution_count": null,
   "metadata": {},
   "outputs": [],
   "source": [
    "faculty_table['Post-Doctoral'].sum()"
   ]
  },
  {
   "cell_type": "code",
   "execution_count": null,
   "metadata": {
    "scrolled": true
   },
   "outputs": [],
   "source": [
    "def breakout(df, year, category, sig_level=0.01):\n",
    "    df = df[df['Year']==year]\n",
    "    num = df['Job ID'].nunique()\n",
    "    arr = np.zeros(num)\n",
    "    p = 1\n",
    "    i = 1\n",
    "    while(i <= num):\n",
    "        arr[:i] = 1\n",
    "        p = stats.ttest_1samp(arr, popmean=0).pvalue\n",
    "        if p/2 <= sig_level:\n",
    "            print(num, '->', i)\n",
    "            break\n",
    "        i+=1\n",
    "    \n",
    "    cat = pd.DataFrame(df[category].value_counts()).reset_index()\n",
    "    cat = cat.rename(columns={category:'count'})\n",
    "    cat = cat[cat['count']>=i]\n",
    "    cat['inc'] = np.true_divide(cat['count'], num)\n",
    "    \n",
    "    return cat\n",
    "\n",
    "def growth(df1, df2):\n",
    "    df = df1.merge(df2, on='index', how='outer', indicator=True)\n",
    "    df = df[df['_merge']=='both']\n",
    "    df['growth'] = np.true_divide(df['inc_y'] - df['inc_x'], df['inc_x'])\n",
    "    return df.sort_values('growth', ascending=False).reset_index(drop=True)\n",
    "    \n",
    "mask = faculty_table[faculty_table['Post-Doctoral'] == 1][['Job ID']]\n",
    "post = main_table.merge(mask, on='Job ID', how='inner')\n",
    "\n",
    "inst07 = breakout(post, 2007, 'IPEDS Institution Name')\n",
    "inst17 = breakout(post, 2017, 'IPEDS Institution Name')\n",
    "\n",
    "inst_g = growth(inst07, inst17)\n",
    "\n",
    "zone07 = breakout(post, 2007, 'BEA_Zone')\n",
    "zone17 = breakout(post, 2017, 'BEA_Zone')\n",
    "\n",
    "zone_g = growth(zone07, zone17)"
   ]
  },
  {
   "cell_type": "code",
   "execution_count": null,
   "metadata": {},
   "outputs": [],
   "source": [
    "inst_g"
   ]
  },
  {
   "cell_type": "code",
   "execution_count": null,
   "metadata": {},
   "outputs": [],
   "source": [
    "zone_g"
   ]
  },
  {
   "cell_type": "code",
   "execution_count": null,
   "metadata": {},
   "outputs": [],
   "source": [
    "doc07 = breakout(faculty_table, 2007, 'Post-Doctoral')\n",
    "doc17 = breakout(faculty_table, 2017, 'Post-Doctoral')\n",
    "\n",
    "growth(doc07, doc17)"
   ]
  },
  {
   "cell_type": "code",
   "execution_count": null,
   "metadata": {},
   "outputs": [],
   "source": []
  },
  {
   "cell_type": "code",
   "execution_count": null,
   "metadata": {},
   "outputs": [],
   "source": [
    "def t_test(n):\n",
    "    arr = np.zeros(n)\n",
    "    arr[:4] = 1\n",
    "\n",
    "    mean = np.mean(arr)\n",
    "    diff = (arr - mean)**2\n",
    "    std = math.sqrt(diff.sum()/(n-1))\n",
    "    se = std/math.sqrt(n)\n",
    "    t = (mean - 0)/se\n",
    "    print(mean, std, se, t)\n",
    "\n",
    "# for n in range(100):\n",
    "#     if(n<4):\n",
    "#         continue\n",
    "n=4000000\n",
    "arr = np.zeros(n)\n",
    "arr[:4] = 1\n",
    "test = stats.ttest_1samp(arr, popmean=0)\n",
    "p = test.pvalue\n",
    "t = test.statistic\n",
    "print(n)\n",
    "print('\\t', t, p)\n"
   ]
  },
  {
   "cell_type": "code",
   "execution_count": null,
   "metadata": {},
   "outputs": [],
   "source": [
    "stats.ttest_1samp(arr, popmean=0)"
   ]
  },
  {
   "cell_type": "code",
   "execution_count": null,
   "metadata": {},
   "outputs": [],
   "source": []
  }
 ],
 "metadata": {
  "kernelspec": {
   "display_name": "Python 3",
   "language": "python",
   "name": "python3"
  },
  "language_info": {
   "codemirror_mode": {
    "name": "ipython",
    "version": 3
   },
   "file_extension": ".py",
   "mimetype": "text/x-python",
   "name": "python",
   "nbconvert_exporter": "python",
   "pygments_lexer": "ipython3",
   "version": "3.7.2"
  }
 },
 "nbformat": 4,
 "nbformat_minor": 2
}
