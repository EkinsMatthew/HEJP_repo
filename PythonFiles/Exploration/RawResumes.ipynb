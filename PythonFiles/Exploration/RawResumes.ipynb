{
 "cells": [
  {
   "cell_type": "code",
   "execution_count": null,
   "metadata": {},
   "outputs": [],
   "source": [
    "import os\n",
    "import pandas as pd\n",
    "pd.set_option('display.max_columns', 500)\n",
    "pd.set_option('display.max_rows', 1000)\n",
    "pd.set_option('display.max_colwidth', -1)\n",
    "import numpy as np\n",
    "plt.style.use('fivethirtyeight')"
   ]
  },
  {
   "cell_type": "code",
   "execution_count": null,
   "metadata": {},
   "outputs": [],
   "source": [
    "one = pd.read_csv(r\"C:\\Users\\Public\\_DataBGTRes\\ResDataSample\\1_education_info.csv\")\n",
    "two = pd.read_csv(r\"C:\\Users\\Public\\_DataBGTRes\\ResDataSample\\2_education_info.csv\")"
   ]
  },
  {
   "cell_type": "code",
   "execution_count": null,
   "metadata": {},
   "outputs": [],
   "source": [
    "comb = pd.concat([one, two])"
   ]
  },
  {
   "cell_type": "code",
   "execution_count": null,
   "metadata": {},
   "outputs": [],
   "source": [
    "comb"
   ]
  },
  {
   "cell_type": "code",
   "execution_count": null,
   "metadata": {},
   "outputs": [],
   "source": [
    "print('Number of Unique Resumes:', comb['BGTResID'].nunique())\n",
    "\n",
    "_21 = comb[comb['degreeLevel'].str.contains('21', na=False)]\n",
    "\n",
    "doc_mask = _21[['BGTResID']]\n",
    "\n",
    "print('Number of Unique Resumes with \\'21\\' in \\'degreeLevel\\':', _21['BGTResID'].nunique())"
   ]
  },
  {
   "cell_type": "code",
   "execution_count": null,
   "metadata": {},
   "outputs": [],
   "source": [
    "wo_21 = comb.drop(_21.index)\n",
    "\n",
    "wo_21['DegreeType'].value_counts()"
   ]
  },
  {
   "cell_type": "code",
   "execution_count": null,
   "metadata": {
    "scrolled": true
   },
   "outputs": [],
   "source": [
    "strings = ['Doctor', 'ph\\.', 'm\\.d\\.', 'j\\.d\\.']\n",
    "\n",
    "for string in strings:\n",
    "    target = wo_21[wo_21['DegreeType'].str.contains(string, case=False, na=False)]\n",
    "\n",
    "    print(\"Contains\", string)\n",
    "    display(target)\n",
    "\n",
    "    wo_21 = wo_21.drop(target.index)\n",
    "\n",
    "    doc_mask = pd.concat([doc_mask, target[['BGTResID']]])"
   ]
  },
  {
   "cell_type": "code",
   "execution_count": null,
   "metadata": {
    "scrolled": true
   },
   "outputs": [],
   "source": [
    "wo_21[wo_21['Instituition'].str.contains('Medical School', case=False, na=False)]"
   ]
  },
  {
   "cell_type": "code",
   "execution_count": null,
   "metadata": {},
   "outputs": [],
   "source": [
    "doc_mask.drop_duplicates()"
   ]
  },
  {
   "cell_type": "code",
   "execution_count": null,
   "metadata": {},
   "outputs": [],
   "source": [
    "comb.merge(doc_mask, on='BGTResID', how='inner')"
   ]
  },
  {
   "cell_type": "code",
   "execution_count": null,
   "metadata": {},
   "outputs": [],
   "source": [
    "# Inspired by elias code\n",
    "\n",
    "input_loc = r\"C:\\Users\\Public\\_DataBGTRes\\ResDataSample\\\\\"\n",
    "output_loc = r\"C:\\Users\\Public\\_DataBGTRes\\DoctoralSample\\\\\"\n",
    "types = ['certification', 'education', 'Emp', 'job', 'personal', 'skill']\n",
    "\n",
    "for batch in range(1, 3):\n",
    "    print(f'{round(100*batch/454, 2)}%')\n",
    "    for t in types:\n",
    "        df = pd.read_csv(f'{input_loc}{batch}_{t}_info.csv')\n",
    "        print('\\t'+str(df.shape))\n",
    "        if (t=='certification') | (t=='education'):\n",
    "            df = doc_mask.merge(df, on='BGTResID', how='inner')\n",
    "        else:\n",
    "            df = doc_mask.merge(df, left_on='BGTResID', right_on='BGTResId',\n",
    "                                how='inner')\n",
    "        if(batch == 1):\n",
    "            df.to_csv(f'{output_loc}doc_{t}_info.csv', index=False)\n",
    "        else:\n",
    "            df.to_csv(f'{output_loc}doc_{t}_info.csv', mode='a', index=False,\n",
    "                      header=False)"
   ]
  },
  {
   "cell_type": "code",
   "execution_count": null,
   "metadata": {},
   "outputs": [],
   "source": [
    "doc_ed = pd.read_csv(f'{output_loc}doc_job_info.csv')\n",
    "doc_ed.shape"
   ]
  },
  {
   "cell_type": "code",
   "execution_count": null,
   "metadata": {},
   "outputs": [],
   "source": [
    "doc_ed['BGTResID'].nunique()"
   ]
  },
  {
   "cell_type": "code",
   "execution_count": null,
   "metadata": {},
   "outputs": [],
   "source": []
  }
 ],
 "metadata": {
  "kernelspec": {
   "display_name": "Python 3",
   "language": "python",
   "name": "python3"
  },
  "language_info": {
   "codemirror_mode": {
    "name": "ipython",
    "version": 3
   },
   "file_extension": ".py",
   "mimetype": "text/x-python",
   "name": "python",
   "nbconvert_exporter": "python",
   "pygments_lexer": "ipython3",
   "version": "3.7.3"
  }
 },
 "nbformat": 4,
 "nbformat_minor": 2
}
