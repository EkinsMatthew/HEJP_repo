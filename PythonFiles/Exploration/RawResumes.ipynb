{
 "cells": [
  {
   "cell_type": "code",
   "execution_count": null,
   "metadata": {},
   "outputs": [],
   "source": [
    "import os\n",
    "import pandas as pd\n",
    "pd.set_option('display.max_columns', 500)\n",
    "pd.set_option('display.max_rows', 1000)\n",
    "pd.set_option('display.max_colwidth', None)\n",
    "import numpy as np\n",
    "# plt.style.use('fivethirtyeight')"
   ]
  },
  {
   "cell_type": "code",
   "execution_count": null,
   "metadata": {},
   "outputs": [],
   "source": [
    "one = pd.read_csv(r\"C:\\Users\\Public\\_DataBGTRes\\ResDataSample\\1_education_info.csv\")\n",
    "two = pd.read_csv(r\"C:\\Users\\Public\\_DataBGTRes\\ResDataSample\\2_education_info.csv\")"
   ]
  },
  {
   "cell_type": "code",
   "execution_count": null,
   "metadata": {},
   "outputs": [],
   "source": [
    "comb = pd.concat([one, two])"
   ]
  },
  {
   "cell_type": "code",
   "execution_count": null,
   "metadata": {},
   "outputs": [],
   "source": [
    "comb[comb['degreeLevel'].str.contains('21', na=False)]"
   ]
  },
  {
   "cell_type": "code",
   "execution_count": null,
   "metadata": {},
   "outputs": [],
   "source": [
    "print('Number of Unique Resumes:', comb['BGTResID'].nunique())\n",
    "\n",
    "\n",
    "\n",
    "print('Number of Unique Resumes with \\'21\\' in \\'degreeLevel\\':', _21['BGTResID'].nunique())"
   ]
  },
  {
   "cell_type": "code",
   "execution_count": null,
   "metadata": {},
   "outputs": [],
   "source": [
    "wo_21 = comb.drop(_21.index)\n",
    "\n",
    "wo_21['DegreeType'].value_counts()"
   ]
  },
  {
   "cell_type": "code",
   "execution_count": null,
   "metadata": {
    "scrolled": true
   },
   "outputs": [],
   "source": [
    "# input_loc = r\"C:\\Users\\Public\\_DataBGTRes\\ResDataSample\\\\\"\n",
    "input_loc = r\"F:\\FTP-Jessica\\\\\"\n",
    "\n",
    "for batch in range(1,455):\n",
    "    print('Current Batch:', batch)\n",
    "    df = pd.read_csv(f'{input_loc}{batch}_education_info.csv')\n",
    "\n",
    "    _21 = df[df['degreeLevel'].str.contains('21', na=False)]\n",
    "    \n",
    "    print('\\tNumber of \\'21\\'s found:', _21['BGTResID'].nunique())\n",
    "\n",
    "    if batch == 1:\n",
    "        doc_mask = _21[['BGTResID']]\n",
    "    else:\n",
    "        doc_mask = pd.concat([doc_mask, _21[['BGTResID']]])\n",
    "        \n",
    "    wo_21 = df.drop(_21.index)\n",
    "\n",
    "    strings = ['Doctor', 'ph\\.', 'm\\.d\\.', 'j\\.d\\.', 'phd', 'dds', 'dml', 'ed\\. D']\n",
    "\n",
    "    for string in strings:\n",
    "        target = wo_21[wo_21['DegreeType'].str.contains(string, case=False, na=False)]\n",
    "\n",
    "        print('\\tContains \\'' + string + '\\':', target['BGTResID'].nunique())\n",
    "\n",
    "        wo_21 = wo_21.drop(target.index)\n",
    "\n",
    "        doc_mask = pd.concat([doc_mask, target[['BGTResID']]])\n",
    "        \n",
    "doc_mask = doc_mask.drop_duplicates()\n",
    "print('\\nNumber of Resumes with Doctoral Criterion:', len(doc_mask))"
   ]
  },
  {
   "cell_type": "code",
   "execution_count": null,
   "metadata": {},
   "outputs": [],
   "source": [
    "doc_mask = doc_mask.drop_duplicates()\n",
    "print('Number of Resumes with Doctoral Criterion:', len(doc_mask))"
   ]
  },
  {
   "cell_type": "code",
   "execution_count": null,
   "metadata": {
    "scrolled": true
   },
   "outputs": [],
   "source": [
    "wo_21[wo_21['Instituition'].str.contains('Medical School', case=False, na=False)]"
   ]
  },
  {
   "cell_type": "code",
   "execution_count": null,
   "metadata": {},
   "outputs": [],
   "source": [
    "doc_mask.drop_duplicates()"
   ]
  },
  {
   "cell_type": "code",
   "execution_count": null,
   "metadata": {},
   "outputs": [],
   "source": [
    "comb.merge(doc_mask, on='BGTResID', how='inner')"
   ]
  },
  {
   "cell_type": "code",
   "execution_count": null,
   "metadata": {
    "scrolled": true
   },
   "outputs": [],
   "source": [
    "# Inspired by elias code\n",
    "\n",
    "# input_loc = r\"C:\\Users\\Public\\_DataBGTRes\\ResDataSample\\\\\"\n",
    "input_loc = r\"F:\\FTP-Jessica\\\\\"\n",
    "output_loc = r\"C:\\Users\\Public\\_DataBGTRes\\DoctoralData\\\\\"\n",
    "types = ['certification', 'education', 'Emp', 'job', 'personal', 'skill']\n",
    "\n",
    "for batch in range(1, 455):\n",
    "    print(f'Batch: {batch} -> {round(100*batch/454, 2)}%')\n",
    "    print('\\t', end='')\n",
    "    for t in types:\n",
    "        df = pd.read_csv(f'{input_loc}{batch}_{t}_info.csv')\n",
    "        if(t != 'skill'):\n",
    "            print(t, end=' -> ')\n",
    "        else:\n",
    "            print(t)\n",
    "        if (t=='certification') | (t=='education'):\n",
    "            df = doc_mask.merge(df, on='BGTResID', how='inner')\n",
    "        else:\n",
    "            df = doc_mask.merge(df, left_on='BGTResID', right_on='BGTResId',\n",
    "                                how='inner')\n",
    "        if(batch == 1):\n",
    "            df.to_csv(f'{output_loc}doc_{t}_info.csv', index=False)\n",
    "        else:\n",
    "            df.to_csv(f'{output_loc}doc_{t}_info.csv', mode='a', index=False,\n",
    "                      header=False)"
   ]
  },
  {
   "cell_type": "code",
   "execution_count": null,
   "metadata": {},
   "outputs": [],
   "source": [
    "doc_ed = pd.read_csv(f'{output_loc}doc_job_info.csv')\n",
    "doc_ed.shape"
   ]
  },
  {
   "cell_type": "code",
   "execution_count": null,
   "metadata": {},
   "outputs": [],
   "source": [
    "doc_ed['BGTResID'].nunique()"
   ]
  },
  {
   "cell_type": "code",
   "execution_count": null,
   "metadata": {},
   "outputs": [],
   "source": [
    "doc_mask = doc_mask.sort_values(by='BGTResID')"
   ]
  },
  {
   "cell_type": "code",
   "execution_count": null,
   "metadata": {},
   "outputs": [],
   "source": [
    "doc_mask.to_csv(r\"C:\\Users\\Public\\_DataBGTRes\\DoctoralData\\doc_mask.csv\", index=False)"
   ]
  },
  {
   "cell_type": "code",
   "execution_count": null,
   "metadata": {},
   "outputs": [],
   "source": []
  },
  {
   "cell_type": "code",
   "execution_count": null,
   "metadata": {},
   "outputs": [],
   "source": []
  },
  {
   "cell_type": "code",
   "execution_count": null,
   "metadata": {},
   "outputs": [],
   "source": []
  },
  {
   "cell_type": "code",
   "execution_count": null,
   "metadata": {},
   "outputs": [],
   "source": []
  }
 ],
 "metadata": {
  "kernelspec": {
   "display_name": "Python 3",
   "language": "python",
   "name": "python3"
  },
  "language_info": {
   "codemirror_mode": {
    "name": "ipython",
    "version": 3
   },
   "file_extension": ".py",
   "mimetype": "text/x-python",
   "name": "python",
   "nbconvert_exporter": "python",
   "pygments_lexer": "ipython3",
   "version": "3.8.1"
  }
 },
 "nbformat": 4,
 "nbformat_minor": 2
}
