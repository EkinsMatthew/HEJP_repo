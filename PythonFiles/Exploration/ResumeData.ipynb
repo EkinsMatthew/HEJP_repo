{
 "cells": [
  {
   "cell_type": "code",
   "execution_count": null,
   "metadata": {},
   "outputs": [],
   "source": [
    "import pandas as pd\n",
    "pd.set_option('display.max_columns', 500)\n",
    "pd.set_option('display.max_rows', 1000)\n",
    "pd.set_option('display.max_colwidth', -1)\n",
    "import numpy as np\n",
    "import os\n",
    "import json"
   ]
  },
  {
   "cell_type": "code",
   "execution_count": null,
   "metadata": {},
   "outputs": [],
   "source": [
    "cip = pd.read_csv(r\"C:\\Users\\Public\\_Data\\_SourceData\\Brandeis-PhD Resumes\\PhD_CIP_codes.csv\")\n",
    "print(len(cip))\n",
    "print(cip['BGTResID'].nunique())\n",
    "jobs = pd.read_csv(r\"C:\\Users\\Public\\_Data\\_SourceData\\Brandeis-PhD Resumes\\PhD_Jobs.csv\")\n",
    "print(len(jobs))\n",
    "print(jobs['BGTResID'].nunique())\n",
    "skills = pd.read_csv(r\"C:\\Users\\Public\\_Data\\_SourceData\\Brandeis-PhD Resumes\\PhD_Skills.csv\")\n",
    "print(len(skills))\n",
    "print(skills['BGTResID'].nunique())"
   ]
  },
  {
   "cell_type": "code",
   "execution_count": null,
   "metadata": {},
   "outputs": [],
   "source": [
<<<<<<< HEAD
    "print(jobs.shape)\n",
    "print(jobs[jobs['StartDate'].isnull()].shape)\n",
    "\n",
    "37770 / 110819"
=======
    "cip.columns"
>>>>>>> 75b5ed3a1d0c454b816cb44617678374623a2fff
   ]
  },
  {
   "cell_type": "code",
   "execution_count": null,
   "metadata": {},
   "outputs": [],
   "source": [
<<<<<<< HEAD
    "print(jobs.shape)\n",
    "print(jobs[jobs['NAICS2'].isnull()].shape)\n",
    "\n",
    "98393 / 110819"
=======
    "jobs.columns"
>>>>>>> 75b5ed3a1d0c454b816cb44617678374623a2fff
   ]
  },
  {
   "cell_type": "code",
   "execution_count": null,
   "metadata": {},
   "outputs": [],
   "source": [
<<<<<<< HEAD
    "print(jobs.shape)\n",
    "print(jobs[jobs['SOCCode'].isnull()].shape)\n",
    "\n",
    "37770 / 110819"
   ]
  },
  {
   "cell_type": "code",
   "execution_count": null,
   "metadata": {},
   "outputs": [],
   "source": [
    "print(cip.shape)\n",
    "print(cip[cip['CIPCode0'].isnull()].shape)\n",
    "\n",
    "15795 / 27180"
   ]
  },
  {
   "cell_type": "code",
   "execution_count": null,
   "metadata": {},
   "outputs": [],
   "source": [
    "skills"
   ]
  },
  {
   "cell_type": "code",
   "execution_count": null,
   "metadata": {},
   "outputs": [],
   "source": [
    "jobs"
   ]
  },
  {
   "cell_type": "code",
   "execution_count": null,
   "metadata": {},
   "outputs": [],
   "source": [
    "cip"
   ]
  },
  {
   "cell_type": "code",
   "execution_count": null,
   "metadata": {},
   "outputs": [],
   "source": [
    "BGTResID      CIPCode     CIPCodeName    Date    PhD\n",
    "\n"
   ]
  },
  {
   "cell_type": "code",
   "execution_count": null,
   "metadata": {
    "scrolled": true
   },
   "outputs": [],
   "source": [
    "mask = cip[cip['CIPCode0'].isnull()]['BGTResID']\n",
    "\n",
    "jobs.merge(mask, on='BGTResID', how='inner')"
   ]
  },
  {
   "cell_type": "code",
   "execution_count": null,
   "metadata": {},
   "outputs": [],
   "source": [
    "jobs[jobs['NAICS2'].isnull()]['SOCCode'].nunique()"
   ]
  },
  {
   "cell_type": "code",
   "execution_count": null,
   "metadata": {
    "scrolled": true
   },
   "outputs": [],
   "source": [
    "jobs_special = jobs.fillna('null')\n",
    "jobs_special.groupby(['NAICS2', 'SOCCode']).count()"
=======
    "skills.columns"
>>>>>>> 75b5ed3a1d0c454b816cb44617678374623a2fff
   ]
  },
  {
   "cell_type": "code",
   "execution_count": null,
   "metadata": {},
   "outputs": [],
   "source": [
    "cip.describe()"
   ]
  },
  {
   "cell_type": "code",
   "execution_count": null,
   "metadata": {},
   "outputs": [],
   "source": [
    "null = jobs[jobs['StartDate'].isnull()][['BGTResID']]\n",
    "notNull = jobs[~jobs['StartDate'].isnull()][['BGTResID']]\n",
    "\n",
    "total = null.merge(notNull, on='BGTResID', how='outer', indicator=True)\n",
    "\n",
    "total[total['_merge']=='left_only'].drop_duplicates('BGTResID')"
   ]
  },
  {
   "cell_type": "code",
   "execution_count": null,
   "metadata": {},
   "outputs": [],
   "source": [
    "cip[cip['CIPCode0']==51.1200]['CIPCode0']"
   ]
  },
  {
   "cell_type": "code",
   "execution_count": null,
   "metadata": {},
   "outputs": [],
   "source": [
    "len(cip[cip['CIPCode1']==51.1200]['CIPCode1'])"
   ]
  },
  {
   "cell_type": "code",
   "execution_count": null,
   "metadata": {},
   "outputs": [],
   "source": [
    "jobs = jobs.fillna('na')"
   ]
  },
  {
   "cell_type": "code",
   "execution_count": null,
   "metadata": {},
   "outputs": [],
   "source": [
    "jobs.sort_values('BGTResID')"
   ]
  },
  {
   "cell_type": "code",
   "execution_count": null,
   "metadata": {},
   "outputs": [],
   "source": [
    "jobs[jobs['StartDate']==na ]"
   ]
  },
  {
   "cell_type": "code",
   "execution_count": null,
   "metadata": {},
   "outputs": [],
   "source": [
    "jobs.groupby(['BGTResID', 'ONETName']).count()"
   ]
  },
  {
   "cell_type": "code",
   "execution_count": null,
   "metadata": {},
   "outputs": [],
   "source": [
    "jobs.merge(cip, on='BGTResID', how='inner')['BGTResID'].nunique()"
   ]
  },
  {
   "cell_type": "code",
   "execution_count": null,
   "metadata": {
    "scrolled": false
   },
   "outputs": [],
   "source": [
    "cip[cip['CIPCode0'] % 23 < 1].merge(jobs, on='BGTResID', how='inner').sort_values(by='BGTResID')"
   ]
  },
  {
   "cell_type": "code",
   "execution_count": null,
   "metadata": {},
   "outputs": [],
   "source": [
    "def get_CIP(target_code, df):\n",
    "    out = pd.DataFrame()\n",
    "    out['BGTResID'] = None\n",
    "    for i in range(12):\n",
    "        temp = df[df['CIPCode'+str(i)] % target_code < 1]\n",
    "        out.merge(temp, on='BGTResID', how='outer')\n",
    "        \n",
    "    return out\n",
    "get_CIP(23, cip)"
   ]
  },
  {
   "cell_type": "code",
   "execution_count": null,
   "metadata": {},
   "outputs": [],
   "source": []
  }
 ],
 "metadata": {
  "kernelspec": {
   "display_name": "Python 3",
   "language": "python",
   "name": "python3"
  },
  "language_info": {
   "codemirror_mode": {
    "name": "ipython",
    "version": 3
   },
   "file_extension": ".py",
   "mimetype": "text/x-python",
   "name": "python",
   "nbconvert_exporter": "python",
   "pygments_lexer": "ipython3",
   "version": "3.7.3"
  }
 },
 "nbformat": 4,
 "nbformat_minor": 2
}
