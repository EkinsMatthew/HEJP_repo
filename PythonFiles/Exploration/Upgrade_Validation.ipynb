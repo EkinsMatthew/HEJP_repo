{
 "cells": [
  {
   "cell_type": "code",
   "execution_count": null,
   "metadata": {},
   "outputs": [],
   "source": [
    "import pandas as pd\n",
    "pd.set_option('display.max_columns', 50)\n",
    "pd.set_option('display.max_rows', 200)\n",
    "pd.set_option('display.max_colwidth', None)\n",
    "import numpy as np\n",
    "import matplotlib.pyplot as plt\n",
    "import scipy\n",
    "import scipy.stats as stats\n",
    "import math\n",
    "plt.style.use('fivethirtyeight')"
   ]
  },
  {
   "cell_type": "code",
   "execution_count": null,
   "metadata": {},
   "outputs": [],
   "source": [
    "# Import relevant dataframes:\n",
    "\n",
    "# main_table = pd.read_csv(r\"C:\\Users\\Public\\_Data\\_Data\\Latest_Version\\Main_Data\\Main_Table_01192020.csv\")\n",
    "# print(len(main_table))\n",
    "# faculty_table = pd.read_csv(r\"C:\\Users\\Public\\_Data\\_Data\\Latest_Version\\Faculty_Data\\Faculty_Table_11222019.csv\")\n",
    "# print(len(faculty_table))\n",
    "# skill_table = pd.read_csv(r\"C:\\Users\\Public\\_Data\\_Data\\Latest_Version\\Skills_Data\\Skill_Table_06072019.csv\")\n",
    "# print(len(skill_table))\n",
    "\n",
    "def format_df(df):\n",
    "    print(len(df))\n",
    "    df = df.rename(columns={'BGTJobId':'Job ID'})\n",
    "    return df\n",
    "\n",
    "new_main = pd.read_parquet(r\"A:\\HEJP_revision_02152020\\Jobs.parquet\")\n",
    "# new_main = format_df(new_main)\n",
    "\n",
    "# new_cert = pd.read_parquet(r\"A:\\HEJP_revision_02152020\\Certifications.parquet\")\n",
    "# new_cert = format_df(new_cert)\n",
    "\n",
    "# new_skills = pd.read_parquet(r\"A:\\HEJP_revision_02152020\\Skills.parquet\")\n",
    "# new_skills = format_df(new_skills)\n",
    "\n",
    "# new_app = pd.read_parquet(r\"A:\\HEJP_revision_02152020\\Faculty_Appointments.parquet\")\n",
    "# new_app = format_df(app)\n",
    "\n",
    "# new_fac = pd.read_parquet(r\"A:\\HEJP_revision_02152020\\Faculty_and_Postdoc_Fields.parquet\")\n",
    "# new_fac = format_df(new_fac)"
   ]
  },
  {
   "cell_type": "code",
   "execution_count": null,
   "metadata": {},
   "outputs": [],
   "source": [
    "new_main"
   ]
  },
  {
   "cell_type": "code",
   "execution_count": null,
   "metadata": {},
   "outputs": [],
   "source": [
    "new_main.groupby(['Occupation', 'Career Area']).count().reset_index()[['Occupation', 'Career Area']].groupby('Occupation').count().sort_values('Career Area')"
   ]
  },
  {
   "cell_type": "code",
   "execution_count": null,
   "metadata": {},
   "outputs": [],
   "source": [
    "new_main.info()"
   ]
  },
  {
   "cell_type": "code",
   "execution_count": null,
   "metadata": {},
   "outputs": [],
   "source": [
    "temp = new_skills.rename(columns={'Is Specialized Skill?':'Specialized', \n",
    "                                 'Is Software Skill?':'Software'})"
   ]
  },
  {
   "cell_type": "code",
   "execution_count": null,
   "metadata": {},
   "outputs": [],
   "source": [
    "del(new_skills)"
   ]
  },
  {
   "cell_type": "code",
   "execution_count": null,
   "metadata": {
    "scrolled": false
   },
   "outputs": [],
   "source": [
    "# temp = new_skills\n",
    "\n",
    "# temp = temp.convert_dtypes()\n",
    "\n",
    "display(temp)\n",
    "\n",
    "temp.info()"
   ]
  },
  {
   "cell_type": "code",
   "execution_count": null,
   "metadata": {},
   "outputs": [],
   "source": [
    "temp.to_parquet(r\"A:\\HEJP_revision_02152020\\Skills.parquet\", index=False)"
   ]
  },
  {
   "cell_type": "code",
   "execution_count": null,
   "metadata": {},
   "outputs": [],
   "source": [
    "del(temp)"
   ]
  },
  {
   "cell_type": "code",
   "execution_count": null,
   "metadata": {},
   "outputs": [],
   "source": [
    "temp[:2].to_csv(r\"A:\\test.csv\", index=False)"
   ]
  },
  {
   "cell_type": "code",
   "execution_count": null,
   "metadata": {},
   "outputs": [],
   "source": [
    "test_in = pd.read_csv(r\"A:\\test.csv\").convert_dtypes()"
   ]
  },
  {
   "cell_type": "code",
   "execution_count": null,
   "metadata": {
    "scrolled": false
   },
   "outputs": [],
   "source": [
    "test_in.info()"
   ]
  },
  {
   "cell_type": "code",
   "execution_count": null,
   "metadata": {},
   "outputs": [],
   "source": [
    "pd.NA"
   ]
  },
  {
   "cell_type": "code",
   "execution_count": null,
   "metadata": {},
   "outputs": [],
   "source": [
    "new_cert.info()"
   ]
  },
  {
   "cell_type": "code",
   "execution_count": null,
   "metadata": {},
   "outputs": [],
   "source": [
    "new_cert.groupby(['BGTJobId', 'Certification Name']).count().sort_values(by='Year', ascending=False).reset_index()['Certification Name'].value_counts()"
   ]
  },
  {
   "cell_type": "code",
   "execution_count": null,
   "metadata": {},
   "outputs": [],
   "source": [
    "new_fac['Others'].value_counts()"
   ]
  },
  {
   "cell_type": "code",
   "execution_count": null,
   "metadata": {},
   "outputs": [],
   "source": [
    "temp = new_fac[(new_fac['Other_Engineering']==1)|(new_fac['Other_Education']==1)|(new_fac['Other_Social_Sciences']==1)|(new_fac['Other_Humanities_and_Arts']==1)]\n",
    "\n",
    "temp['BGTJobId'].nunique()"
   ]
  },
  {
   "cell_type": "code",
   "execution_count": null,
   "metadata": {},
   "outputs": [],
   "source": [
    "new_fac.columns"
   ]
  },
  {
   "cell_type": "code",
   "execution_count": null,
   "metadata": {},
   "outputs": [],
   "source": [
    "for column in new_fac_det.columns:\n",
    "    print(column)"
   ]
  },
  {
   "cell_type": "code",
   "execution_count": null,
   "metadata": {},
   "outputs": [],
   "source": [
    "new_fac_det[new_fac_det['Other_Humanities_and_Arts']==1]"
   ]
  },
  {
   "cell_type": "code",
   "execution_count": null,
   "metadata": {},
   "outputs": [],
   "source": [
    "new_fac_gen"
   ]
  },
  {
   "cell_type": "code",
   "execution_count": null,
   "metadata": {},
   "outputs": [],
   "source": [
    "def validate_nas(df):\n",
    "    \n",
    "    if 'Faculty' not in df.columns:\n",
    "        df = df.merge(faculty_table[['Job ID', 'Faculty']], on='Job ID', how='inner')\n",
    "    \n",
    "    nas = df[df['Occupation']=='na']\n",
    "    no_nas = df.drop(nas.index)\n",
    "    \n",
    "    n_w = nas.iloc[:,0].nunique()\n",
    "    n_wo = no_nas.iloc[:,0].nunique()\n",
    "    \n",
    "    def percent(s_df):\n",
    "        s_df['%nas'] = s_df['nas'] / (s_df['nas'] + s_df['no_nas'])\n",
    "        return s_df\n",
    "    \n",
    "    total = pd.DataFrame([[n_w, n_wo]], columns=['nas', 'no_nas'])\n",
    "    total = percent(total)\n",
    "    \n",
    "    display(total)\n",
    "    \n",
    "    years_w = pd.DataFrame(nas['Year'].value_counts()).reset_index().rename(columns={'Year':'nas'})\n",
    "    years_wo = pd.DataFrame(no_nas['Year'].value_counts()).reset_index().rename(columns={'Year':'no_nas'})\n",
    "    \n",
    "    years = years_w.merge(years_wo, on='index', how='inner').rename(columns={'index':'Year'})\n",
    "    years = years.sort_values(by='Year').reset_index(drop=True)\n",
    "    years = percent(years)\n",
    "    \n",
    "    display(years)\n",
    "        \n",
    "    fac_w = pd.DataFrame(nas['Faculty'].value_counts()).reset_index().rename(columns={'Faculty':'nas'})\n",
    "    fac_wo = pd.DataFrame(no_nas['Faculty'].value_counts()).reset_index().rename(columns={'Faculty':'no_nas'})\n",
    "    \n",
    "    fac = fac_w.merge(fac_wo, on='index', how='inner').rename(columns={'index':'Faculty'})\n",
    "    fac = percent(fac)\n",
    "    \n",
    "    display(fac)\n",
    "    \n",
    "validate_nas(main_table)\n",
    "validate_nas(new_main)"
   ]
  },
  {
   "cell_type": "code",
   "execution_count": null,
   "metadata": {},
   "outputs": [],
   "source": [
    "new_main = new_main.sort_values(by='BGTJobId')\n",
    "new_main = new_main.rename(columns={'BGTJobId':'Job ID'})"
   ]
  },
  {
   "cell_type": "code",
   "execution_count": null,
   "metadata": {},
   "outputs": [],
   "source": [
    "together = main_table.merge(new_main[['Job ID']], on='Job ID', how='outer', indicator=True)"
   ]
  },
  {
   "cell_type": "code",
   "execution_count": null,
   "metadata": {},
   "outputs": [],
   "source": [
    "pd.DataFrame(together.groupby('_merge')[['Job ID']].count())"
   ]
  },
  {
   "cell_type": "code",
   "execution_count": null,
   "metadata": {},
   "outputs": [],
   "source": [
    "main_indi = together[~together['Occupation'].isnull()]\n",
    "\n",
    "def in_or_not(string):\n",
    "    if string is 'left_only':\n",
    "        return 0\n",
    "    elif string is 'both':\n",
    "        return 1\n",
    "    else:\n",
    "        return None\n",
    "    \n",
    "main_indi['kept'] = main_indi['_merge'].apply(in_or_not)\n",
    "\n",
    "main_indi = main_indi.merge(faculty_table[['Job ID', 'Faculty', 'Tenure_Line']])\n",
    "\n",
    "both = main_indi[main_indi['kept']==1]\n",
    "left = main_indi[main_indi['kept']==0]\n",
    "\n",
    "right = new_main.merge(together[together['_merge']=='right_only'][['Job ID']], on='Job ID', how='inner')"
   ]
  },
  {
   "cell_type": "code",
   "execution_count": null,
   "metadata": {},
   "outputs": [],
   "source": [
    "display(stats.ttest_ind(both['Faculty'], left['Faculty'], equal_var=True))\n",
    "display(both['Faculty'].describe())\n",
    "display(left['Faculty'].describe())"
   ]
  },
  {
   "cell_type": "code",
   "execution_count": null,
   "metadata": {},
   "outputs": [],
   "source": [
    "left"
   ]
  },
  {
   "cell_type": "code",
   "execution_count": null,
   "metadata": {},
   "outputs": [],
   "source": [
    "len(left[~left['IPEDS Institution Name'].isnull()])"
   ]
  },
  {
   "cell_type": "code",
   "execution_count": null,
   "metadata": {},
   "outputs": [],
   "source": [
    "len(left[left['IPEDS Institution Name'].isnull()])/638330"
   ]
  },
  {
   "cell_type": "code",
   "execution_count": null,
   "metadata": {},
   "outputs": [],
   "source": [
    "0.033280591543558974 * 638330"
   ]
  },
  {
   "cell_type": "code",
   "execution_count": null,
   "metadata": {},
   "outputs": [],
   "source": [
    "len(both[both['IPEDS Institution Name'].isnull()&both['IPEDS Sector Name'].isnull()])"
   ]
  },
  {
   "cell_type": "code",
   "execution_count": null,
   "metadata": {},
   "outputs": [],
   "source": [
    "len(right[right['IPEDS Institution Name'].isnull()&right['IPEDS Sector Name'].isnull()])"
   ]
  },
  {
   "cell_type": "code",
   "execution_count": null,
   "metadata": {},
   "outputs": [],
   "source": [
    "0.10744908532717937 * 3318837 + 0.10199166891498689 * 3306172"
   ]
  },
  {
   "cell_type": "code",
   "execution_count": null,
   "metadata": {},
   "outputs": [],
   "source": [
    "75813 + 303998"
   ]
  },
  {
   "cell_type": "code",
   "execution_count": null,
   "metadata": {},
   "outputs": [],
   "source": [
    "693808 - 379811"
   ]
  },
  {
   "cell_type": "code",
   "execution_count": null,
   "metadata": {},
   "outputs": [],
   "source": [
    "display(stats.ttest_ind(both['Faculty'], right['Faculty'], equal_var=True))\n",
    "display(both['Faculty'].describe())\n",
    "display(right['Faculty'].describe())"
   ]
  },
  {
   "cell_type": "code",
   "execution_count": null,
   "metadata": {},
   "outputs": [],
   "source": []
  },
  {
   "cell_type": "code",
   "execution_count": null,
   "metadata": {},
   "outputs": [],
   "source": [
    "new_main"
   ]
  },
  {
   "cell_type": "code",
   "execution_count": null,
   "metadata": {},
   "outputs": [],
   "source": [
    "new_cert.groupby('Certification Name').count().sort_values('Job ID', ascending=False)"
   ]
  },
  {
   "cell_type": "code",
   "execution_count": null,
   "metadata": {},
   "outputs": [],
   "source": [
    "right"
   ]
  },
  {
   "cell_type": "code",
   "execution_count": null,
   "metadata": {},
   "outputs": [],
   "source": []
  }
 ],
 "metadata": {
  "kernelspec": {
   "display_name": "Python 3",
   "language": "python",
   "name": "python3"
  },
  "language_info": {
   "codemirror_mode": {
    "name": "ipython",
    "version": 3
   },
   "file_extension": ".py",
   "mimetype": "text/x-python",
   "name": "python",
   "nbconvert_exporter": "python",
   "pygments_lexer": "ipython3",
   "version": "3.8.1"
  }
 },
 "nbformat": 4,
 "nbformat_minor": 2
}
