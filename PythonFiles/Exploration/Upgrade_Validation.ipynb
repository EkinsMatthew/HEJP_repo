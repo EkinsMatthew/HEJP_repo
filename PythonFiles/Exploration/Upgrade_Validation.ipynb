{
 "cells": [
  {
   "cell_type": "code",
   "execution_count": 1,
   "metadata": {},
   "outputs": [],
   "source": [
    "import pandas as pd\n",
    "pd.set_option('display.max_columns', 50)\n",
    "pd.set_option('display.max_rows', 200)\n",
    "pd.set_option('display.max_colwidth', None)\n",
    "import numpy as np\n",
    "import matplotlib.pyplot as plt\n",
    "import scipy\n",
    "import scipy.stats as stats\n",
    "import math\n",
    "plt.style.use('fivethirtyeight')"
   ]
  },
  {
   "cell_type": "code",
   "execution_count": 9,
   "metadata": {},
   "outputs": [],
   "source": [
    "# Import relevant dataframes:\n",
    "\n",
    "# main_table = pd.read_csv(r\"C:\\Users\\Public\\_Data\\_Data\\Latest_Version\\Main_Data\\Main_Table_01192020.csv\")\n",
    "# print(len(main_table))\n",
    "# faculty_table = pd.read_csv(r\"C:\\Users\\Public\\_Data\\_Data\\Latest_Version\\Faculty_Data\\Faculty_Table_11222019.csv\")\n",
    "# print(len(faculty_table))\n",
    "# skill_table = pd.read_csv(r\"C:\\Users\\Public\\_Data\\_Data\\Latest_Version\\Skills_Data\\Skill_Table_06072019.csv\")\n",
    "# print(len(skill_table))\n",
    "\n",
    "def format_df(df):\n",
    "    print(len(df))\n",
    "    df = df.rename(columns={'BGTJobId':'Job ID'})\n",
    "    return df\n",
    "\n",
    "# new_main = pd.read_parquet(r\"A:\\HEJP_revision_02152020\\Jobs.parquet\")\n",
    "# new_main = format_df(new_main)\n",
    "\n",
    "# new_cert = pd.read_parquet(r\"A:\\HEJP_revision_02152020\\Certifications.parquet\")\n",
    "# new_cert = format_df(new_cert)\n",
    "\n",
    "# new_skills = pd.read_parquet(r\"A:\\HEJP_revision_02152020\\Skills.parquet\")\n",
    "# new_skills = format_df(new_skills)\n",
    "\n",
    "# new_app = pd.read_parquet(r\"A:\\HEJP_revision_02152020\\Faculty_Appointments.parquet\")\n",
    "# app = format_df(app)\n",
    "\n",
    "new_fac = pd.read_parquet(r\"A:\\HEJP_revision_02152020\\Faculty_and_Postdoc_Fields.parquet\")\n",
    "# new_fac = format_df(new_fac)"
   ]
  },
  {
   "cell_type": "code",
   "execution_count": 10,
   "metadata": {},
   "outputs": [
    {
     "name": "stdout",
     "output_type": "stream",
     "text": [
      "<class 'pandas.core.frame.DataFrame'>\n",
      "RangeIndex: 6625009 entries, 0 to 6625008\n",
      "Data columns (total 18 columns):\n",
      " #   Column                  Dtype  \n",
      "---  ------                  -----  \n",
      " 0   BGTJobId                int64  \n",
      " 1   LIJobId                 object \n",
      " 2   Year                    int64  \n",
      " 3   Faculty                 int64  \n",
      " 4   Postdoc                 int64  \n",
      " 5   Diversity               int64  \n",
      " 6   Job Title               object \n",
      " 7   Occupation              object \n",
      " 8   Career Area             object \n",
      " 9   Min_EDU                 float64\n",
      " 10  Max_EDU                 float64\n",
      " 11  Min_Exp                 float64\n",
      " 12  Annual Salary           float64\n",
      " 13  MSA                     object \n",
      " 14  State                   object \n",
      " 15  IPEDS Institution Name  object \n",
      " 16  IPEDS Sector Name       object \n",
      " 17  R1                      int64  \n",
      "dtypes: float64(4), int64(6), object(8)\n",
      "memory usage: 909.8+ MB\n"
     ]
    }
   ],
   "source": [
    "new_main.info()"
   ]
  },
  {
   "cell_type": "code",
   "execution_count": 4,
   "metadata": {},
   "outputs": [],
   "source": [
    "temp = new_skills.rename(columns={'Is Specialized Skill?':'Specialized', \n",
    "                                 'Is Software Skill?':'Software'})"
   ]
  },
  {
   "cell_type": "code",
   "execution_count": 5,
   "metadata": {},
   "outputs": [],
   "source": [
    "del(new_skills)"
   ]
  },
  {
   "cell_type": "code",
   "execution_count": 6,
   "metadata": {
    "scrolled": false
   },
   "outputs": [
    {
     "data": {
      "text/html": [
       "<div>\n",
       "<style scoped>\n",
       "    .dataframe tbody tr th:only-of-type {\n",
       "        vertical-align: middle;\n",
       "    }\n",
       "\n",
       "    .dataframe tbody tr th {\n",
       "        vertical-align: top;\n",
       "    }\n",
       "\n",
       "    .dataframe thead th {\n",
       "        text-align: right;\n",
       "    }\n",
       "</style>\n",
       "<table border=\"1\" class=\"dataframe\">\n",
       "  <thead>\n",
       "    <tr style=\"text-align: right;\">\n",
       "      <th></th>\n",
       "      <th>BGTJobId</th>\n",
       "      <th>Year</th>\n",
       "      <th>Skill Name</th>\n",
       "      <th>Specialized</th>\n",
       "      <th>Software</th>\n",
       "      <th>Skill Cluster Name</th>\n",
       "    </tr>\n",
       "  </thead>\n",
       "  <tbody>\n",
       "    <tr>\n",
       "      <th>0</th>\n",
       "      <td>38478401553</td>\n",
       "      <td>2019</td>\n",
       "      <td>Experiments</td>\n",
       "      <td>1</td>\n",
       "      <td>0</td>\n",
       "      <td>Research Methodology</td>\n",
       "    </tr>\n",
       "    <tr>\n",
       "      <th>1</th>\n",
       "      <td>18677144</td>\n",
       "      <td>2013</td>\n",
       "      <td>Project Management</td>\n",
       "      <td>1</td>\n",
       "      <td>0</td>\n",
       "      <td>Project Management</td>\n",
       "    </tr>\n",
       "    <tr>\n",
       "      <th>2</th>\n",
       "      <td>150307825</td>\n",
       "      <td>2012</td>\n",
       "      <td>Microsoft Active Directory</td>\n",
       "      <td>1</td>\n",
       "      <td>0</td>\n",
       "      <td>Network Configuration</td>\n",
       "    </tr>\n",
       "    <tr>\n",
       "      <th>3</th>\n",
       "      <td>143907106</td>\n",
       "      <td>2012</td>\n",
       "      <td>Multi-Tasking</td>\n",
       "      <td>0</td>\n",
       "      <td>0</td>\n",
       "      <td>None</td>\n",
       "    </tr>\n",
       "    <tr>\n",
       "      <th>4</th>\n",
       "      <td>37999825795</td>\n",
       "      <td>2016</td>\n",
       "      <td>Teaching</td>\n",
       "      <td>1</td>\n",
       "      <td>0</td>\n",
       "      <td>Teaching</td>\n",
       "    </tr>\n",
       "    <tr>\n",
       "      <th>...</th>\n",
       "      <td>...</td>\n",
       "      <td>...</td>\n",
       "      <td>...</td>\n",
       "      <td>...</td>\n",
       "      <td>...</td>\n",
       "      <td>...</td>\n",
       "    </tr>\n",
       "    <tr>\n",
       "      <th>64562202</th>\n",
       "      <td>300016535</td>\n",
       "      <td>2010</td>\n",
       "      <td>Creativity</td>\n",
       "      <td>0</td>\n",
       "      <td>0</td>\n",
       "      <td>None</td>\n",
       "    </tr>\n",
       "    <tr>\n",
       "      <th>64562203</th>\n",
       "      <td>38118538165</td>\n",
       "      <td>2016</td>\n",
       "      <td>Medical Terminology</td>\n",
       "      <td>1</td>\n",
       "      <td>0</td>\n",
       "      <td>General Medicine</td>\n",
       "    </tr>\n",
       "    <tr>\n",
       "      <th>64562204</th>\n",
       "      <td>38276012305</td>\n",
       "      <td>2017</td>\n",
       "      <td>Problem Solving</td>\n",
       "      <td>0</td>\n",
       "      <td>0</td>\n",
       "      <td>None</td>\n",
       "    </tr>\n",
       "    <tr>\n",
       "      <th>64562205</th>\n",
       "      <td>38278808496</td>\n",
       "      <td>2017</td>\n",
       "      <td>Teaching</td>\n",
       "      <td>1</td>\n",
       "      <td>0</td>\n",
       "      <td>Teaching</td>\n",
       "    </tr>\n",
       "    <tr>\n",
       "      <th>64562206</th>\n",
       "      <td>38407256097</td>\n",
       "      <td>2018</td>\n",
       "      <td>Fundraising</td>\n",
       "      <td>1</td>\n",
       "      <td>0</td>\n",
       "      <td>Fundraising</td>\n",
       "    </tr>\n",
       "  </tbody>\n",
       "</table>\n",
       "<p>64562207 rows × 6 columns</p>\n",
       "</div>"
      ],
      "text/plain": [
       "             BGTJobId  Year                  Skill Name  Specialized  \\\n",
       "0         38478401553  2019                 Experiments            1   \n",
       "1            18677144  2013          Project Management            1   \n",
       "2           150307825  2012  Microsoft Active Directory            1   \n",
       "3           143907106  2012               Multi-Tasking            0   \n",
       "4         37999825795  2016                    Teaching            1   \n",
       "...               ...   ...                         ...          ...   \n",
       "64562202    300016535  2010                  Creativity            0   \n",
       "64562203  38118538165  2016         Medical Terminology            1   \n",
       "64562204  38276012305  2017             Problem Solving            0   \n",
       "64562205  38278808496  2017                    Teaching            1   \n",
       "64562206  38407256097  2018                 Fundraising            1   \n",
       "\n",
       "          Software     Skill Cluster Name  \n",
       "0                0   Research Methodology  \n",
       "1                0     Project Management  \n",
       "2                0  Network Configuration  \n",
       "3                0                   None  \n",
       "4                0               Teaching  \n",
       "...            ...                    ...  \n",
       "64562202         0                   None  \n",
       "64562203         0       General Medicine  \n",
       "64562204         0                   None  \n",
       "64562205         0               Teaching  \n",
       "64562206         0            Fundraising  \n",
       "\n",
       "[64562207 rows x 6 columns]"
      ]
     },
     "metadata": {},
     "output_type": "display_data"
    },
    {
     "name": "stdout",
     "output_type": "stream",
     "text": [
      "<class 'pandas.core.frame.DataFrame'>\n",
      "RangeIndex: 64562207 entries, 0 to 64562206\n",
      "Data columns (total 6 columns):\n",
      " #   Column              Dtype \n",
      "---  ------              ----- \n",
      " 0   BGTJobId            int64 \n",
      " 1   Year                int64 \n",
      " 2   Skill Name          object\n",
      " 3   Specialized         int64 \n",
      " 4   Software            int64 \n",
      " 5   Skill Cluster Name  object\n",
      "dtypes: int64(4), object(2)\n",
      "memory usage: 2.9+ GB\n"
     ]
    }
   ],
   "source": [
    "# temp = new_skills\n",
    "\n",
    "# temp = temp.convert_dtypes()\n",
    "\n",
    "display(temp)\n",
    "\n",
    "temp.info()"
   ]
  },
  {
   "cell_type": "code",
   "execution_count": 7,
   "metadata": {},
   "outputs": [],
   "source": [
    "temp.to_parquet(r\"A:\\HEJP_revision_02152020\\Skills.parquet\", index=False)"
   ]
  },
  {
   "cell_type": "code",
   "execution_count": 8,
   "metadata": {},
   "outputs": [],
   "source": [
    "del(temp)"
   ]
  },
  {
   "cell_type": "code",
   "execution_count": 11,
   "metadata": {},
   "outputs": [],
   "source": [
    "temp[:2].to_csv(r\"A:\\test.csv\", index=False)"
   ]
  },
  {
   "cell_type": "code",
   "execution_count": 14,
   "metadata": {},
   "outputs": [],
   "source": [
    "test_in = pd.read_csv(r\"A:\\test.csv\").convert_dtypes()"
   ]
  },
  {
   "cell_type": "code",
   "execution_count": 16,
   "metadata": {
    "scrolled": false
   },
   "outputs": [
    {
     "name": "stdout",
     "output_type": "stream",
     "text": [
      "<class 'pandas.core.frame.DataFrame'>\n",
      "RangeIndex: 2 entries, 0 to 1\n",
      "Data columns (total 18 columns):\n",
      " #   Column                           Non-Null Count  Dtype \n",
      "---  ------                           --------------  ----- \n",
      " 0   BGTJobId                         2 non-null      Int64 \n",
      " 1   LIJobId                          2 non-null      string\n",
      " 2   Year                             2 non-null      Int64 \n",
      " 3   Faculty                          2 non-null      Int64 \n",
      " 4   Postdoc                          2 non-null      Int64 \n",
      " 5   Diversity                        2 non-null      Int64 \n",
      " 6   Job Title                        2 non-null      string\n",
      " 7   Occupation                       2 non-null      string\n",
      " 8   Career Area                      2 non-null      string\n",
      " 9   Minimum EDU Requirements         1 non-null      Int64 \n",
      " 10  Maximum EDU Requirements         1 non-null      Int64 \n",
      " 11  Minimum Experience Requirements  0 non-null      Int64 \n",
      " 12  Annual Salary                    0 non-null      Int64 \n",
      " 13  Metropolitan Statistical Area    2 non-null      string\n",
      " 14  State                            2 non-null      string\n",
      " 15  IPEDS Institution Name           2 non-null      string\n",
      " 16  IPEDS Sector Name                2 non-null      string\n",
      " 17  R1                               2 non-null      Int64 \n",
      "dtypes: Int64(10), string(8)\n",
      "memory usage: 436.0 bytes\n"
     ]
    }
   ],
   "source": [
    "test_in.info()"
   ]
  },
  {
   "cell_type": "code",
   "execution_count": 7,
   "metadata": {},
   "outputs": [
    {
     "data": {
      "text/plain": [
       "<NA>"
      ]
     },
     "execution_count": 7,
     "metadata": {},
     "output_type": "execute_result"
    }
   ],
   "source": [
    "pd.NA"
   ]
  },
  {
   "cell_type": "code",
   "execution_count": 3,
   "metadata": {},
   "outputs": [
    {
     "name": "stdout",
     "output_type": "stream",
     "text": [
      "<class 'pandas.core.frame.DataFrame'>\n",
      "RangeIndex: 1109288 entries, 0 to 1109287\n",
      "Data columns (total 3 columns):\n",
      " #   Column              Non-Null Count    Dtype \n",
      "---  ------              --------------    ----- \n",
      " 0   BGTJobId            1109288 non-null  int64 \n",
      " 1   Year                1109288 non-null  int64 \n",
      " 2   Certification Name  1109288 non-null  object\n",
      "dtypes: int64(2), object(1)\n",
      "memory usage: 25.4+ MB\n"
     ]
    }
   ],
   "source": [
    "new_cert.info()"
   ]
  },
  {
   "cell_type": "code",
   "execution_count": 8,
   "metadata": {},
   "outputs": [
    {
     "data": {
      "text/plain": [
       "na                                   822064\n",
       "Driver's License                      41798\n",
       "Registered Nurse                      29509\n",
       "Security Clearance                    24914\n",
       "First Aid Cpr Aed                     11972\n",
       "                                      ...  \n",
       "Computer Service Technician (CST)         1\n",
       "North Dakota Bar                          1\n",
       "Certified Car Inspector                   1\n",
       "Boot Camp Certificate                     1\n",
       "Certified Customs Specialist              1\n",
       "Name: Certification Name, Length: 1584, dtype: int64"
      ]
     },
     "execution_count": 8,
     "metadata": {},
     "output_type": "execute_result"
    }
   ],
   "source": [
    "new_cert.groupby(['BGTJobId', 'Certification Name']).count().sort_values(by='Year', ascending=False).reset_index()['Certification Name'].value_counts()"
   ]
  },
  {
   "cell_type": "code",
   "execution_count": 19,
   "metadata": {},
   "outputs": [
    {
     "data": {
      "text/plain": [
       "0    1306348\n",
       "1     131522\n",
       "2        131\n",
       "Name: Others, dtype: int64"
      ]
     },
     "execution_count": 19,
     "metadata": {},
     "output_type": "execute_result"
    }
   ],
   "source": [
    "new_fac['Others'].value_counts()"
   ]
  },
  {
   "cell_type": "code",
   "execution_count": 18,
   "metadata": {},
   "outputs": [
    {
     "data": {
      "text/plain": [
       "186739"
      ]
     },
     "execution_count": 18,
     "metadata": {},
     "output_type": "execute_result"
    }
   ],
   "source": [
    "temp = new_fac[(new_fac['Other_Engineering']==1)|(new_fac['Other_Education']==1)|(new_fac['Other_Social_Sciences']==1)|(new_fac['Other_Humanities_and_Arts']==1)]\n",
    "\n",
    "temp['BGTJobId'].nunique()"
   ]
  },
  {
   "cell_type": "code",
   "execution_count": 13,
   "metadata": {},
   "outputs": [
    {
     "data": {
      "text/plain": [
       "Index(['BGTJobId', 'JobInsertDate', 'Aerospace_Engineering', 'Bioengineering',\n",
       "       'Chemical_Engineering', 'Civil_Engineering', 'Electrical_Engineering',\n",
       "       'Industrial_Engineering', 'Mechanical_Engineering', 'Other_Engineering',\n",
       "       'Education_Administration', 'Education_Research', 'Teacher_Education',\n",
       "       'Teaching_Fields', 'Other_Education',\n",
       "       'Agricultural_Sciences_and_Natural_Resources',\n",
       "       'Biological_and_Biomedical_Sciences', 'Health_Sciences', 'Chemistry',\n",
       "       'Geosciences_Atmospheric_and_Ocean_Sciences', 'Physics_and_Astronomy',\n",
       "       'Computer_and_Information_Sciences', 'Mathematics_and_Statistics',\n",
       "       'Psychology', 'Anthropology', 'Economics',\n",
       "       'Political_Science_and_Government', 'Sociology',\n",
       "       'Other_Social_Sciences', 'Foreign_Languages_and_Literature', 'History',\n",
       "       'Letters', 'Other_Humanities_and_Arts',\n",
       "       'Business_Management_and_Administration', 'Communication',\n",
       "       'Field_Not_Certain', 'Detailed_Fields', 'Others', 'General_Fields'],\n",
       "      dtype='object')"
      ]
     },
     "execution_count": 13,
     "metadata": {},
     "output_type": "execute_result"
    }
   ],
   "source": [
    "new_fac.columns"
   ]
  },
  {
   "cell_type": "code",
   "execution_count": null,
   "metadata": {},
   "outputs": [],
   "source": [
    "for column in new_fac_det.columns:\n",
    "    print(column)"
   ]
  },
  {
   "cell_type": "code",
   "execution_count": null,
   "metadata": {},
   "outputs": [],
   "source": [
    "new_fac_det[new_fac_det['Other_Humanities_and_Arts']==1]"
   ]
  },
  {
   "cell_type": "code",
   "execution_count": null,
   "metadata": {},
   "outputs": [],
   "source": [
    "new_fac_gen"
   ]
  },
  {
   "cell_type": "code",
   "execution_count": null,
   "metadata": {},
   "outputs": [],
   "source": [
    "def validate_nas(df):\n",
    "    \n",
    "    if 'Faculty' not in df.columns:\n",
    "        df = df.merge(faculty_table[['Job ID', 'Faculty']], on='Job ID', how='inner')\n",
    "    \n",
    "    nas = df[df['Occupation']=='na']\n",
    "    no_nas = df.drop(nas.index)\n",
    "    \n",
    "    n_w = nas.iloc[:,0].nunique()\n",
    "    n_wo = no_nas.iloc[:,0].nunique()\n",
    "    \n",
    "    def percent(s_df):\n",
    "        s_df['%nas'] = s_df['nas'] / (s_df['nas'] + s_df['no_nas'])\n",
    "        return s_df\n",
    "    \n",
    "    total = pd.DataFrame([[n_w, n_wo]], columns=['nas', 'no_nas'])\n",
    "    total = percent(total)\n",
    "    \n",
    "    display(total)\n",
    "    \n",
    "    years_w = pd.DataFrame(nas['Year'].value_counts()).reset_index().rename(columns={'Year':'nas'})\n",
    "    years_wo = pd.DataFrame(no_nas['Year'].value_counts()).reset_index().rename(columns={'Year':'no_nas'})\n",
    "    \n",
    "    years = years_w.merge(years_wo, on='index', how='inner').rename(columns={'index':'Year'})\n",
    "    years = years.sort_values(by='Year').reset_index(drop=True)\n",
    "    years = percent(years)\n",
    "    \n",
    "    display(years)\n",
    "        \n",
    "    fac_w = pd.DataFrame(nas['Faculty'].value_counts()).reset_index().rename(columns={'Faculty':'nas'})\n",
    "    fac_wo = pd.DataFrame(no_nas['Faculty'].value_counts()).reset_index().rename(columns={'Faculty':'no_nas'})\n",
    "    \n",
    "    fac = fac_w.merge(fac_wo, on='index', how='inner').rename(columns={'index':'Faculty'})\n",
    "    fac = percent(fac)\n",
    "    \n",
    "    display(fac)\n",
    "    \n",
    "validate_nas(main_table)\n",
    "validate_nas(new_main)"
   ]
  },
  {
   "cell_type": "code",
   "execution_count": null,
   "metadata": {},
   "outputs": [],
   "source": [
    "new_main = new_main.sort_values(by='BGTJobId')\n",
    "new_main = new_main.rename(columns={'BGTJobId':'Job ID'})"
   ]
  },
  {
   "cell_type": "code",
   "execution_count": null,
   "metadata": {},
   "outputs": [],
   "source": [
    "together = main_table.merge(new_main[['Job ID']], on='Job ID', how='outer', indicator=True)"
   ]
  },
  {
   "cell_type": "code",
   "execution_count": null,
   "metadata": {},
   "outputs": [],
   "source": [
    "pd.DataFrame(together.groupby('_merge')[['Job ID']].count())"
   ]
  },
  {
   "cell_type": "code",
   "execution_count": null,
   "metadata": {},
   "outputs": [],
   "source": [
    "main_indi = together[~together['Occupation'].isnull()]\n",
    "\n",
    "def in_or_not(string):\n",
    "    if string is 'left_only':\n",
    "        return 0\n",
    "    elif string is 'both':\n",
    "        return 1\n",
    "    else:\n",
    "        return None\n",
    "    \n",
    "main_indi['kept'] = main_indi['_merge'].apply(in_or_not)\n",
    "\n",
    "main_indi = main_indi.merge(faculty_table[['Job ID', 'Faculty', 'Tenure_Line']])\n",
    "\n",
    "both = main_indi[main_indi['kept']==1]\n",
    "left = main_indi[main_indi['kept']==0]\n",
    "\n",
    "right = new_main.merge(together[together['_merge']=='right_only'][['Job ID']], on='Job ID', how='inner')"
   ]
  },
  {
   "cell_type": "code",
   "execution_count": null,
   "metadata": {},
   "outputs": [],
   "source": [
    "display(stats.ttest_ind(both['Faculty'], left['Faculty'], equal_var=True))\n",
    "display(both['Faculty'].describe())\n",
    "display(left['Faculty'].describe())"
   ]
  },
  {
   "cell_type": "code",
   "execution_count": null,
   "metadata": {},
   "outputs": [],
   "source": [
    "left"
   ]
  },
  {
   "cell_type": "code",
   "execution_count": null,
   "metadata": {},
   "outputs": [],
   "source": [
    "len(left[~left['IPEDS Institution Name'].isnull()])"
   ]
  },
  {
   "cell_type": "code",
   "execution_count": null,
   "metadata": {},
   "outputs": [],
   "source": [
    "len(left[left['IPEDS Institution Name'].isnull()])/638330"
   ]
  },
  {
   "cell_type": "code",
   "execution_count": null,
   "metadata": {},
   "outputs": [],
   "source": [
    "0.033280591543558974 * 638330"
   ]
  },
  {
   "cell_type": "code",
   "execution_count": null,
   "metadata": {},
   "outputs": [],
   "source": [
    "len(both[both['IPEDS Institution Name'].isnull()&both['IPEDS Sector Name'].isnull()])"
   ]
  },
  {
   "cell_type": "code",
   "execution_count": null,
   "metadata": {},
   "outputs": [],
   "source": [
    "len(right[right['IPEDS Institution Name'].isnull()&right['IPEDS Sector Name'].isnull()])"
   ]
  },
  {
   "cell_type": "code",
   "execution_count": null,
   "metadata": {},
   "outputs": [],
   "source": [
    "0.10744908532717937 * 3318837 + 0.10199166891498689 * 3306172"
   ]
  },
  {
   "cell_type": "code",
   "execution_count": null,
   "metadata": {},
   "outputs": [],
   "source": [
    "75813 + 303998"
   ]
  },
  {
   "cell_type": "code",
   "execution_count": null,
   "metadata": {},
   "outputs": [],
   "source": [
    "693808 - 379811"
   ]
  },
  {
   "cell_type": "code",
   "execution_count": null,
   "metadata": {},
   "outputs": [],
   "source": [
    "display(stats.ttest_ind(both['Faculty'], right['Faculty'], equal_var=True))\n",
    "display(both['Faculty'].describe())\n",
    "display(right['Faculty'].describe())"
   ]
  },
  {
   "cell_type": "code",
   "execution_count": null,
   "metadata": {},
   "outputs": [],
   "source": []
  },
  {
   "cell_type": "code",
   "execution_count": null,
   "metadata": {},
   "outputs": [],
   "source": [
    "new_main"
   ]
  },
  {
   "cell_type": "code",
   "execution_count": null,
   "metadata": {},
   "outputs": [],
   "source": [
    "new_cert.groupby('Certification Name').count().sort_values('Job ID', ascending=False)"
   ]
  },
  {
   "cell_type": "code",
   "execution_count": null,
   "metadata": {},
   "outputs": [],
   "source": [
    "right"
   ]
  },
  {
   "cell_type": "code",
   "execution_count": null,
   "metadata": {},
   "outputs": [],
   "source": []
  }
 ],
 "metadata": {
  "kernelspec": {
   "display_name": "Python 3",
   "language": "python",
   "name": "python3"
  },
  "language_info": {
   "codemirror_mode": {
    "name": "ipython",
    "version": 3
   },
   "file_extension": ".py",
   "mimetype": "text/x-python",
   "name": "python",
   "nbconvert_exporter": "python",
   "pygments_lexer": "ipython3",
   "version": "3.8.1"
  }
 },
 "nbformat": 4,
 "nbformat_minor": 2
}
