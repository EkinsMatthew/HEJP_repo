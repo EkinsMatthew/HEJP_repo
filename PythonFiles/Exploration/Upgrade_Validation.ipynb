{
 "cells": [
  {
   "cell_type": "code",
   "execution_count": 1,
   "metadata": {},
   "outputs": [],
   "source": [
    "import pandas as pd\n",
    "pd.set_option('display.max_columns', 50)\n",
    "pd.set_option('display.max_rows', 200)\n",
    "pd.set_option('display.max_colwidth', None)\n",
    "import numpy as np\n",
    "import matplotlib.pyplot as plt\n",
    "import scipy\n",
    "import scipy.stats as stats\n",
    "import math\n",
    "plt.style.use('fivethirtyeight')"
   ]
  },
  {
   "cell_type": "code",
   "execution_count": 3,
   "metadata": {},
   "outputs": [],
   "source": [
    "# Import relevant dataframes:\n",
    "\n",
    "# main_table = pd.read_csv(r\"C:\\Users\\Public\\_Data\\_Data\\Latest_Version\\Main_Data\\Main_Table_01192020.csv\")\n",
    "# print(len(main_table))\n",
    "# faculty_table = pd.read_csv(r\"C:\\Users\\Public\\_Data\\_Data\\Latest_Version\\Faculty_Data\\Faculty_Table_11222019.csv\")\n",
    "# print(len(faculty_table))\n",
    "# skill_table = pd.read_csv(r\"C:\\Users\\Public\\_Data\\_Data\\Latest_Version\\Skills_Data\\Skill_Table_06072019.csv\")\n",
    "# print(len(skill_table))\n",
    "\n",
    "def format_df(df):\n",
    "    print(len(df))\n",
    "    df = df.rename(columns={'BGTJobId':'Job ID'})\n",
    "    return df\n",
    "\n",
    "new_main = pd.read_parquet(r\"A:\\HEJP_revision_02152020\\Jobs.parquet\")\n",
    "# new_main = format_df(new_main)\n",
    "\n",
    "# new_cert = pd.read_parquet(r\"A:\\HEJP_revision_02152020\\Certifications.parquet\")\n",
    "# new_cert = format_df(new_cert)\n",
    "\n",
    "# new_skills = pd.read_parquet(r\"A:\\HEJP_revision_02152020\\Skills.parquet\")\n",
    "# new_skills = format_df(new_skills)\n",
    "\n",
    "# new_app = pd.read_parquet(r\"A:\\HEJP_revision_02152020\\Faculty_Appointments.parquet\")\n",
    "# new_app = format_df(app)\n",
    "\n",
    "# new_fac = pd.read_parquet(r\"A:\\HEJP_revision_02152020\\Faculty_and_Postdoc_Fields.parquet\")\n",
    "# new_fac = format_df(new_fac)"
   ]
  },
  {
   "cell_type": "code",
   "execution_count": 4,
   "metadata": {},
   "outputs": [
    {
     "data": {
      "text/html": [
       "<div>\n",
       "<style scoped>\n",
       "    .dataframe tbody tr th:only-of-type {\n",
       "        vertical-align: middle;\n",
       "    }\n",
       "\n",
       "    .dataframe tbody tr th {\n",
       "        vertical-align: top;\n",
       "    }\n",
       "\n",
       "    .dataframe thead th {\n",
       "        text-align: right;\n",
       "    }\n",
       "</style>\n",
       "<table border=\"1\" class=\"dataframe\">\n",
       "  <thead>\n",
       "    <tr style=\"text-align: right;\">\n",
       "      <th></th>\n",
       "      <th>BGTJobId</th>\n",
       "      <th>LIJobId</th>\n",
       "      <th>Year</th>\n",
       "      <th>Faculty</th>\n",
       "      <th>Postdoc</th>\n",
       "      <th>Diversity</th>\n",
       "      <th>Job Title</th>\n",
       "      <th>Occupation</th>\n",
       "      <th>Career Area</th>\n",
       "      <th>Min_EDU</th>\n",
       "      <th>Max_EDU</th>\n",
       "      <th>Min_Exp</th>\n",
       "      <th>Annual Salary</th>\n",
       "      <th>MSA</th>\n",
       "      <th>State</th>\n",
       "      <th>IPEDS Institution Name</th>\n",
       "      <th>IPEDS Sector Name</th>\n",
       "      <th>R1</th>\n",
       "    </tr>\n",
       "  </thead>\n",
       "  <tbody>\n",
       "    <tr>\n",
       "      <th>0</th>\n",
       "      <td>24</td>\n",
       "      <td>0286326577d94832cf4944274fce3f2241c073</td>\n",
       "      <td>2014</td>\n",
       "      <td>0</td>\n",
       "      <td>0</td>\n",
       "      <td>0</td>\n",
       "      <td>Licensed Practical Nurse- Physician Office - Physician Office</td>\n",
       "      <td>Licensed Practical / Vocational Nurse</td>\n",
       "      <td>Health Care including Nursing</td>\n",
       "      <td>NaN</td>\n",
       "      <td>NaN</td>\n",
       "      <td>NaN</td>\n",
       "      <td>NaN</td>\n",
       "      <td>Grenada, MS</td>\n",
       "      <td>MS</td>\n",
       "      <td>University of Mississippi Medical Center</td>\n",
       "      <td>Public, 4-year or above</td>\n",
       "      <td>0</td>\n",
       "    </tr>\n",
       "    <tr>\n",
       "      <th>1</th>\n",
       "      <td>224</td>\n",
       "      <td>0f572e7b35c493ce567eba43c781d9c8f4a02e</td>\n",
       "      <td>2014</td>\n",
       "      <td>1</td>\n",
       "      <td>0</td>\n",
       "      <td>0</td>\n",
       "      <td>Faculty, Urban/Regional Studies And Planning</td>\n",
       "      <td>College Professor / Instructor</td>\n",
       "      <td>Education and Training</td>\n",
       "      <td>21.0</td>\n",
       "      <td>21.0</td>\n",
       "      <td>NaN</td>\n",
       "      <td>NaN</td>\n",
       "      <td>Richmond, VA</td>\n",
       "      <td>VA</td>\n",
       "      <td>Virginia Commonwealth University</td>\n",
       "      <td>Public, 4-year or above</td>\n",
       "      <td>1</td>\n",
       "    </tr>\n",
       "    <tr>\n",
       "      <th>2</th>\n",
       "      <td>263466634</td>\n",
       "      <td>329493603</td>\n",
       "      <td>2011</td>\n",
       "      <td>0</td>\n",
       "      <td>0</td>\n",
       "      <td>0</td>\n",
       "      <td>Senior Budget Analyst</td>\n",
       "      <td>Budget Analyst</td>\n",
       "      <td>Finance</td>\n",
       "      <td>16.0</td>\n",
       "      <td>NaN</td>\n",
       "      <td>3.0</td>\n",
       "      <td>NaN</td>\n",
       "      <td>Baltimore-Columbia-Towson, MD</td>\n",
       "      <td>MD</td>\n",
       "      <td>Maryland Institute College of Art</td>\n",
       "      <td>Private not-for-profit, 4-year or above</td>\n",
       "      <td>0</td>\n",
       "    </tr>\n",
       "    <tr>\n",
       "      <th>3</th>\n",
       "      <td>263554923</td>\n",
       "      <td>329427392</td>\n",
       "      <td>2011</td>\n",
       "      <td>0</td>\n",
       "      <td>0</td>\n",
       "      <td>0</td>\n",
       "      <td>Programmer/Analyst I</td>\n",
       "      <td>Programmer / Analyst</td>\n",
       "      <td>Information Technology</td>\n",
       "      <td>16.0</td>\n",
       "      <td>NaN</td>\n",
       "      <td>2.0</td>\n",
       "      <td>NaN</td>\n",
       "      <td>Houston-The Woodlands-Sugar Land, TX</td>\n",
       "      <td>TX</td>\n",
       "      <td>The University of Texas MD Anderson Cancer Center</td>\n",
       "      <td>Public, 4-year or above</td>\n",
       "      <td>0</td>\n",
       "    </tr>\n",
       "    <tr>\n",
       "      <th>4</th>\n",
       "      <td>263554924</td>\n",
       "      <td>329427403</td>\n",
       "      <td>2011</td>\n",
       "      <td>0</td>\n",
       "      <td>0</td>\n",
       "      <td>0</td>\n",
       "      <td>Physician's Assistant Anesthesia Assessment Center</td>\n",
       "      <td>Physician Assistant</td>\n",
       "      <td>Health Care including Nursing</td>\n",
       "      <td>NaN</td>\n",
       "      <td>NaN</td>\n",
       "      <td>2.0</td>\n",
       "      <td>NaN</td>\n",
       "      <td>Houston-The Woodlands-Sugar Land, TX</td>\n",
       "      <td>TX</td>\n",
       "      <td>The University of Texas MD Anderson Cancer Center</td>\n",
       "      <td>Public, 4-year or above</td>\n",
       "      <td>0</td>\n",
       "    </tr>\n",
       "    <tr>\n",
       "      <th>...</th>\n",
       "      <td>...</td>\n",
       "      <td>...</td>\n",
       "      <td>...</td>\n",
       "      <td>...</td>\n",
       "      <td>...</td>\n",
       "      <td>...</td>\n",
       "      <td>...</td>\n",
       "      <td>...</td>\n",
       "      <td>...</td>\n",
       "      <td>...</td>\n",
       "      <td>...</td>\n",
       "      <td>...</td>\n",
       "      <td>...</td>\n",
       "      <td>...</td>\n",
       "      <td>...</td>\n",
       "      <td>...</td>\n",
       "      <td>...</td>\n",
       "      <td>...</td>\n",
       "    </tr>\n",
       "    <tr>\n",
       "      <th>6625004</th>\n",
       "      <td>38436556867</td>\n",
       "      <td>6163d8ddabf31c4aceeeef3f7f144cb95975663</td>\n",
       "      <td>2018</td>\n",
       "      <td>0</td>\n",
       "      <td>0</td>\n",
       "      <td>0</td>\n",
       "      <td>Tools Engineer-Senior</td>\n",
       "      <td>na</td>\n",
       "      <td>na</td>\n",
       "      <td>16.0</td>\n",
       "      <td>0.0</td>\n",
       "      <td>NaN</td>\n",
       "      <td>NaN</td>\n",
       "      <td>Washington-Arlington-Alexandria, DC-VA-MD-WV</td>\n",
       "      <td>VA</td>\n",
       "      <td>School of the Art Institute of Chicago</td>\n",
       "      <td>Private not-for-profit, 4-year or above</td>\n",
       "      <td>0</td>\n",
       "    </tr>\n",
       "    <tr>\n",
       "      <th>6625005</th>\n",
       "      <td>38438486737</td>\n",
       "      <td>0x3f2ba77b5dd0a8bb64e46c91510277fe</td>\n",
       "      <td>2018</td>\n",
       "      <td>0</td>\n",
       "      <td>0</td>\n",
       "      <td>0</td>\n",
       "      <td>Design Engineer - Crane</td>\n",
       "      <td>Mechanical Engineer Surveyor</td>\n",
       "      <td>Engineering</td>\n",
       "      <td>16.0</td>\n",
       "      <td>0.0</td>\n",
       "      <td>NaN</td>\n",
       "      <td>NaN</td>\n",
       "      <td>Bedford, IN</td>\n",
       "      <td>IN</td>\n",
       "      <td>School of the Art Institute of Chicago</td>\n",
       "      <td>Private not-for-profit, 4-year or above</td>\n",
       "      <td>0</td>\n",
       "    </tr>\n",
       "    <tr>\n",
       "      <th>6625006</th>\n",
       "      <td>38438486787</td>\n",
       "      <td>0x615b0faeb9b13b5bffd691451568e859</td>\n",
       "      <td>2018</td>\n",
       "      <td>0</td>\n",
       "      <td>0</td>\n",
       "      <td>0</td>\n",
       "      <td>Senior Model Based Systems Engineer Mbse</td>\n",
       "      <td>Systems Engineer</td>\n",
       "      <td>Information Technology</td>\n",
       "      <td>16.0</td>\n",
       "      <td>21.0</td>\n",
       "      <td>9.0</td>\n",
       "      <td>NaN</td>\n",
       "      <td>Chicago-Naperville-Elgin, IL-IN-WI</td>\n",
       "      <td>IN</td>\n",
       "      <td>School of the Art Institute of Chicago</td>\n",
       "      <td>Private not-for-profit, 4-year or above</td>\n",
       "      <td>0</td>\n",
       "    </tr>\n",
       "    <tr>\n",
       "      <th>6625007</th>\n",
       "      <td>38439389731</td>\n",
       "      <td>0xc86809adcfbc1c7498b94439fc004807</td>\n",
       "      <td>2018</td>\n",
       "      <td>0</td>\n",
       "      <td>0</td>\n",
       "      <td>0</td>\n",
       "      <td>Ob Sonographer</td>\n",
       "      <td>Ultrasound Technologist / Sonographer</td>\n",
       "      <td>Health Care including Nursing</td>\n",
       "      <td>0.0</td>\n",
       "      <td>0.0</td>\n",
       "      <td>NaN</td>\n",
       "      <td>NaN</td>\n",
       "      <td>Pittsburgh, PA</td>\n",
       "      <td>PA</td>\n",
       "      <td>University of Pittsburgh Medical Center-Shadyside School of Nursing</td>\n",
       "      <td>Private not-for-profit, 2-year</td>\n",
       "      <td>0</td>\n",
       "    </tr>\n",
       "    <tr>\n",
       "      <th>6625008</th>\n",
       "      <td>38439390030</td>\n",
       "      <td>0x63d62dfaa66ed42c4a6f6ad382252113</td>\n",
       "      <td>2018</td>\n",
       "      <td>0</td>\n",
       "      <td>0</td>\n",
       "      <td>0</td>\n",
       "      <td>Contact Center Specialist - Interview Event</td>\n",
       "      <td>Sales Event Specialist</td>\n",
       "      <td>Sales</td>\n",
       "      <td>12.0</td>\n",
       "      <td>0.0</td>\n",
       "      <td>2.0</td>\n",
       "      <td>NaN</td>\n",
       "      <td>Pittsburgh, PA</td>\n",
       "      <td>PA</td>\n",
       "      <td>University of Pittsburgh Medical Center-Shadyside School of Nursing</td>\n",
       "      <td>Private not-for-profit, 2-year</td>\n",
       "      <td>0</td>\n",
       "    </tr>\n",
       "  </tbody>\n",
       "</table>\n",
       "<p>6625009 rows × 18 columns</p>\n",
       "</div>"
      ],
      "text/plain": [
       "            BGTJobId                                  LIJobId  Year  Faculty  \\\n",
       "0                 24   0286326577d94832cf4944274fce3f2241c073  2014        0   \n",
       "1                224   0f572e7b35c493ce567eba43c781d9c8f4a02e  2014        1   \n",
       "2          263466634                                329493603  2011        0   \n",
       "3          263554923                                329427392  2011        0   \n",
       "4          263554924                                329427403  2011        0   \n",
       "...              ...                                      ...   ...      ...   \n",
       "6625004  38436556867  6163d8ddabf31c4aceeeef3f7f144cb95975663  2018        0   \n",
       "6625005  38438486737       0x3f2ba77b5dd0a8bb64e46c91510277fe  2018        0   \n",
       "6625006  38438486787       0x615b0faeb9b13b5bffd691451568e859  2018        0   \n",
       "6625007  38439389731       0xc86809adcfbc1c7498b94439fc004807  2018        0   \n",
       "6625008  38439390030       0x63d62dfaa66ed42c4a6f6ad382252113  2018        0   \n",
       "\n",
       "         Postdoc  Diversity  \\\n",
       "0              0          0   \n",
       "1              0          0   \n",
       "2              0          0   \n",
       "3              0          0   \n",
       "4              0          0   \n",
       "...          ...        ...   \n",
       "6625004        0          0   \n",
       "6625005        0          0   \n",
       "6625006        0          0   \n",
       "6625007        0          0   \n",
       "6625008        0          0   \n",
       "\n",
       "                                                             Job Title  \\\n",
       "0        Licensed Practical Nurse- Physician Office - Physician Office   \n",
       "1                         Faculty, Urban/Regional Studies And Planning   \n",
       "2                                                Senior Budget Analyst   \n",
       "3                                                 Programmer/Analyst I   \n",
       "4                   Physician's Assistant Anesthesia Assessment Center   \n",
       "...                                                                ...   \n",
       "6625004                                          Tools Engineer-Senior   \n",
       "6625005                                        Design Engineer - Crane   \n",
       "6625006                       Senior Model Based Systems Engineer Mbse   \n",
       "6625007                                                 Ob Sonographer   \n",
       "6625008                    Contact Center Specialist - Interview Event   \n",
       "\n",
       "                                    Occupation                    Career Area  \\\n",
       "0        Licensed Practical / Vocational Nurse  Health Care including Nursing   \n",
       "1               College Professor / Instructor         Education and Training   \n",
       "2                               Budget Analyst                        Finance   \n",
       "3                         Programmer / Analyst         Information Technology   \n",
       "4                          Physician Assistant  Health Care including Nursing   \n",
       "...                                        ...                            ...   \n",
       "6625004                                     na                             na   \n",
       "6625005           Mechanical Engineer Surveyor                    Engineering   \n",
       "6625006                       Systems Engineer         Information Technology   \n",
       "6625007  Ultrasound Technologist / Sonographer  Health Care including Nursing   \n",
       "6625008                 Sales Event Specialist                          Sales   \n",
       "\n",
       "         Min_EDU  Max_EDU  Min_Exp  Annual Salary  \\\n",
       "0            NaN      NaN      NaN            NaN   \n",
       "1           21.0     21.0      NaN            NaN   \n",
       "2           16.0      NaN      3.0            NaN   \n",
       "3           16.0      NaN      2.0            NaN   \n",
       "4            NaN      NaN      2.0            NaN   \n",
       "...          ...      ...      ...            ...   \n",
       "6625004     16.0      0.0      NaN            NaN   \n",
       "6625005     16.0      0.0      NaN            NaN   \n",
       "6625006     16.0     21.0      9.0            NaN   \n",
       "6625007      0.0      0.0      NaN            NaN   \n",
       "6625008     12.0      0.0      2.0            NaN   \n",
       "\n",
       "                                                  MSA State  \\\n",
       "0                                         Grenada, MS    MS   \n",
       "1                                        Richmond, VA    VA   \n",
       "2                       Baltimore-Columbia-Towson, MD    MD   \n",
       "3                Houston-The Woodlands-Sugar Land, TX    TX   \n",
       "4                Houston-The Woodlands-Sugar Land, TX    TX   \n",
       "...                                               ...   ...   \n",
       "6625004  Washington-Arlington-Alexandria, DC-VA-MD-WV    VA   \n",
       "6625005                                   Bedford, IN    IN   \n",
       "6625006            Chicago-Naperville-Elgin, IL-IN-WI    IN   \n",
       "6625007                                Pittsburgh, PA    PA   \n",
       "6625008                                Pittsburgh, PA    PA   \n",
       "\n",
       "                                                      IPEDS Institution Name  \\\n",
       "0                                   University of Mississippi Medical Center   \n",
       "1                                           Virginia Commonwealth University   \n",
       "2                                          Maryland Institute College of Art   \n",
       "3                          The University of Texas MD Anderson Cancer Center   \n",
       "4                          The University of Texas MD Anderson Cancer Center   \n",
       "...                                                                      ...   \n",
       "6625004                               School of the Art Institute of Chicago   \n",
       "6625005                               School of the Art Institute of Chicago   \n",
       "6625006                               School of the Art Institute of Chicago   \n",
       "6625007  University of Pittsburgh Medical Center-Shadyside School of Nursing   \n",
       "6625008  University of Pittsburgh Medical Center-Shadyside School of Nursing   \n",
       "\n",
       "                               IPEDS Sector Name  R1  \n",
       "0                        Public, 4-year or above   0  \n",
       "1                        Public, 4-year or above   1  \n",
       "2        Private not-for-profit, 4-year or above   0  \n",
       "3                        Public, 4-year or above   0  \n",
       "4                        Public, 4-year or above   0  \n",
       "...                                          ...  ..  \n",
       "6625004  Private not-for-profit, 4-year or above   0  \n",
       "6625005  Private not-for-profit, 4-year or above   0  \n",
       "6625006  Private not-for-profit, 4-year or above   0  \n",
       "6625007           Private not-for-profit, 2-year   0  \n",
       "6625008           Private not-for-profit, 2-year   0  \n",
       "\n",
       "[6625009 rows x 18 columns]"
      ]
     },
     "execution_count": 4,
     "metadata": {},
     "output_type": "execute_result"
    }
   ],
   "source": [
    "new_main"
   ]
  },
  {
   "cell_type": "code",
   "execution_count": 7,
   "metadata": {},
   "outputs": [
    {
     "data": {
      "text/html": [
       "<div>\n",
       "<style scoped>\n",
       "    .dataframe tbody tr th:only-of-type {\n",
       "        vertical-align: middle;\n",
       "    }\n",
       "\n",
       "    .dataframe tbody tr th {\n",
       "        vertical-align: top;\n",
       "    }\n",
       "\n",
       "    .dataframe thead th {\n",
       "        text-align: right;\n",
       "    }\n",
       "</style>\n",
       "<table border=\"1\" class=\"dataframe\">\n",
       "  <thead>\n",
       "    <tr style=\"text-align: right;\">\n",
       "      <th></th>\n",
       "      <th>Career Area</th>\n",
       "    </tr>\n",
       "    <tr>\n",
       "      <th>Occupation</th>\n",
       "      <th></th>\n",
       "    </tr>\n",
       "  </thead>\n",
       "  <tbody>\n",
       "    <tr>\n",
       "      <th>.NET Developer / Engineer</th>\n",
       "      <td>1</td>\n",
       "    </tr>\n",
       "    <tr>\n",
       "      <th>Patient Transporter</th>\n",
       "      <td>1</td>\n",
       "    </tr>\n",
       "    <tr>\n",
       "      <th>Patient Safety Specialist</th>\n",
       "      <td>1</td>\n",
       "    </tr>\n",
       "    <tr>\n",
       "      <th>Patient Safety Manager</th>\n",
       "      <td>1</td>\n",
       "    </tr>\n",
       "    <tr>\n",
       "      <th>Patient Safety Director</th>\n",
       "      <td>1</td>\n",
       "    </tr>\n",
       "    <tr>\n",
       "      <th>...</th>\n",
       "      <td>...</td>\n",
       "    </tr>\n",
       "    <tr>\n",
       "      <th>Etcher / Engraver</th>\n",
       "      <td>1</td>\n",
       "    </tr>\n",
       "    <tr>\n",
       "      <th>Estimator</th>\n",
       "      <td>1</td>\n",
       "    </tr>\n",
       "    <tr>\n",
       "      <th>Esthetician</th>\n",
       "      <td>1</td>\n",
       "    </tr>\n",
       "    <tr>\n",
       "      <th>Executive Recruiter</th>\n",
       "      <td>1</td>\n",
       "    </tr>\n",
       "    <tr>\n",
       "      <th>na</th>\n",
       "      <td>1</td>\n",
       "    </tr>\n",
       "  </tbody>\n",
       "</table>\n",
       "<p>1780 rows × 1 columns</p>\n",
       "</div>"
      ],
      "text/plain": [
       "                           Career Area\n",
       "Occupation                            \n",
       ".NET Developer / Engineer            1\n",
       "Patient Transporter                  1\n",
       "Patient Safety Specialist            1\n",
       "Patient Safety Manager               1\n",
       "Patient Safety Director              1\n",
       "...                                ...\n",
       "Etcher / Engraver                    1\n",
       "Estimator                            1\n",
       "Esthetician                          1\n",
       "Executive Recruiter                  1\n",
       "na                                   1\n",
       "\n",
       "[1780 rows x 1 columns]"
      ]
     },
     "execution_count": 7,
     "metadata": {},
     "output_type": "execute_result"
    }
   ],
   "source": [
    "new_main.groupby(['Occupation', 'Career Area']).count().reset_index()[['Occupation', 'Career Area']].groupby('Occupation').count().sort_values('Career Area')"
   ]
  },
  {
   "cell_type": "code",
   "execution_count": null,
   "metadata": {},
   "outputs": [],
   "source": [
    "new_main.info()"
   ]
  },
  {
   "cell_type": "code",
   "execution_count": null,
   "metadata": {},
   "outputs": [],
   "source": [
    "temp = new_skills.rename(columns={'Is Specialized Skill?':'Specialized', \n",
    "                                 'Is Software Skill?':'Software'})"
   ]
  },
  {
   "cell_type": "code",
   "execution_count": null,
   "metadata": {},
   "outputs": [],
   "source": [
    "del(new_skills)"
   ]
  },
  {
   "cell_type": "code",
   "execution_count": null,
   "metadata": {
    "scrolled": false
   },
   "outputs": [],
   "source": [
    "# temp = new_skills\n",
    "\n",
    "# temp = temp.convert_dtypes()\n",
    "\n",
    "display(temp)\n",
    "\n",
    "temp.info()"
   ]
  },
  {
   "cell_type": "code",
   "execution_count": null,
   "metadata": {},
   "outputs": [],
   "source": [
    "temp.to_parquet(r\"A:\\HEJP_revision_02152020\\Skills.parquet\", index=False)"
   ]
  },
  {
   "cell_type": "code",
   "execution_count": null,
   "metadata": {},
   "outputs": [],
   "source": [
    "del(temp)"
   ]
  },
  {
   "cell_type": "code",
   "execution_count": null,
   "metadata": {},
   "outputs": [],
   "source": [
    "temp[:2].to_csv(r\"A:\\test.csv\", index=False)"
   ]
  },
  {
   "cell_type": "code",
   "execution_count": null,
   "metadata": {},
   "outputs": [],
   "source": [
    "test_in = pd.read_csv(r\"A:\\test.csv\").convert_dtypes()"
   ]
  },
  {
   "cell_type": "code",
   "execution_count": null,
   "metadata": {
    "scrolled": false
   },
   "outputs": [],
   "source": [
    "test_in.info()"
   ]
  },
  {
   "cell_type": "code",
   "execution_count": null,
   "metadata": {},
   "outputs": [],
   "source": [
    "pd.NA"
   ]
  },
  {
   "cell_type": "code",
   "execution_count": null,
   "metadata": {},
   "outputs": [],
   "source": [
    "new_cert.info()"
   ]
  },
  {
   "cell_type": "code",
   "execution_count": null,
   "metadata": {},
   "outputs": [],
   "source": [
    "new_cert.groupby(['BGTJobId', 'Certification Name']).count().sort_values(by='Year', ascending=False).reset_index()['Certification Name'].value_counts()"
   ]
  },
  {
   "cell_type": "code",
   "execution_count": null,
   "metadata": {},
   "outputs": [],
   "source": [
    "new_fac['Others'].value_counts()"
   ]
  },
  {
   "cell_type": "code",
   "execution_count": null,
   "metadata": {},
   "outputs": [],
   "source": [
    "temp = new_fac[(new_fac['Other_Engineering']==1)|(new_fac['Other_Education']==1)|(new_fac['Other_Social_Sciences']==1)|(new_fac['Other_Humanities_and_Arts']==1)]\n",
    "\n",
    "temp['BGTJobId'].nunique()"
   ]
  },
  {
   "cell_type": "code",
   "execution_count": null,
   "metadata": {},
   "outputs": [],
   "source": [
    "new_fac.columns"
   ]
  },
  {
   "cell_type": "code",
   "execution_count": null,
   "metadata": {},
   "outputs": [],
   "source": [
    "for column in new_fac_det.columns:\n",
    "    print(column)"
   ]
  },
  {
   "cell_type": "code",
   "execution_count": null,
   "metadata": {},
   "outputs": [],
   "source": [
    "new_fac_det[new_fac_det['Other_Humanities_and_Arts']==1]"
   ]
  },
  {
   "cell_type": "code",
   "execution_count": null,
   "metadata": {},
   "outputs": [],
   "source": [
    "new_fac_gen"
   ]
  },
  {
   "cell_type": "code",
   "execution_count": null,
   "metadata": {},
   "outputs": [],
   "source": [
    "def validate_nas(df):\n",
    "    \n",
    "    if 'Faculty' not in df.columns:\n",
    "        df = df.merge(faculty_table[['Job ID', 'Faculty']], on='Job ID', how='inner')\n",
    "    \n",
    "    nas = df[df['Occupation']=='na']\n",
    "    no_nas = df.drop(nas.index)\n",
    "    \n",
    "    n_w = nas.iloc[:,0].nunique()\n",
    "    n_wo = no_nas.iloc[:,0].nunique()\n",
    "    \n",
    "    def percent(s_df):\n",
    "        s_df['%nas'] = s_df['nas'] / (s_df['nas'] + s_df['no_nas'])\n",
    "        return s_df\n",
    "    \n",
    "    total = pd.DataFrame([[n_w, n_wo]], columns=['nas', 'no_nas'])\n",
    "    total = percent(total)\n",
    "    \n",
    "    display(total)\n",
    "    \n",
    "    years_w = pd.DataFrame(nas['Year'].value_counts()).reset_index().rename(columns={'Year':'nas'})\n",
    "    years_wo = pd.DataFrame(no_nas['Year'].value_counts()).reset_index().rename(columns={'Year':'no_nas'})\n",
    "    \n",
    "    years = years_w.merge(years_wo, on='index', how='inner').rename(columns={'index':'Year'})\n",
    "    years = years.sort_values(by='Year').reset_index(drop=True)\n",
    "    years = percent(years)\n",
    "    \n",
    "    display(years)\n",
    "        \n",
    "    fac_w = pd.DataFrame(nas['Faculty'].value_counts()).reset_index().rename(columns={'Faculty':'nas'})\n",
    "    fac_wo = pd.DataFrame(no_nas['Faculty'].value_counts()).reset_index().rename(columns={'Faculty':'no_nas'})\n",
    "    \n",
    "    fac = fac_w.merge(fac_wo, on='index', how='inner').rename(columns={'index':'Faculty'})\n",
    "    fac = percent(fac)\n",
    "    \n",
    "    display(fac)\n",
    "    \n",
    "validate_nas(main_table)\n",
    "validate_nas(new_main)"
   ]
  },
  {
   "cell_type": "code",
   "execution_count": null,
   "metadata": {},
   "outputs": [],
   "source": [
    "new_main = new_main.sort_values(by='BGTJobId')\n",
    "new_main = new_main.rename(columns={'BGTJobId':'Job ID'})"
   ]
  },
  {
   "cell_type": "code",
   "execution_count": null,
   "metadata": {},
   "outputs": [],
   "source": [
    "together = main_table.merge(new_main[['Job ID']], on='Job ID', how='outer', indicator=True)"
   ]
  },
  {
   "cell_type": "code",
   "execution_count": null,
   "metadata": {},
   "outputs": [],
   "source": [
    "pd.DataFrame(together.groupby('_merge')[['Job ID']].count())"
   ]
  },
  {
   "cell_type": "code",
   "execution_count": null,
   "metadata": {},
   "outputs": [],
   "source": [
    "main_indi = together[~together['Occupation'].isnull()]\n",
    "\n",
    "def in_or_not(string):\n",
    "    if string is 'left_only':\n",
    "        return 0\n",
    "    elif string is 'both':\n",
    "        return 1\n",
    "    else:\n",
    "        return None\n",
    "    \n",
    "main_indi['kept'] = main_indi['_merge'].apply(in_or_not)\n",
    "\n",
    "main_indi = main_indi.merge(faculty_table[['Job ID', 'Faculty', 'Tenure_Line']])\n",
    "\n",
    "both = main_indi[main_indi['kept']==1]\n",
    "left = main_indi[main_indi['kept']==0]\n",
    "\n",
    "right = new_main.merge(together[together['_merge']=='right_only'][['Job ID']], on='Job ID', how='inner')"
   ]
  },
  {
   "cell_type": "code",
   "execution_count": null,
   "metadata": {},
   "outputs": [],
   "source": [
    "display(stats.ttest_ind(both['Faculty'], left['Faculty'], equal_var=True))\n",
    "display(both['Faculty'].describe())\n",
    "display(left['Faculty'].describe())"
   ]
  },
  {
   "cell_type": "code",
   "execution_count": null,
   "metadata": {},
   "outputs": [],
   "source": [
    "left"
   ]
  },
  {
   "cell_type": "code",
   "execution_count": null,
   "metadata": {},
   "outputs": [],
   "source": [
    "len(left[~left['IPEDS Institution Name'].isnull()])"
   ]
  },
  {
   "cell_type": "code",
   "execution_count": null,
   "metadata": {},
   "outputs": [],
   "source": [
    "len(left[left['IPEDS Institution Name'].isnull()])/638330"
   ]
  },
  {
   "cell_type": "code",
   "execution_count": null,
   "metadata": {},
   "outputs": [],
   "source": [
    "0.033280591543558974 * 638330"
   ]
  },
  {
   "cell_type": "code",
   "execution_count": null,
   "metadata": {},
   "outputs": [],
   "source": [
    "len(both[both['IPEDS Institution Name'].isnull()&both['IPEDS Sector Name'].isnull()])"
   ]
  },
  {
   "cell_type": "code",
   "execution_count": null,
   "metadata": {},
   "outputs": [],
   "source": [
    "len(right[right['IPEDS Institution Name'].isnull()&right['IPEDS Sector Name'].isnull()])"
   ]
  },
  {
   "cell_type": "code",
   "execution_count": null,
   "metadata": {},
   "outputs": [],
   "source": [
    "0.10744908532717937 * 3318837 + 0.10199166891498689 * 3306172"
   ]
  },
  {
   "cell_type": "code",
   "execution_count": null,
   "metadata": {},
   "outputs": [],
   "source": [
    "75813 + 303998"
   ]
  },
  {
   "cell_type": "code",
   "execution_count": null,
   "metadata": {},
   "outputs": [],
   "source": [
    "693808 - 379811"
   ]
  },
  {
   "cell_type": "code",
   "execution_count": null,
   "metadata": {},
   "outputs": [],
   "source": [
    "display(stats.ttest_ind(both['Faculty'], right['Faculty'], equal_var=True))\n",
    "display(both['Faculty'].describe())\n",
    "display(right['Faculty'].describe())"
   ]
  },
  {
   "cell_type": "code",
   "execution_count": null,
   "metadata": {},
   "outputs": [],
   "source": []
  },
  {
   "cell_type": "code",
   "execution_count": null,
   "metadata": {},
   "outputs": [],
   "source": [
    "new_main"
   ]
  },
  {
   "cell_type": "code",
   "execution_count": null,
   "metadata": {},
   "outputs": [],
   "source": [
    "new_cert.groupby('Certification Name').count().sort_values('Job ID', ascending=False)"
   ]
  },
  {
   "cell_type": "code",
   "execution_count": null,
   "metadata": {},
   "outputs": [],
   "source": [
    "right"
   ]
  },
  {
   "cell_type": "code",
   "execution_count": null,
   "metadata": {},
   "outputs": [],
   "source": []
  }
 ],
 "metadata": {
  "kernelspec": {
   "display_name": "Python 3",
   "language": "python",
   "name": "python3"
  },
  "language_info": {
   "codemirror_mode": {
    "name": "ipython",
    "version": 3
   },
   "file_extension": ".py",
   "mimetype": "text/x-python",
   "name": "python",
   "nbconvert_exporter": "python",
   "pygments_lexer": "ipython3",
   "version": "3.8.1"
  }
 },
 "nbformat": 4,
 "nbformat_minor": 2
}
