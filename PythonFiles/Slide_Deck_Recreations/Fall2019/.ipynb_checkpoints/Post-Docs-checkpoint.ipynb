{
 "cells": [
  {
   "cell_type": "code",
   "execution_count": null,
   "metadata": {},
   "outputs": [],
   "source": [
    "import os\n",
    "import pandas as pd\n",
    "pd.set_option('display.max_columns', 500)\n",
    "pd.set_option('display.max_rows', 1000)\n",
    "pd.set_option('display.max_colwidth', -1)\n",
    "import numpy as np\n",
    "import matplotlib.pyplot as plt\n",
    "plt.style.use('fivethirtyeight')"
   ]
  },
  {
   "cell_type": "code",
   "execution_count": null,
   "metadata": {},
   "outputs": [],
   "source": [
    "# Import relevant dataframes:\n",
    "\n",
    "main_table = pd.read_csv(r\"C:\\Users\\Public\\_Data\\_Data\\Latest_Version\\Main_Data\\Main_Table_10182019.csv\")\n",
    "print(len(main_table))\n",
    "faculty_table = pd.read_csv(r\"C:\\Users\\Public\\_Data\\_Data\\Latest_Version\\Faculty_Data\\Faculty_Table_08272019.csv\")\n",
    "print(len(faculty_table))\n",
    "skill_table = pd.read_csv(r\"C:\\Users\\Public\\_Data\\_Data\\Latest_Version\\Skills_Data\\Skill_Table_06072019.csv\")\n",
    "print(len(skill_table))"
   ]
  },
  {
   "cell_type": "code",
   "execution_count": null,
   "metadata": {},
   "outputs": [],
   "source": [
    "def title_swap(string):\n",
    "    dictionary = {'Community and Social Services':'Counseling and Religious Life',\n",
    "                  'Customer and Client Support':'Online Support and University Information',\n",
    "                  'Hospitality, Food, and Tourism':'Event Management and Hospitality', \n",
    "                  'Planning and Analysis':'Analysis', \n",
    "                  'Curriculum and Instructional Designer / Developer':'Curriculum and Instructional Designer', \n",
    "                  'Special Education Teacher':'Accessibility and Disability Services', \n",
    "                  'Teaching Assistant':'Faculty Support', \n",
    "                  'Tutor':'Academic Tutor',\n",
    "                  'Clerical and Administrative':'Administrative',\n",
    "                  'na' : 'Uncategorized'}\n",
    "    if(string in dictionary):\n",
    "        return dictionary[string]\n",
    "    else:\n",
    "        return string\n",
    "    \n",
    "def val_year(year1, year2):\n",
    "    if(year1 >= year2):\n",
    "        if(year1>year2):\n",
    "            temp = year1\n",
    "            year1 = year2\n",
    "            year2 = temp\n",
    "        else:\n",
    "            raise ValueError('Years cannot be the same.')\n",
    "            \n",
    "    return (year1, year2)\n",
    "\n",
    "def cat_validate(actual, desired_list):\n",
    "    return actual in desired_list"
   ]
  },
  {
   "cell_type": "code",
   "execution_count": null,
   "metadata": {},
   "outputs": [],
   "source": [
    "post_doc = main_table[main_table['Job Title'].str.contains('postdoc', case=False, na=False) |\n",
    "                      main_table['Job Title'].str.contains('post doc', case=False, na=False)|\n",
    "                      main_table['Job Title'].str.contains('post-doc', case=False, na=False)]\n",
    "print(len(post_doc))"
   ]
  },
  {
   "cell_type": "code",
   "execution_count": null,
   "metadata": {},
   "outputs": [],
   "source": [
    "mask = faculty_table[faculty_table['Post-Doctoral'] == 1][['Job ID']]\n",
    "print(len(mask))"
   ]
  },
  {
   "cell_type": "code",
   "execution_count": null,
   "metadata": {},
   "outputs": [],
   "source": [
    "boolean_vec = (main_table['Job Title'].str.contains('postdoc', case=False, na=False) |\n",
    "                      main_table['Job Title'].str.contains('post doc', case=False, na=False)|\n",
    "                      main_table['Job Title'].str.contains('post-doc', case=False, na=False))\n",
    "\n",
    "main_table['post_doc'] = boolean_vec + 0\n",
    "\n",
    "faculty_table.merge(main_table[['Job ID', 'post_doc']], on='Job ID', how='inner')"
   ]
  },
  {
   "cell_type": "code",
   "execution_count": null,
   "metadata": {},
   "outputs": [],
   "source": []
  }
 ],
 "metadata": {
  "kernelspec": {
   "display_name": "Python 3",
   "language": "python",
   "name": "python3"
  },
  "language_info": {
   "codemirror_mode": {
    "name": "ipython",
    "version": 3
   },
   "file_extension": ".py",
   "mimetype": "text/x-python",
   "name": "python",
   "nbconvert_exporter": "python",
   "pygments_lexer": "ipython3",
   "version": "3.7.3"
  }
 },
 "nbformat": 4,
 "nbformat_minor": 2
}
