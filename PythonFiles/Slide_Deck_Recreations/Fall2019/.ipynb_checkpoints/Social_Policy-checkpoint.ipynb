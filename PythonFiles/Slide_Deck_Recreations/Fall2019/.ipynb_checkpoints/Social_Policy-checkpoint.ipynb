{
 "cells": [
  {
   "cell_type": "code",
   "execution_count": null,
   "metadata": {},
   "outputs": [],
   "source": [
    "import os\n",
    "import pandas as pd\n",
    "pd.set_option('display.max_columns', 500)\n",
    "pd.set_option('display.max_rows', 1000)\n",
    "import numpy as np\n",
    "import matplotlib.pyplot as plt\n",
    "import matplotlib.transforms\n",
    "plt.style.use('fivethirtyeight')"
   ]
  },
  {
   "cell_type": "code",
   "execution_count": null,
   "metadata": {},
   "outputs": [],
   "source": [
    "# Import relevant dataframes:\n",
    "\n",
    "main_table = pd.read_csv(r\"C:\\Users\\Public\\_Data\\_Data\\Latest_Version\\Main_Data\\Main_Table_10182019.csv\")\n",
    "print(len(main_table))\n",
    "faculty_table = pd.read_csv(r\"C:\\Users\\Public\\_Data\\_Data\\Latest_Version\\Faculty_Data\\Faculty_Table_08272019.csv\")\n",
    "print(len(faculty_table))\n",
    "skill_table = pd.read_csv(r\"C:\\Users\\Public\\_Data\\_Data\\Latest_Version\\Skills_Data\\Skill_Table_06072019.csv\")\n",
    "print(len(skill_table))"
   ]
  },
  {
   "cell_type": "code",
   "execution_count": null,
   "metadata": {},
   "outputs": [],
   "source": [
    "def title_swap(string):\n",
    "    dictionary = {'Community and Social Services':'Counseling and Religious Life',\n",
    "                  'Customer and Client Support':'Online Support and University Information',\n",
    "                  'Hospitality, Food, and Tourism':'Event Management and Hospitality', \n",
    "                  'Planning and Analysis':'Analysis', \n",
    "                  'Curriculum and Instructional Designer / Developer':'Curriculum and Instructional Designer', \n",
    "                  'Special Education Teacher':'Accessibility and Disability Services', \n",
    "                  'Teaching Assistant':'Faculty Support', \n",
    "                  'Tutor':'Academic Tutor',\n",
    "                  'Clerical and Administrative':'Administrative',\n",
    "                  'na' : 'Uncategorized'}\n",
    "    if(string in dictionary):\n",
    "        return dictionary[string]\n",
    "    else:\n",
    "        return string\n",
    "    \n",
    "def val_year(year1, year2):\n",
    "    if(year1 >= year2):\n",
    "        if(year1>year2):\n",
    "            temp = year1\n",
    "            year1 = year2\n",
    "            year2 = temp\n",
    "        else:\n",
    "            raise ValueError('Years cannot be the same.')\n",
    "            \n",
    "    return (year1, year2)\n",
    "\n",
    "def cat_validate(actual, desired_list):\n",
    "    return actual in desired_list"
   ]
  },
  {
   "cell_type": "code",
   "execution_count": null,
   "metadata": {
    "scrolled": true
   },
   "outputs": [],
   "source": [
    "skill_table[skill_table['Skill Name'].str.contains('Health', na=False)]['Skill Name'].value_counts()"
   ]
  },
  {
   "cell_type": "markdown",
   "metadata": {},
   "source": [
    "#  Policy & Research Bucket"
   ]
  },
  {
   "cell_type": "code",
   "execution_count": null,
   "metadata": {},
   "outputs": [],
   "source": [
    "main_table.merge(temp, on='Job ID', how='inner')['Occupation'].value_counts()"
   ]
  },
  {
   "cell_type": "code",
   "execution_count": null,
   "metadata": {},
   "outputs": [],
   "source": [
    "get_colocated_skills(main_table[main_table['Occupation']=='Policy Analyst'])"
   ]
  },
  {
   "cell_type": "markdown",
   "metadata": {},
   "source": [
    "# Isolating the skills of Nurse Practitioners"
   ]
  },
  {
   "cell_type": "code",
   "execution_count": null,
   "metadata": {},
   "outputs": [],
   "source": [
    "nurse = main_table[main_table['Occupation']=='Nurse Practitioner']"
   ]
  },
  {
   "cell_type": "code",
   "execution_count": null,
   "metadata": {
    "scrolled": true
   },
   "outputs": [],
   "source": [
    "get_colocated_skills(nurse, year=2010)"
   ]
  },
  {
   "cell_type": "code",
   "execution_count": null,
   "metadata": {},
   "outputs": [],
   "source": [
    "get_colocated_skills(nurse, year=2017)"
   ]
  },
  {
   "cell_type": "markdown",
   "metadata": {},
   "source": [
    "# Other Social Skills for Selection "
   ]
  },
  {
   "cell_type": "code",
   "execution_count": null,
   "metadata": {},
   "outputs": [],
   "source": [
    "social_list = ['Social Work', 'Social Studies', 'Social Services', 'Social Services Industry Knowledge']\n",
    "\n",
    "mask = skill_table[skill_table['Skill Name'].apply(cat_validate, args=(social_list,))][['Job ID']]\n",
    "mask = mask.drop_duplicates('Job ID')\n",
    "# print(len(mask))\n",
    "\n",
    "table = skill_table.merge(mask, on='Job ID', how='inner')['Skill Name']\n",
    "table['Skill Name'].value_counts()"
   ]
  },
  {
   "cell_type": "code",
   "execution_count": null,
   "metadata": {
    "scrolled": true
   },
   "outputs": [],
   "source": [
    "skill_table[skill_table['Skill Name'].str.contains('Research', na=False)]['Skill Name'].value_counts()"
   ]
  },
  {
   "cell_type": "markdown",
   "metadata": {},
   "source": [
    "# Begin Breakdowns Section "
   ]
  },
  {
   "cell_type": "code",
   "execution_count": null,
   "metadata": {},
   "outputs": [],
   "source": [
    "social_list = ['Social Work', 'Social Studies', 'Social Services', 'Social Services Industry Knowledge']\n",
    "\n",
    "social = skill_table[skill_table['Skill Name'].apply(cat_validate, args=(social_list,))][['Job ID']]\n",
    "social = social.drop_duplicates('Job ID')\n",
    "print(\"Number of jobs in Social Skill Bucket:\")\n",
    "print(\"\\t\" + str(len(social)))\n",
    "\n",
    "policy_list = ['Policy Analysis', 'Policy Implementation', 'Policy Research', 'Policy Evaluation',\n",
    "              'Policy Development', 'Public Policy Development', 'Policy Recommendation', \n",
    "               'Policy Establishment', 'Health Care Industry Knowledge', 'Health and Human Services']\n",
    "\n",
    "policy = skill_table[skill_table['Skill Name'].apply(cat_validate, args=(policy_list,))][['Job ID']]\n",
    "policy = policy.drop_duplicates('Job ID')\n",
    "print(\"Number of jobs in Policy Skill Bucket:\")\n",
    "print(\"\\t\" + str(len(policy)))\n",
    "\n",
    "research_list = ['Research', 'Qualitative Research', 'Quantitative Research', 'SPSS', 'SAS', 'STATA',\n",
    "                 'Data Collection', 'Data Analysis', 'Data Management', 'Statistical Analysis', 'Regression Analysis']\n",
    "\n",
    "research = skill_table[skill_table['Skill Name'].apply(cat_validate, args=(research_list,))][['Job ID']]\n",
    "research = research.drop_duplicates('Job ID')\n",
    "print(\"Number of jobs in Research Skill Bucket:\")\n",
    "print(\"\\t\" + str(len(research)))\n",
    "\n",
    "print()\n",
    "\n",
    "temp = social.merge(policy, on='Job ID', how='inner')\n",
    "temp = temp.drop_duplicates('Job ID')\n",
    "print(\"Number of jobs in Social and Policy:\")\n",
    "print(\"\\t\" + str(len(temp)))\n",
    "\n",
    "other = social.merge(research, on='Job ID', how='inner')\n",
    "other = other.drop_duplicates('Job ID')\n",
    "print(\"Number of jobs in Social and Research:\")\n",
    "print(\"\\t\" + str(len(other)))\n",
    "\n",
    "mask = temp.merge(other, on='Job ID', how='outer')\n",
    "mask = mask.drop_duplicates('Job ID')\n",
    "\n",
    "temp = policy.merge(research, on='Job ID', how='inner')\n",
    "temp = temp.drop_duplicates('Job ID')\n",
    "print(\"Number of jobs in Research and Policy:\")\n",
    "print(\"\\t\" + str(len(temp)))\n",
    "\n",
    "mask = mask.merge(temp, on='Job ID', how='outer')\n",
    "mask = mask.drop_duplicates('Job ID')\n",
    "\n",
    "print()\n",
    "\n",
    "# Communication Skills\n",
    "# Teamwork / Collaboration\n",
    "# Schedulling\n",
    "# Project Management\n",
    "# Supervisory Skills\n",
    "# Budgeting\n",
    "# Planning\n",
    "# Grant Writing\n",
    "# Data Management\n",
    "# Quantatative Analysis\n",
    "\n",
    "# to add another filter: | (skill_table['Skill Name']=='')\n",
    "\n",
    "# print(len(mask))\n",
    "\n",
    "# Remove Medical Information\n",
    "main = main_table[~(main_table['IPEDS Institution Name'].str.contains('Nurs', na=False)|\n",
    "                  main_table['IPEDS Institution Name'].str.contains('Medical', na=False)|\n",
    "                  main_table['IPEDS Institution Name'].str.contains('Medicine', na=False)|\n",
    "                  main_table['IPEDS Institution Name'].str.contains('Pharm', na=False))]\n",
    "\n",
    "table = main.merge(mask, on='Job ID', how='inner')\n",
    "\n",
    "# Omit Nurses\n",
    "table = table[~(table['Occupation'].str.contains('Nurse', na=False)|\n",
    "                table['Occupation'].str.contains('Attorney', na=False))]\n",
    "\n",
    "print('Number of total Jobs:\\n\\t' + str(len(table)))\n",
    "\n",
    "# Remove na jobs\n",
    "table = table[~(table['Occupation']=='na')]\n",
    "\n",
    "# Apply title swap\n",
    "table['Career Area'] = table['Career Area'].apply(title_swap)\n",
    "table['Occupation'] = table['Occupation'].apply(title_swap)\n",
    "\n",
    "table = table[(table['Minimum EDU Requirements']>=18)]\n",
    "\n",
    "print('Number of Jobs with MA or Above:\\n\\t' + str(len(table)))\n",
    "\n",
    "# print('Number of total Jobs:\\n\\t', len(table))\n",
    "\n",
    "mask = faculty_table[(faculty_table['Faculty']==0)&(faculty_table['Post-Doctoral']==0)]['Job ID']\n",
    "table_non = table.merge(mask, on='Job ID', how='inner')\n",
    "table_fac = table.merge(mask, on='Job ID', how='outer', indicator=True)\n",
    "table_fac = table_fac[table_fac['_merge']=='left_only'].drop(columns='_merge')\n",
    "print('Number of non-faculty Jobs:\\n\\t' + str(len(table_non)))\n",
    "print('Number of faculty Jobs:\\n\\t' + str(len(table_fac)))\n",
    "\n",
    "# Social Services and Social Work Only:\n",
    "# Number of total Jobs:\n",
    "# \t81817\n",
    "# Number of Jobs with MA or Above:\n",
    "# \t25126\n",
    "# Number of non-faculty Jobs:\n",
    "# \t17701\n",
    "\n",
    "# Adding Policy Analysis, Policy Reserach, Social Studies, Policy Evaluation, and Policy Development\n",
    "# Number of total Jobs:\n",
    "# \t81817\n",
    "# Number of Jobs with MA or Above:\n",
    "# \t25126\n",
    "# Number of non-faculty Jobs:\n",
    "# \t18674\n",
    "\n",
    "# Newest Isolation Method:\n",
    "# Number of jobs in Social Skill Bucket:\n",
    "# \t39044\n",
    "# Number of jobs in Policy Skill Bucket:\n",
    "# \t77379\n",
    "# Number of jobs in Research Skill Bucket:\n",
    "# \t1153855\n",
    "\n",
    "# Number of jobs in Social and Policy:\n",
    "# \t1280\n",
    "# Number of jobs in Social and Research:\n",
    "# \t10782\n",
    "# Number of jobs in Research and Policy:\n",
    "# \t38691\n",
    "\n",
    "# 3776562\n",
    "# Number of total Jobs:\n",
    "# \t48136\n",
    "# Number of Jobs with MA or Above:\n",
    "# \t13452\n",
    "# Number of non-faculty Jobs:\n",
    "# \t9463\n",
    "# Number of faculty Jobs:\n",
    "# \t3989"
   ]
  },
  {
   "cell_type": "code",
   "execution_count": null,
   "metadata": {},
   "outputs": [],
   "source": [
    "pd.DataFrame(table[['Job ID']].merge(skill_table, on='Job ID', how='inner')['Skill Name'].value_counts())"
   ]
  },
  {
   "cell_type": "code",
   "execution_count": null,
   "metadata": {
    "scrolled": true
   },
   "outputs": [],
   "source": [
    "display(table[['Career Area', 'Occupation', 'Job ID']].groupby([\n",
    "    'Career Area', 'Occupation']).count())"
   ]
  },
  {
   "cell_type": "code",
   "execution_count": null,
   "metadata": {},
   "outputs": [],
   "source": [
    "lib = table[table['Occupation']=='Librarian']\n",
    "display(lib)\n",
    "get_colocated_skills(lib)"
   ]
  },
  {
   "cell_type": "markdown",
   "metadata": {},
   "source": [
    "# Social Policy Job Analysis"
   ]
  },
  {
   "cell_type": "markdown",
   "metadata": {},
   "source": [
    "### The following visualizations are based on the space of jobs identified as being in the \"Social Policy\" sector based on a set of skills. Here are some examples of that skillspace:\n",
    "##### Social Work\n",
    "##### Social Services\n",
    "##### Policy Analysis\n",
    "##### Policy Reserach\n",
    "##### Social Studies\n",
    "##### Policy Evaluation\n",
    "##### Policy Development\n",
    "### All postings that request at least one of these Skills are then used as a the set of postings for further division. We are attemping to describe the Higher Education job space for those with PhDs in social policy or related fields. Therefore, the posting space is also limited to those that require a masters degree or greater."
   ]
  },
  {
   "cell_type": "code",
   "execution_count": null,
   "metadata": {
    "scrolled": false
   },
   "outputs": [],
   "source": [
    "def get_categorical_sizes(df, category):\n",
    "    df_size = df['Job ID'].nunique()\n",
    "    cat = pd.DataFrame(df[category].value_counts()).reset_index().rename(\n",
    "        columns={category:'count'})\n",
    "    cat['inc'] = np.true_divide(cat['count'], df_size)\n",
    "    return cat\n",
    "\n",
    "def get_colocated_skills(df, year=0):\n",
    "    if year > 0:\n",
    "        df = df[df['Year']==year]\n",
    "        skill_source = skill_table[skill_table['Year']==year]\n",
    "    else:\n",
    "        skill_source = skill_table\n",
    "    \n",
    "    co_loc = pd.DataFrame(df[['Job ID']].merge(\n",
    "        skill_source, on='Job ID', how='inner')['Skill Name'].value_counts())\n",
    "    co_loc.columns = ['count']\n",
    "    co_loc['inc'] = np.true_divide(co_loc['count'], df['Job ID'].nunique())\n",
    "    return co_loc.reset_index()\n",
    "\n",
    "def get_growth(df1, df2, category, cutoff = 30, min_rate=0.025):\n",
    "    df1 = df1[df1['inc']>=min_rate]\n",
    "    df2 = df2[df2['inc']>=min_rate]\n",
    "    final_df = df1.merge(df2, on='index', how='outer', indicator = True)\n",
    "    final_df = final_df[final_df['count_y']>=cutoff]\n",
    "    final_df['growth'] = np.true_divide(final_df['inc_y']-final_df['inc_x'], final_df['inc_x'])\n",
    "    return final_df\n",
    "\n",
    "def graph_categories(df, category, title, top=10):\n",
    "    df = df[:top]\n",
    "\n",
    "    rates = df['inc'].values\n",
    "    names = df.iloc[:,0].values\n",
    "    \n",
    "    ind = np.array([x for x, _ in enumerate(names)])\n",
    "\n",
    "    plt.bar(ind, rates, label='Incidence Rate')\n",
    "\n",
    "    plt.xticks(ind, names, rotation = 'vertical')\n",
    "    plt.xlabel(category + 's')\n",
    "    plt.ylabel('Incidence Rate of\\n' + category + 's in Social Policy')\n",
    "    plt.legend(loc='upper right')\n",
    "    plt.title(title)\n",
    "\n",
    "    display(df)\n",
    "    plt.show()\n",
    "\n",
    "def graph_growth(df, year1, year2, category, title, min_rate=0.025, top=10):\n",
    "    df = df[df['inc_y']>=min_rate]\n",
    "    df = df[:top]\n",
    "        \n",
    "    rates = df['growth'].values\n",
    "    names = df.iloc[:,0].values\n",
    "\n",
    "    ind = np.array([x for x, _ in enumerate(names)])\n",
    "\n",
    "    plt.bar(ind, rates, label='Growth rate')\n",
    "\n",
    "    plt.xticks(ind, names, rotation = 'vertical')\n",
    "    plt.xlabel(category + 's')\n",
    "    plt.ylabel('Growth Rate of\\n' + category + ' from ' + str(year1) + ' to ' + str(year2))\n",
    "    plt.legend(loc='upper right')\n",
    "    plt.title(title)\n",
    "\n",
    "    plt.show()\n",
    "    \n",
    "def show_skill_details(df, year1, year2, title, name, cutoff=30, min_rate=0.025):\n",
    "    years = val_year(year1, year2)\n",
    "    year1 = years[0]\n",
    "    year2 = years[1]\n",
    "    \n",
    "    print(title)\n",
    "    skill_1 = get_colocated_skills(df, year1)\n",
    "    skill_2 = get_colocated_skills(df, year2)\n",
    "    graph_categories(skill_2, 'Skill Name', 'Top 10 Faculty Skills in ' + str(year2))\n",
    "    grown = get_growth(skill_1, skill_2, 'Skill Name', cutoff=cutoff, min_rate=min_rate)\n",
    "    grown = grown.sort_values('growth', ascending=False)\n",
    "    graph_growth(grown, year1, year2, 'Skill Name', 'Fastest Growing ' + title, min_rate=min_rate)\n",
    "    \n",
    "    print('Top Added Skills in ' + name + ': ')\n",
    "    show_added(grown, min_rate=min_rate)\n",
    "    \n",
    "def show_added(df, top=10, min_rate = 0.025):\n",
    "    df = df[df['_merge']=='right_only']\n",
    "    df = df[['index', 'count_y', 'inc_y']]\n",
    "    df = df[df['inc_y']>=min_rate]\n",
    "    df = df[:top]\n",
    "    display(df)"
   ]
  },
  {
   "cell_type": "code",
   "execution_count": null,
   "metadata": {
    "scrolled": false
   },
   "outputs": [],
   "source": [
    "# Categorical Breakdowns\n",
    "def occupational_breakdowns(df, category, year1, year2, title, verbose=True):\n",
    "\n",
    "    years = val_year(year1, year2)\n",
    "    year1 = years[0]\n",
    "    yaer2 = years[1]\n",
    "\n",
    "    df = df[(df['Year']==year1)|(df['Year']==year2)]\n",
    "\n",
    "    if(verbose):\n",
    "        print(title)\n",
    "\n",
    "    skill_2nd = ''\n",
    "\n",
    "    if (skill_2nd != ''):\n",
    "        mask = skill_table[skill_table['Skill Name']==skill_2nd][['Job ID']]\n",
    "        df = df.merge(mask, on='Job ID', how='inner')\n",
    "\n",
    "    cat_1 = get_categorical_sizes(df[df['Year']==year1], category)\n",
    "\n",
    "    cat_2 = get_categorical_sizes(df[df['Year']==year2], category)\n",
    "\n",
    "    if(verbose):\n",
    "        graph_categories(cat_1, category, title='Top ' + category + 's in ' + str(year1))\n",
    "        graph_categories(cat_2, category, title='Top ' + category + 's in ' + str(year2))\n",
    "\n",
    "    growth = get_growth(cat_1, cat_2, category, cutoff=5, min_rate=0.01)\n",
    "    show_added(growth, min_rate=0.01)\n",
    "        \n",
    "    cat = cat_1.merge(cat_2, on='index', how='inner')\n",
    "    cat = cat[cat['count_y']>=30]\n",
    "    cat['growth'] = round(np.true_divide(cat['inc_y']-cat['inc_x'], cat['inc_x'])*100, 2)\n",
    "    cat = cat.sort_values(by='growth', ascending=False)\n",
    "    cat = cat.reset_index(drop=True)\n",
    "#     cat = cat.rename(columns={'count_x':'count_'+str(year1), 'inc_x':'inc_'+str(year1),\n",
    "#                               'count_y':'count_'+str(year2), 'inc_y':'inc_'+str(year2)})\n",
    "    return cat\n"
   ]
  },
  {
   "cell_type": "code",
   "execution_count": null,
   "metadata": {},
   "outputs": [],
   "source": [
    "cat = get_categorical_sizes(table_non, 'Occupation')\n",
    "graph_categories(cat, 'Occupation', title='Top 10 Non-Faculty Occupations in All Years')"
   ]
  },
  {
   "cell_type": "code",
   "execution_count": null,
   "metadata": {
    "scrolled": false
   },
   "outputs": [],
   "source": [
    "year1 = 2010\n",
    "year2 = 2017\n",
    "# Breakdowns of Faculty Occupational Information\n",
    "cat = occupational_breakdowns(table_fac, 'Occupation', year1, year2, \n",
    "                              'Growth of Faculty Social Policy Jobs from ' +  str(year1) + ' to ' + str(year2))\n",
    "display(cat)\n",
    "graph_growth(cat, year1, year2, 'Occupation', 'Growth of Faculty Social Policy Occupations from '\n",
    "             + str(year1) + ' to ' + str(year2), min_rate = 0.01)"
   ]
  },
  {
   "cell_type": "code",
   "execution_count": null,
   "metadata": {
    "scrolled": false
   },
   "outputs": [],
   "source": [
    "# Breakdowns of Non-Faculty Occupational Information\n",
    "cat = occupational_breakdowns(table_non, 'Occupation', year1, year2, \n",
    "                              'Growth of Non-Faculty Social Policy Jobs from' +  str(year1) + ' to ' + str(year2))\n",
    "display(cat)\n",
    "graph_growth(cat, year1, year2, 'Occupation', 'Growth of non-Faculty Social Policy Occupations from '\n",
    "             + str(year1) + ' to ' + str(year2), min_rate = 0.01)"
   ]
  },
  {
   "cell_type": "markdown",
   "metadata": {},
   "source": [
    "# Occupations to keep from the Fastest growing slide above:\n",
    "## Dean of Academic Affairs\n",
    "## Social / Human Services Manager (no medical)\n",
    "## Policy Analyst\n",
    "## Librarian\n",
    "## Administrative Manager\n",
    "## General Manager"
   ]
  },
  {
   "cell_type": "code",
   "execution_count": null,
   "metadata": {
    "scrolled": false
   },
   "outputs": [],
   "source": [
    "year1 = 2010\n",
    "year2 = 2017\n",
    "\n",
    "show_skill_details(table_fac, year1, year2, \n",
    "                   'Co-Located Faculty Skills in ' + str(year1) + ' and ' + str(year2), 'Faculty')\n",
    "\n",
    "show_skill_details(table_non, year1, year2,\n",
    "                   'Co-Located Non-Faculty Skills in ' + str(year1) + ' and ' + str(year2), 'Non-Faculty')\n"
   ]
  },
  {
   "cell_type": "code",
   "execution_count": null,
   "metadata": {},
   "outputs": [],
   "source": [
    "# Break out Occupations of particular interest in the non_faculty sector\n",
    "\n",
    "# Removed:\n",
    "#     (table_non['Occupation']=='Librarian')|\n",
    "#     (table_non['Occupation']=='Research Associate')|\n",
    "#     (table_non['Occupation']=='Research Scientist')|\n",
    "#     (table_non['Occupation']=='Human Reseources Specialist')|\n",
    "#     (table_non['Occupation']=='Social Science Researcher')|\n",
    "    \n",
    "occ_list = ['Administrator, Higher Education',\n",
    "            'Dean of Academic Division',\n",
    "            'Director of Student Affairs', \n",
    "            'Dean of Academic Affairs',\n",
    "            'Program Director, Higher Education',\n",
    "            'Administrative Manager', \n",
    "            'Dean of Students',\n",
    "            'General Manager',\n",
    "            'Policy Analyst',\n",
    "            'Education Program Manager',\n",
    "            'Academic / Guidance Counselor',\n",
    "            'Associate Dean, Higher Education', \n",
    "            'Program Manager (General)',\n",
    "            'Curriculum and Instructional Designer',\n",
    "            'Admissions Director', \n",
    "            'Compliance Manager',\n",
    "            'Fundraising Manager',\n",
    "            'Student Affairs Administrator', \n",
    "            'Grants Manager / Administrator',\n",
    "            'Social / Human Services Manager', \n",
    "            'Librarian']\n",
    "\n",
    "\"\"\"\n",
    "Administrator, Higher Education\n",
    "Assocaite Dean, Higher Education\n",
    "Dean of Academic Division\n",
    "Program Director, Higher Education\n",
    "Education Program Manager\n",
    "Director of Student Affairs\n",
    "Administrative Manager\n",
    "\"\"\"\n",
    "\n",
    "occ_break = table_non[table_non['Occupation'].apply(cat_validate, args=(occ_list, ))]"
   ]
  },
  {
   "cell_type": "code",
   "execution_count": null,
   "metadata": {
    "scrolled": false
   },
   "outputs": [],
   "source": [
    "# Special Bucket of 'Administrative/Academic' type jobs\n",
    "year1 = 2010\n",
    "year2 = 2017\n",
    "\n",
    "category = 'Occupation'\n",
    "cat = get_categorical_sizes(occ_break, category)\n",
    "graph_categories(cat, category, title='Top ' + category + 's in Special Bucket')\n",
    "\n",
    "growth = occupational_breakdowns(occ_break, category, year1, year2, '', verbose=False)\n",
    "graph_growth(growth, year1, year2, 'Occupation', \n",
    "             'Growth of Special Bucket Occupations from ' + str(year1) + ' to ' + str(year2))\n",
    "\n",
    "category = 'Skill Name'\n",
    "co_loc = get_colocated_skills(occ_break)\n",
    "graph_categories(co_loc, category, title='Top ' + category + 's in Special Bucket')\n",
    "\n",
    "show_skill_details(occ_break, year1, year2, \n",
    "                   'Skills in Special Bucket from ' + str(year1) + ' to ' + str(year2), 'Special Bucket')\n",
    "\n",
    "\n",
    "schools = occ_break['IPEDS Institution Name'].nunique()\n",
    "total = main_table['IPEDS Institution Name'].nunique()\n",
    "print('Selected Non-Faculty Occupations appear in ' + str(schools) + \n",
    "      ' different institutions across the sample.\\n')\n",
    "print('This represents ' + str(round((schools/total)*100, 2))\n",
    "      + '% of the institutions within the dataset.\\n')\n",
    "print('Most of the postings come from 4-Year institutions with many coming from R1 Institutions.')\n",
    "\n",
    "display(occ_break[['R1', 'Public', 'Private', '4-year', '2-year', 'Job ID']].groupby(['R1', 'Public', 'Private', '4-year', '2-year']).count())\n"
   ]
  },
  {
   "cell_type": "code",
   "execution_count": null,
   "metadata": {},
   "outputs": [],
   "source": [
    "# Identifying the Occupations within the Special Bucket with the highest rate of entry level positions\n",
    "def find_entry_level(df, entry_level=1, cutoff=10):\n",
    "\n",
    "    exp = pd.DataFrame(df['Occupation'].value_counts()).reset_index().rename(columns={'Occupation':'count'})\n",
    "    exp['Number Reporting Experience'] = float('nan')\n",
    "    exp['Number at Entry Level'] = float('nan')\n",
    "\n",
    "    for occ in exp['index']:\n",
    "        num_w = df[(df['Occupation']==occ)&(df['Minimum Experience Requirements']>0)]['Job ID'].nunique()\n",
    "        exp['Number Reporting Experience'] = exp['Number Reporting Experience'].where(exp['index']!=occ, other=num_w)\n",
    "\n",
    "        num = df[(df['Occupation']==occ)&((df['Minimum Experience Requirements']>0)&(df['Minimum Experience Requirements']<=entry_level))]['Job ID'].nunique()\n",
    "        exp['Number at Entry Level'] = exp['Number at Entry Level'].where(exp['index']!=occ, other=num)\n",
    "\n",
    "    exp = exp[exp['Number Reporting Experience']>=cutoff]\n",
    "    exp['Rate of Entry Level'] = np.true_divide(exp['Number at Entry Level'], exp['Number Reporting Experience'])\n",
    "    exp = exp.sort_values('Rate of Entry Level', ascending=False).reset_index(drop=True)\n",
    "    return exp\n",
    "    \n",
    "exp = find_entry_level(occ_break)\n",
    "display(exp.sort_values('count', ascending=False).reset_index(drop=True))"
   ]
  },
  {
   "cell_type": "code",
   "execution_count": null,
   "metadata": {},
   "outputs": [],
   "source": [
    "Potential Entry Level Postions:\n",
    "    Policy analyst\n",
    "                                14.7%\n",
    "    Education Program Manager\n",
    "                                7.41%\n",
    "    Administrative manager\n",
    "                                3.14%\n",
    "    General manager\n",
    "                                0.00%\n",
    "    Director of student affairs\n",
    "                                6.13%\n",
    "    \n",
    "Actual Top 5 Entry Levels:\n",
    "    Policy analyst\n",
    "                                14.7%\n",
    "    Curriculum and Instructional Designer\n",
    "                                11.8%\n",
    "    Compliance Manager\n",
    "                                11.7%\n",
    "    Student Affairs Administrator\n",
    "                                7.69%\n",
    "    Education Program Manager\n",
    "                                7.41%\n"
   ]
  },
  {
   "cell_type": "code",
   "execution_count": null,
   "metadata": {
    "scrolled": true
   },
   "outputs": [],
   "source": [
    "# Division of Special Bucket with a Focus on \"Entry Level\" type positions\n",
    "occ_list =['Librarian']\n",
    "# occ_list = ['Policy Analyst', 'Education Program Manager', 'Administrative Manager',\n",
    "#             'General Manager', 'Director of Student Affairs']\n",
    "# occ_list = list(exp['index'][:12].values)\n",
    "\n",
    "df = table_non[table_non['Occupation'].apply(cat_validate, args=(occ_list,))]\n",
    "\n",
    "for occ in occ_list:\n",
    "    entry = df[df['Occupation']==occ]\n",
    "    num = (entry['Job ID'].nunique())\n",
    "    print('#########################################')\n",
    "    print(occ)\n",
    "    print('\\tNumber of Jobs: \\t' + str(num))\n",
    "    entry_w = entry[entry['Minimum Experience Requirements']>0]\n",
    "    num_exp = entry_w['Job ID'].nunique()\n",
    "    print('\\tNumber of Jobs w/ Exp:\\t' + str(num_exp))\n",
    "    print('\\tNumber of Jobs w/o Exp:\\t' + str(num - num_exp) + '\\n')\n",
    "    \n",
    "    print('Breakdown based on Requested Years of Experience:', end='')\n",
    "    levels = pd.DataFrame(entry_w[['Job ID', 'Minimum Experience Requirements']].groupby(\n",
    "        ['Minimum Experience Requirements']).count()).rename(columns={'Job ID':'count'})\n",
    "    levels['inc'] = np.true_divide(levels['count'], num_exp)\n",
    "    display(levels)\n",
    "    \n",
    "    print('Top 10 Job Titles:')\n",
    "    display(pd.DataFrame(entry['Job Title'].value_counts())[:10])\n",
    "    \n",
    "#     print('Top 10 Job Titles with Experience Information:')\n",
    "#     display(pd.DataFrame(entry_w['Job Title'].value_counts())[:10])\n",
    "    \n",
    "    print('Top 10 Job Titles for Entry Level Poisitions: (Experience Requested <= 1 Year)')\n",
    "    display(pd.DataFrame(entry_w[entry_w['Minimum Experience Requirements']<=3][\n",
    "        'Job Title'].value_counts())[:10])\n",
    "    print()\n",
    "    \n",
    "    "
   ]
  },
  {
   "cell_type": "code",
   "execution_count": null,
   "metadata": {},
   "outputs": [],
   "source": [
    "# Fastest Biggest Added in Experiemntal Bucket:\n",
    "\n",
    "year1 = 2010\n",
    "year2 = 2017\n",
    "category = 'Skill Name'\n",
    "\n",
    "co_loc = get_colocated_skills(df)\n",
    "graph_categories(co_loc, category, title='Top ' + category + 's in Experiemntal Bucket')\n",
    "\n",
    "show_skill_details(df, year1, year2, \n",
    "                   'Skills in Special Bucket from ' + str(year1) + ' to ' + str(year2),\n",
    "                   'Experiemntal Bucket', cutoff=10, min_rate=0.01)"
   ]
  },
  {
   "cell_type": "code",
   "execution_count": null,
   "metadata": {},
   "outputs": [],
   "source": [
    "# Entry level positions in\n",
    "find_entry_level(table_non)\n"
   ]
  },
  {
   "cell_type": "code",
   "execution_count": null,
   "metadata": {},
   "outputs": [],
   "source": [
    "# Exploration of Social / Human Services Manager\n",
    "occ = 'Social / Human Services Manager'\n",
    "shsm = occ_break[occ_break['Occupation']==occ]\n",
    "\n",
    "num = shsm['Job Title'].nunique()\n",
    "print('Number of Jobs ' + str(num))\n",
    "\n",
    "display(pd.DataFrame(shsm['IPEDS Institution Name'].value_counts()[:10]))\n",
    "\n",
    "health = shsm[shsm['IPEDS Institution Name'].str.contains('Nursing', na=False)|shsm['IPEDS Institution Name'].str.contains('Medical', na=False)]\n",
    "non_health = shsm.drop(health.index)\n",
    "\n",
    "display(get_colocated_skills(health)[:10])\n",
    "display(get_colocated_skills(non_health)[:10])"
   ]
  },
  {
   "cell_type": "code",
   "execution_count": null,
   "metadata": {},
   "outputs": [],
   "source": [
    "# Clarification and Exploration"
   ]
  },
  {
   "cell_type": "code",
   "execution_count": null,
   "metadata": {},
   "outputs": [],
   "source": [
    "table = occ_break.merge(skill_table[['Job ID', 'Skill Name']], on='Job ID', how='inner')\n",
    "table[table['Skill Name']=='Positive Disposition']['Occupation'].value_counts()\n"
   ]
  },
  {
   "cell_type": "code",
   "execution_count": null,
   "metadata": {
    "scrolled": true
   },
   "outputs": [],
   "source": [
    "teach = skill_table[skill_table['Skill Name']=='Teaching'][['Job ID']].merge(occ_break, on='Job ID', how='inner')\n",
    "teach"
   ]
  },
  {
   "cell_type": "code",
   "execution_count": null,
   "metadata": {},
   "outputs": [],
   "source": []
  },
  {
   "cell_type": "code",
   "execution_count": null,
   "metadata": {},
   "outputs": [],
   "source": [
    "main_table['IPEDS Institution Name'].nunique()"
   ]
  },
  {
   "cell_type": "code",
   "execution_count": null,
   "metadata": {},
   "outputs": [],
   "source": [
    "social = table[table['Occupation']=='Social / Human Services Manager']\n",
    "social"
   ]
  },
  {
   "cell_type": "code",
   "execution_count": null,
   "metadata": {},
   "outputs": [],
   "source": [
    "s_skill = social[['Job ID']].merge(skill_table, on='Job ID', how='inner')\n",
    "s_skill['Skill Name'].value_counts()"
   ]
  },
  {
   "cell_type": "code",
   "execution_count": null,
   "metadata": {},
   "outputs": [],
   "source": [
    "deans = table[table['Occupation']=='Dean of Academic Affairs']\n",
    "display(deans['IPEDS Institution Name'].value_counts())\n"
   ]
  },
  {
   "cell_type": "code",
   "execution_count": null,
   "metadata": {},
   "outputs": [],
   "source": [
    "deans['Metropolitan Statistical Area'].value_counts()"
   ]
  },
  {
   "cell_type": "code",
   "execution_count": null,
   "metadata": {},
   "outputs": [],
   "source": [
    "deans['BEA_Zone'].value_counts()"
   ]
  },
  {
   "cell_type": "code",
   "execution_count": null,
   "metadata": {},
   "outputs": [],
   "source": [
    "deans['Job Title'].value_counts()"
   ]
  },
  {
   "cell_type": "code",
   "execution_count": null,
   "metadata": {},
   "outputs": [],
   "source": [
    "main_table[['Job ID', 'IPEDS Institution Name', 'State']].groupby(['IPEDS Institution Name', 'State']).count()"
   ]
  },
  {
   "cell_type": "code",
   "execution_count": null,
   "metadata": {},
   "outputs": [],
   "source": [
    "table = main_table[(main_table['Year']==2017)&(main_table['4-year']==1)]\n",
    "fac = faculty_table[(faculty_table['Year']==2017)]\n",
    "\n",
    "table = table.merge(fac, on='Job ID', how='inner')"
   ]
  },
  {
   "cell_type": "code",
   "execution_count": null,
   "metadata": {},
   "outputs": [],
   "source": [
    "total = len(table)\n",
    "print(len(table[(table['Faculty']==0)&(table['Post-Doctoral']==0)]))\n",
    "print(len(table[(table['Faculty']==1)]))\n",
    "medicine = table[((table['FS_Physical_sciences_and_earth_sciences']==1)|(table['Agricultural sciences and natural resources']==1))&(table['Faculty']==1)]\n",
    "print(len(medicine))\n",
    "science = table[(table['Career Area']=='Science and Research')&((table['Faculty']==0)&table['Post-Doctoral']==0)]\n",
    "print(len(science))"
   ]
  },
  {
   "cell_type": "code",
   "execution_count": null,
   "metadata": {},
   "outputs": [],
   "source": [
    "table = main_table[(main_table['Year']==2016)&(main_table['R1']==1)]\n",
    "fac = faculty_table[(faculty_table['Year']==2016)&(faculty_table['Faculty']==1)]\n",
    "\n",
    "table = table.merge(fac, on='Job ID', how='inner')"
   ]
  },
  {
   "cell_type": "code",
   "execution_count": null,
   "metadata": {},
   "outputs": [],
   "source": [
    "fac = table[table['Faculty']==1]\n",
    "print(len(fac))\n",
    "ten = fac[fac['Tenured']==1]\n",
    "print(len(ten))\n",
    "track = fac[fac['Tenured_Track']==1]\n",
    "print(len(track))\n",
    "line = fac[fac['Tenure_Line']==1]\n",
    "print(len(line))"
   ]
  },
  {
   "cell_type": "code",
   "execution_count": null,
   "metadata": {},
   "outputs": [],
   "source": [
    "fac.groupby(['Tenure_Line', 'Tenured', 'Tenured_Track']).count()"
   ]
  },
  {
   "cell_type": "code",
   "execution_count": null,
   "metadata": {},
   "outputs": [],
   "source": [
    "faculty_table.columns"
   ]
  },
  {
   "cell_type": "code",
   "execution_count": null,
   "metadata": {},
   "outputs": [],
   "source": []
  }
 ],
 "metadata": {
  "kernelspec": {
   "display_name": "Python 3",
   "language": "python",
   "name": "python3"
  },
  "language_info": {
   "codemirror_mode": {
    "name": "ipython",
    "version": 3
   },
   "file_extension": ".py",
   "mimetype": "text/x-python",
   "name": "python",
   "nbconvert_exporter": "python",
   "pygments_lexer": "ipython3",
   "version": "3.7.2"
  }
 },
 "nbformat": 4,
 "nbformat_minor": 2
}
