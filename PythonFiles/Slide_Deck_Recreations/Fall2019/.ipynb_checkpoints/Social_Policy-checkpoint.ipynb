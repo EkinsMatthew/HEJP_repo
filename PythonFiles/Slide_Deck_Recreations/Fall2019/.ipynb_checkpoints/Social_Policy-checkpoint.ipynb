{
 "cells": [
  {
   "cell_type": "code",
   "execution_count": null,
   "metadata": {},
   "outputs": [],
   "source": [
    "import os\n",
    "import pandas as pd\n",
    "pd.set_option('display.max_columns', 500)\n",
    "pd.set_option('display.max_rows', 2000)\n",
    "import numpy as np\n",
    "import matplotlib.pyplot as plt\n",
    "import matplotlib.transforms\n",
    "plt.style.use('fivethirtyeight')"
   ]
  },
  {
   "cell_type": "code",
   "execution_count": null,
   "metadata": {},
   "outputs": [],
   "source": [
    "# Import relevant dataframes:\n",
    "\n",
    "main_table = pd.read_csv(r\"C:\\Users\\Public\\_Data\\_Data\\Latest_Version\\Main_Data\\Main_Table_10182019.csv\")\n",
    "print(len(main_table))\n",
    "faculty_table = pd.read_csv(r\"C:\\Users\\Public\\_Data\\_Data\\Latest_Version\\Faculty_Data\\Faculty_Table_08272019.csv\")\n",
    "print(len(faculty_table))\n",
    "skill_table = pd.read_csv(r\"C:\\Users\\Public\\_Data\\_Data\\Latest_Version\\Skills_Data\\Skill_Table_06072019.csv\")\n",
    "print(len(skill_table))"
   ]
  },
  {
   "cell_type": "code",
   "execution_count": null,
   "metadata": {},
   "outputs": [],
   "source": [
    "def title_swap(string):\n",
    "    dictionary = {'Community and Social Services':'Counseling and Religious Life',\n",
    "                  'Customer and Client Support':'Online Support and University Information',\n",
    "                  'Hospitality, Food, and Tourism':'Event Management and Hospitality', \n",
    "                  'Planning and Analysis':'Analysis', \n",
    "                  'Curriculum and Instructional Designer / Developer':'Curriculum and Instructional Designer', \n",
    "                  'Special Education Teacher':'Accessibility and Disability Services', \n",
    "                  'Teaching Assistant':'Faculty Support', \n",
    "                  'Tutor':'Academic Tutor',\n",
    "                  'Clerical and Administrative':'Administrative',\n",
    "                  'na' : 'Uncategorized'}\n",
    "    if(string in dictionary):\n",
    "        return dictionary[string]\n",
    "    else:\n",
    "        return string"
   ]
  },
  {
   "cell_type": "code",
   "execution_count": null,
   "metadata": {},
   "outputs": [],
   "source": [
    "mask = skill_table[(skill_table['Skill Name']=='Social Work')|\n",
    "                   (skill_table['Skill Name']=='Social Services')|\n",
    "                   (skill_table['Skill Name']=='Policy Analysis')|\n",
    "                   (skill_table['Skill Name']=='Policy Reserach')|\n",
    "                   (skill_table['Skill Name']=='Social Studies')|\n",
    "                   (skill_table['Skill Name']=='Policy Evaluation')|\n",
    "                   (skill_table['Skill Name']=='Policy Development')\n",
    "                   &\n",
    "                   (skill_table['Skill Name']=='Research')][['Job ID']]\n",
    "\n",
    "Communication Skills\n",
    "Teamwork / Collaboration\n",
    "Schedulling\n",
    "Project Management\n",
    "Supervisory Skills\n",
    "Budgeting\n",
    "Planning\n",
    "Grant Writing\n",
    "Data Management\n",
    "Quantatative Analysis\n",
    "\n",
    "# to add another filter: | (skill_table['Skill Name']=='')\n",
    "mask = mask.drop_duplicates('Job ID')\n",
    "# print(len(mask))\n",
    "\n",
    "table = main_table.merge(mask, on='Job ID', how='inner')\n",
    "print('Number of total Jobs:\\n\\t' + str(len(table)))\n",
    "\n",
    "table['Career Area'] = table['Career Area'].apply(title_swap)\n",
    "table['Occupation'] = table['Occupation'].apply(title_swap)\n",
    "\n",
    "table = table[(table['Minimum EDU Requirements']>=18)]\n",
    "\n",
    "print('Number of Jobs with MA or Above:\\n\\t' + str(len(table)))\n",
    "\n",
    "# print('Number of total Jobs:\\n\\t', len(table))\n",
    "\n",
    "mask = faculty_table[(faculty_table['Faculty']==0)&(faculty_table['Post-Doctoral']==0)]['Job ID']\n",
    "table = table.merge(mask, on='Job ID', how='inner')\n",
    "print('Number of non-faculty Jobs:\\n\\t' + str(len(table)))\n",
    "\n",
    "# minimum_size = 10\n",
    "# mask = pd.DataFrame(table['Occupation'].value_counts()).reset_index().rename(columns={'Occupation':'count', 'index':'Occupation'})\n",
    "# mask = mask[mask['count']>=minimum_size][['Occupation']]\n",
    "# table = table.merge(mask, on='Occupation', how='inner')\n",
    "# print('Size of table after removing categories smaller than ' + str(minimum_size) + ' postings:\\n\\t' +\n",
    "#       str(len(table)))\n",
    "\n",
    "# Social Services and Social Work Only:\n",
    "# Number of total Jobs:\n",
    "# \t81817\n",
    "# Number of Jobs with MA or Above:\n",
    "# \t25126\n",
    "# Number of non-faculty Jobs:\n",
    "# \t17701\n",
    "\n",
    "# Adding Policy Analysis, Policy Reserach, Social Studies, Policy Evaluation, and Policy Development\n",
    "# Number of total Jobs:\n",
    "# \t81817\n",
    "# Number of Jobs with MA or Above:\n",
    "# \t25126\n",
    "# Number of non-faculty Jobs:\n",
    "# \t18674\n"
   ]
  },
  {
   "cell_type": "code",
   "execution_count": null,
   "metadata": {},
   "outputs": [],
   "source": [
    "pd.DataFrame(table[['Job ID']].merge(skill_table, on='Job ID', how='inner')['Skill Name'].value_counts())"
   ]
  },
  {
   "cell_type": "code",
   "execution_count": null,
   "metadata": {
    "scrolled": false
   },
   "outputs": [],
   "source": [
    "# Categorical Breakdowns\n",
    "def occupational_breakdowns(df, category, year1, year2):\n",
    "\n",
    "    if(year1 >= year2):\n",
    "        if(year1>year2):\n",
    "            temp = year1\n",
    "            year1 = year2\n",
    "            year2 = temp\n",
    "        else:\n",
    "            raise ValueError('Years cannot be the same.')\n",
    "\n",
    "    df = df[(df['Year']==year1)|(df['Year']==year2)]\n",
    "\n",
    "    print('Growth of Non-Faculty Social Policy Jobs from', year1, 'to', year2)\n",
    "    print()\n",
    "\n",
    "    skill_2nd = ''\n",
    "\n",
    "    if (skill_2nd != ''):\n",
    "        mask = skill_table[skill_table['Skill Name']==skill_2nd][['Job ID']]\n",
    "        df = df.merge(mask, on='Job ID', how='inner')\n",
    "\n",
    "    def get_categorical_sizes(df, category):\n",
    "        df_size = len(df)\n",
    "        cat = pd.DataFrame(df[category].value_counts()).reset_index().rename(\n",
    "            columns={category:'count', 'index':category})\n",
    "        cat['incidence'] = np.true_divide(cat['count'], df_size)\n",
    "        return cat\n",
    "\n",
    "    cat_1 = get_categorical_sizes(df[df['Year']==year1], category)\n",
    "\n",
    "    cat_2 = get_categorical_sizes(df[df['Year']==year2], category)\n",
    "\n",
    "    def graph_categories(df, category, title, top=10):\n",
    "        df = df[:top]\n",
    "\n",
    "        rates = df['incidence'].values\n",
    "        names = df[category].values\n",
    "\n",
    "        ind = np.array([x for x, _ in enumerate(names)])\n",
    "\n",
    "        plt.bar(ind, rates, label='Incidence Rate')\n",
    "\n",
    "        plt.xticks(ind, names, rotation = 'vertical')\n",
    "        plt.xlabel(category + 's')\n",
    "        plt.ylabel('Incidence of\\n' + category + 's in Social Policy')\n",
    "        plt.legend(loc='upper right')\n",
    "        plt.title(title)\n",
    "\n",
    "        plt.show()\n",
    "\n",
    "    graph_categories(cat_1, category, title='Top ' + category + 's in ' + str(year1))\n",
    "\n",
    "    graph_categories(cat_2, category, title='Top ' + category + 's in ' + str(year2))\n",
    "\n",
    "    cat = cat_1.merge(cat_2, on=category, how='inner')\n",
    "    cat = cat[cat['count_y']>=30]\n",
    "    cat['growth'] = round(np.true_divide(cat['incidence_y']-cat['incidence_x'], cat['incidence_x'])*100, 2)\n",
    "    cat = cat.sort_values(by='growth', ascending=False)\n",
    "    cat = cat.reset_index(drop=True)\n",
    "    cat = cat.rename(columns={'count_x':'count_'+str(year1), 'incidence_x':'incidence_'+str(year1),\n",
    "                              'count_y':'count_'+str(year2), 'incidence_y':'incidence_'+str(year2)})\n",
    "    display(cat)\n"
   ]
  },
  {
   "cell_type": "code",
   "execution_count": null,
   "metadata": {
    "scrolled": true
   },
   "outputs": [],
   "source": [
    "display(table[table['Year']==2017][['Career Area', 'Occupation', 'Job ID']].groupby([\n",
    "    'Career Area', 'Occupation']).count())\n",
    "\n",
    "\n"
   ]
  },
  {
   "cell_type": "code",
   "execution_count": null,
   "metadata": {},
   "outputs": [],
   "source": [
    "# \n",
    "occc_break = table[(table['Occupation']=='Administrator, Higher Education')|\n",
    "      (table['Occupation']=='Librarian')|\n",
    "      (table['Occupation']=='Research Associate')|\n",
    "      (table['Occupation']=='Dean of Academic Division')|\n",
    "      (table['Occupation']=='Director of Student Affairs')|\n",
    "      (table['Occupation']=='Dean of Academic Affairs')|\n",
    "      (table['Occupation']=='Program Director, Higher Education')|\n",
    "      (table['Occupation']=='Administrative Manager')|\n",
    "      (table['Occupation']=='Dean of Students')|\n",
    "      (table['Occupation']=='General Manager')|\n",
    "      (table['Occupation']=='Policy Analyst')|\n",
    "      (table['Occupation']=='Education Program Manager')|\n",
    "      (table['Occupation']=='Academic / Guidance Counselor')|\n",
    "      (table['Occupation']=='Associate Dean, Higher Education')|\n",
    "      (table['Occupation']=='Social Science Researhcer')|\n",
    "      (table['Occupation']=='Program Manager (General)')|\n",
    "      (table['Occupation']=='Research Scienteist')|\n",
    "      (table['Occupation']=='Curriculum and Instructional Designer')|\n",
    "      (table['Occupation']=='Admissions Director')|\n",
    "      (table['Occupation']=='Compliance Manager')|\n",
    "      (table['Occupation']=='Fundraising Manager')|\n",
    "      (table['Occupation']=='Human Reseources Specialist')|\n",
    "      (table['Occupation']=='Student Affairs Administrator')|\n",
    "      (table['Occupation']=='Grants Manager / Administrator')]"
   ]
  },
  {
   "cell_type": "code",
   "execution_count": null,
   "metadata": {},
   "outputs": [],
   "source": [
    "Regressison Analysis\n",
    "Survey Research\n",
    "Qualatative Research\n",
    "Quantitative Research\n",
    "Quantatiatve Analysis\n",
    "Qualitative Analysis\n",
    "Researh Design\n",
    "Research\n",
    "\n",
    "mask = skill_table"
   ]
  },
  {
   "cell_type": "code",
   "execution_count": null,
   "metadata": {},
   "outputs": [],
   "source": [
    "clust_break['Skill Name'].value_counts()"
   ]
  },
  {
   "cell_type": "code",
   "execution_count": null,
   "metadata": {},
   "outputs": [],
   "source": [
    "pd.DataFrame(temp[['Job ID']].merge(skill_table, on='Job ID', how='inner')['Skill Name'].value_counts())"
   ]
  },
  {
   "cell_type": "code",
   "execution_count": null,
   "metadata": {},
   "outputs": [],
   "source": [
    "occupational_breakdowns(temp, 'Occupation', 2010, 2017)"
   ]
  },
  {
   "cell_type": "code",
   "execution_count": null,
   "metadata": {},
   "outputs": [],
   "source": [
    "table['Year'].value_counts()"
   ]
  },
  {
   "cell_type": "code",
   "execution_count": null,
   "metadata": {},
   "outputs": [],
   "source": []
  }
 ],
 "metadata": {
  "kernelspec": {
   "display_name": "Python 3",
   "language": "python",
   "name": "python3"
  },
  "language_info": {
   "codemirror_mode": {
    "name": "ipython",
    "version": 3
   },
   "file_extension": ".py",
   "mimetype": "text/x-python",
   "name": "python",
   "nbconvert_exporter": "python",
   "pygments_lexer": "ipython3",
   "version": "3.7.3"
  }
 },
 "nbformat": 4,
 "nbformat_minor": 2
}
