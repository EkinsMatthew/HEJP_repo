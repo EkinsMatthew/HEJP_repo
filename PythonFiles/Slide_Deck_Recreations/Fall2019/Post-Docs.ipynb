{
 "cells": [
  {
   "cell_type": "code",
   "execution_count": null,
   "metadata": {},
   "outputs": [],
   "source": [
    "import os\n",
    "import pandas as pd\n",
    "pd.set_option('display.max_columns', 500)\n",
    "pd.set_option('display.max_rows', 1000)\n",
    "pd.set_option('display.max_colwidth', -1)\n",
    "import numpy as np\n",
    "import matplotlib.pyplot as plt\n",
    "plt.style.use('fivethirtyeight')"
   ]
  },
  {
   "cell_type": "code",
   "execution_count": null,
   "metadata": {},
   "outputs": [],
   "source": [
    "# Import relevant dataframes:\n",
    "\n",
    "main_table = pd.read_csv(r\"C:\\Users\\Public\\_Data\\_Data\\Latest_Version\\Main_Data\\Main_Table_10182019.csv\")\n",
    "print(len(main_table))\n",
    "faculty_table = pd.read_csv(r\"C:\\Users\\Public\\_Data\\_Data\\Latest_Version\\Faculty_Data\\Faculty_Table_11222019.csv\")\n",
    "print(len(faculty_table))\n",
    "skill_table = pd.read_csv(r\"C:\\Users\\Public\\_Data\\_Data\\Latest_Version\\Skills_Data\\Skill_Table_06072019.csv\")\n",
    "print(len(skill_table))"
   ]
  },
  {
   "cell_type": "code",
   "execution_count": null,
   "metadata": {},
   "outputs": [],
   "source": [
    "def title_swap(string):\n",
    "    dictionary = {'Community and Social Services':'Counseling and Religious Life',\n",
    "                  'Customer and Client Support':'Online Support and University Information',\n",
    "                  'Hospitality, Food, and Tourism':'Event Management and Hospitality', \n",
    "                  'Planning and Analysis':'Analysis', \n",
    "                  'Curriculum and Instructional Designer / Developer':'Curriculum and Instructional Designer', \n",
    "                  'Special Education Teacher':'Accessibility and Disability Services', \n",
    "                  'Teaching Assistant':'Faculty Support', \n",
    "                  'Tutor':'Academic Tutor',\n",
    "                  'Clerical and Administrative':'Administrative',\n",
    "                  'na' : 'Uncategorized'}\n",
    "    if(string in dictionary):\n",
    "        return dictionary[string]\n",
    "    else:\n",
    "        return string\n",
    "    \n",
    "def val_year(year1, year2):\n",
    "    if(year1 >= year2):\n",
    "        if(year1>year2):\n",
    "            temp = year1\n",
    "            year1 = year2\n",
    "            year2 = temp\n",
    "        else:\n",
    "            raise ValueError('Years cannot be the same.')\n",
    "            \n",
    "    return (year1, year2)\n",
    "\n",
    "def cat_validate(actual, desired_list):\n",
    "    return actual in desired_list"
   ]
  },
  {
   "cell_type": "code",
   "execution_count": null,
   "metadata": {},
   "outputs": [],
   "source": [
    "post_doc = main_table[main_table['Job Title'].str.contains('postdoc', case=False, na=False) |\n",
    "                      main_table['Job Title'].str.contains('post doc', case=False, na=False)|\n",
    "                      main_table['Job Title'].str.contains('post-doc', case=False, na=False)]\n",
    "print(len(post_doc))"
   ]
  },
  {
   "cell_type": "code",
   "execution_count": null,
   "metadata": {},
   "outputs": [],
   "source": [
    "mask = faculty_table[faculty_table['Post-Doctoral'] == 1][['Job ID']]\n",
    "print(len(mask))"
   ]
  },
  {
   "cell_type": "code",
   "execution_count": null,
   "metadata": {},
   "outputs": [],
   "source": [
    "boolean_vec = (main_table['Job Title'].str.contains('postdoc', case=False, na=False) |\n",
    "                      main_table['Job Title'].str.contains('post doc', case=False, na=False)|\n",
    "                      main_table['Job Title'].str.contains('post-doc', case=False, na=False))\n",
    "\n",
    "main_table['post_doc'] = boolean_vec + 0\n",
    "\n",
    "post = faculty_table.merge(main_table[['Job ID', 'post_doc']], on='Job ID', how='inner')"
   ]
  },
  {
   "cell_type": "code",
   "execution_count": null,
   "metadata": {},
   "outputs": [],
   "source": [
    "display(post['Post-Doctoral'].value_counts())\n",
    "\n",
    "post['Post-Doctoral'] = post['Post-Doctoral'] + post['post_doc']\n",
    "\n",
    "display(post['Post-Doctoral'].value_counts())\n",
    "\n",
    "post['Post-Doctoral'] = post['Post-Doctoral'].where(post['Post-Doctoral']<2, 1)\n",
    "\n",
    "display(post['Post-Doctoral'].value_counts())"
   ]
  },
  {
   "cell_type": "code",
   "execution_count": null,
   "metadata": {
    "scrolled": true
   },
   "outputs": [],
   "source": [
    "post.drop(columns=['Unnamed: 0', 'post_doc']).to_csv(r\"C:\\Users\\Public\\_Data\\_Data\\Latest_Version\\Faculty_Data\\Faculty_Table_11222019.csv\", index=False)"
   ]
  },
  {
   "cell_type": "code",
   "execution_count": null,
   "metadata": {},
   "outputs": [],
   "source": [
    "def get_categorical_sizes(df, category):\n",
    "    df_size = df['Job ID'].nunique()\n",
    "    cat = pd.DataFrame(df[category].value_counts()).reset_index().rename(\n",
    "        columns={category:'count'})\n",
    "    cat['inc'] = np.true_divide(cat['count'], df_size)\n",
    "    return cat\n",
    "\n",
    "def get_growth(df1, df2, cutoff = 30, min_rate=0.025):\n",
    "    df1 = df1[df1['inc']>=min_rate]\n",
    "    df2 = df2[df2['inc']>=min_rate]\n",
    "    final_df = df1.merge(df2, on='index', how='outer', indicator = True)\n",
    "    final_df = final_df[final_df['count_y']>=cutoff]\n",
    "    final_df['growth'] = np.true_divide(final_df['inc_y']-final_df['inc_x'], final_df['inc_x'])\n",
    "    return final_df"
   ]
  },
  {
   "cell_type": "code",
   "execution_count": null,
   "metadata": {
    "scrolled": true
   },
   "outputs": [],
   "source": [
    "mask = faculty_table[faculty_table['Post-Doctoral']==1][['Job ID']]\n",
    "post = main_table.merge(mask, on='Job ID', how='inner')\n",
    "\n",
    "total = post.shape[0]\n",
    "\n",
    "post = post[~post['IPEDS Institution Name'].isnull()]\n",
    "\n",
    "print(\"Number of missing schools: \" + str(total-post.shape[0]))\n",
    "\n",
    "year1 = 2010\n",
    "year2 = 2017\n",
    "\n",
    "post1 = get_categorical_sizes(post[post['Year']==year1], 'IPEDS Institution Name')\n",
    "post2 = get_categorical_sizes(post[post['Year']==year2], 'IPEDS Institution Name')\n",
    "\n",
    "growth = get_growth(post1, post2, cutoff=30, min_rate=0.001)\n",
    "\n",
    "growth.sort_values(by='growth', ascending=False)"
   ]
  },
  {
   "cell_type": "code",
   "execution_count": null,
   "metadata": {},
   "outputs": [],
   "source": [
    "zone1 = get_categorical_sizes(post[post['Year']==year1], 'BEA_Zone')\n",
    "zone2 = get_categorical_sizes(post[post['Year']==year2], 'BEA_Zone')\n",
    "\n",
    "growth = get_growth(zone1, zone2, cutoff=30, min_rate=0.001)\n",
    "\n",
    "growth.sort_values(by='growth', ascending=False)"
   ]
  },
  {
   "cell_type": "code",
   "execution_count": null,
   "metadata": {},
   "outputs": [],
   "source": [
    "post_fac = faculty_table.merge(mask)"
   ]
  },
  {
   "cell_type": "code",
   "execution_count": null,
   "metadata": {},
   "outputs": [],
   "source": [
    "print(len(skill_table))"
   ]
  },
  {
   "cell_type": "code",
   "execution_count": null,
   "metadata": {},
   "outputs": [],
   "source": [
    "skill_table['Job ID'].nunique()"
   ]
  },
  {
   "cell_type": "code",
   "execution_count": null,
   "metadata": {},
   "outputs": [],
   "source": []
  }
 ],
 "metadata": {
  "kernelspec": {
   "display_name": "Python 3",
   "language": "python",
   "name": "python3"
  },
  "language_info": {
   "codemirror_mode": {
    "name": "ipython",
    "version": 3
   },
   "file_extension": ".py",
   "mimetype": "text/x-python",
   "name": "python",
   "nbconvert_exporter": "python",
   "pygments_lexer": "ipython3",
   "version": "3.7.3"
  }
 },
 "nbformat": 4,
 "nbformat_minor": 2
}
