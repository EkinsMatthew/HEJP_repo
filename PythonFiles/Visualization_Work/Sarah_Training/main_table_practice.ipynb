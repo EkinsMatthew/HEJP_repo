{
 "cells": [
  {
   "cell_type": "code",
   "execution_count": null,
   "metadata": {},
   "outputs": [],
   "source": [
    "import pandas as pd\n",
    "import numpy as np\n",
    "pd.set_option('display.max_columns', 500)\n",
    "pd.set_option('display.max_rows', 2000)\n",
    "pd.set_option('display.max_colwidth', -1)\n",
    "import matplotlib.pyplot as plt"
   ]
  },
  {
   "cell_type": "code",
   "execution_count": null,
   "metadata": {},
   "outputs": [],
   "source": [
    "main_table = pd.read_parquet(r\"F:\\FTP download 01-27-2020\\All_Higher_Ed_Jobs.parquet\")"
   ]
  },
  {
   "cell_type": "code",
   "execution_count": null,
   "metadata": {
    "scrolled": true
   },
   "outputs": [],
   "source": [
    "display(main_table)"
   ]
  },
  {
   "cell_type": "code",
   "execution_count": null,
   "metadata": {},
   "outputs": [],
   "source": [
    "main_table[main_table['Faculty']==1]['Occupation'].value_counts()[:10]"
   ]
  },
  {
   "cell_type": "code",
   "execution_count": null,
   "metadata": {},
   "outputs": [],
   "source": [
    "main_table['Year'].value_counts()"
   ]
  },
  {
   "cell_type": "code",
   "execution_count": null,
   "metadata": {},
   "outputs": [],
   "source": [
    "year1 = 2010\n",
    "year2 = 2019\n",
    "\n",
    "category ='Metropolitan Statistical Area'\n",
    "\n",
    "main1 = main_table[main_table['Year']==year1]\n",
    "main2 = main_table[main_table['Year']==year2]\n",
    "\n",
    "def cat(df, category):\n",
    "    df = df[df[category]!='na']\n",
    "    \n",
    "    total = df['BGTJobId'].nunique()\n",
    "    \n",
    "    categories = df[category].value_counts()\n",
    "    \n",
    "    df = pd.DataFrame(categories).reset_index().rename(columns={category:'count'})\n",
    "    \n",
    "    df['inc'] = np.true_divide(df['count'], total)\n",
    "    \n",
    "    return df\n",
    "    \n",
    "cat1 = cat(main1, category)\n",
    "cat2 = cat(main2, category)\n",
    "\n",
    "def growth(df1, df2):\n",
    "\n",
    "    df = df1.merge(df2, on='index', how='inner')\n",
    "\n",
    "    df = df.sort_values(by='inc_y', ascending=False)[:10]\n",
    "\n",
    "    df['growth'] = np.true_divide(df['inc_y']-df['inc_x'], df['inc_x'])\n",
    "    \n",
    "    return df.sort_values(by='growth', ascending=False)\n",
    "\n",
    "final = growth(cat1, cat2)\n",
    "\n",
    "final"
   ]
  },
  {
   "cell_type": "code",
   "execution_count": null,
   "metadata": {},
   "outputs": [],
   "source": [
    "year1 = 2014\n",
    "year2 = 2018\n",
    "\n",
    "category = 'State'\n",
    "\n",
    "main1 = main_table[(main_table['Year']==year1) & (main_table['Faculty']==1)]\n",
    "main2 = main_table[(main_table['Year']==year2) & (main_table['Faculty']==1)]\n",
    "\n",
    "cat1 = cat(main1, category)\n",
    "cat2 = cat(main2, category)\n",
    "\n",
    "final = growth(cat1, cat2)\n",
    "\n",
    "final\n"
   ]
  },
  {
   "cell_type": "code",
   "execution_count": null,
   "metadata": {},
   "outputs": [],
   "source": []
  }
 ],
 "metadata": {
  "kernelspec": {
   "display_name": "Python 3",
   "language": "python",
   "name": "python3"
  },
  "language_info": {
   "codemirror_mode": {
    "name": "ipython",
    "version": 3
   },
   "file_extension": ".py",
   "mimetype": "text/x-python",
   "name": "python",
   "nbconvert_exporter": "python",
   "pygments_lexer": "ipython3",
   "version": "3.7.2"
  }
 },
 "nbformat": 4,
 "nbformat_minor": 2
}
